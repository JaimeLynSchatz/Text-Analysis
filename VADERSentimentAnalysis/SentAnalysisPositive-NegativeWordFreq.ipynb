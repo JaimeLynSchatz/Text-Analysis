{
 "cells": [
  {
   "cell_type": "markdown",
   "metadata": {},
   "source": [
    "# Complex Sentiment Analysis\n",
    "### Frequency of positive and negaitive words from a Sentiment Lexicon appearing in a dataset"
   ]
  },
  {
   "cell_type": "markdown",
   "metadata": {},
   "source": [
    "#### Opening data files\n",
    "\n",
    "The needed positive and negative word lists are .csv files found in the [Sentiment_Analysis/data](https://github.com/cyberdh/Text-Analysis/tree/master/Sentiment_Analysis/data) folder.\n",
    "\n"
   ]
  },
  {
   "cell_type": "markdown",
   "metadata": {},
   "source": [
    "### Include necessary packages for notebook \n",
    "\n",
    "Python's extensibility comes in large part from packages. Packages are groups of functions, data, and algorithms that allow users to easily carry out processes without recreating the wheel. Some packages are included in the basic installation of Python, others created by Python users are available for download. Make sure to have the following packages installed before beginning so that they can be accessed while running the scripts.\n",
    "\n",
    "In your terminal, packages can be installed by simply typing \"pip install nameofpackage --user\" (minus the quotes).\n",
    "\n",
    "- **pandas:** An open source, BSD-licensed library providing high-performance, easy-to-use data structures and data analysis tools for the Python programming language.\n",
    "- **re:** Provides regular expression matching operations similar to those found in Perl.\n",
    "- **os:** This module provides a portable way of using operating system dependent functionality.\n",
    "- **json:** Used to parse and manipulate data in JSON format.\n",
    "- **glob:** Finds all the pathnames matching a specified pattern according to the rules used by the Unix shell, although results are returned in arbitrary order."
   ]
  },
  {
   "cell_type": "code",
   "execution_count": 1,
   "metadata": {
    "collapsed": true
   },
   "outputs": [],
   "source": [
    "import pandas as pd\n",
    "import re\n",
    "import os\n",
    "import json\n",
    "import glob"
   ]
  },
  {
   "cell_type": "markdown",
   "metadata": {},
   "source": [
    "Here we save the two file paths we will need throughout this notebook. This way we only need to make changes here and they will be implemeneted throughout the code. Change these to match where your data can be found (dataHome) and where you want any output such as .csv files or images to be saved (dataResults)."
   ]
  },
  {
   "cell_type": "code",
   "execution_count": 2,
   "metadata": {
    "collapsed": true
   },
   "outputs": [],
   "source": [
    "dataHome = '/N/u/klosteda/Carbonate/Text-Analysis-master/data/twitter'\n",
    "dataResults = '/N/u/klosteda/Carbonate/Text-Analysis-master/Output'"
   ]
  },
  {
   "cell_type": "markdown",
   "metadata": {},
   "source": [
    "##### Now we load the negative words\n",
    "\n",
    "Notice that we have added words to the negative list. Feel free to change the words you want to add based on the text you are doing sentiment analysis on. If you want to remove a word from the list simply add to the script the following line: If 'yourWord' in negTokens: negTokens.remove('yourWord'). If you do not wish to add words simply put a '#' (minus the quotes) in front of the lines that add words. These would be 'negAdds =' and 'negTokens.extend(negAdds)'."
   ]
  },
  {
   "cell_type": "code",
   "execution_count": 3,
   "metadata": {
    "collapsed": false
   },
   "outputs": [
    {
     "name": "stdout",
     "output_type": "stream",
     "text": [
      "['trembles', 'trivial', 'unbiased', 'warsaw', 'wellhole', 'winnower', 'winnowing', 'wiseacres', 'wisecrack', 'wisecracker']\n"
     ]
    }
   ],
   "source": [
    "neg_file = glob.glob(os.path.join(dataHome, \"dict/negativeVADER.csv\"))     \n",
    "\n",
    "for f in neg_file:\n",
    "    negText = pd.read_csv(f, index_col = False)\n",
    "\n",
    "neg_df = pd.DataFrame(negText)\n",
    "negTokens = neg_df['Neg'].tolist()\n",
    "negAdds = [] \n",
    "negTokens.extend(negAdds)\n",
    "print(negTokens[-10:])\n",
    "\n",
    "# list to set for efficient lookup\n",
    "negTokens = set(negTokens)"
   ]
  },
  {
   "cell_type": "markdown",
   "metadata": {},
   "source": [
    "###### Now we load the positive words\n",
    "\n",
    "Notice that we have added words to the positive word list and removed other words from the positive word list. Simply change the words if you wish to add different words and the same with the words being removed. If you do not wish to add or remove simply put a '#' (minus the quotes) in front of the lines that add words and/or the lines that remove words."
   ]
  },
  {
   "cell_type": "code",
   "execution_count": 4,
   "metadata": {
    "collapsed": false
   },
   "outputs": [
    {
     "name": "stdout",
     "output_type": "stream",
     "text": [
      "['paradise', 'perfectly', 'lya', 'ecstacy', 'euphoria', 'sweetheart', 'aml', 'ilu', 'ily', 'magnificently']\n"
     ]
    }
   ],
   "source": [
    "pos_file = glob.glob(os.path.join(dataHome, \"dict/positiveVADER.csv\"))     \n",
    "\n",
    "for f in pos_file:\n",
    "    posText = pd.read_csv(f, index_col = False)\n",
    "\n",
    "pos_df = pd.DataFrame(posText)\n",
    "posTokens = pos_df['Pos'].tolist()\n",
    "posAdds = []\n",
    "posTokens.extend(posAdds)\n",
    "if 'trump' in posTokens: posTokens.remove('trump')\n",
    "if 'right' in posTokens: posTokens.remove('right')\n",
    "print(posTokens[-10:])\n",
    "\n",
    "# list to set for efficient lookup\n",
    "posTokens = set(posTokens)"
   ]
  },
  {
   "cell_type": "markdown",
   "metadata": {},
   "source": [
    "#### Here we get tweets if in JSON format\n",
    "\n",
    "This will read tweets if in JSON format. The only part you will need to change is where it says \"JSON/\\*\". This is where we name the folder and we are telling it to read in all the files in the folder. If you have them in a folder with a different name, then change JSON to the name of your folder. If you want to read in only one JSON file, then replace the '\\*' with the name of the file. The 'text' is the standard key for the tweet content that comes with the data twitter gives you, so that shouldn't need to be changed."
   ]
  },
  {
   "cell_type": "code",
   "execution_count": 5,
   "metadata": {
    "collapsed": false
   },
   "outputs": [
    {
     "name": "stdout",
     "output_type": "stream",
     "text": [
      "27057\n"
     ]
    }
   ],
   "source": [
    "tweets = []\n",
    "\n",
    "for filename in glob.glob(os.path.join(dataHome, \"JSON/*\")):\n",
    "    with open(filename, encoding = 'utf-8') as json_data:\n",
    "        for line in json_data:\n",
    "            tweets.append(json.loads(line))\n",
    "df = pd.DataFrame(tweets)\n",
    "df['text'] = df['text'].str.replace('[^\\x00-\\x7F]','')\n",
    "df['text'] = df['text'].str.replace('[^\\w\\s]','')\n",
    "tweetsTokens = df['text'].tolist()            \n",
    "print(len(df)) "
   ]
  },
  {
   "cell_type": "markdown",
   "metadata": {},
   "source": [
    "###### Here we get the tweets if in .csv file\n",
    "\n",
    "The only parts in this section you will need to change are the filepath and where it says 'text' (with the quotes). You will definitely need to change the filepath to match where you have your dataset stored. You might need to change 'text' if your column containing your tweet content has a different header name. If yours is labeled 'text' already than you do not need to change it."
   ]
  },
  {
   "cell_type": "code",
   "execution_count": 6,
   "metadata": {
    "collapsed": false
   },
   "outputs": [],
   "source": [
    "#all_files = glob.glob(os.path.join(dataHome, \"CSV/*.csv\"))     \n",
    "\n",
    "#df_all = (pd.read_csv(f) for f in all_files)\n",
    "#cc_df   = pd.concat(df_all, ignore_index=True)\n",
    "#tweetsText = pd.DataFrame(cc_df)\n",
    "#tweetsText['text'] = tweetsText['text'].str.replace('[^\\x00-\\x7F]','')\n",
    "#tweetsText['text'] = tweetsText['text'].str.replace('[^\\w\\s]','')\n",
    "#tweetsTokens = tweetsText['text'].tolist()\n",
    "#print(tweetsTokens[:6])"
   ]
  },
  {
   "cell_type": "markdown",
   "metadata": {},
   "source": [
    "## Tokenizing the tweets\n",
    "\n",
    "Now we will create two functions. The first for tokenizing a tweet, the second for calculating positive/negative words. Note that the calulator function uses the tokenizer function."
   ]
  },
  {
   "cell_type": "code",
   "execution_count": 7,
   "metadata": {
    "collapsed": true
   },
   "outputs": [],
   "source": [
    "def tokenizer(theText):\n",
    "    theTokens = re.findall(r'\\b\\w[\\w-]*\\b', theText.lower())\n",
    "    return theTokens\n",
    "\n",
    "def calculator(theTweet, posTokenList, negTokenList):\n",
    "    \n",
    "    posWordsList = []\n",
    "    negWordsList = []\n",
    "\n",
    "    numPosWords = 0 \n",
    "    numNegWords = 0\n",
    "    \n",
    "    theTweetTokens = tokenizer(theTweet)\n",
    "    \n",
    "    # Count positive and negative words\n",
    "    for word in theTweetTokens:\n",
    "        if word in posTokenList:\n",
    "            numPosWords += 1\n",
    "            posWordsList.append(word)\n",
    "        \n",
    "        if word in negTokenList:\n",
    "            numNegWords += 1\n",
    "            negWordsList.append(word)\n",
    "        \n",
    "        \n",
    "    score = (numPosWords - numNegWords)\n",
    "    return {'score': score, 'posWordsList' : posWordsList, 'negWordsList' : negWordsList}\n",
    "\n",
    "# Here is a line for testing this\n",
    "# print(calculator('\"RT @jmichaelkell: To sum it up:', '', '1. Trump - sexual predator', '2. Epstein - convicted pedophile', '3. Milo - pedophilia supporter', '4. Huckabee - pƒ\"'))"
   ]
  },
  {
   "cell_type": "markdown",
   "metadata": {},
   "source": [
    "## Analyzing tweets\n",
    "\n",
    "Now we will use the calculator to calculate the scores of all the tweets."
   ]
  },
  {
   "cell_type": "code",
   "execution_count": 8,
   "metadata": {
    "collapsed": true
   },
   "outputs": [],
   "source": [
    "# do all calculation once\n",
    "\n",
    "results = []\n",
    "\n",
    "for tweet in tweetsTokens:\n",
    "    results.append(calculator(tweet, posTokens, negTokens))\n",
    "    \n",
    "scores = [x['score'] for x in results]\n",
    "\n",
    "posWordsList = [x['posWordsList'] for x in results]\n",
    "posWordsList = [item for sublist in posWordsList for item in sublist]\n",
    "\n",
    "negWordsList = [x['negWordsList'] for x in results]\n",
    "negWordsList = [item for sublist in negWordsList for item in sublist]"
   ]
  },
  {
   "cell_type": "markdown",
   "metadata": {},
   "source": [
    "Here we look at the scores and sort them as either positive, negative, or neutral."
   ]
  },
  {
   "cell_type": "code",
   "execution_count": 9,
   "metadata": {
    "collapsed": false
   },
   "outputs": [
    {
     "name": "stdout",
     "output_type": "stream",
     "text": [
      "Total: 27057\n",
      "Positive: 5620\n",
      "Neutral: 12377\n",
      "Negative: 9060\n"
     ]
    }
   ],
   "source": [
    "# Here we set up the thresholds\n",
    "posi = 0 # This means there have to be at least 1 positive word\n",
    "nega = 0 # This means there has to be at least 1 negative words\n",
    "\n",
    "# Here we prime our variables\n",
    "numTweets = len(results)\n",
    "numPosTweets = 0\n",
    "numNegTweets = 0\n",
    "numNeutTweets = 0\n",
    "\n",
    "# This loop goes through all the Tweets and calculates if sums the number of positive or negative ones.\n",
    "\n",
    "\n",
    "for score in scores:\n",
    "    if score > posi:\n",
    "        numPosTweets += 1\n",
    "       \n",
    "    elif score < nega:\n",
    "        numNegTweets += 1\n",
    "        \n",
    "    else:\n",
    "        numNeutTweets += 1\n",
    "        \n",
    "\n",
    "# This prints out the results \n",
    "print(\"Total: \" + str(numTweets) + \"\\n\" + \"Positive: \" + str(numPosTweets) + \"\\n\" + \"Neutral: \" + str(numNeutTweets) + \"\\n\" + \"Negative: \" +str(numNegTweets))\n"
   ]
  },
  {
   "cell_type": "markdown",
   "metadata": {},
   "source": [
    "#### Gathering positive tweets\n",
    "\n",
    "This will gather all examples of positive tweets."
   ]
  },
  {
   "cell_type": "code",
   "execution_count": 10,
   "metadata": {
    "collapsed": false
   },
   "outputs": [
    {
     "name": "stdout",
     "output_type": "stream",
     "text": [
      "['RT SenatorMenendez Trump shouldnt treat the GovernmentShutdown like a reality show It has real effects on real peoplelike the hundred', 'RT MsPrincessShann If there is a GovernmentShutdown over border security how will the border be secure during the shutdown  realDonal', 'WOW Finally a Republican whos got the balls to tell it like it is This gives me hope GovernmentShutdown httpstcohGxVrefqRZ', 'RT SenatorMenendez Trump shouldnt treat the GovernmentShutdown like a reality show It has real effects on real peoplelike the hundred']\n"
     ]
    }
   ],
   "source": [
    "# Here we set up the threshold.\n",
    "posi = 1 # This means there have to be more than 1 positive word\n",
    "numberWanted = 4 # Here you decide how many tweets you want\n",
    "\n",
    "# Here we prime our variables\n",
    "numTweets = len(results)\n",
    "numPosTweets = 0\n",
    "posiTweetList = []\n",
    "\n",
    "# This loop goes through all the Tweets and calculates if sums the number of positive or negative ones.\n",
    "\n",
    "\n",
    "\n",
    "for idx, score in enumerate(scores):\n",
    "    if score > posi:\n",
    "        posiTweetList.append(tweetsTokens[idx])\n",
    "        numPosTweets += 1\n",
    "        \n",
    "        if numPosTweets >= numberWanted:\n",
    "            break\n",
    "\n",
    "print(posiTweetList)"
   ]
  },
  {
   "cell_type": "markdown",
   "metadata": {},
   "source": [
    "#### Gathering negative tweets\n",
    "\n",
    "This will gather examples of negative tweets."
   ]
  },
  {
   "cell_type": "code",
   "execution_count": 11,
   "metadata": {
    "collapsed": false
   },
   "outputs": [
    {
     "name": "stdout",
     "output_type": "stream",
     "text": [
      "['Wait Im confused I thought Mexico was going to pay for the wall GovernmentShutdown', 'RT KellsBellsSC DemoCROOKS worried about GovernmentShutDown hummm\\n Ya couldve fooled me\\n\\n  httpstcoSlF2kYnjuk  \\nNancyPelosi a', 'RT KellsBellsSC DemoCROOKS worried about GovernmentShutDown hummm\\n Ya couldve fooled me\\n\\n  httpstcoSlF2kYnjuk  \\nNancyPelosi a', 'RT KellsBellsSC DemoCROOKS worried about GovernmentShutDown hummm\\n Ya couldve fooled me\\n\\n  httpstcoSlF2kYnjuk  \\nNancyPelosi a']\n"
     ]
    }
   ],
   "source": [
    "# Here we set up the threshold.\n",
    "nega = -1 # This means there have to be more than 1 positive word\n",
    "numberWanted = 4 # Here you decide how many tweets you want\n",
    "\n",
    "# Here we prime our variables\n",
    "numTweets = len(results)\n",
    "numNegTweets = 0\n",
    "negaTweetList = []\n",
    "\n",
    "# This loop goes through all the Tweets and calculates if sums the number of positive or negative ones.\n",
    "for idx, score in enumerate(scores):\n",
    "    if score < nega:\n",
    "        negaTweetList.append(tweetsTokens[idx])\n",
    "        numNegTweets += 1\n",
    "        \n",
    "        if numNegTweets >= numberWanted:\n",
    "            break\n",
    "        \n",
    "\n",
    "print(negaTweetList)"
   ]
  },
  {
   "cell_type": "markdown",
   "metadata": {},
   "source": [
    "##### Testing a tweet\n",
    "Here we can test and see what the score of an individual tweet is using the VADER dictionary as a simple poitive/negative list of words."
   ]
  },
  {
   "cell_type": "code",
   "execution_count": 12,
   "metadata": {
    "collapsed": false
   },
   "outputs": [
    {
     "name": "stdout",
     "output_type": "stream",
     "text": [
      "What is the tweet to calculate? Wait Im confused I thought Mexico was going to pay for the wall GovernmentShutdown\n",
      "-2\n"
     ]
    }
   ],
   "source": [
    "tweetToCalc = input(\"What is the tweet to calculate? \")\n",
    "res = calculator(tweetToCalc, posTokens, negTokens)\n",
    "print(res['score'])"
   ]
  },
  {
   "cell_type": "markdown",
   "metadata": {},
   "source": [
    "#### Testing a tweet\n",
    "\n",
    "Here you can take a tweet and test it to see which positive or negative words it contains using the VADER dictionary as a simple poitive/negative list of words."
   ]
  },
  {
   "cell_type": "code",
   "execution_count": 13,
   "metadata": {
    "collapsed": false
   },
   "outputs": [
    {
     "name": "stdout",
     "output_type": "stream",
     "text": [
      "What tweet do you want to process? Wait Im confused I thought Mexico was going to pay for the wall GovernmentShutdown\n",
      "Positive words: []\n",
      "Negative words: ['confused', 'pay']\n"
     ]
    }
   ],
   "source": [
    "tweet2Process = input(\"What tweet do you want to process? \")\n",
    "res = calculator(tweet2Process, posTokens, negTokens)\n",
    "print(\"Positive words: \" + str(res['posWordsList'][:10]))\n",
    "print(\"Negative words: \" + str(res['negWordsList'][:10]))"
   ]
  },
  {
   "cell_type": "markdown",
   "metadata": {},
   "source": [
    "## Gathering and plotting all positive and negative words"
   ]
  },
  {
   "cell_type": "markdown",
   "metadata": {},
   "source": [
    "#### Gathering and positive and negative words\n",
    "\n",
    "This will gather the words that are positive and negative in the tweets and tabulate them."
   ]
  },
  {
   "cell_type": "code",
   "execution_count": 14,
   "metadata": {
    "collapsed": false
   },
   "outputs": [
    {
     "name": "stdout",
     "output_type": "stream",
     "text": [
      "Positive words: 10705\n",
      "Negative words: 13655\n"
     ]
    }
   ],
   "source": [
    "\n",
    "# Here we set up the thresholds\n",
    "posi = 1 # This means there have to be more than 1 positive word\n",
    "nega = 0 # This means there has to be more than 1 negative words\n",
    "\n",
    "# Here we prime our variables\n",
    "\n",
    "numTweets = len(results)\n",
    "numPosTweets = 0\n",
    "numNegTweets = 0\n",
    "numNeutTweets = 0\n",
    "\n",
    "# This loop goes through all the Tweets and calculates if sums the number of positive or negative ones.\n",
    "for score in scores:\n",
    "  \n",
    "    if score > posi:\n",
    "        numPosTweets += 1\n",
    "       \n",
    "    elif score < nega:\n",
    "        numNegTweets += 1\n",
    "     \n",
    "    else:\n",
    "        numNeutTweets += 1\n",
    "        \n",
    "\n",
    "print(\"Positive words: \" + str(len(posWordsList)))\n",
    "print(\"Negative words: \" + str(len(negWordsList)))"
   ]
  },
  {
   "cell_type": "markdown",
   "metadata": {},
   "source": [
    "###### Positive words\n",
    "\n",
    "Here we plot the top positive words found in our dataset. The places where changes might need to be made are where it says color =['darkgreen'] where it says fig.set_title, and where it says plt.savefig. The color you can change to a different color of your choosing, so if you do not like dark green, pick something else. The title you will want to change what is in quotes so the title will better fit your own dataset, and finally, plt.savefig you will want to change the filepath part in quotes to point to where you want the .png output file saved as well as what you want the name of the file to be."
   ]
  },
  {
   "cell_type": "code",
   "execution_count": 15,
   "metadata": {
    "collapsed": false
   },
   "outputs": [
    {
     "name": "stdout",
     "output_type": "stream",
     "text": [
      "     please        help        want      matter       helps        like        free    security        well responsible \n",
      "        490         390         380         366         350         344         324         296         283         208 \n",
      "            word  freq\n",
      "21        please   490\n",
      "62          help   390\n",
      "11          want   380\n",
      "108       matter   366\n",
      "481        helps   350\n",
      "3           like   344\n",
      "56          free   324\n",
      "5       security   296\n",
      "20          well   283\n",
      "72   responsible   208\n",
      "15        thanks   203\n",
      "87          sure   202\n",
      "75   effectively   162\n",
      "28         truth   161\n",
      "51          good   150\n",
      "43       support   150\n",
      "58         agree   143\n",
      "471     partying   142\n",
      "14         thank   131\n",
      "31         great   130\n",
      "106         care   122\n",
      "16             3   113\n",
      "131     benefits   111\n",
      "55          best    95\n",
      "316      special    91\n"
     ]
    },
    {
     "name": "stderr",
     "output_type": "stream",
     "text": [
      "/N/soft/rhel7/anaconda/python3.6/4.3.1/lib/python3.6/site-packages/matplotlib/font_manager.py:1297: UserWarning: findfont: Font family ['sans-serif'] not found. Falling back to DejaVu Sans\n",
      "  (prop.get_family(), self.defaultFamily[fontext]))\n"
     ]
    },
    {
     "data": {
      "image/png": "[encoded data removed]",
      "text/plain": [
       "<matplotlib.figure.Figure at 0x7f8626886ef0>"
      ]
     },
     "metadata": {},
     "output_type": "display_data"
    }
   ],
   "source": [
    "import nltk\n",
    "import matplotlib.pyplot as plt\n",
    "import numpy as np\n",
    "from collections import Counter\n",
    "\n",
    "posDist = nltk.FreqDist(posWordsList)\n",
    "posDist.tabulate(10)\n",
    "\n",
    "%matplotlib inline\n",
    "posit = Counter(posDist)\n",
    "positdf = pd.DataFrame.from_dict(posit, orient='index').reset_index()\n",
    "positdf = positdf.rename(columns={'index':'word', 0:'freq'})\n",
    "positdf = positdf.sort_values('freq', ascending = False)\n",
    "posdf = positdf[:25]\n",
    "print(posdf)\n",
    "\n",
    "fig = posdf.plot(x= 'word',kind='barh', align='center', color =['darkgreen'])\n",
    "fig.set_ylabel('Words')\n",
    "fig.set_xlabel('Frequency')\n",
    "fig.set_title('Top 25 Positive Words, #governmentshutdown: VADER')\n",
    "fig.set_ylim(fig.get_ylim()[::-1])\n",
    "fig.set_xlim(0,4200)\n",
    "\n",
    "for i, v in enumerate(posdf['freq']):\n",
    "    fig.text(v + 3, i + .25, str(v), color='black', fontweight='bold')\n",
    "    \n",
    "plt.rcParams['font.sans-serif'] = \"Arial\"\n",
    "plt.rcParams[\"font.family\"] = \"sans-serif\"\n",
    "plt.savefig(os.path.join(dataResults, 'gvshutdownPosWordsVader.png'), format='png', dpi=300, bbox_inches='tight',)\n",
    "plt.show()\n"
   ]
  },
  {
   "cell_type": "markdown",
   "metadata": {},
   "source": [
    "###### Negative words\n",
    "\n",
    "Here we plot the top negative words found in our dataset. The places where changes might need to be made are where it says color =['darkred'] where it says fig.set_title, and where it says plt.savefig. The color you can change to a different color of your choosing, so if you do not like dark red, pick something else. The title you will want to change what is in quotes so the title will better fit your own dataset, and finally, plt.savefig you will want to change the filepath part in quotes to point to where you want the .png output file saved as well as what you want the name of the file to be."
   ]
  },
  {
   "cell_type": "code",
   "execution_count": 16,
   "metadata": {
    "collapsed": false
   },
   "outputs": [
    {
     "name": "stdout",
     "output_type": "stream",
     "text": [
      "       blame           no          pay     affected      painful         stop    suffering      exposes unemployment "
     ]
    },
    {
     "name": "stderr",
     "output_type": "stream",
     "text": [
      "/N/soft/rhel7/anaconda/python3.6/4.3.1/lib/python3.6/site-packages/matplotlib/font_manager.py:1297: UserWarning: findfont: Font family ['sans-serif'] not found. Falling back to DejaVu Sans\n",
      "  (prop.get_family(), self.defaultFamily[fontext]))\n"
     ]
    },
    {
     "name": "stdout",
     "output_type": "stream",
     "text": [
      "        miss \n",
      "        4136         1035          566          533          382          308          129          105          103           99 \n",
      "             word  freq\n",
      "7           blame  4136\n",
      "19             no  1035\n",
      "5             pay   566\n",
      "99       affected   533\n",
      "583       painful   382\n",
      "26           stop   308\n",
      "249     suffering   129\n",
      "664       exposes   105\n",
      "275  unemployment   103\n",
      "184          miss    99\n",
      "79            ill    89\n",
      "286       hurting    89\n",
      "34          fight    88\n",
      "23          leave    82\n",
      "179         drags    78\n",
      "1           avoid    73\n",
      "223          poor    73\n",
      "116          drop    70\n",
      "126         wrong    70\n",
      "74         crisis    68\n",
      "135          hard    67\n",
      "370          risk    66\n",
      "107     emergency    66\n",
      "191        forced    63\n",
      "120          hell    59\n"
     ]
    },
    {
     "data": {
      "image/png": "[encoded data removed]",
      "text/plain": [
       "<matplotlib.figure.Figure at 0x7f862680a080>"
      ]
     },
     "metadata": {},
     "output_type": "display_data"
    }
   ],
   "source": [
    "import nltk, matplotlib\n",
    "\n",
    "negDist = nltk.FreqDist(negWordsList)\n",
    "negDist.tabulate(10)\n",
    "\n",
    "%matplotlib inline\n",
    "nega = Counter(negDist)\n",
    "negadf = pd.DataFrame.from_dict(nega, orient='index').reset_index()\n",
    "negadf = negadf.rename(columns={'index':'word', 0:'freq'})\n",
    "negadf = negadf.sort_values('freq', ascending = False)\n",
    "negdf = negadf[:25]\n",
    "print(negdf)\n",
    "\n",
    "fig = negdf.plot(x= 'word',kind='barh', align='center', color =['darkred'])\n",
    "fig.set_ylabel('Words')\n",
    "fig.set_xlabel('Frequency')\n",
    "fig.set_title('Top 25 Negative Words, #governmentshutdown: VADER')\n",
    "fig.set_ylim(fig.get_ylim()[::-1])\n",
    "fig.set_xlim(0,4200)\n",
    "\n",
    "for i, v in enumerate(negdf['freq']):\n",
    "    fig.text(v + 3, i + .25, str(v), color='black', fontweight='bold')\n",
    "    \n",
    "plt.rcParams['font.sans-serif'] = \"Arial\"\n",
    "plt.rcParams[\"font.family\"] = \"sans-serif\"\n",
    "plt.savefig(os.path.join(dataResults, 'gvShutdownNegWordsVader.png'), format='png', dpi=300, bbox_inches='tight',)\n",
    "\n",
    "plt.show()"
   ]
  },
  {
   "cell_type": "markdown",
   "metadata": {
    "collapsed": true
   },
   "source": [
    "## VOILA!!"
   ]
  },
  {
   "cell_type": "markdown",
   "metadata": {},
   "source": [
    "This code was adapted from Stefan Sinclair's GitHub page called Art of Literary Text Analysis and can be found here: https://github.com/sgsinclair/alta/blob/e908bae2c224578485e10482e812924d7c6b7b05/ipynb/utilities/ComplexSentimentAnalysis.ipynb . Accessed 01/25/2019"
   ]
  }
 ],
 "metadata": {
  "kernelspec": {
   "display_name": "Python 3",
   "language": "python",
   "name": "python3"
  },
  "language_info": {
   "codemirror_mode": {
    "name": "ipython",
    "version": 3
   },
   "file_extension": ".py",
   "mimetype": "text/x-python",
   "name": "python",
   "nbconvert_exporter": "python",
   "pygments_lexer": "ipython3",
   "version": "3.6.0"
  }
 },
 "nbformat": 4,
 "nbformat_minor": 2
}
