{
 "cells": [
  {
   "cell_type": "markdown",
   "metadata": {},
   "source": [
    "# Complex Sentiment Analysis\n",
    "This notebook gives you the frequency of positive and negaitive words from a Sentiment Lexicon appearing in a dataset. This allows you to see what positive and negative terms are most likely to influence your sentiment results and to make any adjustments that might be needed to your dataset."
   ]
  },
  {
   "cell_type": "markdown",
   "metadata": {},
   "source": [
    "#### Opening data files\n",
    "\n",
    "The needed positive and negative word lists are .csv files found in the [data > twitter > dict](https://github.com/cyberdh/Text-Analysis/tree/master/data/twitter/dict) folder.\n",
    "\n"
   ]
  },
  {
   "cell_type": "markdown",
   "metadata": {},
   "source": [
    "### Run CyberDH environment\n",
    "The code in the cell below points to a Python environment specificaly for use with the Python Jupyter Notebooks created by Cyberinfrastructure for Digital Humanities. It allows for the use of the different packages in our notebooks and their subsequent data sets.\n",
    "\n",
    "##### Packages\n",
    "- **sys:** Provides access to some variables used or maintained by the interpreter and to functions that interact strongly with the interpreter. It is always available.\n",
    "- **os:** Provides a portable way of using operating system dependent functionality.\n",
    "\n",
    "#### NOTE: This cell is only for use with Research Desktop. You will get an error if you try to run this cell on your personal device!!"
   ]
  },
  {
   "cell_type": "code",
   "execution_count": 1,
   "metadata": {
    "collapsed": true
   },
   "outputs": [],
   "source": [
    "import sys\n",
    "import os\n",
    "sys.path.insert(0,\"/N/u/cyberdh/Carbonate/dhPyEnviron/lib/python3.6/site-packages\")\n",
    "os.environ[\"NLTK_DATA\"] = \"/N/u/cyberdh/Carbonate/dhPyEnviron/nltk_data\""
   ]
  },
  {
   "cell_type": "markdown",
   "metadata": {},
   "source": [
    "### Include necessary packages for notebook \n",
    "\n",
    "Python's extensibility comes in large part from packages. Packages are groups of functions, data, and algorithms that allow users to easily carry out processes without recreating the wheel. Some packages are included in the basic installation of Python, others created by Python users are available for download.\n",
    "\n",
    "In your terminal, packages can be installed by simply typing `pip install nameofpackage --user`. However, since you are using ReD and our Python environment, you will not need to install any of the packages below to use this notebook. Anytime you need to make use of a package, however, you need to import it so that Python knows to look in these packages for any functions or commands you use. Below is a brief description of the packages we are using in this notebook:\n",
    "\n",
    "- **pandas:** An open source, BSD-licensed library providing high-performance, easy-to-use data structures and data analysis tools for the Python programming language.\n",
    "- **re:** Provides regular expression matching operations similar to those found in Perl.\n",
    "- **json:** Used to parse and manipulate data in JSON format.\n",
    "- **glob:** Finds all the pathnames matching a specified pattern according to the rules used by the Unix shell, although results are returned in arbitrary order.\n",
    "- **nltk:** Platform for building Python programs to work with human language data. Here we bring in the VADER sentiment analysis tool which is now a part of the nltk package.\n",
    "- **matplotlib:** A Python 2D plotting library which produces publication quality figures in a variety of hardcopy formats and interactive environments across platforms.\n",
    "- **numpy:** The fundamental package for scientific computing with Python.\n",
    "- **collections:** Implements specialized container datatypes providing alternatives to Python's general purpose built-in containers, dict, list, set, and tuple."
   ]
  },
  {
   "cell_type": "code",
   "execution_count": 2,
   "metadata": {
    "collapsed": true
   },
   "outputs": [],
   "source": [
    "import pandas as pd\n",
    "import re\n",
    "import json\n",
    "import glob\n",
    "import nltk\n",
    "import matplotlib.pyplot as plt\n",
    "import numpy as np\n",
    "from collections import Counter"
   ]
  },
  {
   "cell_type": "markdown",
   "metadata": {},
   "source": [
    "### Variables\n",
    "Here we create some variables for use later in our code. We do this to minimize the number and complexity of the changes you will need to make later.\n",
    "\n",
    "First we need to decide if we want to read in one file or a whole directory of files. If you want to read in a whole directory then set `source` equal to `\"*\"` as this is what is called a regular expression that means 'all'. So we are reading in 'all' the files in a directory. If you wish to read in a single file then set `source` equal to the name of the desired file in quotes, but leaving the '.json' or '.csv' off at the end. So a single file should look like this: `source = \"myFileName\"`.\n",
    "\n",
    "Next we assign the file type our data comes in to a variable. At the moment the only options are '.csv' or '.json' as these are the most popular forms that twitter data comes in. We assign the file type to the `fileType` variable. It should look like this: `fileType = \".json\"`.\n",
    "\n",
    "The next three variables we assign column header names to. The `negColHead` variable is the column header for our list of negative words in our '.csv' file. The `posColHead` variable is the column header for our list of positive words in the positive words '.csv' file. Finally, the `tweetColHead` variable is the column header for the resulting dataframe our tweets are stored in further down in the code. If your tweets or positive and negative lexicons have different column headers, then make these adjustments here.\n",
    "\n",
    "The next four variables are lists where you will add terms that may need to be added or removed from your positive and negative word list. This is because sentiment is often dependent on the topic. When discussing racial relations the word 'supremacy' is generally not a positive term, while a collection of recipes the word is fine. The `remNegWords` variable is where you will add words to remove from the negative list and `negAdds` is where you put words you want to add to the negative list. Always make sure your words are in quotes and separated by a comma. Thus, the `remPosWords` and `posAdds` do the same thing, but for the positive word list.\n",
    "\n",
    "The remaining variable should not need to be changed. The variable `tweets` is an empty list that will have data added to it further down in the code. "
   ]
  },
  {
   "cell_type": "code",
   "execution_count": 3,
   "metadata": {
    "collapsed": true
   },
   "outputs": [],
   "source": [
    "source = \"*\"\n",
    "fileType = \".csv\"\n",
    "negColHead = 'Neg'\n",
    "posColHead = 'Pos'\n",
    "tweetColHead = 'text'\n",
    "remNegWords = ['gun']\n",
    "negAdds = []\n",
    "remPosWords = ['trump', 'right']\n",
    "posAdds = []\n",
    "tweets = []"
   ]
  },
  {
   "cell_type": "markdown",
   "metadata": {},
   "source": [
    "### File paths\n",
    "Here we assign file paths we will need throughout this notebook to variables. This way we only need to make changes here and they will be implemeneted throughout the code. The `homePath` variable uses the `environ` function from the `os` package. This function points to your home directory no matter your operating system (Linux, osX, Windows).\n",
    "\n",
    "Then we join the `homePath` variable to folders that point to where our data is stored and we assign this file path to the variable `dataHome`. The folder names are in quotes and separated by a comma. \n",
    "\n",
    "Next, we again use the `homePath` variable and join it with a file path that points to a folder where we can save any output. We assign this file path to a variable called `dataResults`.\n",
    "\n",
    "Finally, we assign paths that point to a negative word list and a positive word list from the VADER lexicon to two separate variables. The `negFile` variable is for the negative list and `posFile` is for the positive list. \n",
    "\n",
    "You can change any of these to better match your data and your research needs. Just remember to put all folders or file names in quotes and separate them with a comma."
   ]
  },
  {
   "cell_type": "code",
   "execution_count": 8,
   "metadata": {
    "collapsed": true
   },
   "outputs": [],
   "source": [
    "homePath = os.environ['HOME']\n",
    "dataHome = os.path.join(homePath, 'Text-Analysis-master','data','twitter')\n",
    "dataResults = os.path.join(homePath, 'Text-Analysis-master', 'Output')\n",
    "negFile = glob.glob(os.path.join(dataHome, \"dict\", \"negativeVADER.csv\"))\n",
    "posFile = glob.glob(os.path.join(dataHome, \"dict\", \"positiveVADER.csv\"))"
   ]
  },
  {
   "cell_type": "markdown",
   "metadata": {},
   "source": [
    "##### Load the negative words\n",
    "\n",
    "Here we read in our negative words. First we read in the '.csv' file containing our negative words from the VADER lexicon. Then we turn it into a dataframe and assign the dataframe to the variable `negDf`. Next we change the dataframe to a list and assign the list to the variable `negTokens`. Then we add words to the list that we added to the `negAdds` variable from above, followed by removing any words that we added to the `remNegWords` variable. Lastly, we set the list, which uses a hash table to make looking up an item in the list more efficient. There should be no need to make changes to this code."
   ]
  },
  {
   "cell_type": "code",
   "execution_count": 9,
   "metadata": {
    "collapsed": false
   },
   "outputs": [
    {
     "name": "stdout",
     "output_type": "stream",
     "text": [
      "['trembles', 'trivial', 'unbiased', 'warsaw', 'wellhole', 'winnower', 'winnowing', 'wiseacres', 'wisecrack', 'wisecracker']\n"
     ]
    }
   ],
   "source": [
    "for f in negFile:\n",
    "    negText = pd.read_csv(f, index_col = False)\n",
    "\n",
    "negDf = pd.DataFrame(negText)\n",
    "negTokens = negDf[negColHead].tolist()\n",
    " \n",
    "negTokens.extend(negAdds)\n",
    "for word in list(negTokens):\n",
    "    if word in remNegWords: \n",
    "        negTokens.remove(word)\n",
    "print(negTokens[-10:])\n",
    "\n",
    "# list to set for efficient lookup\n",
    "negTokens = set(negTokens)"
   ]
  },
  {
   "cell_type": "markdown",
   "metadata": {},
   "source": [
    "##### Load the positive words\n",
    "\n",
    "Here we read in our positive words. First we read in the '.csv' file containing our positive words from the VADER lexicon. Then we turn it into a dataframe and assign the dataframe to the variable `posDf`. Next we change the dataframe to a list and assign the list to the variable `posTokens`. Then we add words to the list that we added to the `posAdds` variable from above, followed by removing any words that we added to the `remPosWords` variable. Lastly, we set the list, which uses a hash table to make looking up an item in the list more efficient. There should be no need to make changes to this code."
   ]
  },
  {
   "cell_type": "code",
   "execution_count": 10,
   "metadata": {
    "collapsed": false
   },
   "outputs": [
    {
     "name": "stdout",
     "output_type": "stream",
     "text": [
      "['paradise', 'perfectly', 'lya', 'ecstacy', 'euphoria', 'sweetheart', 'aml', 'ilu', 'ily', 'magnificently']\n"
     ]
    }
   ],
   "source": [
    "for f in posFile:\n",
    "    posText = pd.read_csv(f, index_col = False)\n",
    "\n",
    "posDf = pd.DataFrame(posText)\n",
    "posTokens = posDf[posColHead].tolist()\n",
    "posTokens.extend(posAdds)\n",
    "for word in list(posTokens):\n",
    "    if word in remPosWords: \n",
    "        posTokens.remove(word)\n",
    "#if 'right' in posTokens: posTokens.remove('right')\n",
    "print(posTokens[-10:])\n",
    "\n",
    "# list to set for efficient lookup\n",
    "posTokens = set(posTokens)"
   ]
  },
  {
   "cell_type": "markdown",
   "metadata": {},
   "source": [
    "#### Here we get tweets if in JSON format\n",
    "\n",
    "This will read tweets if in JSON format. The only part you will need to change is where it says \"JSON/\\*\". This is where we name the folder and we are telling it to read in all the files in the folder. If you have them in a folder with a different name, then change JSON to the name of your folder. If you want to read in only one JSON file, then replace the '\\*' with the name of the file. The 'text' is the standard key for the tweet content that comes with the data twitter gives you, so that shouldn't need to be changed."
   ]
  },
  {
   "cell_type": "code",
   "execution_count": 11,
   "metadata": {
    "collapsed": false
   },
   "outputs": [],
   "source": [
    "if fileType == \".json\":\n",
    "\n",
    "    for filename in glob.glob(os.path.join(dataHome, \"JSON\", source + fileType)):\n",
    "        with open(filename, encoding = 'utf-8') as json_data:\n",
    "            for line in json_data:\n",
    "                tweets.append(json.loads(line))\n",
    "    df = pd.DataFrame(tweets)\n",
    "    df[tweetColHead] = df[tweetColHead].str.replace('[^\\x00-\\x7F]','')\n",
    "    df[tweetColHead] = df[tweetColHead].str.replace('[^\\w\\s]','')\n",
    "    tweetsTokens = df[tweetColHead].tolist()            \n",
    "    print(len(df)) "
   ]
  },
  {
   "cell_type": "markdown",
   "metadata": {},
   "source": [
    "###### Here we get the tweets if in .csv file\n",
    "\n",
    "The only parts in this section you will need to change are the filepath and where it says 'text' (with the quotes). You will definitely need to change the filepath to match where you have your dataset stored. You might need to change 'text' if your column containing your tweet content has a different header name. If yours is labeled 'text' already than you do not need to change it."
   ]
  },
  {
   "cell_type": "code",
   "execution_count": 12,
   "metadata": {
    "collapsed": false
   },
   "outputs": [
    {
     "name": "stdout",
     "output_type": "stream",
     "text": [
      "['RT canarymission Students of Students for Justice in Palestine Mock the Holocaust \\n\\nNeverAgain WeRemember\\nhttpstcocnPE7dEnik httpstcoXvd6IBiSPe', 'RT canarymission Students of Students for Justice in Palestine Mock the Holocaust \\n\\nNeverAgain WeRemember\\nhttpstcocnPE7dEnik httpstcoXvd6IBiSPe', 'He duped so many NeverAgain MeToo httpstco7u4Vl5UjSR', 'NeverAgain NeverForget  httpstcoTuSZLe5dBb', 'RT MrGoalie35 NeverAgain NeverForget  httpstcoTuSZLe5dBb', 'RT ITB_MINCOM 11thFebruary2018 cameroUn YouthDay \\nSouthernCameroons says NeverAgain\\nWeWillRESIST cameroUns francesponsored GENOCIDE SLAVERY KLEPTOCRACY ONGOING in the COUNTRY of SouthernCameroons Ambazonia USEmbYaounde BBCAfrica bbcafrique Reuters UKinCameroon dwnews httpstcoPSSgr1N2PD']\n"
     ]
    }
   ],
   "source": [
    "if fileType == \".csv\":\n",
    "    all_files = glob.glob(os.path.join(dataHome, \"CSV\", \"parkland\", source + fileType))     \n",
    "\n",
    "    df_all = (pd.read_csv(f, encoding  = 'ISO-8859-1') for f in all_files)\n",
    "    cc_df   = pd.concat(df_all, ignore_index=True)\n",
    "    tweetsText = pd.DataFrame(cc_df)\n",
    "    tweetsText[tweetColHead] = tweetsText[tweetColHead].str.replace('[^\\x00-\\x7F]','')\n",
    "    tweetsText[tweetColHead] = tweetsText[tweetColHead].str.replace('[^\\w\\s]','')\n",
    "    tweetsTokens = tweetsText[tweetColHead].tolist()\n",
    "    print(tweetsTokens[:6])"
   ]
  },
  {
   "cell_type": "markdown",
   "metadata": {},
   "source": [
    "## Tokenizing the tweets\n",
    "\n",
    "Now we will create two functions. The first for tokenizing a tweet, the second for calculating positive/negative words. Note that the calulator function uses the tokenizer function."
   ]
  },
  {
   "cell_type": "code",
   "execution_count": 13,
   "metadata": {
    "collapsed": true
   },
   "outputs": [],
   "source": [
    "def tokenizer(theText):\n",
    "    theTokens = re.findall(r'\\b\\w[\\w-]*\\b', theText.lower())\n",
    "    return theTokens\n",
    "\n",
    "def calculator(theTweet, posTokenList, negTokenList):\n",
    "    \n",
    "    posWordsList = []\n",
    "    negWordsList = []\n",
    "\n",
    "    numPosWords = 0 \n",
    "    numNegWords = 0\n",
    "    \n",
    "    theTweetTokens = tokenizer(theTweet)\n",
    "    \n",
    "    # Count positive and negative words\n",
    "    for word in theTweetTokens:\n",
    "        if word in posTokenList:\n",
    "            numPosWords += 1\n",
    "            posWordsList.append(word)\n",
    "        \n",
    "        if word in negTokenList:\n",
    "            numNegWords += 1\n",
    "            negWordsList.append(word)\n",
    "        \n",
    "        \n",
    "    score = (numPosWords - numNegWords)\n",
    "    return {'score': score, 'posWordsList' : posWordsList, 'negWordsList' : negWordsList}\n",
    "\n",
    "# Here is a line for testing this\n",
    "# print(calculator('\"RT @jmichaelkell: To sum it up:', '', '1. Trump - sexual predator', '2. Epstein - convicted pedophile', '3. Milo - pedophilia supporter', '4. Huckabee - pƒ\"'))"
   ]
  },
  {
   "cell_type": "markdown",
   "metadata": {},
   "source": [
    "## Analyzing tweets\n",
    "\n",
    "Now we will use the calculator to calculate the scores of all the tweets."
   ]
  },
  {
   "cell_type": "code",
   "execution_count": 14,
   "metadata": {
    "collapsed": false
   },
   "outputs": [],
   "source": [
    "# do all calculation once\n",
    "\n",
    "results = []\n",
    "\n",
    "for tweet in tweetsTokens:\n",
    "    results.append(calculator(tweet, posTokens, negTokens))\n",
    "    \n",
    "scores = [x['score'] for x in results]\n",
    "\n",
    "posWordsList = [x['posWordsList'] for x in results]\n",
    "posWordsList = [item for sublist in posWordsList for item in sublist]\n",
    "\n",
    "negWordsList = [x['negWordsList'] for x in results]\n",
    "negWordsList = [item for sublist in negWordsList for item in sublist]"
   ]
  },
  {
   "cell_type": "markdown",
   "metadata": {},
   "source": [
    "Here we look at the scores and sort them as either positive, negative, or neutral."
   ]
  },
  {
   "cell_type": "code",
   "execution_count": 15,
   "metadata": {
    "collapsed": false
   },
   "outputs": [
    {
     "name": "stdout",
     "output_type": "stream",
     "text": [
      "Total: 155542\n",
      "Positive: 50466\n",
      "Neutral: 58217\n",
      "Negative: 46859\n"
     ]
    }
   ],
   "source": [
    "# Here we set up the thresholds\n",
    "posi = 0 # This means there have to be at least 1 positive word\n",
    "nega = 0 # This means there has to be at least 1 negative words\n",
    "\n",
    "# Here we prime our variables\n",
    "numTweets = len(results)\n",
    "numPosTweets = 0\n",
    "numNegTweets = 0\n",
    "numNeutTweets = 0\n",
    "\n",
    "# This loop goes through all the Tweets and calculates if sums the number of positive or negative ones.\n",
    "\n",
    "\n",
    "for score in scores:\n",
    "    if score > posi:\n",
    "        numPosTweets += 1\n",
    "       \n",
    "    elif score < nega:\n",
    "        numNegTweets += 1\n",
    "        \n",
    "    else:\n",
    "        numNeutTweets += 1\n",
    "        \n",
    "\n",
    "# This prints out the results \n",
    "print(\"Total: \" + str(numTweets) + \"\\n\" + \"Positive: \" + str(numPosTweets) + \"\\n\" + \"Neutral: \" + str(numNeutTweets) + \"\\n\" + \"Negative: \" +str(numNegTweets))\n"
   ]
  },
  {
   "cell_type": "markdown",
   "metadata": {},
   "source": [
    "#### Gathering positive tweets\n",
    "\n",
    "This will gather all examples of positive tweets."
   ]
  },
  {
   "cell_type": "code",
   "execution_count": 16,
   "metadata": {
    "collapsed": false
   },
   "outputs": [
    {
     "name": "stdout",
     "output_type": "stream",
     "text": [
      "['RT esrailian Thank you  we are honored to share these stories HumanRights NeverForget NeverAgain thepromisefilm ThePromiseToAct httpstcoSBQRYMCSnq', 'So good and reassuring to see the media and academia in the Philippines join hands as freedom of the press and democracy seem to be once again under attack Way to go We live in the age of disinformation and we need to get organized to fight back DefendPressFreedom NeverAgain httpstcokjqlhHcdsi', 'rblanchard0594 ColleenBoykin1 GoaGoaZwerg jnnyjny Youre right teaching history matters amp thank your teacher for this However we must learn from history to prevent mistakes of the past Im sure you realize what is happening now is not normal a', 'If youre like me and are about to blow a gasket reading the obsequious disgraceful press coverage of the NK regime in the past 48 hours please consider supporting bethanyshondark and her efforts to help defectors get out of that torturous hellhole NeverAgain NorthKorea httpstcoZ3H8bpIlXq']\n"
     ]
    }
   ],
   "source": [
    "# Here we set up the threshold.\n",
    "posi = 1 # This means there have to be more than 1 positive word\n",
    "numberWanted = 4 # Here you decide how many tweets you want\n",
    "\n",
    "# Here we prime our variables\n",
    "numTweets = len(results)\n",
    "numPosTweets = 0\n",
    "posiTweetList = []\n",
    "\n",
    "# This loop goes through all the Tweets and calculates if sums the number of positive or negative ones.\n",
    "\n",
    "\n",
    "\n",
    "for idx, score in enumerate(scores):\n",
    "    if score > posi:\n",
    "        posiTweetList.append(tweetsTokens[idx])\n",
    "        numPosTweets += 1\n",
    "        \n",
    "        if numPosTweets >= numberWanted:\n",
    "            break\n",
    "\n",
    "print(posiTweetList)"
   ]
  },
  {
   "cell_type": "markdown",
   "metadata": {},
   "source": [
    "#### Gathering negative tweets\n",
    "\n",
    "This will gather examples of negative tweets."
   ]
  },
  {
   "cell_type": "code",
   "execution_count": 17,
   "metadata": {
    "collapsed": false
   },
   "outputs": [
    {
     "name": "stdout",
     "output_type": "stream",
     "text": [
      "['Watch now behindthemovement  tonight RosaParks thought about the face of young EmmettTill the murder and aquittal of his murderers RoyBryant and JWMilam injustice NeverForget NeverAgain nomoresteppingofftheroadanymore JusticeforEmmettTill httpstco157R6ELdAu', 'Eggs fall and hash browns get ruined and I get moody neveragain', 'kimgarner4181 No doubt I worked 45 hours during exam week neveragain', 'Delta DeltaAssist worst airline amp customer service Ive ever witnessed 65 delays cancelled flight not even a water and offered 100 my phone call to you was more than that Disgraceful neveragain detroitshambles']\n"
     ]
    }
   ],
   "source": [
    "# Here we set up the threshold.\n",
    "nega = -1 # This means there have to be more than 1 negative word\n",
    "numberWanted = 4 # Here you decide how many tweets you want\n",
    "\n",
    "# Here we prime our variables\n",
    "numTweets = len(results)\n",
    "numNegTweets = 0\n",
    "negaTweetList = []\n",
    "\n",
    "# This loop goes through all the Tweets and calculates if sums the number of positive or negative ones.\n",
    "for idx, score in enumerate(scores):\n",
    "    if score < nega:\n",
    "        negaTweetList.append(tweetsTokens[idx])\n",
    "        numNegTweets += 1\n",
    "        \n",
    "        if numNegTweets >= numberWanted:\n",
    "            break\n",
    "        \n",
    "\n",
    "print(negaTweetList)"
   ]
  },
  {
   "cell_type": "markdown",
   "metadata": {},
   "source": [
    "##### Testing a tweet\n",
    "Here we can test and see what the score of an individual tweet is using the VADER dictionary as a simple poitive/negative list of words."
   ]
  },
  {
   "cell_type": "code",
   "execution_count": 18,
   "metadata": {
    "collapsed": false
   },
   "outputs": [
    {
     "name": "stdout",
     "output_type": "stream",
     "text": [
      "What is the tweet to calculate? Watch now behindthemovement  tonight RosaParks thought about the face of young EmmettTill the murder and aquittal of his murderers RoyBryant and JWMilam injustice NeverForget NeverAgain nomoresteppingofftheroadanymore JusticeforEmmettTill httpstco157R6ELdAu\n",
      "-3\n"
     ]
    }
   ],
   "source": [
    "tweetToCalc = input(\"What is the tweet to calculate? \")\n",
    "res = calculator(tweetToCalc, posTokens, negTokens)\n",
    "print(res['score'])"
   ]
  },
  {
   "cell_type": "markdown",
   "metadata": {},
   "source": [
    "Here you can take a tweet and test it to see which positive or negative words it contains using the VADER dictionary as a simple poitive/negative list of words."
   ]
  },
  {
   "cell_type": "code",
   "execution_count": 19,
   "metadata": {
    "collapsed": false
   },
   "outputs": [
    {
     "name": "stdout",
     "output_type": "stream",
     "text": [
      "What tweet do you want to process? Watch now behindthemovement  tonight RosaParks thought about the face of young EmmettTill the murder and aquittal of his murderers RoyBryant and JWMilam injustice NeverForget NeverAgain nomoresteppingofftheroadanymore JusticeforEmmettTill httpstco157R6ELdAu\n",
      "Positive words: []\n",
      "Negative words: ['murder', 'murderers', 'injustice']\n"
     ]
    }
   ],
   "source": [
    "tweet2Process = input(\"What tweet do you want to process? \")\n",
    "res = calculator(tweet2Process, posTokens, negTokens)\n",
    "print(\"Positive words: \" + str(res['posWordsList'][:10]))\n",
    "print(\"Negative words: \" + str(res['negWordsList'][:10]))"
   ]
  },
  {
   "cell_type": "markdown",
   "metadata": {},
   "source": [
    "## Gathering and plotting all positive and negative words"
   ]
  },
  {
   "cell_type": "markdown",
   "metadata": {},
   "source": [
    "#### Gathering and positive and negative words\n",
    "\n",
    "This will gather the words that are positive and negative in the tweets and tabulate them."
   ]
  },
  {
   "cell_type": "code",
   "execution_count": 20,
   "metadata": {
    "collapsed": false
   },
   "outputs": [
    {
     "name": "stdout",
     "output_type": "stream",
     "text": [
      "Positive words: 157800\n",
      "Negative words: 150306\n"
     ]
    }
   ],
   "source": [
    "# Here we set up the thresholds\n",
    "posi = 0 # This means there have to be more than 1 positive word\n",
    "nega = 0 # This means there has to be more than 1 negative words\n",
    "\n",
    "# Here we prime our variables\n",
    "\n",
    "numTweets = len(results)\n",
    "numPosTweets = 0\n",
    "numNegTweets = 0\n",
    "numNeutTweets = 0\n",
    "\n",
    "# This loop goes through all the Tweets and calculates if sums the number of positive or negative ones.\n",
    "for score in scores:\n",
    "  \n",
    "    if score > posi:\n",
    "        numPosTweets += 1\n",
    "       \n",
    "    elif score < nega:\n",
    "        numNegTweets += 1\n",
    "     \n",
    "    else:\n",
    "        numNeutTweets += 1\n",
    "        \n",
    "\n",
    "print(\"Positive words: \" + str(len(posWordsList)))\n",
    "print(\"Negative words: \" + str(len(negWordsList)))"
   ]
  },
  {
   "cell_type": "code",
   "execution_count": 21,
   "metadata": {
    "collapsed": false
   },
   "outputs": [
    {
     "data": {
      "text/html": [
       "<div>\n",
       "<table border=\"1\" class=\"dataframe\">\n",
       "  <thead>\n",
       "    <tr style=\"text-align: right;\">\n",
       "      <th></th>\n",
       "      <th>word</th>\n",
       "      <th>freq</th>\n",
       "    </tr>\n",
       "  </thead>\n",
       "  <tbody>\n",
       "    <tr>\n",
       "      <th>22</th>\n",
       "      <td>like</td>\n",
       "      <td>7439</td>\n",
       "    </tr>\n",
       "    <tr>\n",
       "      <th>36</th>\n",
       "      <td>please</td>\n",
       "      <td>4348</td>\n",
       "    </tr>\n",
       "    <tr>\n",
       "      <th>64</th>\n",
       "      <td>want</td>\n",
       "      <td>3945</td>\n",
       "    </tr>\n",
       "    <tr>\n",
       "      <th>185</th>\n",
       "      <td>kidding</td>\n",
       "      <td>3849</td>\n",
       "    </tr>\n",
       "    <tr>\n",
       "      <th>35</th>\n",
       "      <td>well</td>\n",
       "      <td>3827</td>\n",
       "    </tr>\n",
       "    <tr>\n",
       "      <th>16</th>\n",
       "      <td>support</td>\n",
       "      <td>3657</td>\n",
       "    </tr>\n",
       "    <tr>\n",
       "      <th>39</th>\n",
       "      <td>party</td>\n",
       "      <td>3302</td>\n",
       "    </tr>\n",
       "    <tr>\n",
       "      <th>206</th>\n",
       "      <td>protect</td>\n",
       "      <td>3255</td>\n",
       "    </tr>\n",
       "    <tr>\n",
       "      <th>109</th>\n",
       "      <td>top</td>\n",
       "      <td>2893</td>\n",
       "    </tr>\n",
       "    <tr>\n",
       "      <th>3</th>\n",
       "      <td>thank</td>\n",
       "      <td>2710</td>\n",
       "    </tr>\n",
       "  </tbody>\n",
       "</table>\n",
       "</div>"
      ],
      "text/plain": [
       "        word  freq\n",
       "22      like  7439\n",
       "36    please  4348\n",
       "64      want  3945\n",
       "185  kidding  3849\n",
       "35      well  3827\n",
       "16   support  3657\n",
       "39     party  3302\n",
       "206  protect  3255\n",
       "109      top  2893\n",
       "3      thank  2710"
      ]
     },
     "execution_count": 21,
     "metadata": {},
     "output_type": "execute_result"
    }
   ],
   "source": [
    "posDist = nltk.FreqDist(posWordsList)\n",
    "posit = Counter(posDist)\n",
    "positdf = pd.DataFrame.from_dict(posit, orient='index').reset_index()\n",
    "positdf = positdf.rename(columns={'index':'word', 0:'freq'})\n",
    "positdf = positdf.sort_values('freq', ascending = False)\n",
    "posdf = positdf[:25]\n",
    "posdf.head(10)"
   ]
  },
  {
   "cell_type": "code",
   "execution_count": 22,
   "metadata": {
    "collapsed": false
   },
   "outputs": [
    {
     "data": {
      "text/html": [
       "<div>\n",
       "<table border=\"1\" class=\"dataframe\">\n",
       "  <thead>\n",
       "    <tr style=\"text-align: right;\">\n",
       "      <th></th>\n",
       "      <th>word</th>\n",
       "      <th>freq</th>\n",
       "    </tr>\n",
       "  </thead>\n",
       "  <tbody>\n",
       "    <tr>\n",
       "      <th>16</th>\n",
       "      <td>no</td>\n",
       "      <td>11721</td>\n",
       "    </tr>\n",
       "    <tr>\n",
       "      <th>287</th>\n",
       "      <td>violence</td>\n",
       "      <td>5159</td>\n",
       "    </tr>\n",
       "    <tr>\n",
       "      <th>115</th>\n",
       "      <td>stop</td>\n",
       "      <td>3636</td>\n",
       "    </tr>\n",
       "    <tr>\n",
       "      <th>257</th>\n",
       "      <td>assault</td>\n",
       "      <td>3612</td>\n",
       "    </tr>\n",
       "    <tr>\n",
       "      <th>365</th>\n",
       "      <td>anger</td>\n",
       "      <td>3343</td>\n",
       "    </tr>\n",
       "    <tr>\n",
       "      <th>202</th>\n",
       "      <td>problem</td>\n",
       "      <td>2887</td>\n",
       "    </tr>\n",
       "    <tr>\n",
       "      <th>297</th>\n",
       "      <td>weapons</td>\n",
       "      <td>2409</td>\n",
       "    </tr>\n",
       "    <tr>\n",
       "      <th>73</th>\n",
       "      <td>sorry</td>\n",
       "      <td>2299</td>\n",
       "    </tr>\n",
       "    <tr>\n",
       "      <th>250</th>\n",
       "      <td>victims</td>\n",
       "      <td>2211</td>\n",
       "    </tr>\n",
       "    <tr>\n",
       "      <th>29</th>\n",
       "      <td>disgusting</td>\n",
       "      <td>2133</td>\n",
       "    </tr>\n",
       "  </tbody>\n",
       "</table>\n",
       "</div>"
      ],
      "text/plain": [
       "           word   freq\n",
       "16           no  11721\n",
       "287    violence   5159\n",
       "115        stop   3636\n",
       "257     assault   3612\n",
       "365       anger   3343\n",
       "202     problem   2887\n",
       "297     weapons   2409\n",
       "73        sorry   2299\n",
       "250     victims   2211\n",
       "29   disgusting   2133"
      ]
     },
     "execution_count": 22,
     "metadata": {},
     "output_type": "execute_result"
    }
   ],
   "source": [
    "negDist = nltk.FreqDist(negWordsList)\n",
    "nega = Counter(negDist)\n",
    "negadf = pd.DataFrame.from_dict(nega, orient='index').reset_index()\n",
    "negadf = negadf.rename(columns={'index':'word', 0:'freq'})\n",
    "negadf = negadf.sort_values('freq', ascending = False)\n",
    "negdf = negadf[:25]\n",
    "negdf.head(10)"
   ]
  },
  {
   "cell_type": "code",
   "execution_count": 23,
   "metadata": {
    "collapsed": false
   },
   "outputs": [],
   "source": [
    "freqDF = pd.concat([posdf, negdf], ignore_index=True)"
   ]
  },
  {
   "cell_type": "markdown",
   "metadata": {},
   "source": [
    "###### Positive words\n",
    "\n",
    "Here we plot the top positive words found in our dataset. The places where changes might need to be made are where it says color =['darkgreen'] where it says fig.set_title, and where it says plt.savefig. The color you can change to a different color of your choosing, so if you do not like dark green, pick something else. The title you will want to change what is in quotes so the title will better fit your own dataset, and finally, plt.savefig you will want to change the filepath part in quotes to point to where you want the .png output file saved as well as what you want the name of the file to be."
   ]
  },
  {
   "cell_type": "code",
   "execution_count": 24,
   "metadata": {
    "collapsed": false
   },
   "outputs": [
    {
     "name": "stderr",
     "output_type": "stream",
     "text": [
      "/N/soft/rhel7/anaconda/python3.6/4.3.1/lib/python3.6/site-packages/matplotlib/font_manager.py:1297: UserWarning: findfont: Font family ['sans-serif'] not found. Falling back to DejaVu Sans\n",
      "  (prop.get_family(), self.defaultFamily[fontext]))\n"
     ]
    },
    {
     "data": {
      "image/png": "[encoded data removed]",
      "text/plain": [
       "<matplotlib.figure.Figure at 0x7f8c3626be80>"
      ]
     },
     "metadata": {},
     "output_type": "display_data"
    }
   ],
   "source": [
    "%matplotlib inline\n",
    "\n",
    "fig = posdf.plot(x= 'word',kind='barh', align='center', color =['darkgreen'])\n",
    "fig.set_ylabel('Words')\n",
    "fig.set_xlabel('Frequency')\n",
    "fig.set_title('Top 25 Positive Words, #governmentshutdown: VADER')\n",
    "fig.set_ylim(fig.get_ylim()[::-1])\n",
    "fig.set_xlim(0,1000 + max(freqDF['freq']))\n",
    "\n",
    "for i, v in enumerate(posdf['freq']):\n",
    "    fig.text(v + 3, i + .25, str(v), color='black', fontweight='bold')\n",
    "    \n",
    "plt.rcParams['font.sans-serif'] = \"Arial\"\n",
    "plt.rcParams[\"font.family\"] = \"sans-serif\"\n",
    "plt.savefig(os.path.join(dataResults, 'gvshutdownPosWordsVader.png'), format='png', dpi=300, bbox_inches='tight',)\n",
    "plt.show()"
   ]
  },
  {
   "cell_type": "markdown",
   "metadata": {},
   "source": [
    "###### Negative words\n",
    "\n",
    "Here we plot the top negative words found in our dataset. The places where changes might need to be made are where it says color =['darkred'] where it says fig.set_title, and where it says plt.savefig. The color you can change to a different color of your choosing, so if you do not like dark red, pick something else. The title you will want to change what is in quotes so the title will better fit your own dataset, and finally, plt.savefig you will want to change the filepath part in quotes to point to where you want the .png output file saved as well as what you want the name of the file to be."
   ]
  },
  {
   "cell_type": "code",
   "execution_count": 25,
   "metadata": {
    "collapsed": false
   },
   "outputs": [
    {
     "name": "stderr",
     "output_type": "stream",
     "text": [
      "/N/soft/rhel7/anaconda/python3.6/4.3.1/lib/python3.6/site-packages/matplotlib/font_manager.py:1297: UserWarning: findfont: Font family ['sans-serif'] not found. Falling back to DejaVu Sans\n",
      "  (prop.get_family(), self.defaultFamily[fontext]))\n"
     ]
    },
    {
     "data": {
      "image/png": "[encoded data removed]",
      "text/plain": [
       "<matplotlib.figure.Figure at 0x7f8c2f98d358>"
      ]
     },
     "metadata": {},
     "output_type": "display_data"
    }
   ],
   "source": [
    "fig = negdf.plot(x= 'word',kind='barh', align='center', color =['darkred'])\n",
    "fig.set_ylabel('Words')\n",
    "fig.set_xlabel('Frequency')\n",
    "fig.set_title('Top 25 Negative Words, #governmentshutdown: VADER')\n",
    "fig.set_ylim(fig.get_ylim()[::-1])\n",
    "fig.set_xlim(0,1000 + max(freqDF['freq']))\n",
    "\n",
    "for i, v in enumerate(negdf['freq']):\n",
    "    fig.text(v + 3, i + .25, str(v), color='black', fontweight='bold')\n",
    "    \n",
    "plt.rcParams['font.sans-serif'] = \"Arial\"\n",
    "plt.rcParams[\"font.family\"] = \"sans-serif\"\n",
    "plt.savefig(os.path.join(dataResults, 'gvShutdownNegWordsVader.png'), format='png', dpi=300, bbox_inches='tight',)\n",
    "\n",
    "plt.show()"
   ]
  },
  {
   "cell_type": "markdown",
   "metadata": {
    "collapsed": true
   },
   "source": [
    "## VOILA!!"
   ]
  },
  {
   "cell_type": "markdown",
   "metadata": {},
   "source": [
    "This code was adapted from Stefan Sinclair's GitHub page called Art of Literary Text Analysis and can be found here: https://github.com/sgsinclair/alta/blob/e908bae2c224578485e10482e812924d7c6b7b05/ipynb/utilities/ComplexSentimentAnalysis.ipynb . Accessed 01/25/2019"
   ]
  }
 ],
 "metadata": {
  "kernelspec": {
   "display_name": "Python 3",
   "language": "python",
   "name": "python3"
  },
  "language_info": {
   "codemirror_mode": {
    "name": "ipython",
    "version": 3
   },
   "file_extension": ".py",
   "mimetype": "text/x-python",
   "name": "python",
   "nbconvert_exporter": "python",
   "pygments_lexer": "ipython3",
   "version": "3.6.0"
  }
 },
 "nbformat": 4,
 "nbformat_minor": 2
}
