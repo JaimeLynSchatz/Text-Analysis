{
 "cells": [
  {
   "cell_type": "markdown",
   "metadata": {},
   "source": [
    "# Stacked Area Graph Plain Text\n",
    "This notebook takes you through making a stacked area graph of plain text data. You can do multiple files or a single file. A stacked area graph shows where terms appear in linear context of a dataset. For single documents, the document is broken up into chunks of words and the stacked area graph shows how often your words of interest appear in each chunk. For multiple files the files are the chunks. A stacked area graph helps to investigate how words are used across a dataset and compare multiple words and their use in the data."
   ]
  },
  {
   "cell_type": "markdown",
   "metadata": {},
   "source": [
    "###  Before we begin\n",
    "Before we start, you will need to have set up a [Carbonate account](https://kb.iu.edu/d/aolp) in order to access [Research Desktop (ReD)](https://kb.iu.edu/d/apum). You will also need to have access to ReD through the [thinlinc client](https://kb.iu.edu/d/aput). If you have not done any of this, or have only done some of this, but not all, you should go to our [textPrep-Py.ipynb](https://github.com/cyberdh/Text-Analysis/blob/master/textPrep-Py.ipynb) before you proceed further. The textPrep-Py notebook provides information and resources on how to get a Carbonate account, how to set up ReD, and how to get started using the Jupyter Notebook on ReD.    "
   ]
  },
  {
   "cell_type": "markdown",
   "metadata": {},
   "source": [
    "### Run CyberDH environment\n",
    "The code in the cell below points to a Python environment specificaly for use with the Python Jupyter Notebooks created by Cyberinfrastructure for Digital Humanities. It allows for the use of the different pakcages in our notebooks and their subsequent data sets.\n",
    "\n",
    "##### Packages\n",
    "- **sys:** Provides access to some variables used or maintained by the interpreter and to functions that interact strongly with the interpreter. It is always available.\n",
    "- **os:** Provides a portable way of using operating system dependent functionality.\n",
    "\n",
    "#### NOTE: This cell is only for use with Research Desktop. You will get an error if you try to run this cell on your personal device!!"
   ]
  },
  {
   "cell_type": "code",
   "execution_count": 1,
   "metadata": {
    "collapsed": true
   },
   "outputs": [],
   "source": [
    "import sys\n",
    "import os\n",
    "sys.path.insert(0,\"/N/u/cyberdh/Carbonate/dhPyEnviron/lib/python3.6/site-packages\")\n",
    "os.environ[\"NLTK_DATA\"] = \"/N/u/cyberdh/Carbonate/dhPyEnviron/nltk_data\""
   ]
  },
  {
   "cell_type": "markdown",
   "metadata": {},
   "source": [
    "### Include necessary packages for notebook \n",
    "\n",
    "Python's extensibility comes in large part from packages. Packages are groups of functions, data, and algorithms that allow users to easily carry out processes without recreating the wheel. Some packages are included in the basic installation of Python, others created by Python users are available for download. Make sure to have the following packages installed before beginning so that they can be accessed while running the scripts.\n",
    "\n",
    "In your terminal, packages can be installed by simply typing `pip install nameofpackage --user`. However, since you are using ReD and our Python environment, you will not need to install any of the packages below to use this notebook. Anytime you need to make use of a package, however, you need to import it so that Python knows to look in these packages for any functions or commands you use. Below is a brief description of the packages we are using in this notebook:   \n",
    "\n",
    "\n",
    "- **nltk:** A leading platform for building Python programs to work with human language data.\n",
    "- **string:** Contains a number of functions to process standard Python strings.\n",
    "- **math:** Provides access to the mathematical functions defined by the C standard.\n",
    "- **numpy:** The fundamental package for scientific computing with Python.\n",
    "- **matplotlib:** A Python 2D plotting library which produces publication quality figures in a variety of hardcopy formats and interactive environments across platforms.\n",
    "- **os:** Provides a portable way of using operating system dependent functionality.\n",
    "- **pandas:** An open source, BSD-licensed library providing high-performance, easy-to-use data structures and data analysis tools for the Python programming language.\n",
    "- **scipy:** Open-source software for mathematics, science, and engineering. The SciPy library depends on NumPy, which provides convenient and fast N-dimensional array manipulation.\n",
    "- **ggplot:** a Python implementation of the grammar of graphics."
   ]
  },
  {
   "cell_type": "code",
   "execution_count": 2,
   "metadata": {
    "collapsed": false
   },
   "outputs": [],
   "source": [
    "from nltk.corpus import PlaintextCorpusReader\n",
    "from nltk.corpus import stopwords\n",
    "import string\n",
    "import math\n",
    "import numpy as np\n",
    "import matplotlib.pyplot as plt\n",
    "from os.path import join, isfile, splitext\n",
    "import pandas as pd\n",
    "from scipy.stats import rankdata\n",
    "import plotly as py\n",
    "import plotly.express as px\n",
    "#from ggplot import *"
   ]
  },
  {
   "cell_type": "markdown",
   "metadata": {},
   "source": [
    "#### File paths\n",
    "Here we are saving as variables different file paths that we need in our code. \n",
    "\n",
    "First we us the `os` package above to find our 'HOME' directory using the `environ` function. This will work for any operating system, so if you decide to try this out on your personal computer instead of ReD, the `homePath` variable will still be the path to your 'home' directory, so no changes are needed.\n",
    "\n",
    "Next, we combine the `homePath` file path with the folder names that lead to where our data is stored. Note that we do not use any file names yet, just the path to the folder. This is because we may want to read in all the files in the directory, or just one. There are options below for doing both. We save the path as a variable named `dataHome`.\n",
    "\n",
    "Now we add the `homePath` file path to other folder names that lead to a folder where we will want to save any output generated by this code. We again will change the file names in the appropriate cells down below. We save this file path as the variable `dataResults`.\n",
    "\n",
    "Lastly, we use the file path from `dataHome` to point to the directory where our data is stored and save that as `dataResults`."
   ]
  },
  {
   "cell_type": "code",
   "execution_count": 3,
   "metadata": {
    "collapsed": true
   },
   "outputs": [],
   "source": [
    "homePath = os.environ['HOME']\n",
    "dataHome = os.path.join(homePath, 'Text-Analysis-master', 'data', 'shakespeareDated')\n",
    "dataResults = os.path.join(homePath, 'Text-Analysis-master', 'Output')"
   ]
  },
  {
   "cell_type": "markdown",
   "metadata": {},
   "source": [
    "### Set needed variables\n",
    "This is where you will make some decisions about your data and set the necessary variables. We again do this so you will not need to make as many changes to the code later.\n",
    "\n",
    "Your data needs to be in a '.txt' file format to work with this notebook. If it is then you need to specify if you want to read in a single document or an entire directory. If you want to read in a single document, then set `singleDoc` equal to **True**. If you want to read in an entire directory of documents then set `singleDoc` equal to **False**.\n",
    "\n",
    "The `nltkStop` is where you determine if you want to use the built in stopword list provided by the NLTK package. They provide stopword lists in multiple languages. If you wish to use this then set `nltkStop` equal to **True**. If you do not, then set `nltkStop` equal to **False**. For stacked area graphs removing stopwords is not necessary as you are searching for specific words in your dataset. However, if your data is a single document, then we will be breaking the data into chunks based on word counts. Leaving in stopwords or removing them can alter the number of chunks and which chunks your words of interest appear in, so make this choice based on what works best for your data.\n",
    "\n",
    "The `customStop` variable is for if you have a dataset that contains additional stopwords that you would like to read in and have added to the existing `stopWords` list. You do **NOT** need to use the NLTK stopwords list in order to add your own custom list of stopwords. **NOTE: Your custom stopwords file needs to have one word per line as it reads in a line at a time and the full contents of the line is read in and added to the existing stopwords list.** If you have a list of your own then set `customStop` equal to **True**. If you do not have your own custom stopwords list then set `customStop` equal to **False**. The same thing applies here as to the `nltkStop` variable regarding stacked area graphs and stopwords in a single document. \n",
    "\n",
    "The `stopLang` variable is to choose the language of the nltk stopword list you wish to use. It is currently set to `'english'`. If you need a different language, simply change `'english'` to the anglicized name of the language you wish to use (e.g. 'spanish' instead of 'espanol' or 'german' instead of 'deutsch').\n",
    "\n",
    "The `stopWords = []` is an empty list that will contain the final list of stop words to be removed form your dataset. What ends up in the list depends on whether you set `nltkStop` and/or `customStop` equal to **True** or **False** and if you add any additional words to the list.\n",
    "\n",
    "The `interestedWords` variable is where you insert your words of interest. Make sure to put each word in quotes and separate them with a comma. Remember, you will see how often each word occurs in each chunk simultaneously, so too many words may make the graph hard to read.\n",
    "\n",
    "The `freqDict` variable is an empty dictionary which will be filled with words and their frequencies further down in the code."
   ]
  },
  {
   "cell_type": "code",
   "execution_count": 4,
   "metadata": {
    "collapsed": true
   },
   "outputs": [],
   "source": [
    "singleDoc = False\n",
    "nltkStop = True\n",
    "customStop = True\n",
    "stopLang = 'english'\n",
    "stopWords = []\n",
    "interestedWords = [\"night\", \"love\", \"death\"]\n",
    "freqDict = {}"
   ]
  },
  {
   "cell_type": "markdown",
   "metadata": {},
   "source": [
    "### Stopwords\n",
    "If you set `nltkStop` equal to **True** above then this will add the nltk stopwords list to the empty list named `stopWords`. You should already have chosen your language above, so there is no need to do that here.\n",
    "\n",
    "If you wish to add additional words to the `stopWords` list, add the word in quotes to the list in `stopWords.extend(['the', 'words', 'you', 'want', 'to', 'add'])`."
   ]
  },
  {
   "cell_type": "code",
   "execution_count": 5,
   "metadata": {
    "collapsed": true
   },
   "outputs": [],
   "source": [
    "# NLTK Stop words\n",
    "if nltkStop is True:\n",
    "    stopWords.extend(stopwords.words(stopLang))\n",
    "\n",
    "    stopWords.extend(['would', 'said', 'says', 'also', 'good', 'lord', 'come'])"
   ]
  },
  {
   "cell_type": "markdown",
   "metadata": {},
   "source": [
    "#### Add own stopword list\n",
    "\n",
    "Here is where your own stopwords list is added if you selected **True** in `customStop` above. Here you will need to change the folder names and file name to match your folders and file. Remember to put each folder name in quotes and in the correct path order, always putting the file name including the file extension ('.txt') last."
   ]
  },
  {
   "cell_type": "code",
   "execution_count": 6,
   "metadata": {
    "collapsed": true
   },
   "outputs": [],
   "source": [
    "if customStop is True:\n",
    "    stopWordsFilepath = os.path.join(homePath, \"Text-Analysis-master\", \"data\", \"earlyModernStopword.txt\")\n",
    "\n",
    "    with open(stopWordsFilepath, \"r\",encoding = 'utf-8') as stopfile:\n",
    "        stopWordsCustom = [x.strip() for x in stopfile.readlines()]\n",
    "\n",
    "    stopWords.extend(stopWordsCustom)"
   ]
  },
  {
   "cell_type": "markdown",
   "metadata": {},
   "source": [
    "### Functions\n",
    "We need to create a few functions in order to calculate and create a stacked area graph. Any time you see `def` that means we are *DE*claring a *F*unction. The `def` is usually followed by the name of the function being created and then in parentheses are the parameters the function requires. After the parentheses is a colon, which closes the declaration, then a bunch of code below which is indented. The indented code is the program statement or statements to be executed. Once you have created your function all you need to do in order to run it is call the function by name and make sure you have included all the required parameters in the parentheses. This allows you to do what the function does without having to write out all the code in the function every time you wish to perform that task."
   ]
  },
  {
   "cell_type": "markdown",
   "metadata": {},
   "source": [
    "#### Text Cleaning\n",
    "\n",
    "These functions do some text cleaning for us and require the parameters: `token` for the `allPuncChar` function and `words` for the `clean` function."
   ]
  },
  {
   "cell_type": "markdown",
   "metadata": {},
   "source": [
    "This function removes punctuation and is used as part of the `clean` function immediately preceding this cell of code. This function looks at each word and compares it to a list of punctuation. If the word is not in the list, then it returns as **False**. Then the function returns all tokens that were labeled as **True**, which should be only punctuation."
   ]
  },
  {
   "cell_type": "code",
   "execution_count": 7,
   "metadata": {
    "collapsed": true
   },
   "outputs": [],
   "source": [
    "def allPuncChar(token):\n",
    "    \n",
    "    for c in token:\n",
    "        \n",
    "        if c not in string.punctuation:\n",
    "            return False\n",
    "        \n",
    "    return True"
   ]
  },
  {
   "cell_type": "markdown",
   "metadata": {},
   "source": [
    "Now we come to the text cleaning function, `clean`. First the function lowercases the text or else 'Love' and 'love' will be counted as two different words, so we make them all 'love'. We assign this list of lowercased words to the variable `words`.\n",
    "\n",
    "Then we remove stopwords by reassigning a list that contains words that are not in the `stopWords` variable from before to our `words` variable. \n",
    "\n",
    "Next we remove punctuation using the `allPuncChar` function from above. This will compare our current `words` variable to the list of punctuation we created in the `allPuncChar` function and put those words which are not in the `allPuncChar` list into another list and reassign that list to the variable ` words`.\n",
    "\n",
    "Lastly, we remove numbers using the `isnumeric` function from the most recent `words` variable. If a word in our `words` variable is not numeric, then we add it to a new list and reassign that list to the variable `words`."
   ]
  },
  {
   "cell_type": "code",
   "execution_count": 8,
   "metadata": {
    "collapsed": true
   },
   "outputs": [],
   "source": [
    "def clean(words):\n",
    "    ################\n",
    "    # cleanup\n",
    "    ################\n",
    "\n",
    "    # to lower case\n",
    "    words = [w.lower() for w in words]\n",
    "\n",
    "    # step 2: built in list\n",
    "    builtinList = set(stopWords) # convert from list to set for fast lookup\n",
    "    words = [w for w in words if w not in builtinList]\n",
    "\n",
    "    # remove punctuations\n",
    "    words = [w for w in words if not allPuncChar(w)]\n",
    "\n",
    "\n",
    "    # remove numbers\n",
    "    words = [w for w in words if not w.isnumeric()]\n",
    "    \n",
    "    return words\n",
    "    "
   ]
  },
  {
   "cell_type": "markdown",
   "metadata": {},
   "source": [
    "### Read in the corpus\n",
    "\n",
    "Here we read in the corpus we are going to use. \n",
    "\n",
    "First we have two variables where you will make changes. Both of these variables are only necessary if you set `singleDoc` equal to **True** above. The first variable is `textFile` and is the name of the single file you wish to use to create your stacked area graph. The second variable is `chunkSize` and is where you will determine how many words you wish to chunk your document into. This number will depend on your data and how many words it contains in all. \n",
    "\n",
    "Next, we have an 'if...else' statement. This will run different code based on whether you set `singleDoc` equal to **True** or **False**. If you set it to **True** then it will read in a single document, apply the `clean` function from above and then break the clean text into the number of chunks specified in the `chunkSize` variable. If you set `singleDoc` equal to **False** then we read in an entire directory of files and apply the `clean` function to them and append the newly cleaned corpus to the list assigned to the variable `words`.\n",
    "\n",
    "The only changes that need to be made are the two variables at the top of the cell."
   ]
  },
  {
   "cell_type": "code",
   "execution_count": 9,
   "metadata": {
    "collapsed": false
   },
   "outputs": [],
   "source": [
    "textFile = '1606AnthonyAndCleopatra.txt'\n",
    "chunkSize = 250\n",
    "\n",
    "if singleDoc is True:\n",
    "\n",
    "    doc = PlaintextCorpusReader(dataHome, textFile)\n",
    "\n",
    "    # get tokens\n",
    "    text = doc.words()\n",
    "\n",
    "    text = clean(text)\n",
    "    # chunking\n",
    "\n",
    "    numberChunks = int(math.ceil(len(text) / chunkSize))\n",
    "\n",
    "    words = []\n",
    "\n",
    "    for i in range(numberChunks - 1):\n",
    "\n",
    "        words.append(text[i * chunkSize : (i + 1) * chunkSize])\n",
    "\n",
    "    words.append(text[(i + 1) * chunkSize : ])\n",
    "else:\n",
    "    # loop over text files\n",
    "    filenames = [f for f in os.listdir(dataHome) if isfile(os.path.join(dataHome, f))]\n",
    "\n",
    "    filenames = sorted(filenames, key = lambda x: str(splitext(x)[0]))\n",
    "\n",
    "    words = []\n",
    "\n",
    "    for filename in filenames:\n",
    "\n",
    "        doc = PlaintextCorpusReader(dataHome, filename, encoding = 'ISO-8859-1')\n",
    "\n",
    "        # get tokens\n",
    "        text = doc.words()\n",
    "\n",
    "        text = clean(text)\n",
    "\n",
    "        words.append(text)"
   ]
  },
  {
   "cell_type": "markdown",
   "metadata": {},
   "source": [
    "### Count words\n",
    "\n",
    "Here is where we count how often each word from our `interestedWords` variable occur in each chunk. Remember, if `singleDoc` is **True** the chunks will be based on your choice of how many words are in a chunk, and if it is **False** the chunks are the documents."
   ]
  },
  {
   "cell_type": "code",
   "execution_count": 10,
   "metadata": {
    "collapsed": false
   },
   "outputs": [],
   "source": [
    "# calculate frequency\n",
    "for w in interestedWords:\n",
    "    \n",
    "    freqDict[w] = np.zeros(len(words)).tolist()\n",
    "    \n",
    "for idx, word in enumerate(words):\n",
    "    \n",
    "    for token in word:\n",
    "        \n",
    "        if token in freqDict:\n",
    "            freqDict[token][idx] += 1"
   ]
  },
  {
   "cell_type": "markdown",
   "metadata": {},
   "source": [
    "### Create DataFrame\n",
    "\n",
    "You will most likely not need to make any changes here. This function is creating a special data frame (kind of like an excel table) for `plotly` to be able to read it in a way that it creates a stacked area graph from the data."
   ]
  },
  {
   "cell_type": "code",
   "execution_count": 11,
   "metadata": {
    "collapsed": true
   },
   "outputs": [],
   "source": [
    "def composeDataframe(freqDict, debug = False):\n",
    "\n",
    "    if debug:\n",
    "        df = pd.DataFrame(data = freqDict)\n",
    "        print(df)\n",
    "        print('\\n' * 3)\n",
    "\n",
    "\n",
    "    wordCol = []\n",
    "    freqCol = []\n",
    "    seqNum = []\n",
    "    \n",
    "    for word in freqDict:\n",
    "        wordCol.extend([word] * len(freqDict[word]))\n",
    "        freqCol.extend(freqDict[word])\n",
    "        seqNum.extend(list(range(1, len(freqDict[word]) + 1)))\n",
    "\n",
    "    dataDict = {\"Term\" : wordCol, \"Freq\" : freqCol, 'SeqNum' : seqNum}\n",
    "\n",
    "    df = pd.DataFrame(data = dataDict)\n",
    "\n",
    "    if debug:\n",
    "        print(df)\n",
    "        print('\\n' * 3)\n",
    "\n",
    "    rankdf = df.groupby([\"Term\"], as_index = False).agg({\"Freq\" : \"std\"}).rename(columns = {\"Freq\" : \"Std\"})\n",
    "\n",
    "    if debug:\n",
    "        print(df)\n",
    "        print('\\n' * 3)\n",
    "\n",
    "    rankdf[\"StdRank\"] = rankdata(rankdf[\"Std\"], method = 'ordinal')\n",
    "\n",
    "    if debug:\n",
    "        print(rankdf)\n",
    "        print('\\n' * 3)\n",
    "\n",
    "    for idx, row in rankdf.iterrows():\n",
    "\n",
    "        if row[\"StdRank\"] % 2 == 0:\n",
    "            rankdf.at[idx, \"StdRank\"] = -row[\"StdRank\"]\n",
    "\n",
    "\n",
    "    if debug:\n",
    "        print(rankdf)\n",
    "        print('\\n' * 3)\n",
    "\n",
    "    df = df.merge(rankdf, on = 'Term')\n",
    "\n",
    "    if debug:\n",
    "        print(df)\n",
    "        print('\\n' * 3)\n",
    "\n",
    "    df = df.sort_values(by = ['SeqNum', 'StdRank'])\n",
    "\n",
    "    if debug:\n",
    "        print(df)\n",
    "        print('\\n' * 3)\n",
    "\n",
    "    def f(x):\n",
    "\n",
    "        x[\"cumsum\"] = x[\"Freq\"].cumsum()\n",
    "        x[\"ymax\"] = x[\"Freq\"].cumsum() - x[\"Freq\"].sum() / 2\n",
    "        x[\"ymin\"] = x[\"ymax\"] - x[\"Freq\"]\n",
    "\n",
    "        return x\n",
    "\n",
    "\n",
    "    df = df.groupby([\"SeqNum\"], as_index = False).apply(f)\n",
    "\n",
    "    if debug:\n",
    "        print(df)\n",
    "        print('\\n' * 3)\n",
    "        \n",
    "    return df\n"
   ]
  },
  {
   "cell_type": "markdown",
   "metadata": {},
   "source": [
    "Now we apply the emulator data frame function from above to our corpus so we can plot the streamgraph in our next block of code. \n",
    "\n",
    "We have another 'if...else' statement here to differentiate between a single document and a collection of documents. If you set `singleDoc` equal to **True** above then we apply the `composeDataFrame` function to our word frequencies and that is all. If you set `singleDoc` equal to **False** then after we apply the `composeDataFrame` function we add an additional column to the dataframe that contains the filenames. We then get the unique names form this new column and convert them to their own dataframe. This is so we can determine the counts for each file when we produce our streamgraph."
   ]
  },
  {
   "cell_type": "code",
   "execution_count": 12,
   "metadata": {
    "collapsed": false
   },
   "outputs": [
    {
     "name": "stdout",
     "output_type": "stream",
     "text": [
      "      Term   Freq  SeqNum        Std  StdRank  cumsum  ymax  ymin  \\\n",
      "72   death    7.0       1  17.624298       -2     7.0 -91.0 -98.0   \n",
      "0    night   13.0       1  14.041520        1    20.0 -78.0 -91.0   \n",
      "36    love  176.0       1  39.006308        3   196.0  98.0 -78.0   \n",
      "73   death    6.0       2  17.624298       -2     6.0 -33.0 -39.0   \n",
      "1    night    8.0       2  14.041520        1    14.0 -25.0 -33.0   \n",
      "37    love   64.0       2  39.006308        3    78.0  39.0 -25.0   \n",
      "74   death   46.0       3  17.624298       -2    46.0   5.0 -41.0   \n",
      "2    night    9.0       3  14.041520        1    55.0  14.0   5.0   \n",
      "38    love   27.0       3  39.006308        3    82.0  41.0  14.0   \n",
      "75   death   57.0       4  17.624298       -2    57.0  11.0 -46.0   \n",
      "3    night   17.0       4  14.041520        1    74.0  28.0  11.0   \n",
      "39    love   18.0       4  39.006308        3    92.0  46.0  28.0   \n",
      "76   death   41.0       5  17.624298       -2    41.0  -7.5 -48.5   \n",
      "4    night   13.0       5  14.041520        1    54.0   5.5  -7.5   \n",
      "40    love   43.0       5  39.006308        3    97.0  48.5   5.5   \n",
      "77   death   26.0       6  17.624298       -2    26.0  -2.5 -28.5   \n",
      "5    night    8.0       6  14.041520        1    34.0   5.5  -2.5   \n",
      "41    love   23.0       6  39.006308        3    57.0  28.5   5.5   \n",
      "78   death   68.0       7  17.624298       -2    68.0 -10.0 -78.0   \n",
      "6    night   21.0       7  14.041520        1    89.0  11.0 -10.0   \n",
      "42    love   67.0       7  39.006308        3   156.0  78.0  11.0   \n",
      "79   death    9.0       8  17.624298       -2     9.0  -8.0 -17.0   \n",
      "7    night    5.0       8  14.041520        1    14.0  -3.0  -8.0   \n",
      "43    love   20.0       8  39.006308        3    34.0  17.0  -3.0   \n",
      "80   death    8.0       9  17.624298       -2     8.0 -54.5 -62.5   \n",
      "8    night    8.0       9  14.041520        1    16.0 -46.5 -54.5   \n",
      "44    love  109.0       9  39.006308        3   125.0  62.5 -46.5   \n",
      "81   death   42.0      10  17.624298       -2    42.0  -1.0 -43.0   \n",
      "9    night    9.0      10  14.041520        1    51.0   8.0  -1.0   \n",
      "45    love   35.0      10  39.006308        3    86.0  43.0   8.0   \n",
      "..     ...    ...     ...        ...      ...     ...   ...   ...   \n",
      "98   death   18.0      27  17.624298       -2    18.0 -29.0 -47.0   \n",
      "26   night   10.0      27  14.041520        1    28.0 -19.0 -29.0   \n",
      "62    love   66.0      27  39.006308        3    94.0  47.0 -19.0   \n",
      "99   death   22.0      28  17.624298       -2    22.0 -33.0 -55.0   \n",
      "27   night   32.0      28  14.041520        1    54.0  -1.0 -33.0   \n",
      "63    love   56.0      28  39.006308        3   110.0  55.0  -1.0   \n",
      "100  death    8.0      29  17.624298       -2     8.0 -15.0 -23.0   \n",
      "28   night    4.0      29  14.041520        1    12.0 -11.0 -15.0   \n",
      "64    love   34.0      29  39.006308        3    46.0  23.0 -11.0   \n",
      "101  death   34.0      30  17.624298       -2    34.0  -8.5 -42.5   \n",
      "29   night   12.0      30  14.041520        1    46.0   3.5  -8.5   \n",
      "65    love   39.0      30  39.006308        3    85.0  42.5   3.5   \n",
      "102  death   21.0      31  17.624298       -2    21.0 -13.0 -34.0   \n",
      "30   night   28.0      31  14.041520        1    49.0  15.0 -13.0   \n",
      "66    love   19.0      31  39.006308        3    68.0  34.0  15.0   \n",
      "103  death   21.0      32  17.624298       -2    21.0  -6.0 -27.0   \n",
      "31   night    4.0      32  14.041520        1    25.0  -2.0  -6.0   \n",
      "67    love   29.0      32  39.006308        3    54.0  27.0  -2.0   \n",
      "104  death   23.0      33  17.624298       -2    23.0  -4.5 -27.5   \n",
      "32   night    5.0      33  14.041520        1    28.0   0.5  -4.5   \n",
      "68    love   27.0      33  39.006308        3    55.0  27.5   0.5   \n",
      "105  death   27.0      34  17.624298       -2    27.0  -9.0 -36.0   \n",
      "33   night   14.0      34  14.041520        1    41.0   5.0  -9.0   \n",
      "69    love   31.0      34  39.006308        3    72.0  36.0   5.0   \n",
      "106  death    6.0      35  17.624298       -2     6.0  -6.0 -12.0   \n",
      "34   night    6.0      35  14.041520        1    12.0   0.0  -6.0   \n",
      "70    love   12.0      35  39.006308        3    24.0  12.0   0.0   \n",
      "107  death   10.0      36  17.624298       -2    10.0 -12.0 -22.0   \n",
      "35   night    9.0      36  14.041520        1    19.0  -3.0 -12.0   \n",
      "71    love   25.0      36  39.006308        3    44.0  22.0  -3.0   \n",
      "\n",
      "                         SeqLabel  \n",
      "72   1589TwoGentlemenOfVerona.txt  \n",
      "0    1589TwoGentlemenOfVerona.txt  \n",
      "36   1589TwoGentlemenOfVerona.txt  \n",
      "73       1590TamingOfTheShrew.txt  \n",
      "1        1590TamingOfTheShrew.txt  \n",
      "37       1590TamingOfTheShrew.txt  \n",
      "74           1591KingHenry6_1.txt  \n",
      "2            1591KingHenry6_1.txt  \n",
      "38           1591KingHenry6_1.txt  \n",
      "75           1591KingHenry6_2.txt  \n",
      "3            1591KingHenry6_2.txt  \n",
      "39           1591KingHenry6_2.txt  \n",
      "76           1591KingHenry6_3.txt  \n",
      "4            1591KingHenry6_3.txt  \n",
      "40           1591KingHenry6_3.txt  \n",
      "77        1591TitusAndronicus.txt  \n",
      "5         1591TitusAndronicus.txt  \n",
      "41        1591TitusAndronicus.txt  \n",
      "78           1592KingRichard3.txt  \n",
      "6            1592KingRichard3.txt  \n",
      "42           1592KingRichard3.txt  \n",
      "79         1594ComedyOfErrors.txt  \n",
      "7          1594ComedyOfErrors.txt  \n",
      "43         1594ComedyOfErrors.txt  \n",
      "80       1594LovesLaboursLost.txt  \n",
      "8        1594LovesLaboursLost.txt  \n",
      "44       1594LovesLaboursLost.txt  \n",
      "81           1595KingRichard2.txt  \n",
      "9            1595KingRichard2.txt  \n",
      "45           1595KingRichard2.txt  \n",
      "..                            ...  \n",
      "98   1604AllsWellThatEndsWell.txt  \n",
      "26   1604AllsWellThatEndsWell.txt  \n",
      "62   1604AllsWellThatEndsWell.txt  \n",
      "99               1605KingLear.txt  \n",
      "27               1605KingLear.txt  \n",
      "63               1605KingLear.txt  \n",
      "100         1605TimonOfAthens.txt  \n",
      "28          1605TimonOfAthens.txt  \n",
      "64          1605TimonOfAthens.txt  \n",
      "101   1606AnthonyAndCleopatra.txt  \n",
      "29    1606AnthonyAndCleopatra.txt  \n",
      "65    1606AnthonyAndCleopatra.txt  \n",
      "102               1606Macbeth.txt  \n",
      "30                1606Macbeth.txt  \n",
      "66                1606Macbeth.txt  \n",
      "103            1608Coriolanus.txt  \n",
      "31             1608Coriolanus.txt  \n",
      "67             1608Coriolanus.txt  \n",
      "104           1609WintersTale.txt  \n",
      "32            1609WintersTale.txt  \n",
      "68            1609WintersTale.txt  \n",
      "105             1610Cymbeline.txt  \n",
      "33              1610Cymbeline.txt  \n",
      "69              1610Cymbeline.txt  \n",
      "106               1610Tempest.txt  \n",
      "34                1610Tempest.txt  \n",
      "70                1610Tempest.txt  \n",
      "107            1612KingHenry8.txt  \n",
      "35             1612KingHenry8.txt  \n",
      "71             1612KingHenry8.txt  \n",
      "\n",
      "[108 rows x 9 columns]\n"
     ]
    }
   ],
   "source": [
    "if singleDoc is True:\n",
    "    df = composeDataframe(freqDict)\n",
    "else:\n",
    "    df = composeDataframe(freqDict)\n",
    "\n",
    "    seqLabel = []\n",
    "    seqNum = df[\"SeqNum\"]\n",
    "\n",
    "    for i in seqNum:\n",
    "        seqLabel.append(filenames[i-1])\n",
    "\n",
    "    df[\"SeqLabel\"] = seqLabel\n",
    "    \n",
    "    dfU = df[\"SeqLabel\"].unique()\n",
    "    dfU = pd.DataFrame(dfU)\n",
    "    dfU.index += 1\n",
    "    print(df)"
   ]
  },
  {
   "cell_type": "markdown",
   "metadata": {},
   "source": [
    "### Plot the Streamgraph\n",
    "\n",
    "For the code below, you will only need to make changes to the `# Variables` section. We have these variables here so  you do not need to go searching through the code to find where to make these changes. In addition, some of these elements are used more than once, so by assigning them to a variable you only need to make the change once and it will be implemented in all the places the element is used. \n",
    "\n",
    "First we name the output file and assign that name to the variable `outputFile`. It is currently saved as a '.html' file. \n",
    "\n",
    "Next we choose the color palette for our stacked area graph and assign it to the variable `colorScheme`. You may want to change the palette color to something else besides `'Set1'`. To change the color scheme you only need to change the last part of `px.colors.qualitative.Set1`. So you can change where it says `Set1` to another color scheme. Some other color options can be found [here](https://plot.ly/python/v3/ipython-notebooks/color-scales/). \n",
    "\n",
    "Next you will want to change label of your x axis and y axis as well as the main title to match your data. To change the x axis and y axis label change the content of the `xlabel` and `ylabel` varibales respectively. To change the main title change the content of the `mainTitle` variable.\n",
    "\n",
    "The `yRange` variable is already set to automatically measure the highest frequency and multiply it by the number of words in your `interestedWords` list. This should guarantee that the y axis limit is never too short. However, if you feel it is too long, feel free to adjust the max limit to something else. Replace `max(df[\"Freq\"]*len(interestedWords))` with whatever the number is you want to be the highest limit on the y axis.\n",
    "\n",
    "To change the angle of the x tick labels adjust the number assigned to the variable `angle` to a number in degrees representing the angle you want the labels to be at.\n",
    "\n",
    "At the end we have an \"if else\" statement. If you set `singleDoc` equal to **True** above then the x tick labels will be the number of chunks the document was broken into. This will depend on the number of words in a chunk. If you set `singleDoc` equal to **False** above, the the x tick labels will be the names of the documents that make up your dataset.\n",
    "\n",
    "You should not need to make any adjustments after `# Plot`. Once you've made your changes, you're ready to plot your graph! A tab in your web browser should open automatically to show you the results of your interactive html file."
   ]
  },
  {
   "cell_type": "code",
   "execution_count": 14,
   "metadata": {
    "collapsed": false,
    "scrolled": true
   },
   "outputs": [
    {
     "data": {
      "application/vnd.plotly.v1+json": {
       "config": {
        "plotlyServerURL": "https://plot.ly"
       },
       "data": [
        {
         "hoverlabel": {
          "namelength": 0
         },
         "hovertemplate": "=night<br>Documents=%{x}<br>Frequency=%{y}",
         "legendgroup": "=night",
         "line": {
          "color": "rgb(228,26,28)"
         },
         "mode": "lines",
         "name": "=night",
         "orientation": "v",
         "showlegend": true,
         "stackgroup": "1",
         "type": "scatter",
         "x": [
          "1589TwoGentlemenOfVerona.txt",
          "1590TamingOfTheShrew.txt",
          "1591KingHenry6_1.txt",
          "1591KingHenry6_2.txt",
          "1591KingHenry6_3.txt",
          "1591TitusAndronicus.txt",
          "1592KingRichard3.txt",
          "1594ComedyOfErrors.txt",
          "1594LovesLaboursLost.txt",
          "1595KingRichard2.txt",
          "1595MidsummerNightsDream.txt",
          "1595RomeoAndJuliet.txt",
          "1596KingHenry4_1.txt",
          "1596KingJohn.txt",
          "1596MerchantOfVenice.txt",
          "1597KingHenry4_2.txt",
          "1597MerryWivesOfWindsor.txt",
          "1598MuchAdoAboutNothing.txt",
          "1599AsYouLikeIt.txt",
          "1599Hamlet.txt",
          "1599JuliusCaesar.txt",
          "1599KingHenry5.txt",
          "1600TroilusAndCressida.txt",
          "1601TwelfthNight.txt",
          "1603MeasureForMeasure.txt",
          "1603Othello.txt",
          "1604AllsWellThatEndsWell.txt",
          "1605KingLear.txt",
          "1605TimonOfAthens.txt",
          "1606AnthonyAndCleopatra.txt",
          "1606Macbeth.txt",
          "1608Coriolanus.txt",
          "1609WintersTale.txt",
          "1610Cymbeline.txt",
          "1610Tempest.txt",
          "1612KingHenry8.txt"
         ],
         "xaxis": "x",
         "y": [
          13,
          8,
          9,
          17,
          13,
          8,
          21,
          5,
          8,
          9,
          50,
          73,
          20,
          15,
          23,
          17,
          11,
          19,
          6,
          37,
          30,
          17,
          24,
          13,
          13,
          30,
          10,
          32,
          4,
          12,
          28,
          4,
          5,
          14,
          6,
          9
         ],
         "yaxis": "y"
        },
        {
         "hoverlabel": {
          "namelength": 0
         },
         "hovertemplate": "=love<br>Documents=%{x}<br>Frequency=%{y}",
         "legendgroup": "=love",
         "line": {
          "color": "rgb(55,126,184)"
         },
         "mode": "lines",
         "name": "=love",
         "orientation": "v",
         "showlegend": true,
         "stackgroup": "1",
         "type": "scatter",
         "x": [
          "1589TwoGentlemenOfVerona.txt",
          "1590TamingOfTheShrew.txt",
          "1591KingHenry6_1.txt",
          "1591KingHenry6_2.txt",
          "1591KingHenry6_3.txt",
          "1591TitusAndronicus.txt",
          "1592KingRichard3.txt",
          "1594ComedyOfErrors.txt",
          "1594LovesLaboursLost.txt",
          "1595KingRichard2.txt",
          "1595MidsummerNightsDream.txt",
          "1595RomeoAndJuliet.txt",
          "1596KingHenry4_1.txt",
          "1596KingJohn.txt",
          "1596MerchantOfVenice.txt",
          "1597KingHenry4_2.txt",
          "1597MerryWivesOfWindsor.txt",
          "1598MuchAdoAboutNothing.txt",
          "1599AsYouLikeIt.txt",
          "1599Hamlet.txt",
          "1599JuliusCaesar.txt",
          "1599KingHenry5.txt",
          "1600TroilusAndCressida.txt",
          "1601TwelfthNight.txt",
          "1603MeasureForMeasure.txt",
          "1603Othello.txt",
          "1604AllsWellThatEndsWell.txt",
          "1605KingLear.txt",
          "1605TimonOfAthens.txt",
          "1606AnthonyAndCleopatra.txt",
          "1606Macbeth.txt",
          "1608Coriolanus.txt",
          "1609WintersTale.txt",
          "1610Cymbeline.txt",
          "1610Tempest.txt",
          "1612KingHenry8.txt"
         ],
         "xaxis": "x",
         "y": [
          176,
          64,
          27,
          18,
          43,
          23,
          67,
          20,
          109,
          35,
          113,
          151,
          29,
          41,
          60,
          21,
          48,
          93,
          122,
          68,
          35,
          44,
          71,
          83,
          29,
          80,
          66,
          56,
          34,
          39,
          19,
          29,
          27,
          31,
          12,
          25
         ],
         "yaxis": "y"
        },
        {
         "hoverlabel": {
          "namelength": 0
         },
         "hovertemplate": "=death<br>Documents=%{x}<br>Frequency=%{y}",
         "legendgroup": "=death",
         "line": {
          "color": "rgb(77,175,74)"
         },
         "mode": "lines",
         "name": "=death",
         "orientation": "v",
         "showlegend": true,
         "stackgroup": "1",
         "type": "scatter",
         "x": [
          "1589TwoGentlemenOfVerona.txt",
          "1590TamingOfTheShrew.txt",
          "1591KingHenry6_1.txt",
          "1591KingHenry6_2.txt",
          "1591KingHenry6_3.txt",
          "1591TitusAndronicus.txt",
          "1592KingRichard3.txt",
          "1594ComedyOfErrors.txt",
          "1594LovesLaboursLost.txt",
          "1595KingRichard2.txt",
          "1595MidsummerNightsDream.txt",
          "1595RomeoAndJuliet.txt",
          "1596KingHenry4_1.txt",
          "1596KingJohn.txt",
          "1596MerchantOfVenice.txt",
          "1597KingHenry4_2.txt",
          "1597MerryWivesOfWindsor.txt",
          "1598MuchAdoAboutNothing.txt",
          "1599AsYouLikeIt.txt",
          "1599Hamlet.txt",
          "1599JuliusCaesar.txt",
          "1599KingHenry5.txt",
          "1600TroilusAndCressida.txt",
          "1601TwelfthNight.txt",
          "1603MeasureForMeasure.txt",
          "1603Othello.txt",
          "1604AllsWellThatEndsWell.txt",
          "1605KingLear.txt",
          "1605TimonOfAthens.txt",
          "1606AnthonyAndCleopatra.txt",
          "1606Macbeth.txt",
          "1608Coriolanus.txt",
          "1609WintersTale.txt",
          "1610Cymbeline.txt",
          "1610Tempest.txt",
          "1612KingHenry8.txt"
         ],
         "xaxis": "x",
         "y": [
          7,
          6,
          46,
          57,
          41,
          26,
          68,
          9,
          8,
          42,
          12,
          74,
          19,
          35,
          11,
          24,
          5,
          17,
          7,
          36,
          30,
          15,
          16,
          9,
          44,
          14,
          18,
          22,
          8,
          34,
          21,
          21,
          23,
          27,
          6,
          10
         ],
         "yaxis": "y"
        }
       ],
       "layout": {
        "legend": {
         "tracegroupgap": 0
        },
        "template": {
         "data": {
          "bar": [
           {
            "error_x": {
             "color": "#2a3f5f"
            },
            "error_y": {
             "color": "#2a3f5f"
            },
            "marker": {
             "line": {
              "color": "#E5ECF6",
              "width": 0.5
             }
            },
            "type": "bar"
           }
          ],
          "barpolar": [
           {
            "marker": {
             "line": {
              "color": "#E5ECF6",
              "width": 0.5
             }
            },
            "type": "barpolar"
           }
          ],
          "carpet": [
           {
            "aaxis": {
             "endlinecolor": "#2a3f5f",
             "gridcolor": "white",
             "linecolor": "white",
             "minorgridcolor": "white",
             "startlinecolor": "#2a3f5f"
            },
            "baxis": {
             "endlinecolor": "#2a3f5f",
             "gridcolor": "white",
             "linecolor": "white",
             "minorgridcolor": "white",
             "startlinecolor": "#2a3f5f"
            },
            "type": "carpet"
           }
          ],
          "choropleth": [
           {
            "colorbar": {
             "outlinewidth": 0,
             "ticks": ""
            },
            "type": "choropleth"
           }
          ],
          "contour": [
           {
            "colorbar": {
             "outlinewidth": 0,
             "ticks": ""
            },
            "colorscale": [
             [
              0,
              "#0d0887"
             ],
             [
              0.1111111111111111,
              "#46039f"
             ],
             [
              0.2222222222222222,
              "#7201a8"
             ],
             [
              0.3333333333333333,
              "#9c179e"
             ],
             [
              0.4444444444444444,
              "#bd3786"
             ],
             [
              0.5555555555555556,
              "#d8576b"
             ],
             [
              0.6666666666666666,
              "#ed7953"
             ],
             [
              0.7777777777777778,
              "#fb9f3a"
             ],
             [
              0.8888888888888888,
              "#fdca26"
             ],
             [
              1,
              "#f0f921"
             ]
            ],
            "type": "contour"
           }
          ],
          "contourcarpet": [
           {
            "colorbar": {
             "outlinewidth": 0,
             "ticks": ""
            },
            "type": "contourcarpet"
           }
          ],
          "heatmap": [
           {
            "colorbar": {
             "outlinewidth": 0,
             "ticks": ""
            },
            "colorscale": [
             [
              0,
              "#0d0887"
             ],
             [
              0.1111111111111111,
              "#46039f"
             ],
             [
              0.2222222222222222,
              "#7201a8"
             ],
             [
              0.3333333333333333,
              "#9c179e"
             ],
             [
              0.4444444444444444,
              "#bd3786"
             ],
             [
              0.5555555555555556,
              "#d8576b"
             ],
             [
              0.6666666666666666,
              "#ed7953"
             ],
             [
              0.7777777777777778,
              "#fb9f3a"
             ],
             [
              0.8888888888888888,
              "#fdca26"
             ],
             [
              1,
              "#f0f921"
             ]
            ],
            "type": "heatmap"
           }
          ],
          "heatmapgl": [
           {
            "colorbar": {
             "outlinewidth": 0,
             "ticks": ""
            },
            "colorscale": [
             [
              0,
              "#0d0887"
             ],
             [
              0.1111111111111111,
              "#46039f"
             ],
             [
              0.2222222222222222,
              "#7201a8"
             ],
             [
              0.3333333333333333,
              "#9c179e"
             ],
             [
              0.4444444444444444,
              "#bd3786"
             ],
             [
              0.5555555555555556,
              "#d8576b"
             ],
             [
              0.6666666666666666,
              "#ed7953"
             ],
             [
              0.7777777777777778,
              "#fb9f3a"
             ],
             [
              0.8888888888888888,
              "#fdca26"
             ],
             [
              1,
              "#f0f921"
             ]
            ],
            "type": "heatmapgl"
           }
          ],
          "histogram": [
           {
            "marker": {
             "colorbar": {
              "outlinewidth": 0,
              "ticks": ""
             }
            },
            "type": "histogram"
           }
          ],
          "histogram2d": [
           {
            "colorbar": {
             "outlinewidth": 0,
             "ticks": ""
            },
            "colorscale": [
             [
              0,
              "#0d0887"
             ],
             [
              0.1111111111111111,
              "#46039f"
             ],
             [
              0.2222222222222222,
              "#7201a8"
             ],
             [
              0.3333333333333333,
              "#9c179e"
             ],
             [
              0.4444444444444444,
              "#bd3786"
             ],
             [
              0.5555555555555556,
              "#d8576b"
             ],
             [
              0.6666666666666666,
              "#ed7953"
             ],
             [
              0.7777777777777778,
              "#fb9f3a"
             ],
             [
              0.8888888888888888,
              "#fdca26"
             ],
             [
              1,
              "#f0f921"
             ]
            ],
            "type": "histogram2d"
           }
          ],
          "histogram2dcontour": [
           {
            "colorbar": {
             "outlinewidth": 0,
             "ticks": ""
            },
            "colorscale": [
             [
              0,
              "#0d0887"
             ],
             [
              0.1111111111111111,
              "#46039f"
             ],
             [
              0.2222222222222222,
              "#7201a8"
             ],
             [
              0.3333333333333333,
              "#9c179e"
             ],
             [
              0.4444444444444444,
              "#bd3786"
             ],
             [
              0.5555555555555556,
              "#d8576b"
             ],
             [
              0.6666666666666666,
              "#ed7953"
             ],
             [
              0.7777777777777778,
              "#fb9f3a"
             ],
             [
              0.8888888888888888,
              "#fdca26"
             ],
             [
              1,
              "#f0f921"
             ]
            ],
            "type": "histogram2dcontour"
           }
          ],
          "mesh3d": [
           {
            "colorbar": {
             "outlinewidth": 0,
             "ticks": ""
            },
            "type": "mesh3d"
           }
          ],
          "parcoords": [
           {
            "line": {
             "colorbar": {
              "outlinewidth": 0,
              "ticks": ""
             }
            },
            "type": "parcoords"
           }
          ],
          "pie": [
           {
            "automargin": true,
            "type": "pie"
           }
          ],
          "scatter": [
           {
            "marker": {
             "colorbar": {
              "outlinewidth": 0,
              "ticks": ""
             }
            },
            "type": "scatter"
           }
          ],
          "scatter3d": [
           {
            "line": {
             "colorbar": {
              "outlinewidth": 0,
              "ticks": ""
             }
            },
            "marker": {
             "colorbar": {
              "outlinewidth": 0,
              "ticks": ""
             }
            },
            "type": "scatter3d"
           }
          ],
          "scattercarpet": [
           {
            "marker": {
             "colorbar": {
              "outlinewidth": 0,
              "ticks": ""
             }
            },
            "type": "scattercarpet"
           }
          ],
          "scattergeo": [
           {
            "marker": {
             "colorbar": {
              "outlinewidth": 0,
              "ticks": ""
             }
            },
            "type": "scattergeo"
           }
          ],
          "scattergl": [
           {
            "marker": {
             "colorbar": {
              "outlinewidth": 0,
              "ticks": ""
             }
            },
            "type": "scattergl"
           }
          ],
          "scattermapbox": [
           {
            "marker": {
             "colorbar": {
              "outlinewidth": 0,
              "ticks": ""
             }
            },
            "type": "scattermapbox"
           }
          ],
          "scatterpolar": [
           {
            "marker": {
             "colorbar": {
              "outlinewidth": 0,
              "ticks": ""
             }
            },
            "type": "scatterpolar"
           }
          ],
          "scatterpolargl": [
           {
            "marker": {
             "colorbar": {
              "outlinewidth": 0,
              "ticks": ""
             }
            },
            "type": "scatterpolargl"
           }
          ],
          "scatterternary": [
           {
            "marker": {
             "colorbar": {
              "outlinewidth": 0,
              "ticks": ""
             }
            },
            "type": "scatterternary"
           }
          ],
          "surface": [
           {
            "colorbar": {
             "outlinewidth": 0,
             "ticks": ""
            },
            "colorscale": [
             [
              0,
              "#0d0887"
             ],
             [
              0.1111111111111111,
              "#46039f"
             ],
             [
              0.2222222222222222,
              "#7201a8"
             ],
             [
              0.3333333333333333,
              "#9c179e"
             ],
             [
              0.4444444444444444,
              "#bd3786"
             ],
             [
              0.5555555555555556,
              "#d8576b"
             ],
             [
              0.6666666666666666,
              "#ed7953"
             ],
             [
              0.7777777777777778,
              "#fb9f3a"
             ],
             [
              0.8888888888888888,
              "#fdca26"
             ],
             [
              1,
              "#f0f921"
             ]
            ],
            "type": "surface"
           }
          ],
          "table": [
           {
            "cells": {
             "fill": {
              "color": "#EBF0F8"
             },
             "line": {
              "color": "white"
             }
            },
            "header": {
             "fill": {
              "color": "#C8D4E3"
             },
             "line": {
              "color": "white"
             }
            },
            "type": "table"
           }
          ]
         },
         "layout": {
          "annotationdefaults": {
           "arrowcolor": "#2a3f5f",
           "arrowhead": 0,
           "arrowwidth": 1
          },
          "coloraxis": {
           "colorbar": {
            "outlinewidth": 0,
            "ticks": ""
           }
          },
          "colorscale": {
           "diverging": [
            [
             0,
             "#8e0152"
            ],
            [
             0.1,
             "#c51b7d"
            ],
            [
             0.2,
             "#de77ae"
            ],
            [
             0.3,
             "#f1b6da"
            ],
            [
             0.4,
             "#fde0ef"
            ],
            [
             0.5,
             "#f7f7f7"
            ],
            [
             0.6,
             "#e6f5d0"
            ],
            [
             0.7,
             "#b8e186"
            ],
            [
             0.8,
             "#7fbc41"
            ],
            [
             0.9,
             "#4d9221"
            ],
            [
             1,
             "#276419"
            ]
           ],
           "sequential": [
            [
             0,
             "#0d0887"
            ],
            [
             0.1111111111111111,
             "#46039f"
            ],
            [
             0.2222222222222222,
             "#7201a8"
            ],
            [
             0.3333333333333333,
             "#9c179e"
            ],
            [
             0.4444444444444444,
             "#bd3786"
            ],
            [
             0.5555555555555556,
             "#d8576b"
            ],
            [
             0.6666666666666666,
             "#ed7953"
            ],
            [
             0.7777777777777778,
             "#fb9f3a"
            ],
            [
             0.8888888888888888,
             "#fdca26"
            ],
            [
             1,
             "#f0f921"
            ]
           ],
           "sequentialminus": [
            [
             0,
             "#0d0887"
            ],
            [
             0.1111111111111111,
             "#46039f"
            ],
            [
             0.2222222222222222,
             "#7201a8"
            ],
            [
             0.3333333333333333,
             "#9c179e"
            ],
            [
             0.4444444444444444,
             "#bd3786"
            ],
            [
             0.5555555555555556,
             "#d8576b"
            ],
            [
             0.6666666666666666,
             "#ed7953"
            ],
            [
             0.7777777777777778,
             "#fb9f3a"
            ],
            [
             0.8888888888888888,
             "#fdca26"
            ],
            [
             1,
             "#f0f921"
            ]
           ]
          },
          "colorway": [
           "#636efa",
           "#EF553B",
           "#00cc96",
           "#ab63fa",
           "#FFA15A",
           "#19d3f3",
           "#FF6692",
           "#B6E880",
           "#FF97FF",
           "#FECB52"
          ],
          "font": {
           "color": "#2a3f5f"
          },
          "geo": {
           "bgcolor": "white",
           "lakecolor": "white",
           "landcolor": "#E5ECF6",
           "showlakes": true,
           "showland": true,
           "subunitcolor": "white"
          },
          "hoverlabel": {
           "align": "left"
          },
          "hovermode": "closest",
          "mapbox": {
           "style": "light"
          },
          "paper_bgcolor": "white",
          "plot_bgcolor": "#E5ECF6",
          "polar": {
           "angularaxis": {
            "gridcolor": "white",
            "linecolor": "white",
            "ticks": ""
           },
           "bgcolor": "#E5ECF6",
           "radialaxis": {
            "gridcolor": "white",
            "linecolor": "white",
            "ticks": ""
           }
          },
          "scene": {
           "xaxis": {
            "backgroundcolor": "#E5ECF6",
            "gridcolor": "white",
            "gridwidth": 2,
            "linecolor": "white",
            "showbackground": true,
            "ticks": "",
            "zerolinecolor": "white"
           },
           "yaxis": {
            "backgroundcolor": "#E5ECF6",
            "gridcolor": "white",
            "gridwidth": 2,
            "linecolor": "white",
            "showbackground": true,
            "ticks": "",
            "zerolinecolor": "white"
           },
           "zaxis": {
            "backgroundcolor": "#E5ECF6",
            "gridcolor": "white",
            "gridwidth": 2,
            "linecolor": "white",
            "showbackground": true,
            "ticks": "",
            "zerolinecolor": "white"
           }
          },
          "shapedefaults": {
           "line": {
            "color": "#2a3f5f"
           }
          },
          "ternary": {
           "aaxis": {
            "gridcolor": "white",
            "linecolor": "white",
            "ticks": ""
           },
           "baxis": {
            "gridcolor": "white",
            "linecolor": "white",
            "ticks": ""
           },
           "bgcolor": "#E5ECF6",
           "caxis": {
            "gridcolor": "white",
            "linecolor": "white",
            "ticks": ""
           }
          },
          "title": {
           "x": 0.05
          },
          "xaxis": {
           "automargin": true,
           "gridcolor": "white",
           "linecolor": "white",
           "ticks": "",
           "title": {
            "standoff": 15
           },
           "zerolinecolor": "white",
           "zerolinewidth": 2
          },
          "yaxis": {
           "automargin": true,
           "gridcolor": "white",
           "linecolor": "white",
           "ticks": "",
           "title": {
            "standoff": 15
           },
           "zerolinecolor": "white",
           "zerolinewidth": 2
          }
         }
        },
        "title": {
         "text": "Comparison of common words in Shakespeare's Plays",
         "x": 0.5,
         "xanchor": "center",
         "y": 0.95,
         "yanchor": "top"
        },
        "xaxis": {
         "anchor": "y",
         "domain": [
          0,
          1
         ],
         "tickangle": 45,
         "title": {
          "text": "Documents"
         }
        },
        "yaxis": {
         "anchor": "x",
         "domain": [
          0,
          1
         ],
         "range": [
          0,
          528
         ],
         "title": {
          "text": "Frequency"
         }
        }
       }
      },
      "text/html": [
       "<div>\n",
       "        \n",
       "        \n",
       "            <div id=\"99c95641-bc2d-4e0e-8034-b5dcf5e48dc3\" class=\"plotly-graph-div\" style=\"height:525px; width:100%;\"></div>\n",
       "            <script type=\"text/javascript\">\n",
       "                require([\"plotly\"], function(Plotly) {\n",
       "                    window.PLOTLYENV=window.PLOTLYENV || {};\n",
       "                    \n",
       "                if (document.getElementById(\"99c95641-bc2d-4e0e-8034-b5dcf5e48dc3\")) {\n",
       "                    Plotly.newPlot(\n",
       "                        '99c95641-bc2d-4e0e-8034-b5dcf5e48dc3',\n",
       "                        [{\"hoverlabel\": {\"namelength\": 0}, \"hovertemplate\": \"=night<br>Documents=%{x}<br>Frequency=%{y}\", \"legendgroup\": \"=night\", \"line\": {\"color\": \"rgb(228,26,28)\"}, \"mode\": \"lines\", \"name\": \"=night\", \"orientation\": \"v\", \"showlegend\": true, \"stackgroup\": \"1\", \"type\": \"scatter\", \"x\": [\"1589TwoGentlemenOfVerona.txt\", \"1590TamingOfTheShrew.txt\", \"1591KingHenry6_1.txt\", \"1591KingHenry6_2.txt\", \"1591KingHenry6_3.txt\", \"1591TitusAndronicus.txt\", \"1592KingRichard3.txt\", \"1594ComedyOfErrors.txt\", \"1594LovesLaboursLost.txt\", \"1595KingRichard2.txt\", \"1595MidsummerNightsDream.txt\", \"1595RomeoAndJuliet.txt\", \"1596KingHenry4_1.txt\", \"1596KingJohn.txt\", \"1596MerchantOfVenice.txt\", \"1597KingHenry4_2.txt\", \"1597MerryWivesOfWindsor.txt\", \"1598MuchAdoAboutNothing.txt\", \"1599AsYouLikeIt.txt\", \"1599Hamlet.txt\", \"1599JuliusCaesar.txt\", \"1599KingHenry5.txt\", \"1600TroilusAndCressida.txt\", \"1601TwelfthNight.txt\", \"1603MeasureForMeasure.txt\", \"1603Othello.txt\", \"1604AllsWellThatEndsWell.txt\", \"1605KingLear.txt\", \"1605TimonOfAthens.txt\", \"1606AnthonyAndCleopatra.txt\", \"1606Macbeth.txt\", \"1608Coriolanus.txt\", \"1609WintersTale.txt\", \"1610Cymbeline.txt\", \"1610Tempest.txt\", \"1612KingHenry8.txt\"], \"xaxis\": \"x\", \"y\": [13.0, 8.0, 9.0, 17.0, 13.0, 8.0, 21.0, 5.0, 8.0, 9.0, 50.0, 73.0, 20.0, 15.0, 23.0, 17.0, 11.0, 19.0, 6.0, 37.0, 30.0, 17.0, 24.0, 13.0, 13.0, 30.0, 10.0, 32.0, 4.0, 12.0, 28.0, 4.0, 5.0, 14.0, 6.0, 9.0], \"yaxis\": \"y\"}, {\"hoverlabel\": {\"namelength\": 0}, \"hovertemplate\": \"=love<br>Documents=%{x}<br>Frequency=%{y}\", \"legendgroup\": \"=love\", \"line\": {\"color\": \"rgb(55,126,184)\"}, \"mode\": \"lines\", \"name\": \"=love\", \"orientation\": \"v\", \"showlegend\": true, \"stackgroup\": \"1\", \"type\": \"scatter\", \"x\": [\"1589TwoGentlemenOfVerona.txt\", \"1590TamingOfTheShrew.txt\", \"1591KingHenry6_1.txt\", \"1591KingHenry6_2.txt\", \"1591KingHenry6_3.txt\", \"1591TitusAndronicus.txt\", \"1592KingRichard3.txt\", \"1594ComedyOfErrors.txt\", \"1594LovesLaboursLost.txt\", \"1595KingRichard2.txt\", \"1595MidsummerNightsDream.txt\", \"1595RomeoAndJuliet.txt\", \"1596KingHenry4_1.txt\", \"1596KingJohn.txt\", \"1596MerchantOfVenice.txt\", \"1597KingHenry4_2.txt\", \"1597MerryWivesOfWindsor.txt\", \"1598MuchAdoAboutNothing.txt\", \"1599AsYouLikeIt.txt\", \"1599Hamlet.txt\", \"1599JuliusCaesar.txt\", \"1599KingHenry5.txt\", \"1600TroilusAndCressida.txt\", \"1601TwelfthNight.txt\", \"1603MeasureForMeasure.txt\", \"1603Othello.txt\", \"1604AllsWellThatEndsWell.txt\", \"1605KingLear.txt\", \"1605TimonOfAthens.txt\", \"1606AnthonyAndCleopatra.txt\", \"1606Macbeth.txt\", \"1608Coriolanus.txt\", \"1609WintersTale.txt\", \"1610Cymbeline.txt\", \"1610Tempest.txt\", \"1612KingHenry8.txt\"], \"xaxis\": \"x\", \"y\": [176.0, 64.0, 27.0, 18.0, 43.0, 23.0, 67.0, 20.0, 109.0, 35.0, 113.0, 151.0, 29.0, 41.0, 60.0, 21.0, 48.0, 93.0, 122.0, 68.0, 35.0, 44.0, 71.0, 83.0, 29.0, 80.0, 66.0, 56.0, 34.0, 39.0, 19.0, 29.0, 27.0, 31.0, 12.0, 25.0], \"yaxis\": \"y\"}, {\"hoverlabel\": {\"namelength\": 0}, \"hovertemplate\": \"=death<br>Documents=%{x}<br>Frequency=%{y}\", \"legendgroup\": \"=death\", \"line\": {\"color\": \"rgb(77,175,74)\"}, \"mode\": \"lines\", \"name\": \"=death\", \"orientation\": \"v\", \"showlegend\": true, \"stackgroup\": \"1\", \"type\": \"scatter\", \"x\": [\"1589TwoGentlemenOfVerona.txt\", \"1590TamingOfTheShrew.txt\", \"1591KingHenry6_1.txt\", \"1591KingHenry6_2.txt\", \"1591KingHenry6_3.txt\", \"1591TitusAndronicus.txt\", \"1592KingRichard3.txt\", \"1594ComedyOfErrors.txt\", \"1594LovesLaboursLost.txt\", \"1595KingRichard2.txt\", \"1595MidsummerNightsDream.txt\", \"1595RomeoAndJuliet.txt\", \"1596KingHenry4_1.txt\", \"1596KingJohn.txt\", \"1596MerchantOfVenice.txt\", \"1597KingHenry4_2.txt\", \"1597MerryWivesOfWindsor.txt\", \"1598MuchAdoAboutNothing.txt\", \"1599AsYouLikeIt.txt\", \"1599Hamlet.txt\", \"1599JuliusCaesar.txt\", \"1599KingHenry5.txt\", \"1600TroilusAndCressida.txt\", \"1601TwelfthNight.txt\", \"1603MeasureForMeasure.txt\", \"1603Othello.txt\", \"1604AllsWellThatEndsWell.txt\", \"1605KingLear.txt\", \"1605TimonOfAthens.txt\", \"1606AnthonyAndCleopatra.txt\", \"1606Macbeth.txt\", \"1608Coriolanus.txt\", \"1609WintersTale.txt\", \"1610Cymbeline.txt\", \"1610Tempest.txt\", \"1612KingHenry8.txt\"], \"xaxis\": \"x\", \"y\": [7.0, 6.0, 46.0, 57.0, 41.0, 26.0, 68.0, 9.0, 8.0, 42.0, 12.0, 74.0, 19.0, 35.0, 11.0, 24.0, 5.0, 17.0, 7.0, 36.0, 30.0, 15.0, 16.0, 9.0, 44.0, 14.0, 18.0, 22.0, 8.0, 34.0, 21.0, 21.0, 23.0, 27.0, 6.0, 10.0], \"yaxis\": \"y\"}],\n",
       "                        {\"legend\": {\"tracegroupgap\": 0}, \"template\": {\"data\": {\"bar\": [{\"error_x\": {\"color\": \"#2a3f5f\"}, \"error_y\": {\"color\": \"#2a3f5f\"}, \"marker\": {\"line\": {\"color\": \"#E5ECF6\", \"width\": 0.5}}, \"type\": \"bar\"}], \"barpolar\": [{\"marker\": {\"line\": {\"color\": \"#E5ECF6\", \"width\": 0.5}}, \"type\": \"barpolar\"}], \"carpet\": [{\"aaxis\": {\"endlinecolor\": \"#2a3f5f\", \"gridcolor\": \"white\", \"linecolor\": \"white\", \"minorgridcolor\": \"white\", \"startlinecolor\": \"#2a3f5f\"}, \"baxis\": {\"endlinecolor\": \"#2a3f5f\", \"gridcolor\": \"white\", \"linecolor\": \"white\", \"minorgridcolor\": \"white\", \"startlinecolor\": \"#2a3f5f\"}, \"type\": \"carpet\"}], \"choropleth\": [{\"colorbar\": {\"outlinewidth\": 0, \"ticks\": \"\"}, \"type\": \"choropleth\"}], \"contour\": [{\"colorbar\": {\"outlinewidth\": 0, \"ticks\": \"\"}, \"colorscale\": [[0.0, \"#0d0887\"], [0.1111111111111111, \"#46039f\"], [0.2222222222222222, \"#7201a8\"], [0.3333333333333333, \"#9c179e\"], [0.4444444444444444, \"#bd3786\"], [0.5555555555555556, \"#d8576b\"], [0.6666666666666666, \"#ed7953\"], [0.7777777777777778, \"#fb9f3a\"], [0.8888888888888888, \"#fdca26\"], [1.0, \"#f0f921\"]], \"type\": \"contour\"}], \"contourcarpet\": [{\"colorbar\": {\"outlinewidth\": 0, \"ticks\": \"\"}, \"type\": \"contourcarpet\"}], \"heatmap\": [{\"colorbar\": {\"outlinewidth\": 0, \"ticks\": \"\"}, \"colorscale\": [[0.0, \"#0d0887\"], [0.1111111111111111, \"#46039f\"], [0.2222222222222222, \"#7201a8\"], [0.3333333333333333, \"#9c179e\"], [0.4444444444444444, \"#bd3786\"], [0.5555555555555556, \"#d8576b\"], [0.6666666666666666, \"#ed7953\"], [0.7777777777777778, \"#fb9f3a\"], [0.8888888888888888, \"#fdca26\"], [1.0, \"#f0f921\"]], \"type\": \"heatmap\"}], \"heatmapgl\": [{\"colorbar\": {\"outlinewidth\": 0, \"ticks\": \"\"}, \"colorscale\": [[0.0, \"#0d0887\"], [0.1111111111111111, \"#46039f\"], [0.2222222222222222, \"#7201a8\"], [0.3333333333333333, \"#9c179e\"], [0.4444444444444444, \"#bd3786\"], [0.5555555555555556, \"#d8576b\"], [0.6666666666666666, \"#ed7953\"], [0.7777777777777778, \"#fb9f3a\"], [0.8888888888888888, \"#fdca26\"], [1.0, \"#f0f921\"]], \"type\": \"heatmapgl\"}], \"histogram\": [{\"marker\": {\"colorbar\": {\"outlinewidth\": 0, \"ticks\": \"\"}}, \"type\": \"histogram\"}], \"histogram2d\": [{\"colorbar\": {\"outlinewidth\": 0, \"ticks\": \"\"}, \"colorscale\": [[0.0, \"#0d0887\"], [0.1111111111111111, \"#46039f\"], [0.2222222222222222, \"#7201a8\"], [0.3333333333333333, \"#9c179e\"], [0.4444444444444444, \"#bd3786\"], [0.5555555555555556, \"#d8576b\"], [0.6666666666666666, \"#ed7953\"], [0.7777777777777778, \"#fb9f3a\"], [0.8888888888888888, \"#fdca26\"], [1.0, \"#f0f921\"]], \"type\": \"histogram2d\"}], \"histogram2dcontour\": [{\"colorbar\": {\"outlinewidth\": 0, \"ticks\": \"\"}, \"colorscale\": [[0.0, \"#0d0887\"], [0.1111111111111111, \"#46039f\"], [0.2222222222222222, \"#7201a8\"], [0.3333333333333333, \"#9c179e\"], [0.4444444444444444, \"#bd3786\"], [0.5555555555555556, \"#d8576b\"], [0.6666666666666666, \"#ed7953\"], [0.7777777777777778, \"#fb9f3a\"], [0.8888888888888888, \"#fdca26\"], [1.0, \"#f0f921\"]], \"type\": \"histogram2dcontour\"}], \"mesh3d\": [{\"colorbar\": {\"outlinewidth\": 0, \"ticks\": \"\"}, \"type\": \"mesh3d\"}], \"parcoords\": [{\"line\": {\"colorbar\": {\"outlinewidth\": 0, \"ticks\": \"\"}}, \"type\": \"parcoords\"}], \"pie\": [{\"automargin\": true, \"type\": \"pie\"}], \"scatter\": [{\"marker\": {\"colorbar\": {\"outlinewidth\": 0, \"ticks\": \"\"}}, \"type\": \"scatter\"}], \"scatter3d\": [{\"line\": {\"colorbar\": {\"outlinewidth\": 0, \"ticks\": \"\"}}, \"marker\": {\"colorbar\": {\"outlinewidth\": 0, \"ticks\": \"\"}}, \"type\": \"scatter3d\"}], \"scattercarpet\": [{\"marker\": {\"colorbar\": {\"outlinewidth\": 0, \"ticks\": \"\"}}, \"type\": \"scattercarpet\"}], \"scattergeo\": [{\"marker\": {\"colorbar\": {\"outlinewidth\": 0, \"ticks\": \"\"}}, \"type\": \"scattergeo\"}], \"scattergl\": [{\"marker\": {\"colorbar\": {\"outlinewidth\": 0, \"ticks\": \"\"}}, \"type\": \"scattergl\"}], \"scattermapbox\": [{\"marker\": {\"colorbar\": {\"outlinewidth\": 0, \"ticks\": \"\"}}, \"type\": \"scattermapbox\"}], \"scatterpolar\": [{\"marker\": {\"colorbar\": {\"outlinewidth\": 0, \"ticks\": \"\"}}, \"type\": \"scatterpolar\"}], \"scatterpolargl\": [{\"marker\": {\"colorbar\": {\"outlinewidth\": 0, \"ticks\": \"\"}}, \"type\": \"scatterpolargl\"}], \"scatterternary\": [{\"marker\": {\"colorbar\": {\"outlinewidth\": 0, \"ticks\": \"\"}}, \"type\": \"scatterternary\"}], \"surface\": [{\"colorbar\": {\"outlinewidth\": 0, \"ticks\": \"\"}, \"colorscale\": [[0.0, \"#0d0887\"], [0.1111111111111111, \"#46039f\"], [0.2222222222222222, \"#7201a8\"], [0.3333333333333333, \"#9c179e\"], [0.4444444444444444, \"#bd3786\"], [0.5555555555555556, \"#d8576b\"], [0.6666666666666666, \"#ed7953\"], [0.7777777777777778, \"#fb9f3a\"], [0.8888888888888888, \"#fdca26\"], [1.0, \"#f0f921\"]], \"type\": \"surface\"}], \"table\": [{\"cells\": {\"fill\": {\"color\": \"#EBF0F8\"}, \"line\": {\"color\": \"white\"}}, \"header\": {\"fill\": {\"color\": \"#C8D4E3\"}, \"line\": {\"color\": \"white\"}}, \"type\": \"table\"}]}, \"layout\": {\"annotationdefaults\": {\"arrowcolor\": \"#2a3f5f\", \"arrowhead\": 0, \"arrowwidth\": 1}, \"coloraxis\": {\"colorbar\": {\"outlinewidth\": 0, \"ticks\": \"\"}}, \"colorscale\": {\"diverging\": [[0, \"#8e0152\"], [0.1, \"#c51b7d\"], [0.2, \"#de77ae\"], [0.3, \"#f1b6da\"], [0.4, \"#fde0ef\"], [0.5, \"#f7f7f7\"], [0.6, \"#e6f5d0\"], [0.7, \"#b8e186\"], [0.8, \"#7fbc41\"], [0.9, \"#4d9221\"], [1, \"#276419\"]], \"sequential\": [[0.0, \"#0d0887\"], [0.1111111111111111, \"#46039f\"], [0.2222222222222222, \"#7201a8\"], [0.3333333333333333, \"#9c179e\"], [0.4444444444444444, \"#bd3786\"], [0.5555555555555556, \"#d8576b\"], [0.6666666666666666, \"#ed7953\"], [0.7777777777777778, \"#fb9f3a\"], [0.8888888888888888, \"#fdca26\"], [1.0, \"#f0f921\"]], \"sequentialminus\": [[0.0, \"#0d0887\"], [0.1111111111111111, \"#46039f\"], [0.2222222222222222, \"#7201a8\"], [0.3333333333333333, \"#9c179e\"], [0.4444444444444444, \"#bd3786\"], [0.5555555555555556, \"#d8576b\"], [0.6666666666666666, \"#ed7953\"], [0.7777777777777778, \"#fb9f3a\"], [0.8888888888888888, \"#fdca26\"], [1.0, \"#f0f921\"]]}, \"colorway\": [\"#636efa\", \"#EF553B\", \"#00cc96\", \"#ab63fa\", \"#FFA15A\", \"#19d3f3\", \"#FF6692\", \"#B6E880\", \"#FF97FF\", \"#FECB52\"], \"font\": {\"color\": \"#2a3f5f\"}, \"geo\": {\"bgcolor\": \"white\", \"lakecolor\": \"white\", \"landcolor\": \"#E5ECF6\", \"showlakes\": true, \"showland\": true, \"subunitcolor\": \"white\"}, \"hoverlabel\": {\"align\": \"left\"}, \"hovermode\": \"closest\", \"mapbox\": {\"style\": \"light\"}, \"paper_bgcolor\": \"white\", \"plot_bgcolor\": \"#E5ECF6\", \"polar\": {\"angularaxis\": {\"gridcolor\": \"white\", \"linecolor\": \"white\", \"ticks\": \"\"}, \"bgcolor\": \"#E5ECF6\", \"radialaxis\": {\"gridcolor\": \"white\", \"linecolor\": \"white\", \"ticks\": \"\"}}, \"scene\": {\"xaxis\": {\"backgroundcolor\": \"#E5ECF6\", \"gridcolor\": \"white\", \"gridwidth\": 2, \"linecolor\": \"white\", \"showbackground\": true, \"ticks\": \"\", \"zerolinecolor\": \"white\"}, \"yaxis\": {\"backgroundcolor\": \"#E5ECF6\", \"gridcolor\": \"white\", \"gridwidth\": 2, \"linecolor\": \"white\", \"showbackground\": true, \"ticks\": \"\", \"zerolinecolor\": \"white\"}, \"zaxis\": {\"backgroundcolor\": \"#E5ECF6\", \"gridcolor\": \"white\", \"gridwidth\": 2, \"linecolor\": \"white\", \"showbackground\": true, \"ticks\": \"\", \"zerolinecolor\": \"white\"}}, \"shapedefaults\": {\"line\": {\"color\": \"#2a3f5f\"}}, \"ternary\": {\"aaxis\": {\"gridcolor\": \"white\", \"linecolor\": \"white\", \"ticks\": \"\"}, \"baxis\": {\"gridcolor\": \"white\", \"linecolor\": \"white\", \"ticks\": \"\"}, \"bgcolor\": \"#E5ECF6\", \"caxis\": {\"gridcolor\": \"white\", \"linecolor\": \"white\", \"ticks\": \"\"}}, \"title\": {\"x\": 0.05}, \"xaxis\": {\"automargin\": true, \"gridcolor\": \"white\", \"linecolor\": \"white\", \"ticks\": \"\", \"title\": {\"standoff\": 15}, \"zerolinecolor\": \"white\", \"zerolinewidth\": 2}, \"yaxis\": {\"automargin\": true, \"gridcolor\": \"white\", \"linecolor\": \"white\", \"ticks\": \"\", \"title\": {\"standoff\": 15}, \"zerolinecolor\": \"white\", \"zerolinewidth\": 2}}}, \"title\": {\"text\": \"Comparison of common words in Shakespeare's Plays\", \"x\": 0.5, \"xanchor\": \"center\", \"y\": 0.95, \"yanchor\": \"top\"}, \"xaxis\": {\"anchor\": \"y\", \"domain\": [0.0, 1.0], \"tickangle\": 45, \"title\": {\"text\": \"Documents\"}}, \"yaxis\": {\"anchor\": \"x\", \"domain\": [0.0, 1.0], \"range\": [0, 528.0], \"title\": {\"text\": \"Frequency\"}}},\n",
       "                        {\"responsive\": true}\n",
       "                    ).then(function(){\n",
       "                            \n",
       "var gd = document.getElementById('99c95641-bc2d-4e0e-8034-b5dcf5e48dc3');\n",
       "var x = new MutationObserver(function (mutations, observer) {{\n",
       "        var display = window.getComputedStyle(gd).display;\n",
       "        if (!display || display === 'none') {{\n",
       "            console.log([gd, 'removed!']);\n",
       "            Plotly.purge(gd);\n",
       "            observer.disconnect();\n",
       "        }}\n",
       "}});\n",
       "\n",
       "// Listen for the removal of the full notebook cells\n",
       "var notebookContainer = gd.closest('#notebook-container');\n",
       "if (notebookContainer) {{\n",
       "    x.observe(notebookContainer, {childList: true});\n",
       "}}\n",
       "\n",
       "// Listen for the clearing of the current output cell\n",
       "var outputEl = gd.closest('.output');\n",
       "if (outputEl) {{\n",
       "    x.observe(outputEl, {childList: true});\n",
       "}}\n",
       "\n",
       "                        })\n",
       "                };\n",
       "                });\n",
       "            </script>\n",
       "        </div>"
      ]
     },
     "metadata": {},
     "output_type": "display_data"
    }
   ],
   "source": [
    "#Variables\n",
    "outputFile = \"shakespeareStack.html\"\n",
    "colorScheme = px.colors.qualitative.Set1\n",
    "xlabel = \"Documents\"\n",
    "ylabel = \"Frequency\"\n",
    "mainTitle = \"Comparison of common words in Shakespeare's Plays\"\n",
    "yRange = [0, max(df[\"Freq\"]*len(interestedWords))]\n",
    "angle = 45\n",
    "\n",
    "# Plot\n",
    "if singleDoc is True:\n",
    "    fig = px.area(df, x=\"SeqNum\", y=\"Freq\", color = \"Term\", color_discrete_sequence=colorScheme, line_group = \"Term\", \n",
    "                  labels = {\"SeqNum\":xlabel,\"Freq\":ylabel, \"Term\":\"\"}, title=mainTitle, category_orders={\"Term\":interestedWords})\n",
    "    fig.update_layout(title={'y':0.95, 'x':0.5, 'xanchor': 'center', 'yanchor':'top'},\n",
    "    xaxis = dict(\n",
    "        tickmode = 'linear',\n",
    "        tick0 = 0,\n",
    "        dtick = 1))\n",
    "    fig.update_yaxes(range=yRange)\n",
    "    fig.update_xaxes(tickangle=angle)\n",
    "else:\n",
    "    fig = px.area(df, x=\"SeqLabel\", y=\"Freq\", color = \"Term\", color_discrete_sequence=colorScheme, line_group = \"Term\", \n",
    "                  labels = {\"SeqLabel\":xlabel,\"Freq\":ylabel, \"Term\":\"\"}, title=mainTitle, category_orders={\"Term\":interestedWords})\n",
    "    fig.update_layout(title={'y':0.95, 'x':0.5, 'xanchor': 'center', 'yanchor':'top'})\n",
    "    fig.update_yaxes(range=yRange)\n",
    "    fig.update_xaxes(tickangle=angle)\n",
    "    \n",
    "py.offline.plot(fig, filename=os.path.join(dataResults, outputFile))\n",
    "fig.show()"
   ]
  },
  {
   "cell_type": "markdown",
   "metadata": {
    "collapsed": true
   },
   "source": [
    "## VOILA!!"
   ]
  }
 ],
 "metadata": {
  "kernelspec": {
   "display_name": "Python 3",
   "language": "python",
   "name": "python3"
  },
  "language_info": {
   "codemirror_mode": {
    "name": "ipython",
    "version": 3
   },
   "file_extension": ".py",
   "mimetype": "text/x-python",
   "name": "python",
   "nbconvert_exporter": "python",
   "pygments_lexer": "ipython3",
   "version": "3.6.0"
  }
 },
 "nbformat": 4,
 "nbformat_minor": 2
}
