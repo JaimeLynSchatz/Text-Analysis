{
 "cells": [
  {
   "cell_type": "markdown",
   "metadata": {},
   "source": [
    "# Complex Sentiment Analysis\n",
    "### Frequency of positive and negaitive words from a Sentiment Lexicon appearing in a dataset"
   ]
  },
  {
   "cell_type": "markdown",
   "metadata": {},
   "source": [
    "#### Opening data files\n",
    "\n",
    "The needed positive and negative word lists are .csv files found in the [PresidentSentiment/data](https://github.com/cyberdh/Text-Analysis/tree/master/PresidentSentiment/data) folder. You will need to move the word lists and data files to be in the same folder as the script file, or change the script so that the file path points to the folder where the word lists and data files are located.\n",
    "\n",
    "##### NOTE: Make sure you have read and completed the instructions in [installJupyterMacPC.ipynb](https://github.com/cyberdh/Text-Analysis/blob/master/installJupyterMacPC.ipynb)\n",
    "\n"
   ]
  },
  {
   "cell_type": "markdown",
   "metadata": {},
   "source": [
    "##### Now we load the negative words\n",
    "\n",
    "Notice that we have added words to the negative list. Feel free to change the words you want to add based on the text you are doing sentiment analysis on. If you want to remove a word from the list simply add to the script the following line: If 'yourWord' in negTokens: negTokens.remove('yourWord'). If you do not wish to add words simply put a '#' (minus the quotes) in front of the lines that add words. These would be 'negAdds =' and 'negTokens.extend(negAdds)'.\n",
    "\n",
    "##### NOTE: If you do not want to move the data files into the same folder as the script, you will need to add the path that leads to the folder where the file is located. For example: (\"~/Text-Analysis/PresidentSentiment/data/negativeUIC.csv\") where it says (\"negativeUIC.csv\"). This will work on Karst or Mac. If you are using a PC you will need to use an absolute path: (\"C:\\Text-Analysis\\PresidentSentiment\\data\\negativeUIC.csv\") and make sure you use the back slash (\\) instead of forward slash (/)."
   ]
  },
  {
   "cell_type": "code",
   "execution_count": 1,
   "metadata": {},
   "outputs": [
    {
     "name": "stdout",
     "output_type": "stream",
     "text": [
      "['wrought', 'yawn', 'zap', 'zapped', 'zaps', 'zealot', 'zealous', 'zealously', 'zombie', 'nuke']\n"
     ]
    }
   ],
   "source": [
    "import pandas as pd\n",
    "import re\n",
    "\n",
    "\n",
    "negText = pd.read_csv(\"/N/u/klosteda/Karst/Text-Analysis/PresidentSentiment/data/negativeUIC.csv\")\n",
    "negTokens = negText['Neg'].tolist()\n",
    "negAdds = ['nuke'] \n",
    "negTokens.extend(negAdds)\n",
    "print(negTokens[-10:])\n",
    "\n",
    "# list to set for efficient lookup\n",
    "negTokens = set(negTokens)"
   ]
  },
  {
   "cell_type": "markdown",
   "metadata": {},
   "source": [
    "###### Now we load the positive words\n",
    "\n",
    "Notice that we have added words to the positive word list and removed other words from the positive word list. Simply change the words if you wish to add different words and the same with the words being removed. If you do not wish to add or remove simply put a '#' (minus the quotes) in front of the lines that add words and/or the lines that remove words."
   ]
  },
  {
   "cell_type": "code",
   "execution_count": 2,
   "metadata": {},
   "outputs": [
    {
     "name": "stdout",
     "output_type": "stream",
     "text": [
      "['wowing', 'wows', 'yay', 'youthful', 'zeal', 'zenith', 'zest', 'zippy', 'theresistance', 'uniteblue']\n"
     ]
    }
   ],
   "source": [
    "posText = pd.read_csv(\"/N/u/klosteda/Karst/Text-Analysis/PresidentSentiment/data/positiveUIC.csv\")\n",
    "posTokens = posText['Pos'].tolist()\n",
    "posAdds = ['theresistance','uniteblue']\n",
    "posTokens.extend(posAdds)\n",
    "if 'trump' in posTokens: posTokens.remove('trump')\n",
    "if 'right' in posTokens: posTokens.remove('right')\n",
    "print(posTokens[-10:])\n",
    "\n",
    "# list to set for efficient lookup\n",
    "posTokens = set(posTokens)"
   ]
  },
  {
   "cell_type": "markdown",
   "metadata": {},
   "source": [
    "###### Here we get the tweets"
   ]
  },
  {
   "cell_type": "code",
   "execution_count": 3,
   "metadata": {},
   "outputs": [
    {
     "name": "stdout",
     "output_type": "stream",
     "text": [
      "['RT jmichaelkell To sum it up\\r\\r1 Trump  sexual predator\\r2 Epstein  convicted pedophile\\r3 Milo  pedophilia supporter\\r4 Huckabee  p', 'RT DrDavidDuke Did John McCain wiretap President Trumps government phone and leak classified information to the press httpstcoNsSV', 'RT PrisonPlanet The Revolutionary Communist Partys SunsaraTaylor says Trump will enact global genocide\\r\\rLike communism which killed 9', 'Team Trump shares tips on keeping their boss distracted placated httpstco8UUV4TsQLa sure signs of NPD  Sad state of affairs', 'RT larryelder Rep MaxineWaters says Trumps cabinet picks are bunch of scumbags Is that better or worse than a basket of deplorable', 'CNNPolitics thats why Trump hired him stupid']\n"
     ]
    }
   ],
   "source": [
    "tweetsText = pd.read_csv(\"/N/u/klosteda/Karst/Text-Analysis/PresidentSentiment/data/trump100days.csv\", encoding = 'ISO-8859-1')\n",
    "tweetsText['text'] = tweetsText['text'].str.replace('[^\\x00-\\x7F]','')\n",
    "tweetsText['text'] = tweetsText['text'].str.replace('[^\\w\\s]','')\n",
    "tweetsTokens = tweetsText['text'].tolist()\n",
    "print(tweetsTokens[:6])"
   ]
  },
  {
   "cell_type": "markdown",
   "metadata": {},
   "source": [
    "## Tokenizing the tweets\n",
    "\n",
    "Now we will create two functions. The first for tokenizing a tweet, the second for calculating positive/negative words."
   ]
  },
  {
   "cell_type": "markdown",
   "metadata": {},
   "source": [
    "## Analyzing tweets\n",
    "\n",
    "Now we will use the calculator to calculate how many positive and negative tweets.\n",
    "Note: that you can set a threshold for the number of words for a Tweet to be considered positive or negative."
   ]
  },
  {
   "cell_type": "code",
   "execution_count": 4,
   "metadata": {},
   "outputs": [],
   "source": [
    "def tokenizer(theText):\n",
    "    theTokens = re.findall(r'\\b\\w[\\w-]*\\b', theText.lower())\n",
    "    return theTokens\n",
    "\n",
    "def calculator(theTweet, posTokenList, negTokenList):\n",
    "    \n",
    "    posWordsList = []\n",
    "    negWordsList = []\n",
    "\n",
    "    numPosWords = 0 \n",
    "    numNegWords = 0\n",
    "    \n",
    "    theTweetTokens = tokenizer(theTweet)\n",
    "    \n",
    "    # Count positive and negative words\n",
    "    for word in theTweetTokens:\n",
    "        if word in posTokenList:\n",
    "            numPosWords += 1\n",
    "            posWordsList.append(word)\n",
    "        \n",
    "        if word in negTokenList:\n",
    "            numNegWords += 1\n",
    "            negWordsList.append(word)\n",
    "        \n",
    "        \n",
    "    score = (numPosWords - numNegWords)\n",
    "    return {'score': score, 'posWordsList' : posWordsList, 'negWordsList' : negWordsList}\n",
    "\n",
    "# Here is a line for testing this\n",
    "# print(calculator('\"RT @jmichaelkell: To sum it up:', '', '1. Trump - sexual predator', '2. Epstein - convicted pedophile', '3. Milo - pedophilia supporter', '4. Huckabee - pƒ\"'))"
   ]
  },
  {
   "cell_type": "code",
   "execution_count": 5,
   "metadata": {},
   "outputs": [],
   "source": [
    "# do all calculation once\n",
    "\n",
    "results = []\n",
    "\n",
    "for tweet in tweetsTokens:\n",
    "    results.append(calculator(tweet, posTokens, negTokens))\n",
    "    \n",
    "scores = [x['score'] for x in results]\n",
    "\n",
    "posWordsList = [x['posWordsList'] for x in results]\n",
    "posWordsList = [item for sublist in posWordsList for item in sublist]\n",
    "\n",
    "negWordsList = [x['negWordsList'] for x in results]\n",
    "negWordsList = [item for sublist in negWordsList for item in sublist]"
   ]
  },
  {
   "cell_type": "code",
   "execution_count": 6,
   "metadata": {},
   "outputs": [
    {
     "name": "stdout",
     "output_type": "stream",
     "text": [
      "Total: 244803\n",
      "Positive: 45303\n",
      "Neutral: 109305\n",
      "Negative: 90195\n"
     ]
    }
   ],
   "source": [
    "# Here we set up the thresholds\n",
    "posi = 0 # This means there have to be at least 1 positive word\n",
    "nega = 0 # This means there has to be at least 1 negative words\n",
    "\n",
    "# Here we prime our variables\n",
    "numTweets = len(results)\n",
    "numPosTweets = 0\n",
    "numNegTweets = 0\n",
    "numNeutTweets = 0\n",
    "\n",
    "# This loop goes through all the Tweets and calculates if sums the number of positive or negative ones.\n",
    "\n",
    "\n",
    "for score in scores:\n",
    "    if score > posi:\n",
    "        numPosTweets += 1\n",
    "       \n",
    "    elif score < nega:\n",
    "        numNegTweets += 1\n",
    "        \n",
    "    else:\n",
    "        numNeutTweets += 1\n",
    "        \n",
    "\n",
    "# This prints out the results \n",
    "print(\"Total: \" + str(numTweets) + \"\\n\" + \"Positive: \" + str(numPosTweets) + \"\\n\" + \"Neutral: \" + str(numNeutTweets) + \"\\n\" + \"Negative: \" +str(numNegTweets))\n"
   ]
  },
  {
   "cell_type": "markdown",
   "metadata": {},
   "source": [
    "#### Gathering positive tweets\n",
    "\n",
    "This will gather all examples of positive tweets."
   ]
  },
  {
   "cell_type": "code",
   "execution_count": 7,
   "metadata": {},
   "outputs": [
    {
     "name": "stdout",
     "output_type": "stream",
     "text": [
      "['RT matthewjdowd In latest Quinnipiac poll by a 15 point margin voters trust the media more than Trump to tell the truth about important', 'RT TeaPainUSA Trump thinks its best for states to decide which people should be treated like humans  realDonaldTrump\\r\\rhttpstco35T', 'RT NewtTrump RETWEET THIS UNTIL THE MSM COVERS IT LIKE THEY DID FOR TRUMP\\rExKKK head David Duke endorses keithellison for DNC I real', 'LibyaLiberty I would have loved the center to praise trump too BUT he did NOT  GIVE them reason to praise him']\n"
     ]
    }
   ],
   "source": [
    "# Here we set up the threshold.\n",
    "posi = 1 # This means there have to be more than 1 positive word\n",
    "numberWanted = 4 # Here you decide how many tweets you want\n",
    "\n",
    "# Here we prime our variables\n",
    "numTweets = len(results)\n",
    "numPosTweets = 0\n",
    "posiTweetList = []\n",
    "\n",
    "# This loop goes through all the Tweets and calculates if sums the number of positive or negative ones.\n",
    "\n",
    "\n",
    "\n",
    "for idx, score in enumerate(scores):\n",
    "    if score > posi:\n",
    "        posiTweetList.append(tweetsTokens[idx])\n",
    "        numPosTweets += 1\n",
    "        \n",
    "        if numPosTweets >= numberWanted:\n",
    "            break\n",
    "\n",
    "print(posiTweetList)"
   ]
  },
  {
   "cell_type": "markdown",
   "metadata": {},
   "source": [
    "#### Gathering negative tweets\n",
    "\n",
    "This will gather examples of negative tweets."
   ]
  },
  {
   "cell_type": "code",
   "execution_count": 8,
   "metadata": {},
   "outputs": [
    {
     "name": "stdout",
     "output_type": "stream",
     "text": [
      "['RT DrDavidDuke Did John McCain wiretap President Trumps government phone and leak classified information to the press httpstcoNsSV', 'RT alfonslopeztena Dumped by Trump jilted Europe and rejected Asia get together on trade deals threatening to leave US out in the cold\\rh', 'RT RealJack Liberals are losing their mind over President Trumps deportations Real reason theyre upset is because theyre losing all t', 'RT ConstanceQueen8 30 to 40 Released \\rFrom GITMO \\rReturn 2 Terror\\rWheres The Outrage \\rTrump Inherits A Mess\\rOf Obamas Decisions\\rWarri']\n"
     ]
    }
   ],
   "source": [
    "# Here we set up the threshold.\n",
    "nega = -1 # This means there have to be more than 1 positive word\n",
    "numberWanted = 4 # Here you decide how many tweets you want\n",
    "\n",
    "# Here we prime our variables\n",
    "numTweets = len(results)\n",
    "numNegTweets = 0\n",
    "negaTweetList = []\n",
    "\n",
    "# This loop goes through all the Tweets and calculates if sums the number of positive or negative ones.\n",
    "for idx, score in enumerate(scores):\n",
    "    if score < nega:\n",
    "        negaTweetList.append(tweetsTokens[idx])\n",
    "        numNegTweets += 1\n",
    "        \n",
    "        if numNegTweets >= numberWanted:\n",
    "            break\n",
    "        \n",
    "\n",
    "print(negaTweetList)"
   ]
  },
  {
   "cell_type": "markdown",
   "metadata": {},
   "source": [
    "#### Testing a tweet\n",
    "\n",
    "Here you can take a tweet and test it to see how many positive or negative words it has."
   ]
  },
  {
   "cell_type": "code",
   "execution_count": 9,
   "metadata": {},
   "outputs": [
    {
     "name": "stdout",
     "output_type": "stream",
     "text": [
      "What is the tweet to calculate? Dumped by Trump jilted Europe and rejected Asia get together on trade deals threatening to leave US out in the cold\n",
      "-4\n"
     ]
    }
   ],
   "source": [
    "tweetToCalc = input(\"What is the tweet to calculate? \")\n",
    "res = calculator(tweetToCalc, posTokens, negTokens)\n",
    "print(res['score'])"
   ]
  },
  {
   "cell_type": "markdown",
   "metadata": {},
   "source": [
    "#### Gathering and plotting positive and negative words\n",
    "\n",
    "This will gather the words that are positive in the tweets and tabulate them."
   ]
  },
  {
   "cell_type": "code",
   "execution_count": 10,
   "metadata": {},
   "outputs": [
    {
     "name": "stdout",
     "output_type": "stream",
     "text": [
      "What tweet do you want to process? Dumped by Trump jilted Europe and rejected Asia get together on trade deals threatening to leave US out in the cold\n",
      "Positive words: []\n",
      "Negative words: ['dumped', 'rejected', 'threatening', 'cold']\n"
     ]
    }
   ],
   "source": [
    "tweet2Process = input(\"What tweet do you want to process? \")\n",
    "res = calculator(tweet2Process, posTokens, negTokens)\n",
    "print(\"Positive words: \" + str(res['posWordsList'][:10]))\n",
    "print(\"Negative words: \" + str(res['negWordsList'][:10]))"
   ]
  },
  {
   "cell_type": "markdown",
   "metadata": {},
   "source": [
    "## Gathering and plotting all positive and negative words"
   ]
  },
  {
   "cell_type": "code",
   "execution_count": 11,
   "metadata": {},
   "outputs": [
    {
     "name": "stdout",
     "output_type": "stream",
     "text": [
      "Positive words: 95402\n",
      "Negative words: 168607\n"
     ]
    }
   ],
   "source": [
    "\n",
    "# Here we set up the thresholds\n",
    "posi = 1 # This means there have to be more than 1 positive word\n",
    "nega = 0 # This means there has to be more than 1 negative words\n",
    "\n",
    "# Here we prime our variables\n",
    "\n",
    "numTweets = len(results)\n",
    "numPosTweets = 0\n",
    "numNegTweets = 0\n",
    "numNeutTweets = 0\n",
    "\n",
    "# This loop goes through all the Tweets and calculates if sums the number of positive or negative ones.\n",
    "for score in scores:\n",
    "  \n",
    "    if score > posi:\n",
    "        numPosTweets += 1\n",
    "       \n",
    "    elif score < nega:\n",
    "        numNegTweets += 1\n",
    "     \n",
    "    else:\n",
    "        numNeutTweets += 1\n",
    "        \n",
    "\n",
    "print(\"Positive words: \" + str(len(posWordsList)))\n",
    "print(\"Negative words: \" + str(len(negWordsList)))"
   ]
  },
  {
   "cell_type": "markdown",
   "metadata": {},
   "source": [
    "###### Positive words"
   ]
  },
  {
   "cell_type": "code",
   "execution_count": 12,
   "metadata": {},
   "outputs": [
    {
     "name": "stdout",
     "output_type": "stream",
     "text": [
      "         like          good       support         great          well      approval theresistance          work           top     supporter \n",
      "         8501          2781          2621          2337          2225          1680          1623          1607          1424          1416 \n",
      "              word  freq\n",
      "2             like  8501\n",
      "37            good  2781\n",
      "21         support  2621\n",
      "26           great  2337\n",
      "55            well  2225\n",
      "53        approval  1680\n",
      "24   theresistance  1623\n",
      "6             work  1607\n",
      "33             top  1424\n",
      "0        supporter  1416\n",
      "60            love  1404\n",
      "66             win  1322\n",
      "17    intelligence  1296\n",
      "3           better  1213\n",
      "19             won  1109\n",
      "44           thank  1068\n",
      "12            best  1051\n",
      "59          enough   986\n",
      "129            wow   969\n",
      "11           clear   930\n",
      "74            free   893\n",
      "4            trust   802\n",
      "73         supreme   778\n",
      "72         promise   753\n",
      "79        promises   718\n"
     ]
    },
    {
     "name": "stderr",
     "output_type": "stream",
     "text": [
      "/N/soft/rhel6/anaconda3/4.4.0/lib/python3.6/site-packages/matplotlib/font_manager.py:1297: UserWarning: findfont: Font family ['sans-serif'] not found. Falling back to DejaVu Sans\n",
      "  (prop.get_family(), self.defaultFamily[fontext]))\n"
     ]
    },
    {
     "data": {
      "image/png": "[encoded data removed]",
      "text/plain": [
       "<matplotlib.figure.Figure at 0x7fe1cb8df7b8>"
      ]
     },
     "metadata": {},
     "output_type": "display_data"
    }
   ],
   "source": [
    "import nltk\n",
    "import matplotlib.pyplot as plt\n",
    "import numpy as np\n",
    "from collections import Counter\n",
    "\n",
    "posDist = nltk.FreqDist(posWordsList)\n",
    "posDist.tabulate(10)\n",
    "\n",
    "%matplotlib inline\n",
    "posit = Counter(posDist)\n",
    "positdf = pd.DataFrame.from_dict(posit, orient='index').reset_index()\n",
    "positdf = positdf.rename(columns={'index':'word', 0:'freq'})\n",
    "positdf = positdf.sort_values('freq', ascending = False)\n",
    "posdf = positdf[:25]\n",
    "print(posdf)\n",
    "\n",
    "fig = posdf.plot(x= 'word',kind='barh', align='center', color =['darkgreen'])\n",
    "fig.set_ylabel('Words')\n",
    "fig.set_xlabel('Frequency')\n",
    "fig.set_title('Top 25 Positive Words, 100 Days: UIC')\n",
    "fig.set_ylim(fig.get_ylim()[::-1])\n",
    "fig.set_xlim(0,35000)\n",
    "\n",
    "for i, v in enumerate(posdf['freq']):\n",
    "    fig.text(v + 3, i + .25, str(v), color='black', fontweight='bold')\n",
    "    \n",
    "plt.rcParams['font.sans-serif'] = \"Arial\"\n",
    "plt.rcParams[\"font.family\"] = \"sans-serif\"\n",
    "plt.savefig('/N/u/klosteda/Karst/Text-Analysis/PresidentSentiment/results_imgs/trump100PosWordsUICv2.png', format='png', dpi=300, bbox_inches='tight',)\n",
    "plt.show()\n"
   ]
  },
  {
   "cell_type": "markdown",
   "metadata": {},
   "source": [
    "###### Negative words"
   ]
  },
  {
   "cell_type": "code",
   "execution_count": 13,
   "metadata": {},
   "outputs": [
    {
     "name": "stdout",
     "output_type": "stream",
     "text": [
      "breaking     fake      war     stop   attack      bad     lies     shit    wrong      lie \n",
      "    6601     2635     2608     2428     2334     1870     1287     1283     1272     1223 \n",
      "             word  freq\n",
      "34       breaking  6601\n",
      "16           fake  2635\n",
      "90            war  2608\n",
      "29           stop  2428\n",
      "26         attack  2334\n",
      "172           bad  1870\n",
      "33           lies  1287\n",
      "212          shit  1283\n",
      "115         wrong  1272\n",
      "206           lie  1223\n",
      "145          hate  1221\n",
      "130         fight  1218\n",
      "248       illegal  1186\n",
      "188        racist  1184\n",
      "46        attacks  1178\n",
      "2201  wiretapping  1127\n",
      "136        strike  1067\n",
      "199          hell  1051\n",
      "193         fraud  1046\n",
      "253         lying   992\n",
      "77     resistance   984\n",
      "109     collusion   962\n",
      "210          fuck   938\n",
      "187          isis   916\n",
      "43           lost   909\n"
     ]
    },
    {
     "name": "stderr",
     "output_type": "stream",
     "text": [
      "/N/soft/rhel6/anaconda3/4.4.0/lib/python3.6/site-packages/matplotlib/font_manager.py:1297: UserWarning: findfont: Font family ['sans-serif'] not found. Falling back to DejaVu Sans\n",
      "  (prop.get_family(), self.defaultFamily[fontext]))\n"
     ]
    },
    {
     "data": {
      "image/png": "[encoded data removed]",
      "text/plain": [
       "<matplotlib.figure.Figure at 0x7fe1c7d54a20>"
      ]
     },
     "metadata": {},
     "output_type": "display_data"
    }
   ],
   "source": [
    "import nltk, matplotlib\n",
    "\n",
    "negDist = nltk.FreqDist(negWordsList)\n",
    "negDist.tabulate(10)\n",
    "\n",
    "%matplotlib inline\n",
    "nega = Counter(negDist)\n",
    "negadf = pd.DataFrame.from_dict(nega, orient='index').reset_index()\n",
    "negadf = negadf.rename(columns={'index':'word', 0:'freq'})\n",
    "negadf = negadf.sort_values('freq', ascending = False)\n",
    "negdf = negadf[:25]\n",
    "print(negdf)\n",
    "\n",
    "fig = negdf.plot(x= 'word',kind='barh', align='center', color =['darkred'])\n",
    "fig.set_ylabel('Words')\n",
    "fig.set_xlabel('Frequency')\n",
    "fig.set_title('Top 25 Negative Words, 100 Days: UIC')\n",
    "fig.set_ylim(fig.get_ylim()[::-1])\n",
    "fig.set_xlim(0,40000)\n",
    "\n",
    "for i, v in enumerate(negdf['freq']):\n",
    "    fig.text(v + 3, i + .25, str(v), color='black', fontweight='bold')\n",
    "    \n",
    "plt.rcParams['font.sans-serif'] = \"Arial\"\n",
    "plt.rcParams[\"font.family\"] = \"sans-serif\"\n",
    "plt.savefig('/N/u/klosteda/Karst/Text-Analysis/PresidentSentiment/results_imgs/trump100NegWordsUICv2.png', format='png', dpi=300, bbox_inches='tight',)\n",
    "\n",
    "plt.show()"
   ]
  }
 ],
 "metadata": {
  "kernelspec": {
   "display_name": "Python 3",
   "language": "python",
   "name": "python3"
  },
  "language_info": {
   "codemirror_mode": {
    "name": "ipython",
    "version": 3
   },
   "file_extension": ".py",
   "mimetype": "text/x-python",
   "name": "python",
   "nbconvert_exporter": "python",
   "pygments_lexer": "ipython3",
   "version": "3.6.1"
  }
 },
 "nbformat": 4,
 "nbformat_minor": 2
}
