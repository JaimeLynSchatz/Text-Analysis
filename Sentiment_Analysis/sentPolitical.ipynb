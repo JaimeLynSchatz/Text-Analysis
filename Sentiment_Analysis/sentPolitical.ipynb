{
 "cells": [
  {
   "cell_type": "markdown",
   "metadata": {},
   "source": [
    "### Simple Sentiment Analysis for Twitter\n",
    "\n",
    "Using 16,000 tweets directed at or written by the top four 2016 presidential candidates post-Iowa Caucus: Hillary Clinton, Ted Cruz, Bernie Sanders, and Donald Trump, we will create plots to analyze the sentiment of Twitter users related to the four candidates."
   ]
  },
  {
   "cell_type": "markdown",
   "metadata": {},
   "source": [
    "### Global parameters \n",
    "\n",
    "You will need to have set up a [Karst account](https://kb.iu.edu/d/bezu#account) first. Once you have your Karst account simply go to [rstudio.iu.edu](https://rstudio.iu.edu/auth-sign-in) and login using your IU username and passphrase.  Next, set the working directory by pointing to the location on Karst where you have stored the files. Below, we have chosen to save the folder \"Text-Analysis\" as a \"Project\" in R Studio on the Karst super-computer here at Indiana University. It contains the R scripts, texts, notebooks, and results. If you have forked and cloned the Github repository (see [textPrep.Rmd](textPrep.Rmd) for directions on how), simply point to where you have saved the folder. If you save it to your personal Karst folder, it will most likely look very similar to the example below. Karst is a unix server and so the home directory is represented by a ~ and, thus, the path will look like this \"~/Text-Analysis/\" (with the quotes). Alternatively, if you are on a PC, you will need to use an absolute path such as \"C:/Users/XXX\" (with the quotes again).\n",
    "\n",
    "In R Studio, click Session in the menu bar > Set Working Directory > Choose Directory, then select the Text-Analysis directory in which you are working. This will set your working directory in the console pane, but make sure to copy the path into the source pane above to keep the directory constant if you close this script and reopen later. Make sure you click on the blue cube with a \"R\" in the center to set your working directory to your Text-Analysis project path.\n",
    "\n",
    "HINT: Your working directory is the folder from which you will be pulling your texts."
   ]
  },
  {
   "cell_type": "code",
   "execution_count": 3,
   "metadata": {},
   "outputs": [],
   "source": [
    "setwd(\"~/Text-Analysis\")\n",
    "\n",
    "#Source Multiplot Function\n",
    "source(\"RScripts/multiplot.R\")"
   ]
  },
  {
   "cell_type": "markdown",
   "metadata": {},
   "source": [
    "### Include necessary packages for notebook \n",
    "\n",
    "R's extensibility comes in large part from packages. Packages are groups of functions, data, and algorithms that allow users to easily carry out processes without recreating the wheel. Some packages are included in the basic installation of R, others created by R users are available for download. Make sure to have the following packages installed before beginning so that they can be accessed while running the scripts.\n",
    "\n",
    "In R Studio, packages can be installed by navigating to Tools in the menu bar > Install Packages. Or in the bottom right panel click on the \"packages\" tab and then click on \"install.\"\n",
    "\n",
    "These five packages are used within the sentiment analysis script:\n",
    "\n",
    "tm - A package for text mining\n",
    "\n",
    "twitteR - this is a fun little package that allows the user to search twitter for tweets containing certain words/phrases or by certain people, check out [this post](https://themepacific.com/how-to-generate-api-key-consumer-token-access-key-for-twitter-oauth/994/) for information on setting up an API key to access tweets\n",
    "\n",
    "plyr - this package splits, combines, and applies data (the laply function used below while instantiating the algorithm comes with this package)\n",
    "\n",
    "stringr - eases string operations (we will use str_split also while instantiating the algorithm, which is included with the stringr package).\n",
    "\n",
    "ggplot2 - a great package that renders a range of plots to display information, we will use this package to create our ultimate plots\n"
   ]
  },
  {
   "cell_type": "code",
   "execution_count": 4,
   "metadata": {},
   "outputs": [
    {
     "name": "stderr",
     "output_type": "stream",
     "text": [
      "\n",
      "Attaching package: ‘plyr’\n",
      "\n",
      "The following object is masked from ‘package:twitteR’:\n",
      "\n",
      "    id\n",
      "\n",
      "\n",
      "Attaching package: ‘ggplot2’\n",
      "\n",
      "The following object is masked from ‘package:NLP’:\n",
      "\n",
      "    annotate\n",
      "\n"
     ]
    }
   ],
   "source": [
    "library(tm)\n",
    "library(plyr)\n",
    "library(stringr)\n",
    "library(ggplot2)"
   ]
  },
  {
   "cell_type": "markdown",
   "metadata": {},
   "source": [
    "### Load data \n",
    "\n",
    "Each .RData object is a curated set of tweets grabbed from Twitter using the TwitteR package. The tweets orginially return as a list, which was then saved as the .RData object you see here. We load the .RData files into our environment using readRDS and save them into a variable we can use later. \n",
    "\n",
    "Hint 1: The names of the variables can be anything (happiness, rainbows, cats), but usually, you want to name them using terms to indicate what the variable holds. Here we use clinton.tweets to represent the tweets associated with @HillaryClinton on Twitter, and so on for the others. The period (.) between \"clinton\" and \"tweets\" does not serve any purpose other than to separate the two terms for ease of reading. \n",
    "\n",
    "Hint 2: Another popular naming convention is to list the type of object with the name, for example clinton.tweets.l since this object is a list. This convention helps when manipulating the data later."
   ]
  },
  {
   "cell_type": "code",
   "execution_count": 5,
   "metadata": {},
   "outputs": [],
   "source": [
    "clinton.tweets <- readRDS(\"data/twitter/tweetsclinton.RData\")\n",
    "cruz.tweets <- readRDS(\"data/twitter/tweetscruz.RData\")\n",
    "sanders.tweets <- readRDS(\"data/twitter/tweetssanders.RData\")\n",
    "trump.tweets <- readRDS(\"data/twitter/tweetstrump.RData\")"
   ]
  },
  {
   "cell_type": "markdown",
   "metadata": {},
   "source": [
    "### Inspect Data\n",
    "\n",
    "Before preparing the data for analysis, let us first see what we are working with. For tutorial purposes, we will look at the first: clinton.tweets, but feel free to use the same commands to inspect any of the variables we have created. This step is a good idea to ensure you know what you are ultimately analyzing. For example, if you find that the length is zero, you may have to go back and reload or re-grab the data.\n",
    "\n",
    "Class describes the type of object. In this case, we grabbed tweets using the TwitteR package, which results in a list:"
   ]
  },
  {
   "cell_type": "code",
   "execution_count": 6,
   "metadata": {},
   "outputs": [
    {
     "data": {
      "text/html": [
       "'list'"
      ],
      "text/latex": [
       "'list'"
      ],
      "text/markdown": [
       "'list'"
      ],
      "text/plain": [
       "[1] \"list\""
      ]
     },
     "metadata": {},
     "output_type": "display_data"
    }
   ],
   "source": [
    "class(clinton.tweets)"
   ]
  },
  {
   "cell_type": "markdown",
   "metadata": {},
   "source": [
    "Length shows how many elements the object has. We grabbed 4,000 tweets (specified while using the TwitteR package), so our list is made up of 4,000 elements. An element here is a tweet!"
   ]
  },
  {
   "cell_type": "code",
   "execution_count": 7,
   "metadata": {},
   "outputs": [
    {
     "data": {
      "text/html": [
       "4000"
      ],
      "text/latex": [
       "4000"
      ],
      "text/markdown": [
       "4000"
      ],
      "text/plain": [
       "[1] 4000"
      ]
     },
     "metadata": {},
     "output_type": "display_data"
    }
   ],
   "source": [
    "length(clinton.tweets)"
   ]
  },
  {
   "cell_type": "markdown",
   "metadata": {},
   "source": [
    "We can also look at individual elements - Lets see what the first (most recent) tweet is..."
   ]
  },
  {
   "cell_type": "code",
   "execution_count": 8,
   "metadata": {},
   "outputs": [
    {
     "data": {
      "text/plain": [
       "[[1]]\n",
       "[1] \"N0Control07: Coin flip \\\"wins\\\" by @HillaryClinton doesn't change how happy I am for @BernieSanders. #NotMeUs #FeelTheBern #Bernie2016\"\n"
      ]
     },
     "metadata": {},
     "output_type": "display_data"
    }
   ],
   "source": [
    "clinton.tweets[1]"
   ]
  },
  {
   "cell_type": "markdown",
   "metadata": {},
   "source": [
    "Or perhaps you would like to see the first few elements:"
   ]
  },
  {
   "cell_type": "code",
   "execution_count": 9,
   "metadata": {},
   "outputs": [
    {
     "data": {
      "text/plain": [
       "[[1]]\n",
       "[1] \"N0Control07: Coin flip \\\"wins\\\" by @HillaryClinton doesn't change how happy I am for @BernieSanders. #NotMeUs #FeelTheBern #Bernie2016\"\n",
       "\n",
       "[[2]]\n",
       "[1] \"ItsAlinajo: @JAPITTER ROFLMAAAAO!! Thanks Jeff! Coins for donors! :-) @DJROBBZ_BLOG @Teddyshouse2II @richdoll54 @YevetteEdwards @Ronc99 @HillaryClinton\"\n",
       "\n",
       "[[3]]\n",
       "[1] \"terryshumaker: @billclinton in Laconia, NH: Progressive reformers in our history like @HillaryClinton get more done #FITN https://t.co/USPhXAEdV3\"\n",
       "\n",
       "[[4]]\n",
       "[1] \"watizy: @CNN @HillaryClinton it looks more like fraud, winning six coin toss. Yeah right.\"\n",
       "\n",
       "[[5]]\n",
       "[1] \"Eric_Bailon: RT @RuFreeman: Perspective for the Dems on #IowaCaucusresults  :  ) #Bernie2016 @HillaryClinton @SenateDems @HouseDemocrats https://t.co/77…\"\n",
       "\n",
       "[[6]]\n",
       "[1] \"OhCarouu: RT @HillaryClinton: Text CONGRATS to 47246 to tell Hillary you'll be by her side for the next part of this campaign. https://t.co/FHoAPFiji8\"\n"
      ]
     },
     "metadata": {},
     "output_type": "display_data"
    }
   ],
   "source": [
    "head(clinton.tweets)"
   ]
  },
  {
   "cell_type": "markdown",
   "metadata": {},
   "source": [
    "There are many more ways to inspect parts of data (check out the CRAN), but these quick checks are helpful while manipulating and trimming the data pre-analysis."
   ]
  },
  {
   "cell_type": "markdown",
   "metadata": {},
   "source": [
    "### Extract Text\n",
    "\n",
    "Since we grabbed our data from Twitter, there is metadata included in the tweet list such as retweet, favorite, and reply information. For sentiment analysis, we just need the text. The following line extracts the text from each tweet in the list and saves the new list of just text as [candidate_name].text."
   ]
  },
  {
   "cell_type": "code",
   "execution_count": 10,
   "metadata": {},
   "outputs": [],
   "source": [
    "clinton.text = laply(clinton.tweets, function(t) t$getText())\n",
    "cruz.text = laply(cruz.tweets, function(t) t$getText())\n",
    "sanders.text = laply(sanders.tweets, function(t) t$getText())\n",
    "trump.text = laply(trump.tweets, function(t) t$getText())"
   ]
  },
  {
   "cell_type": "markdown",
   "metadata": {},
   "source": [
    "Now we are all set! Let's load in some postivity (and negativity, I guess...)!"
   ]
  },
  {
   "cell_type": "markdown",
   "metadata": {},
   "source": [
    "### Loading the Opinion Lexicons to Determine Sentiment\n",
    "\n",
    "This is an essential step for sentiment analysis. These text documents from Hu and Liu, 2004* are filled with positive and negative words, respectively. The algorithm we will write next will check these documents to score each word in the tweet. If the algorithm runs across the word \"love\" in a tweet, it will check the positive-words.txt file, find \"love\" is included, and score the word with a +1. More on that in a second..."
   ]
  },
  {
   "cell_type": "code",
   "execution_count": 11,
   "metadata": {},
   "outputs": [],
   "source": [
    "lex.pos = scan('data/opinionLexicon/positive-words.txt', what='character', comment.char = ';')\n",
    "lex.neg = scan('data/opinionLexicon/negative-words.txt', what='character', comment.char = ';')"
   ]
  },
  {
   "cell_type": "markdown",
   "metadata": {},
   "source": [
    "Add words relevant to our corpus using the combine c() function:"
   ]
  },
  {
   "cell_type": "code",
   "execution_count": 12,
   "metadata": {},
   "outputs": [],
   "source": [
    "pos.words = c(lex.pos, 'win', 'prove', 'beat', 'endorse', 'endorses', 'exciting', 'vote', 'wins', 'support', 'supports', 'help', 'winner')\n",
    "neg.words = c(lex.neg, 'outnumbered', 'lose', 'losing', 'defeat', 'halt')"
   ]
  },
  {
   "cell_type": "markdown",
   "metadata": {},
   "source": [
    "Remove words that might skew the results. Use combine c() function if you have more than one word:"
   ]
  },
  {
   "cell_type": "code",
   "execution_count": 13,
   "metadata": {},
   "outputs": [],
   "source": [
    "pos.words <- removeWords(pos.words, 'trump')\n",
    "#neg.words <- removeWords(neg.words, c('issue', 'issues', 'problem', 'problems'))"
   ]
  },
  {
   "cell_type": "markdown",
   "metadata": {},
   "source": [
    "### Implement the sentiment scoring algorithm\n",
    "\n",
    "Here is where the magic happens - let's create the algorithm! To begin a function which will iterate over all of the elements in the specified object, we need to give it a name - score.sentiment sounds good. First, we set the name of our function equal to function(). Then, we fill the parenthesis with our arguments. Here, we want an argument for the tweets (our data we gathered), our positive words, and our negative words. \n",
    "\n",
    "This function takes in an argument (tweets for us), normalizes all of the text (including removing emojis which is important for tweets), splits the tweets into separate words to analyze, compares the tweet words to the positive and negative dictionaries, returns a TRUE if the word is in the dictionary and FALSE if it is not, the trues and falses are summed up for each tweet (this is the score of the tweet), and finally, the tweet's score and its text are returned as a data frame for ease of plotting.\n",
    "\n",
    "Hint: You may notice some odd expressions in the first few lines of the scores function: they are called regular expressions (or, regex). Regular expressions allow the user to match on certain patterns throughout the entire text. In this case, we are matching on punctuation, control characters (or invisible, non-printing characters), and digits, in the effort to strip out unnecessary characters that do not provide sentiment valence. Check out [this CRAN page](https://stat.ethz.ch/R-manual/R-devel/library/base/html/regex.html) for more information about using regex in R."
   ]
  },
  {
   "cell_type": "code",
   "execution_count": 14,
   "metadata": {},
   "outputs": [],
   "source": [
    "score.sentiment = function(tweets, pos.words, neg.words, .progress='none')\n",
    "{\n",
    "\n",
    "  #figure out the score for each tweet specifically\n",
    "  scores = laply(tweets, function(tweet, pos.words, neg.words) {\n",
    "    #normalize tweet text\n",
    "    tweet = gsub('[[:punct:]]', '', tweet)\n",
    "    tweet = gsub('[[:cntrl:]]', '', tweet)\n",
    "    tweet = gsub('\\\\d+', '', tweet)\n",
    "    \n",
    "    #REMOVE EMOJIS!\n",
    "    tweet = iconv(tweet, \"ASCII\", \"UTF-8\", sub=\"\")\n",
    "    \n",
    "    tweet.lower = tolower(tweet)\n",
    "    \n",
    "    #split list into separate words\n",
    "    word.list = str_split(tweet.lower, '\\\\s+')\n",
    "    words = unlist(word.list)\n",
    "    \n",
    "    #compare our words to the dictionaries of positive and negative terms using match function\n",
    "    pos.matches = match(words, pos.words)\n",
    "    neg.matches = match(words, neg.words)\n",
    "    \n",
    "    #match returns a position of the matched term or NA, but we just want the TRUE/FALSE, not NA\n",
    "    pos.matches = !is.na(pos.matches)\n",
    "    neg.matches = !is.na(neg.matches)\n",
    "    \n",
    "    #the score of each tweet is the sum of the positive matches minus the sum of the negative matches\n",
    "    score = sum(pos.matches) - sum(neg.matches)\n",
    "    \n",
    "    return(score)\n",
    "  }, pos.words, neg.words, .progress = .progress)\n",
    "  \n",
    "  #compile the scores and text of tweets into a data frame for plotting\n",
    "  scores.df = data.frame(score=scores, text = tweets)\n",
    "  return(scores.df)\n",
    "}"
   ]
  },
  {
   "cell_type": "markdown",
   "metadata": {},
   "source": [
    "### Algorithm Testing\n",
    "\n",
    "Whenever you create a function (or algorithm), it is best to test it on some sample data to ensure it behaves as you expect. Let's create a sample list of emotional sentences and save it as \"sample\".\n"
   ]
  },
  {
   "cell_type": "code",
   "execution_count": 15,
   "metadata": {},
   "outputs": [],
   "source": [
    "sample = c(\"This ice cream is the best! I love this flavor!\", \n",
    "           \"I am so angry at the terrible weather today. Frustrated.\", \n",
    "           \"Wow, spectacular, I wish I could be as perfect as you.\")"
   ]
  },
  {
   "cell_type": "markdown",
   "metadata": {},
   "source": [
    "We already did the hard part by building our score.sentiment function earlier. Here, we just need to tell the algorithm what to use as arguments! We need to put our sample data in as the \"tweets\" argument, pos.words as the \"pos.words\"\" argument, and neg.words as the \"neg.words\" argument! \n",
    "\n",
    "Lets also save the result of running the algorithm as an object called sample.result."
   ]
  },
  {
   "cell_type": "code",
   "execution_count": 16,
   "metadata": {},
   "outputs": [],
   "source": [
    "sample.result = score.sentiment(sample, pos.words, neg.words)"
   ]
  },
  {
   "cell_type": "markdown",
   "metadata": {},
   "source": [
    "Did it work?"
   ]
  },
  {
   "cell_type": "code",
   "execution_count": 17,
   "metadata": {},
   "outputs": [
    {
     "data": {
      "text/html": [
       "<table>\n",
       "<thead><tr><th scope=col>score</th><th scope=col>text</th></tr></thead>\n",
       "<tbody>\n",
       "\t<tr><td> 2                                                      </td><td>This ice cream is the best! I love this flavor!         </td></tr>\n",
       "\t<tr><td>-3                                                      </td><td>I am so angry at the terrible weather today. Frustrated.</td></tr>\n",
       "\t<tr><td> 3                                                      </td><td>Wow, spectacular, I wish I could be as perfect as you.  </td></tr>\n",
       "</tbody>\n",
       "</table>\n"
      ],
      "text/latex": [
       "\\begin{tabular}{r|ll}\n",
       " score & text\\\\\n",
       "\\hline\n",
       "\t  2                                                       & This ice cream is the best! I love this flavor!         \\\\\n",
       "\t -3                                                       & I am so angry at the terrible weather today. Frustrated.\\\\\n",
       "\t  3                                                       & Wow, spectacular, I wish I could be as perfect as you.  \\\\\n",
       "\\end{tabular}\n"
      ],
      "text/markdown": [
       "\n",
       "score | text | \n",
       "|---|---|---|\n",
       "|  2                                                       | This ice cream is the best! I love this flavor!          | \n",
       "| -3                                                       | I am so angry at the terrible weather today. Frustrated. | \n",
       "|  3                                                       | Wow, spectacular, I wish I could be as perfect as you.   | \n",
       "\n",
       "\n"
      ],
      "text/plain": [
       "  score text                                                    \n",
       "1  2    This ice cream is the best! I love this flavor!         \n",
       "2 -3    I am so angry at the terrible weather today. Frustrated.\n",
       "3  3    Wow, spectacular, I wish I could be as perfect as you.  "
      ]
     },
     "metadata": {},
     "output_type": "display_data"
    }
   ],
   "source": [
    "sample.result"
   ]
  },
  {
   "cell_type": "markdown",
   "metadata": {},
   "source": [
    "It worked! Now we can be sure our algorithm is behaving as we would expect. Lets score our Twitter data since we are confident in our function-creating abilities..."
   ]
  },
  {
   "cell_type": "markdown",
   "metadata": {},
   "source": [
    "### Scoring Twitter Data\n",
    "\n",
    "Again, we have already created our function, we just need to tell it what to analyze. We will use our [candidate].text objects as the \"tweets\" argument and save each as an object called [candidate].result to plot a little later."
   ]
  },
  {
   "cell_type": "code",
   "execution_count": 18,
   "metadata": {},
   "outputs": [],
   "source": [
    "clinton.result = score.sentiment(clinton.text, pos.words, neg.words)\n",
    "cruz.result = score.sentiment(cruz.text, pos.words, neg.words)\n",
    "sanders.result = score.sentiment(sanders.text, pos.words, neg.words)\n",
    "trump.result = score.sentiment(trump.text, pos.words, neg.words)"
   ]
  },
  {
   "cell_type": "markdown",
   "metadata": {},
   "source": [
    "Lets peek at the results to see if it is still working..."
   ]
  },
  {
   "cell_type": "code",
   "execution_count": 19,
   "metadata": {},
   "outputs": [
    {
     "data": {
      "text/html": [
       "<table>\n",
       "<thead><tr><th></th><th scope=col>score</th><th scope=col>text</th></tr></thead>\n",
       "<tbody>\n",
       "\t<tr><th scope=row>3995</th><td> 1                                                                                                                                          </td><td>.@HillaryClinton talks one-on-one w/ @wolfblitzer moments after finding out she won in #Iowa https://t.co/fUFppUa7v3 https://t.co/3rWCziutyg</td></tr>\n",
       "\t<tr><th scope=row>3996</th><td> 1                                                                                                                                          </td><td>RT @CNN: She's 102 years old, and she was at the #IowaCaucus to support @HillaryClinton https://t.co/yhvlaTbKQI https://t.co/IIx2rxm6fq     </td></tr>\n",
       "\t<tr><th scope=row>3997</th><td> 1                                                                                                                                          </td><td>RT @ChloeGMoretz: My girl won Iowa !!!!!! @HillaryClinton                                                                                   </td></tr>\n",
       "\t<tr><th scope=row>3998</th><td>-2                                                                                                                                          </td><td>RT @UniteWomenWY: .@BernieSanders' #BernieBros Problem. His crusaders who hate on @HillaryClinton supporters https://t.co/wRsZzC2KYI        </td></tr>\n",
       "\t<tr><th scope=row>3999</th><td> 0                                                                                                                                          </td><td>RT @HillaryClinton: Text CONGRATS to 47246 to tell Hillary you'll be by her side for the next part of this campaign. https://t.co/FHoAPFiji8</td></tr>\n",
       "\t<tr><th scope=row>4000</th><td> 0                                                                                                                                          </td><td>RT @HillaryClinton: Text CONGRATS to 47246 to tell Hillary you'll be by her side for the next part of this campaign. https://t.co/FHoAPFiji8</td></tr>\n",
       "</tbody>\n",
       "</table>\n"
      ],
      "text/latex": [
       "\\begin{tabular}{r|ll}\n",
       "  & score & text\\\\\n",
       "\\hline\n",
       "\t3995 &  1                                                                                                                                             & .@HillaryClinton talks one-on-one w/ @wolfblitzer moments after finding out she won in \\#Iowa https://t.co/fUFppUa7v3 https://t.co/3rWCziutyg\\\\\n",
       "\t3996 &  1                                                                                                                                             & RT @CNN: She's 102 years old, and she was at the \\#IowaCaucus to support @HillaryClinton https://t.co/yhvlaTbKQI https://t.co/IIx2rxm6fq     \\\\\n",
       "\t3997 &  1                                                                                                                                           & RT @ChloeGMoretz: My girl won Iowa !!!!!! @HillaryClinton                                                                                   \\\\\n",
       "\t3998 & -2                                                                                                                                             & RT @UniteWomenWY: .@BernieSanders' \\#BernieBros Problem. His crusaders who hate on @HillaryClinton supporters https://t.co/wRsZzC2KYI        \\\\\n",
       "\t3999 &  0                                                                                                                                           & RT @HillaryClinton: Text CONGRATS to 47246 to tell Hillary you'll be by her side for the next part of this campaign. https://t.co/FHoAPFiji8\\\\\n",
       "\t4000 &  0                                                                                                                                           & RT @HillaryClinton: Text CONGRATS to 47246 to tell Hillary you'll be by her side for the next part of this campaign. https://t.co/FHoAPFiji8\\\\\n",
       "\\end{tabular}\n"
      ],
      "text/markdown": [
       "\n",
       "| <!--/--> | score | text | \n",
       "|---|---|---|---|---|---|\n",
       "| 3995 |  1                                                                                                                                           | .@HillaryClinton talks one-on-one w/ @wolfblitzer moments after finding out she won in #Iowa https://t.co/fUFppUa7v3 https://t.co/3rWCziutyg | \n",
       "| 3996 |  1                                                                                                                                           | RT @CNN: She's 102 years old, and she was at the #IowaCaucus to support @HillaryClinton https://t.co/yhvlaTbKQI https://t.co/IIx2rxm6fq      | \n",
       "| 3997 |  1                                                                                                                                           | RT @ChloeGMoretz: My girl won Iowa !!!!!! @HillaryClinton                                                                                    | \n",
       "| 3998 | -2                                                                                                                                           | RT @UniteWomenWY: .@BernieSanders' #BernieBros Problem. His crusaders who hate on @HillaryClinton supporters https://t.co/wRsZzC2KYI         | \n",
       "| 3999 |  0                                                                                                                                           | RT @HillaryClinton: Text CONGRATS to 47246 to tell Hillary you'll be by her side for the next part of this campaign. https://t.co/FHoAPFiji8 | \n",
       "| 4000 |  0                                                                                                                                           | RT @HillaryClinton: Text CONGRATS to 47246 to tell Hillary you'll be by her side for the next part of this campaign. https://t.co/FHoAPFiji8 | \n",
       "\n",
       "\n"
      ],
      "text/plain": [
       "     score\n",
       "3995  1   \n",
       "3996  1   \n",
       "3997  1   \n",
       "3998 -2   \n",
       "3999  0   \n",
       "4000  0   \n",
       "     text                                                                                                                                        \n",
       "3995 .@HillaryClinton talks one-on-one w/ @wolfblitzer moments after finding out she won in #Iowa https://t.co/fUFppUa7v3 https://t.co/3rWCziutyg\n",
       "3996 RT @CNN: She's 102 years old, and she was at the #IowaCaucus to support @HillaryClinton https://t.co/yhvlaTbKQI https://t.co/IIx2rxm6fq     \n",
       "3997 RT @ChloeGMoretz: My girl won Iowa !!!!!! @HillaryClinton                                                                                   \n",
       "3998 RT @UniteWomenWY: .@BernieSanders' #BernieBros Problem. His crusaders who hate on @HillaryClinton supporters https://t.co/wRsZzC2KYI        \n",
       "3999 RT @HillaryClinton: Text CONGRATS to 47246 to tell Hillary you'll be by her side for the next part of this campaign. https://t.co/FHoAPFiji8\n",
       "4000 RT @HillaryClinton: Text CONGRATS to 47246 to tell Hillary you'll be by her side for the next part of this campaign. https://t.co/FHoAPFiji8"
      ]
     },
     "metadata": {},
     "output_type": "display_data"
    }
   ],
   "source": [
    "tail(clinton.result)"
   ]
  },
  {
   "cell_type": "code",
   "execution_count": 20,
   "metadata": {},
   "outputs": [
    {
     "data": {
      "text/html": [
       "<table>\n",
       "<thead><tr><th></th><th scope=col>score</th><th scope=col>text</th></tr></thead>\n",
       "<tbody>\n",
       "\t<tr><th scope=row>3995</th><td>-1                                                                                                                                      </td><td>Lol, @jaketapper just called @marcorubio the \"Democrat that the Clinton machine fears most.\" @tedcruz campaign already drafting mailers.</td></tr>\n",
       "\t<tr><th scope=row>3996</th><td> 2                                                                                                                                      </td><td>@tedcruz @HillaryClinton . I can't wait too! You'll do awesome! #TrusTed #CruznwithTed #TedCruz                                         </td></tr>\n",
       "\t<tr><th scope=row>3997</th><td> 0                                                                                                                                      </td><td>It's @realDonaldTrump vs. @tedcruz for the #2016 #GOP race. @elainaplott of @NRO discusses w/@News8NewsTalk: https://t.co/kTa99SSoa6    </td></tr>\n",
       "\t<tr><th scope=row>3998</th><td>-1                                                                                                                                      </td><td>RT @theblaze: .@tedcruz apologizes to @RealBenCarson for campaign rumor that made waves in Iowa: https://t.co/VHpiRxrEZs                </td></tr>\n",
       "\t<tr><th scope=row>3999</th><td>-1                                                                                                                                      </td><td>@SenTedCruz @tedcruz You want to win by cheating and being dishonest? You are just a Democrat and managed to piss us off.               </td></tr>\n",
       "\t<tr><th scope=row>4000</th><td> 0                                                                                                                                      </td><td>RT @AlexSanz: One day after the #IowaCaucus, @TedCruz holds a town hall in Windham, New Hampshire. https://t.co/tJ6SIpTqav              </td></tr>\n",
       "</tbody>\n",
       "</table>\n"
      ],
      "text/latex": [
       "\\begin{tabular}{r|ll}\n",
       "  & score & text\\\\\n",
       "\\hline\n",
       "\t3995 & -1                                                                                                                                       & Lol, @jaketapper just called @marcorubio the \"Democrat that the Clinton machine fears most.\" @tedcruz campaign already drafting mailers.\\\\\n",
       "\t3996 &  2                                                                                                                                             & @tedcruz @HillaryClinton . I can't wait too! You'll do awesome! \\#TrusTed \\#CruznwithTed \\#TedCruz                                         \\\\\n",
       "\t3997 &  0                                                                                                                                           & It's @realDonaldTrump vs. @tedcruz for the \\#2016 \\#GOP race. @elainaplott of @NRO discusses w/@News8NewsTalk: https://t.co/kTa99SSoa6    \\\\\n",
       "\t3998 & -1                                                                                                                                       & RT @theblaze: .@tedcruz apologizes to @RealBenCarson for campaign rumor that made waves in Iowa: https://t.co/VHpiRxrEZs                \\\\\n",
       "\t3999 & -1                                                                                                                                       & @SenTedCruz @tedcruz You want to win by cheating and being dishonest? You are just a Democrat and managed to piss us off.               \\\\\n",
       "\t4000 &  0                                                                                                                                         & RT @AlexSanz: One day after the \\#IowaCaucus, @TedCruz holds a town hall in Windham, New Hampshire. https://t.co/tJ6SIpTqav              \\\\\n",
       "\\end{tabular}\n"
      ],
      "text/markdown": [
       "\n",
       "| <!--/--> | score | text | \n",
       "|---|---|---|---|---|---|\n",
       "| 3995 | -1                                                                                                                                       | Lol, @jaketapper just called @marcorubio the \"Democrat that the Clinton machine fears most.\" @tedcruz campaign already drafting mailers. | \n",
       "| 3996 |  2                                                                                                                                       | @tedcruz @HillaryClinton . I can't wait too! You'll do awesome! #TrusTed #CruznwithTed #TedCruz                                          | \n",
       "| 3997 |  0                                                                                                                                       | It's @realDonaldTrump vs. @tedcruz for the #2016 #GOP race. @elainaplott of @NRO discusses w/@News8NewsTalk: https://t.co/kTa99SSoa6     | \n",
       "| 3998 | -1                                                                                                                                       | RT @theblaze: .@tedcruz apologizes to @RealBenCarson for campaign rumor that made waves in Iowa: https://t.co/VHpiRxrEZs                 | \n",
       "| 3999 | -1                                                                                                                                       | @SenTedCruz @tedcruz You want to win by cheating and being dishonest? You are just a Democrat and managed to piss us off.                | \n",
       "| 4000 |  0                                                                                                                                       | RT @AlexSanz: One day after the #IowaCaucus, @TedCruz holds a town hall in Windham, New Hampshire. https://t.co/tJ6SIpTqav               | \n",
       "\n",
       "\n"
      ],
      "text/plain": [
       "     score\n",
       "3995 -1   \n",
       "3996  2   \n",
       "3997  0   \n",
       "3998 -1   \n",
       "3999 -1   \n",
       "4000  0   \n",
       "     text                                                                                                                                    \n",
       "3995 Lol, @jaketapper just called @marcorubio the \"Democrat that the Clinton machine fears most.\" @tedcruz campaign already drafting mailers.\n",
       "3996 @tedcruz @HillaryClinton . I can't wait too! You'll do awesome! #TrusTed #CruznwithTed #TedCruz                                         \n",
       "3997 It's @realDonaldTrump vs. @tedcruz for the #2016 #GOP race. @elainaplott of @NRO discusses w/@News8NewsTalk: https://t.co/kTa99SSoa6    \n",
       "3998 RT @theblaze: .@tedcruz apologizes to @RealBenCarson for campaign rumor that made waves in Iowa: https://t.co/VHpiRxrEZs                \n",
       "3999 @SenTedCruz @tedcruz You want to win by cheating and being dishonest? You are just a Democrat and managed to piss us off.               \n",
       "4000 RT @AlexSanz: One day after the #IowaCaucus, @TedCruz holds a town hall in Windham, New Hampshire. https://t.co/tJ6SIpTqav              "
      ]
     },
     "metadata": {},
     "output_type": "display_data"
    }
   ],
   "source": [
    "tail(cruz.result)"
   ]
  },
  {
   "cell_type": "code",
   "execution_count": 21,
   "metadata": {},
   "outputs": [
    {
     "data": {
      "text/html": [
       "<table>\n",
       "<thead><tr><th></th><th scope=col>score</th><th scope=col>text</th></tr></thead>\n",
       "<tbody>\n",
       "\t<tr><th scope=row>3995</th><td>2                                                                                                                                               </td><td>RT @BernieSanders: In the year 2016, public colleges and universities should be tuition free. How will we pay for it? We're gonna tax Wall …    </td></tr>\n",
       "\t<tr><th scope=row>3996</th><td>1                                                                                                                                               </td><td>RT @BernieSanders: We do not represent the interests of the billionaire class, Wall Street or corporate America. We don't want their money.     </td></tr>\n",
       "\t<tr><th scope=row>3997</th><td>0                                                                                                                                               </td><td>RT @jhutch1992: #notmeus #Bernie2016 #FeeltheBern #CaucusForBernie @iowastateu\n",
       "@BernieSanders \n",
       "@roytatem\n",
       "@fosterthepeople https://t.co/iQN2… </td></tr>\n",
       "\t<tr><th scope=row>3998</th><td>0                                                                                                                                               </td><td>RT @caitlinstasey: YOUNG DEMOCRATS, U HAV TH ABILITY 2 DRAMATICALLY EFFECT THIS ELECTION!\n",
       "#FeelTheBern\n",
       "@ShaunKing \n",
       "@BernieSanders\n",
       "VOTE http…</td></tr>\n",
       "\t<tr><th scope=row>3999</th><td>1                                                                                                                                               </td><td>@CNNSitRoom @HillaryClinton @CNNPolitics \n",
       "\n",
       "Actually @BernieSanders  has the leverage for additional debates.                                  </td></tr>\n",
       "\t<tr><th scope=row>4000</th><td>0                                                                                                                                               </td><td>RT @BernieSanders: Last night, we began the political revolution not just in Iowa, not just in New Hampshire but all over this nation. http…    </td></tr>\n",
       "</tbody>\n",
       "</table>\n"
      ],
      "text/latex": [
       "\\begin{tabular}{r|ll}\n",
       "  & score & text\\\\\n",
       "\\hline\n",
       "\t3995 & 2                                                                                                                                                & RT @BernieSanders: In the year 2016, public colleges and universities should be tuition free. How will we pay for it? We're gonna tax Wall …    \\\\\n",
       "\t3996 & 1                                                                                                                                                & RT @BernieSanders: We do not represent the interests of the billionaire class, Wall Street or corporate America. We don't want their money.     \\\\\n",
       "\t3997 & 0                                                                                                                                                        & RT @jhutch1992: \\#notmeus \\#Bernie2016 \\#FeeltheBern \\#CaucusForBernie @iowastateu\n",
       "@BernieSanders \n",
       "@roytatem\n",
       "@fosterthepeople https://t.co/iQN2… \\\\\n",
       "\t3998 & 0                                                                                                                                                  & RT @caitlinstasey: YOUNG DEMOCRATS, U HAV TH ABILITY 2 DRAMATICALLY EFFECT THIS ELECTION!\n",
       "\\#FeelTheBern\n",
       "@ShaunKing \n",
       "@BernieSanders\n",
       "VOTE http…\\\\\n",
       "\t3999 & 1                                                                                                                                                & @CNNSitRoom @HillaryClinton @CNNPolitics \n",
       "\n",
       "Actually @BernieSanders  has the leverage for additional debates.                                  \\\\\n",
       "\t4000 & 0                                                                                                                                                & RT @BernieSanders: Last night, we began the political revolution not just in Iowa, not just in New Hampshire but all over this nation. http…    \\\\\n",
       "\\end{tabular}\n"
      ],
      "text/markdown": [
       "\n",
       "| <!--/--> | score | text | \n",
       "|---|---|---|---|---|---|\n",
       "| 3995 | 2                                                                                                                                                | RT @BernieSanders: In the year 2016, public colleges and universities should be tuition free. How will we pay for it? We're gonna tax Wall …     | \n",
       "| 3996 | 1                                                                                                                                                | RT @BernieSanders: We do not represent the interests of the billionaire class, Wall Street or corporate America. We don't want their money.      | \n",
       "| 3997 | 0                                                                                                                                                | RT @jhutch1992: #notmeus #Bernie2016 #FeeltheBern #CaucusForBernie @iowastateu\n",
       "@BernieSanders \n",
       "@roytatem\n",
       "@fosterthepeople https://t.co/iQN2…  | \n",
       "| 3998 | 0                                                                                                                                                | RT @caitlinstasey: YOUNG DEMOCRATS, U HAV TH ABILITY 2 DRAMATICALLY EFFECT THIS ELECTION!\n",
       "#FeelTheBern\n",
       "@ShaunKing \n",
       "@BernieSanders\n",
       "VOTE http… | \n",
       "| 3999 | 1                                                                                                                                                | @CNNSitRoom @HillaryClinton @CNNPolitics \n",
       "\n",
       "Actually @BernieSanders  has the leverage for additional debates.                                   | \n",
       "| 4000 | 0                                                                                                                                                | RT @BernieSanders: Last night, we began the political revolution not just in Iowa, not just in New Hampshire but all over this nation. http…     | \n",
       "\n",
       "\n"
      ],
      "text/plain": [
       "     score\n",
       "3995 2    \n",
       "3996 1    \n",
       "3997 0    \n",
       "3998 0    \n",
       "3999 1    \n",
       "4000 0    \n",
       "     text                                                                                                                                            \n",
       "3995 RT @BernieSanders: In the year 2016, public colleges and universities should be tuition free. How will we pay for it? We're gonna tax Wall …    \n",
       "3996 RT @BernieSanders: We do not represent the interests of the billionaire class, Wall Street or corporate America. We don't want their money.     \n",
       "3997 RT @jhutch1992: #notmeus #Bernie2016 #FeeltheBern #CaucusForBernie @iowastateu\\n@BernieSanders \\n@roytatem\\n@fosterthepeople https://t.co/iQN2… \n",
       "3998 RT @caitlinstasey: YOUNG DEMOCRATS, U HAV TH ABILITY 2 DRAMATICALLY EFFECT THIS ELECTION!\\n#FeelTheBern\\n@ShaunKing \\n@BernieSanders\\nVOTE http…\n",
       "3999 @CNNSitRoom @HillaryClinton @CNNPolitics \\n\\nActually @BernieSanders  has the leverage for additional debates.                                  \n",
       "4000 RT @BernieSanders: Last night, we began the political revolution not just in Iowa, not just in New Hampshire but all over this nation. http…    "
      ]
     },
     "metadata": {},
     "output_type": "display_data"
    }
   ],
   "source": [
    "tail(sanders.result)"
   ]
  },
  {
   "cell_type": "code",
   "execution_count": 22,
   "metadata": {},
   "outputs": [
    {
     "data": {
      "text/html": [
       "<table>\n",
       "<thead><tr><th></th><th scope=col>score</th><th scope=col>text</th></tr></thead>\n",
       "<tbody>\n",
       "\t<tr><th scope=row>3995</th><td>1                                                                                                                                               </td><td>RT @DiamondandSilk: We are Americans.  We Stand Together, United!  https://t.co/9ftoKhKVqe to vote for @realDonaldTrump  in the Primary  #S…    </td></tr>\n",
       "\t<tr><th scope=row>3996</th><td>2                                                                                                                                                   </td><td>RT @IngrahamAngle: The #CruzCrew prevailed! Smart for @MarcoRubio to keep his speech short &amp;amp; sweet. Ditto for @realDonaldTrump who was brie…</td></tr>\n",
       "\t<tr><th scope=row>3997</th><td>1                                                                                                                                               </td><td>Proud of @SophiaMosh 4 announcing herself as delegate in Ffx, VA. @realDonaldTrump u wnt her on ur team! #Trump2016 https://t.co/zY8l4Li11y     </td></tr>\n",
       "\t<tr><th scope=row>3998</th><td>0                                                                                                                                               </td><td>@realDonaldTrump my teacher said you had a book signing in florida and only 3 people came                                                       </td></tr>\n",
       "\t<tr><th scope=row>3999</th><td>1                                                                                                                                               </td><td>RT @realDonaldTrump: On my way to New Hampshire- expecting a big and spirited crowd! \n",
       "#FITN #Trump2016 \n",
       "https://t.co/oUg1ErD0j7 https://t.c…  </td></tr>\n",
       "\t<tr><th scope=row>4000</th><td>0                                                                                                                                               </td><td>@cbcsteve @CBCNews @realDonaldTrump Time to buy a farm out there Donald!!                                                                       </td></tr>\n",
       "</tbody>\n",
       "</table>\n"
      ],
      "text/latex": [
       "\\begin{tabular}{r|ll}\n",
       "  & score & text\\\\\n",
       "\\hline\n",
       "\t3995 & 1                                                                                                                                                  & RT @DiamondandSilk: We are Americans.  We Stand Together, United!  https://t.co/9ftoKhKVqe to vote for @realDonaldTrump  in the Primary  \\#S…    \\\\\n",
       "\t3996 & 2                                                                                                                                                    & RT @IngrahamAngle: The \\#CruzCrew prevailed! Smart for @MarcoRubio to keep his speech short \\&amp; sweet. Ditto for @realDonaldTrump who was brie…\\\\\n",
       "\t3997 & 1                                                                                                                                                  & Proud of @SophiaMosh 4 announcing herself as delegate in Ffx, VA. @realDonaldTrump u wnt her on ur team! \\#Trump2016 https://t.co/zY8l4Li11y     \\\\\n",
       "\t3998 & 0                                                                                                                                                & @realDonaldTrump my teacher said you had a book signing in florida and only 3 people came                                                       \\\\\n",
       "\t3999 & 1                                                                                                                                                    & RT @realDonaldTrump: On my way to New Hampshire- expecting a big and spirited crowd! \n",
       "\\#FITN \\#Trump2016 \n",
       "https://t.co/oUg1ErD0j7 https://t.c…  \\\\\n",
       "\t4000 & 0                                                                                                                                                & @cbcsteve @CBCNews @realDonaldTrump Time to buy a farm out there Donald!!                                                                       \\\\\n",
       "\\end{tabular}\n"
      ],
      "text/markdown": [
       "\n",
       "| <!--/--> | score | text | \n",
       "|---|---|---|---|---|---|\n",
       "| 3995 | 1                                                                                                                                                | RT @DiamondandSilk: We are Americans.  We Stand Together, United!  https://t.co/9ftoKhKVqe to vote for @realDonaldTrump  in the Primary  #S…     | \n",
       "| 3996 | 2                                                                                                                                                | RT @IngrahamAngle: The #CruzCrew prevailed! Smart for @MarcoRubio to keep his speech short &amp; sweet. Ditto for @realDonaldTrump who was brie… | \n",
       "| 3997 | 1                                                                                                                                                | Proud of @SophiaMosh 4 announcing herself as delegate in Ffx, VA. @realDonaldTrump u wnt her on ur team! #Trump2016 https://t.co/zY8l4Li11y      | \n",
       "| 3998 | 0                                                                                                                                                | @realDonaldTrump my teacher said you had a book signing in florida and only 3 people came                                                        | \n",
       "| 3999 | 1                                                                                                                                                | RT @realDonaldTrump: On my way to New Hampshire- expecting a big and spirited crowd! \n",
       "#FITN #Trump2016 \n",
       "https://t.co/oUg1ErD0j7 https://t.c…   | \n",
       "| 4000 | 0                                                                                                                                                | @cbcsteve @CBCNews @realDonaldTrump Time to buy a farm out there Donald!!                                                                        | \n",
       "\n",
       "\n"
      ],
      "text/plain": [
       "     score\n",
       "3995 1    \n",
       "3996 2    \n",
       "3997 1    \n",
       "3998 0    \n",
       "3999 1    \n",
       "4000 0    \n",
       "     text                                                                                                                                            \n",
       "3995 RT @DiamondandSilk: We are Americans.  We Stand Together, United!  https://t.co/9ftoKhKVqe to vote for @realDonaldTrump  in the Primary  #S…    \n",
       "3996 RT @IngrahamAngle: The #CruzCrew prevailed! Smart for @MarcoRubio to keep his speech short &amp; sweet. Ditto for @realDonaldTrump who was brie…\n",
       "3997 Proud of @SophiaMosh 4 announcing herself as delegate in Ffx, VA. @realDonaldTrump u wnt her on ur team! #Trump2016 https://t.co/zY8l4Li11y     \n",
       "3998 @realDonaldTrump my teacher said you had a book signing in florida and only 3 people came                                                       \n",
       "3999 RT @realDonaldTrump: On my way to New Hampshire- expecting a big and spirited crowd! \\n#FITN #Trump2016 \\nhttps://t.co/oUg1ErD0j7 https://t.c…  \n",
       "4000 @cbcsteve @CBCNews @realDonaldTrump Time to buy a farm out there Donald!!                                                                       "
      ]
     },
     "metadata": {},
     "output_type": "display_data"
    }
   ],
   "source": [
    "tail(trump.result)"
   ]
  },
  {
   "cell_type": "markdown",
   "metadata": {},
   "source": [
    "### Plotting Twitter Data\n",
    "\n",
    "To visualize the sentiment of these particular tweets, we will use the plotting system ggplot2 and its quick plot (qplot) functionality. The qplot function takes an object, which is the score from our tweets, then you can specify other parts of the plot. For example, we have titled our plots \"Sentiment of [candidate's twitter handle] on Twitter,\" labeled the x-axis \"Valence of Sentiment (Tweet Score),\" and labeled the y-axis \"Count (Tweets).\" These were all saved as [candidate].plot objects to use later.\n",
    "\n",
    "Below, we impose the \"Black and White\" theme on the plots\n"
   ]
  },
  {
   "cell_type": "code",
   "execution_count": 23,
   "metadata": {},
   "outputs": [
    {
     "name": "stderr",
     "output_type": "stream",
     "text": [
      "Loading required package: grid\n"
     ]
    },
    {
     "data": {
      "image/png": "[encoded data removed]",
      "text/plain": [
       "plot without title"
      ]
     },
     "metadata": {},
     "output_type": "display_data"
    }
   ],
   "source": [
    "# Plotting Twitter Data\n",
    "clinton.plot = qplot(clinton.result$score, fill=I(\"blue\"), xlim=(c(-15,25)), \n",
    "                     main = \"Sentiment of @HillaryClinton\", \n",
    "                     xlab= \"Valence of Sentiment (Tweet Score)\", ylab=\"Count (Tweets)\", binwidth = .25) \n",
    "cruz.plot = qplot(cruz.result$score, fill=I(\"red\"), xlim=(c(-15,25)),\n",
    "                  main = \"Sentiment of @tedcruz\",\n",
    "                  xlab= \"Valence of Sentiment (Tweet Score)\", ylab=\"Count (Tweets)\",binwidth = .25)\n",
    "sanders.plot = qplot(sanders.result$score, fill=I(\"darkgreen\"), xlim=(c(-15,25)),\n",
    "                    main = \"Sentiment of @BernieSanders\", \n",
    "                    xlab= \"Valence of Sentiment (Tweet Score)\", ylab=\"Count (Tweets)\", binwidth = .25)\n",
    "trump.plot = qplot(trump.result$score, fill=I(\"darkorange\"), xlim=(c(-15,25)),\n",
    "                   main = \"Sentiment of @realDonaldTrump\", \n",
    "                   xlab= \"Valence of Sentiment (Tweet Score)\", ylab=\"Count (Tweets)\", binwidth = .25)\n",
    "\n",
    "\n",
    "\n",
    "\n",
    "multiplot(clinton.plot, sanders.plot, trump.plot, cruz.plot, cols=2)"
   ]
  },
  {
   "cell_type": "markdown",
   "metadata": {},
   "source": [
    "### Voila!\n",
    "\n",
    "Acknowledgements: This algorithm was adapted from Jeffrey Breen's Mining Twitter for Airline Consumer Sentiment article. You can find it here: http://www.inside-r.org/howto/mining-twitter-airline-consumer-sentiment. \n",
    "\n",
    "Reference: Liu, Minqing Hu and Junsheng Cheng. \"Opinion Observer: Analyzing and Comparing Opinions on the Web.\" Proceedings of the 14th International World Wide Web conference (WWW-2005), May 10-14, 2005, Chiba, Japan."
   ]
  }
 ],
 "metadata": {
  "kernelspec": {
   "display_name": "R",
   "language": "R",
   "name": "ir"
  },
  "language_info": {
   "codemirror_mode": "r",
   "file_extension": ".r",
   "mimetype": "text/x-r-source",
   "name": "R",
   "pygments_lexer": "r",
   "version": "3.3.1"
  }
 },
 "nbformat": 4,
 "nbformat_minor": 2
}
