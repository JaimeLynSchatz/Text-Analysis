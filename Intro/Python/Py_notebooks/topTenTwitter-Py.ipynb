{
 "cells": [
  {
   "cell_type": "markdown",
   "metadata": {},
   "source": [
    "## Top words from tweets\n",
    "\n",
    "The following script finds the most frequent words in a set of tweets and creates a bargraph of those words. Many times word frequencie analyses are used to see word frequencies in relation to eachother, but this particular script strips out stopwords so the resulting words shed light on recuring themes."
   ]
  },
  {
   "cell_type": "markdown",
   "metadata": {},
   "source": [
    "###  Before we begin\n",
    "Before we start, you will need to have set up a [Carbonate account](https://kb.iu.edu/d/aolp) in order to access [Research Desktop (ReD)](https://kb.iu.edu/d/apum). You will also need to have access to ReD through the [thinlinc client](https://kb.iu.edu/d/aput). If you have not done any of this, or have only done some of this, but not all, you should go to our [textPrep-Py.ipynb](https://github.com/cyberdh/Text-Analysis/blob/master/Intro/Python/Py_notebooks/textPrep-Py.ipynb) before you proceed further. The textPrep-Py notebook provides information and resources on how to get a Carbonate account, how to set up ReD, and how to get started using the Jupyter Notebook on ReD.   "
   ]
  },
  {
   "cell_type": "markdown",
   "metadata": {},
   "source": [
    "### Run CyberDH environment\n",
    "The code in the cell below points to a Python environment specificaly for use with the Python Jupyter Notebooks created by Cyberinfrastructure for Digital Humanities. It allows for the use of the different pakcages in our notebooks and their subsequent data sets.\n",
    "\n",
    "##### Packages\n",
    "- **sys:** Provides access to some variables used or maintained by the interpreter and to functions that interact strongly with the interpreter. It is always available.\n",
    "- **os:** Provides a portable way of using operating system dependent functionality.\n",
    "\n",
    "#### NOTE: This cell is only for use with Research Desktop. You will get an error if you try to run this cell on your personal device!!"
   ]
  },
  {
   "cell_type": "code",
   "execution_count": 1,
   "metadata": {
    "collapsed": true
   },
   "outputs": [],
   "source": [
    "import sys\n",
    "import os\n",
    "sys.path.insert(0,\"/N/u/cyberdh/Carbonate/dhPyEnviron/lib/python3.6/site-packages\")\n",
    "os.environ[\"NLTK_DATA\"] = \"/N/u/cyberdh/Carbonate/dhPyEnviron/nltk_data\""
   ]
  },
  {
   "cell_type": "markdown",
   "metadata": {},
   "source": [
    "### Include necessary packages for notebook \n",
    "\n",
    "Python's extensibility comes in large part from packages. Packages are groups of functions, data, and algorithms that allow users to easily carry out processes without recreating the wheel. Some packages are included in the basic installation of Python, others created by Python users are available for download. Make sure to have the following packages installed before beginning so that they can be accessed while running the scripts.\n",
    "\n",
    "In your terminal, packages can be installed by typing `pip install nameofpackage --user`. However, since you are using ReD and our Python environment, you will not need to install any of the packages below to use this notebook. Anytime you need to make use of a package, however, you need to import it so that Python knows to look in these packages for any functions or commands you use. Below is a brief description of the packages we are using in this notebook:   \n",
    "\n",
    "\n",
    "- **nltk:** Platform for building Python programs to work with human language data.\n",
    "\n",
    "- **string:** contains a number of useful constants and classes, as well as some deprecated legacy functions that are also available as methods on strings.\n",
    "\n",
    "- **collections:** Implements specialized container datatypes providing alternatives to Python's general purpose built-in containers: dict, list, set, and tuple.\n",
    "\n",
    "- **operator:** Exports a set of functions corresponding to the intrinsic operators of Python.\n",
    "\n",
    "- **math:** Provides access to the mathematical functions defined by the C standard.\n",
    "\n",
    "- **matplotlib:** A Python 2D plotting library which produces publication quality figures in a variety of hardcopy formats and interactive environments across platforms.\n",
    "\n",
    "- **numpy:** The fundamental package for scientific computing with Python.\n",
    "\n",
    "- **re:** Provides regular expression matching operations similar to those found in Perl.\n",
    "\n",
    "- **csv:** Implements classes to read and write tabular data in CSV format.\n",
    "- **json:** Allows for handling of data in JSON format.\n",
    "- **pandas:** An open source, BSD-licensed library providing high-performance, easy-to-use data structures and data analysis tools for the Python programming language.\n",
    "- **glob:** Finds all the pathnames matching a specified pattern according to the rules used by the Unix shell, although results are returned in arbitrary order.\n",
    "- **zipfile:** Allows for handling of zipfiles."
   ]
  },
  {
   "cell_type": "code",
   "execution_count": 2,
   "metadata": {
    "collapsed": true
   },
   "outputs": [],
   "source": [
    "from nltk.corpus import stopwords\n",
    "import string\n",
    "from collections import defaultdict\n",
    "import operator\n",
    "import math\n",
    "import matplotlib.pyplot as plt\n",
    "import numpy as np\n",
    "import re\n",
    "import csv\n",
    "import json\n",
    "import pandas as pd\n",
    "import glob\n",
    "import zipfile"
   ]
  },
  {
   "cell_type": "markdown",
   "metadata": {},
   "source": [
    "### Set needed variables\n",
    "This is where you will make some decisions about your data and set the necessary variables. We are doing this so you will not need to make changes in the code further down.\n",
    "\n",
    "First we need to specify what file type our data is saved as. Generally when dealing with Twitter data it will be in either \".json\" or \".csv\" format. For this reason our notebook will only read in \".csv\" or \".json\" files. The first variable `fileType` is where you choose either \".csv\" or \".json\" for your `fileType`. So it should look like `fileType = \".csv\"` or `fileType = \".json\"`.\n",
    "\n",
    "Your data can be contained in one file or many. Therefore, you need to state if you want to read in a single document or an entire directory. If you want to read in a single document, then set `singleDoc` equal to **True**. If you want to read in an entire directory of documents then set `singleDoc` equal to **False**.\n",
    "\n",
    "The `nltkStop` is where you determine if you want to use the built in stopword list provided by the NLTK package. They provide stopword lists in multiple languages. If you wish to use this then set `nltkStop` equal to **True**. If you do not, then set `nltkStop` equal to **False**.\n",
    "\n",
    "The `customStop` variable is for if you have a dataset that contains additional stopwords that you would like to read in and have added to the existing `stopWords` list. You do **NOT** need to use the NLTK stopwords list in order to add your own custom list of stopwords. **NOTE: Your custom stopwords file needs to have one word per line as it reads in a line at a time and the full contents of the line is read in and added to the existing stopwords list.** If you have a list of your own then set `customStop` equal to **True**. If you do not have your own custom stopwords list then set `customStop` equal to **False**.\n",
    "\n",
    "The `stopLang` variable is to choose the language of the nltk stopword list you wish to use. It is currently set to `\"english\"`. If you need a different language, simply change `\"english\"` to the anglicized name of the language you wish to use (e.g. \"spanish\" instead of \"espanol\" or \"german\" instead of \"deutsch\"). If you need to see the list of available languages in nltk simply remove the `#` from in front of `#print(\" \".join(stopwords.fileids()))` and run the cell. A list of available languages will display below the cell. \n",
    "\n",
    "The `stopWords = []` is an empty list that will contain the final list of stop words to be removed form your dataset. What ends up in the list depends on whether you set `nltkStop` and/or `customStop` equal to **True** or **False** and if you add any additional words to the list."
   ]
  },
  {
   "cell_type": "code",
   "execution_count": 3,
   "metadata": {
    "collapsed": true
   },
   "outputs": [],
   "source": [
    "fileType = \".csv\"\n",
    "singleDoc = False\n",
    "nltkStop = True\n",
    "customStop = False\n",
    "stopLang = \"english\"\n",
    "stopWords = []\n",
    "\n",
    "#print(\" \".join(stopwords.fileids()))"
   ]
  },
  {
   "cell_type": "markdown",
   "metadata": {},
   "source": [
    "#### File paths\n",
    "Here we are saving different file paths as variables that we need in our code. We again do this so you will not need to make as many changes to the code later. \n",
    "\n",
    "First we use the `os` package above to find our `['HOME']` directory using the `environ` function. This will work for any operating system, so if you decide to try this out on your personal computer instead of ReD, the `homePath` variable will still be the path to your 'home' directory, so no changes are needed.\n",
    "\n",
    "Next, we combine the `homePath` file path with the folder names that lead to where our data is stored. Note that we do not use any file names yet, just the path to the folder. This is because we may want to read in all the files in the directory, or just one, or we may need to access a file in this directory, but need to navigate to another folder to access other data. There are options below for doing both. We save the path as a variable named `dataHome`.\n",
    "\n",
    "Now we add the `homePath` file path to other folder names that lead to a folder where we will want to save any output generated by this code. We again will change the file names for the output in the appropriate cells down below. We save this file path as the variable `dataResults`.\n",
    "\n",
    "Lastly, we use the file path from `dataHome` to point to the directory where our data is stored and save that as `dataRoot`. Notice though that this is dependent upon whether you chose `\".json\"` or `\".csv\"` as your `fileType` above."
   ]
  },
  {
   "cell_type": "code",
   "execution_count": 4,
   "metadata": {
    "collapsed": true
   },
   "outputs": [],
   "source": [
    "homePath = os.environ['HOME']\n",
    "dataHome = os.path.join(homePath, \"Text-Analysis-master\", \"data\")\n",
    "dataResults = os.path.join(homePath, \"Text-Analysis-master\", \"Output\")\n",
    "if fileType == \".csv\":\n",
    "    dataRoot = os.path.join(dataHome, \"twitter\", \"CSV\", \"parkland\")\n",
    "else:\n",
    "    dataRoot = os.path.join(dataHome, \"twitter\", \"JSON\")"
   ]
  },
  {
   "cell_type": "markdown",
   "metadata": {},
   "source": [
    "### Stopwords\n",
    "If you set `nltkStop` equal to **True** above then this will add the nltk stopwords list to the empty list named `stopWords`. You should already have chosen your language above, so there is no need to do that here.\n",
    "\n",
    "If you wish to add additional words to the `stopWords` list, add the word in quotes to the list in `stopWords.extend(['the', 'words', 'you', 'want', 'to', 'add'])`."
   ]
  },
  {
   "cell_type": "code",
   "execution_count": 5,
   "metadata": {
    "collapsed": true
   },
   "outputs": [],
   "source": [
    "# NLTK Stop words\n",
    "if nltkStop is True:\n",
    "    stopWords.extend(stopwords.words(stopLang))\n",
    "    \n",
    "    stopWords.extend(['amp','rt', 'xo_karmin_ox', 'neveragain', 'ð', 'â', 'ï', 'emma4change', 'nra', 'parkland'])"
   ]
  },
  {
   "cell_type": "markdown",
   "metadata": {},
   "source": [
    "#### Add own stopword list\n",
    "\n",
    "Here is where your own stopwords list is added if you selected **True** in `customStop` above. Here you will need to change the folder names and file name to match your folders and file. Remember to put each folder name in quotes and in the correct path order, always putting the file name including the file extension ('.txt') last."
   ]
  },
  {
   "cell_type": "code",
   "execution_count": 6,
   "metadata": {
    "collapsed": true
   },
   "outputs": [],
   "source": [
    "if customStop is True:\n",
    "    stopWordsFilepath = os.path.join(dataHome, \"earlyModernStopword.txt\")\n",
    "\n",
    "    with open(stopWordsFilepath, \"r\",encoding = 'utf-8') as stopfile:\n",
    "        stopWordsCustom = [x.strip() for x in stopfile.readlines()]\n",
    "\n",
    "    stopWords.extend(stopWordsCustom)"
   ]
  },
  {
   "cell_type": "markdown",
   "metadata": {},
   "source": [
    "### Functions\n",
    "We need to create a few functions in order to calculate and create a wordcloud. Any time you see `def` that means we are *DE*claring a *F*unction. The `def` is usually followed by the name of the function being created and then in parentheses are the parameters the function requires. After the parentheses is a colon, which closes the declaration, then a bunch of code below which is indented. The indented code is the program statement or statements to be executed. Once you have created your function all you need to do in order to run it is call the function by name and make sure you have included all the required parameters in the parentheses. This allows you to do what the function does without having to write out all the code in the function every time you wish to perform that task."
   ]
  },
  {
   "cell_type": "markdown",
   "metadata": {},
   "source": [
    "#### Text Cleaning\n",
    "The first function does some text cleaning for us and requires the parameter: text (as in what text are you cleaning).\n",
    "\n",
    "Now we come to the statements to be executed. First we lowercase the text or else 'Love' and 'love' will be counted as two different words, so we make them all 'love'. Next we remove URLs by removing any text that starts with 'http' and ending with a space. Then we split the text into individual words. Next we remove any empty space, digits, stopwords, and punctuation. Finally, we return a list of cleaned words."
   ]
  },
  {
   "cell_type": "code",
   "execution_count": 7,
   "metadata": {
    "collapsed": true
   },
   "outputs": [],
   "source": [
    "def textClean(text):\n",
    "    \n",
    "    text = text.strip().lower()\n",
    "    \n",
    "    tweets = re.sub(r\"http\\S+\", \"\", text)\n",
    "    \n",
    "    tokens = re.split(r'\\W+', tweets )\n",
    "    \n",
    "    # remove empty string\n",
    "    tokens = [t for t in tokens if t]\n",
    "    \n",
    "    # remove digits\n",
    "    tokens = [t for t in tokens if not t.isdigit()]\n",
    "    \n",
    "    # built-in stop words list\n",
    "    tokens = [t for t in tokens if t not in stopWords]\n",
    "        \n",
    "    # remove punctuation\n",
    "    puncts = list(string.punctuation)\n",
    "    puncts.append('--')\n",
    "\n",
    "    tokens = [t for t in tokens if t not in puncts]\n",
    "\n",
    "    return tokens"
   ]
  },
  {
   "cell_type": "markdown",
   "metadata": {},
   "source": [
    "### Unzip files\n",
    "\n",
    "Here we are unzipping files. Since twitter data can be rather large it is often necessary to compress it into a '.zip' file in order to upload it to places such as GitHub. For this reason, we have setup some code to go in and automatically extract all the items in a compressed '.zip' file so you do't have to and so you don't get errors later. If the data is not in a '.zip' file there is no need to worry, it will not give an error if there are no files ending in '.zip' in your directory.\n",
    "\n",
    "You should not need to make any changes as we use the same variables containing our file paths as above, so if you need to make adjustments to the file paths, you need to make them there, specifcally to the `dataRoot` variable."
   ]
  },
  {
   "cell_type": "code",
   "execution_count": 8,
   "metadata": {
    "collapsed": true
   },
   "outputs": [],
   "source": [
    "direct = dataRoot\n",
    "allZipFiles = glob.glob(os.path.join(dataRoot, \"*.zip\"))\n",
    "for item in allZipFiles:\n",
    "    fileName = os.path.splitext(direct)[0]\n",
    "    zipRef = zipfile.ZipFile(item, \"r\")\n",
    "    zipRef.extractall(fileName)\n",
    "    zipRef.close()\n",
    "    os.remove(item)"
   ]
  },
  {
   "cell_type": "markdown",
   "metadata": {},
   "source": [
    "#### Read a .csv file\n",
    "\n",
    "This function gives parameters and statements for how to read a '.csv' file. First notice we have an `if` statement to start. This function will only be saved to memory if we specified our `fileType` as `\".csv\"` above. Otherwise it will go on to the next cell of code.\n",
    "\n",
    "As far as the function, we are including that we want the reader to encode in utf-8 and ignore any errors from non-utf-8 characters. This is needed for social media due to the use of emojis and other abnormal characters. Then we tell Python to seperate the lines using a comma as the delimiter. Next we add the lines as rows in a column. Finally, we return the the content starting with row 1, not row 0, as row 0 is the header."
   ]
  },
  {
   "cell_type": "code",
   "execution_count": 9,
   "metadata": {
    "collapsed": true
   },
   "outputs": [],
   "source": [
    "if fileType == \".csv\":\n",
    "    def readTweets(filepath, textColIndex, encoding = 'utf-8', errors = 'ignore'):\n",
    "\n",
    "        with open(filepath, encoding = encoding, errors = errors) as f:\n",
    "\n",
    "            reader = csv.reader(f, delimiter = ',', quotechar = '\"')\n",
    "\n",
    "            content = []\n",
    "            for row in reader: \n",
    "                content.append(row[textColIndex])\n",
    "\n",
    "            # skip header\n",
    "            return content[1 : ]"
   ]
  },
  {
   "cell_type": "markdown",
   "metadata": {},
   "source": [
    "#### Read a .json file\n",
    "\n",
    "This function gives parameters and statements for how to read a '.json' file. First notice we have an `if` statement to start. This function will only be saved to memory if we specified our `fileType` as `\".json\"` above. Otherwise it will go on to the next cell of code.\n",
    "\n",
    "As far as the function, we are including that we want the reader to encode in utf-8 and ignore any errors from non-utf-8 characters. This is needed for social media due to the use of emojis and other abnormal characters. Then we use the `loads` function form the `json` package. This will read in the '.json' file content as a string and save it to the empty `tweets = []` list. Next we convert the `tweets` list to a pandas database. Then we convert a single column to a list based on what is chosen for the `textColIndex` variable later on in the code. Finally, we return the content starting with row 1, not row 0, as row 0 is the header. "
   ]
  },
  {
   "cell_type": "code",
   "execution_count": 10,
   "metadata": {
    "collapsed": true
   },
   "outputs": [],
   "source": [
    "if fileType == \".json\":\n",
    "    def readTweets(filepath, textColIndex, encoding = 'utf-8', errors = 'ignore'):\n",
    "        \n",
    "        with open(filepath, encoding = encoding, errors = errors) as jsonData:\n",
    "            tweets = []\n",
    "            for line in jsonData:\n",
    "                tweets.append(json.loads(line))\n",
    "        tweet = pd.DataFrame(tweets)\n",
    "        content = tweet[textColIndex].tolist()\n",
    "\n",
    "        return content[1 : ]"
   ]
  },
  {
   "cell_type": "markdown",
   "metadata": {},
   "source": [
    "#### Frequency count\n",
    "\n",
    "Now we need a function to count all the words and put them in order from most frequent to least frequent. The first four lines say that we are creating a function that creates a dictionary that adds '1' next to a word in that dictionary every time that word is used. The last line says that we are sorting that dictionary from the highest number to the lowest number."
   ]
  },
  {
   "cell_type": "code",
   "execution_count": 11,
   "metadata": {
    "collapsed": true
   },
   "outputs": [],
   "source": [
    "def getFreq(tokens):\n",
    "    \n",
    "    freq = defaultdict(int)\n",
    "\n",
    "    for t in tokens:\n",
    "        freq[t] += 1\n",
    "    \n",
    "    # sorted frequency in descending order\n",
    "    return sorted(freq.items(), key = operator.itemgetter(1), reverse = True)"
   ]
  },
  {
   "cell_type": "markdown",
   "metadata": {},
   "source": [
    "#### Plot Graph Function\n",
    "\n",
    "This next function describes how we want to plot or visualize our results. We name this function `plotTopTen` and it begins by pulling only the top words from our sorted frequency above. You will be able to adjust the number of plotted words further down in another cell. After you choose how many words to plot, we put them in a list called `topNWords`. Next we assign the length of `topNWords` to the variable `x_pos` as this will be used to determine our x axis. Then we assign the count of each word to the variable `cnts` as this will be used for our y axis. Then it says we want a barplot (`plt.bar`) and the rest describes different aspects of the barplot, such as what we want for the x and y axis, the centering of the graph, the colors of the bars, the labels and titles of the graph, and how to save an image file of the visualization so we can use it in future presentations or publications. We will make changes to some of these later in the code."
   ]
  },
  {
   "cell_type": "code",
   "execution_count": 12,
   "metadata": {
    "collapsed": true
   },
   "outputs": [],
   "source": [
    "def plotTopTen(sortedFreq, title, imgFilepath, dpi):\n",
    "    \n",
    "    topn = n\n",
    "\n",
    "    for t in sortedFreq[0 : topn]:\n",
    "        \n",
    "        print('{} : {}'.format(t[0], t[1]))\n",
    "    \n",
    "    topNWords = [w for w in sortedFreq[0 : topn]]\n",
    "\n",
    "    x_pos = np.arange(len(topNWords))\n",
    "    cnts = [w[1] for w in topNWords]\n",
    "\n",
    "    plt.rcdefaults()\n",
    "\n",
    "    plt.bar(x_pos, cnts, align = 'center', alpha = 0.5, color = color)\n",
    "    \n",
    "\n",
    "        \n",
    "    plt.xticks(x_pos, [w[0] for w in topNWords])\n",
    "    plt.xticks(rotation = 45)\n",
    "        \n",
    "    xlabel = plt.xlabel('Words')\n",
    "    xlabel.set_color(labCol)\n",
    "    ylabel = plt.ylabel('Frequency')\n",
    "    ylabel.set_color(labCol)\n",
    "    \n",
    "    high = max(cnts)\n",
    "    low = 0\n",
    "    \n",
    "    plt.ylim(low, math.ceil(high + 0.1 * (high - low)))\n",
    "    \n",
    "    for xpos, count in zip(x_pos, cnts):\n",
    "    \n",
    "        plt.text(x = xpos, y = count + 1, s = str(count), ha = 'center', va = 'bottom')\n",
    "\n",
    "    plt.title(title)\n",
    " \n",
    "    plt.savefig(imgFilepath, format = fmt, dpi = dpi, bbox_inches = 'tight')\n",
    "    \n",
    "    plt.show()"
   ]
  },
  {
   "cell_type": "markdown",
   "metadata": {},
   "source": [
    "#### Pull from a single file\n",
    "\n",
    "This function reads a single file from which we will be counting and ploting the bargraph. This function calls the `readTweets` function form above, then adds the new line mark to the end of each row (`'\\n'.join(content)`), so that the cleaning function we created above knows where the end of each line is. It then calls the `textClean` function to clean the text and returns the cleaned text."
   ]
  },
  {
   "cell_type": "code",
   "execution_count": 13,
   "metadata": {
    "collapsed": true
   },
   "outputs": [],
   "source": [
    "def getTokensFromSingleText(dataFilepath, textColIndex, encoding):\n",
    "    \n",
    "    content = readTweets(dataFilepath, textColIndex, encoding)\n",
    "    \n",
    "    text = '\\n'.join(content)\n",
    "\n",
    "    return textClean(text)"
   ]
  },
  {
   "cell_type": "markdown",
   "metadata": {},
   "source": [
    "#### Pull from a directory\n",
    "\n",
    "This function reads all files in a directory from which we will be counting and ploting a bargraph. This function 'walks' through the directory and all sub-directories, ignores hidden files which are designated by the file name beginning with a period. The function then assigns the entire file path for each file in the directory to the variable `dataFilepath`. Then the function calls the `readTweets` function from above, adds the new line mark to the end of each row (`text = '\\n'.join(content)`), so that the cleaning function we created above knows where the end of each line is. It then calls the `textClean` function we created above. Then the function says to print the file path as soon as the file has been processed so we can see the progress and finally it returns the newly cleaned tokens."
   ]
  },
  {
   "cell_type": "code",
   "execution_count": 14,
   "metadata": {
    "collapsed": true
   },
   "outputs": [],
   "source": [
    "def getTokensFromScan(dataRoot, textColIndex, encoding):\n",
    "   \n",
    "    tokens = []\n",
    "    \n",
    "    for root, subdirs, files in os.walk(dataRoot):\n",
    "        \n",
    "        for filename in files:\n",
    "            \n",
    "            # skip hidden file\n",
    "            if filename.startswith('.'):\n",
    "                continue\n",
    "            \n",
    "            dataFilepath = os.path.join(root, filename)\n",
    "            \n",
    "            content = readTweets(dataFilepath, textColIndex, encoding)\n",
    "            text = '\\n'.join(content)\n",
    "            tokens.extend(textClean(text))\n",
    "                \n",
    "            print('Finished tokenizing text {}\\n'.format(dataFilepath))\n",
    "            \n",
    "    return tokens"
   ]
  },
  {
   "cell_type": "markdown",
   "metadata": {},
   "source": [
    "### Plot Top Ten\n",
    "\n",
    "Here we have an 'if else' statement that differentiates between creating a bargraph from a single document or an entire directory, depending on if you set `singleDoc` above equal to **True** or **False**.\n",
    "\n",
    "#### First set variables\n",
    "Before we run the cell below, make sure the variables in the beginning of the cell are set correctly. The `n` variable should have a number assigned to it that is the number of words you wish to plot in your graph.\n",
    "\n",
    "First we need to determine the number of top words we wish to plot. We do this by assigning the number of words to the variable `n`. It is currently set to see the top 10 words, but you can raise or lower this number depending on your needs.\n",
    "\n",
    "Then we assign our `textColIndex`, and `encoding` variables. The only one you will most likely want to change is the `textColIndex` variable. This will tell both the `drawWordCloudFromSingleFile` and `drawWordCloudFromScan` functions which column in your data to process. You can either name it by index number (remembering to start counting at 0 and not 1) for '.csv' or by the column header for '.json' files. To do it by index number you count from the left beginning with 0 and enter the number of the column you wish to process. If you want the first column, put 0, if the third column, put 2, and so on. If you wish to choose the column by the header, then put the header in quotes and set `textColIndex` equal to that header. It should look like this `textColIndex = 'text'`.\n",
    "\n",
    "The `singleDocName` variable should contain the single file you wish to run if you are only interested in a single document. If you set `singleDoc` above to **False** then don't worry about the `singleDocName` variable. This variable automatically adds the value of the `fileType` variable from above to the end of the document name. So if you chose '.csv' as your `fileType` and you have a file named 'myFile.csv', you only need to put 'myFile' in the quotes. The same goes for '.json' files.\n",
    "\n",
    "Next we name the output '.svg' file produced by the code below. Right now the name is a generic `\"topTenTwitter.svg\"` but you may wish to change it to something that matches your data.\n",
    "\n",
    "Then we set our file format. We assign this format to the variable `fmt`. Make sure the `fmt` matches the file type in the output file name.\n",
    "\n",
    "Now we set our dpi. The `dpi` variable gives the desired resolution of our output image.\n",
    "\n",
    "Next, we need to give our graph a title. We assign the title to the variable `title`.\n",
    "\n",
    "Lastly, we need to choose some color(s) for our graph. First we choose the bar colors. This is currently set so each bar has it's own color. If you choose to do this you will need to list a color for each bar in your graph. The other option is to list only one color and make the bars all the same color. Either way, we assign our color selection as the variable `color`. Then we choose the color for our x axis and y axis labels. We assign our chosed color to the variable `labCol`.\n",
    "\n",
    "#### From a single text\n",
    "\n",
    "If you set `singleDoc` above equal to **True**, then the first part of the script in the box below uses the functions and file paths we have created to get word frequencies and plot a bar graph from a single '.txt' file. \n",
    "\n",
    "We start by pointing to the specific file. Then we break the file down into tokens uisng the single file function from above.\n",
    "\n",
    "Next we count word frequencies using our word frequency function we made earlier.\n",
    "\n",
    "Then we assign the file path where we are going to save our output image to the variable `imgFilepath`. \n",
    "\n",
    "Then we implement the plotting function we created above to give us a bargraph of the most frequent thematic words in our chosen text. \n",
    "\n",
    "#### Wordcloud from multiple files in a directory\n",
    "\n",
    "If you set `singleDoc` equal to **False**, then the second part of the script in the box below after `else:` now uses the functions and file paths we have created above to get word frequencies and plot a bargraph from multiple files in a directory. \n",
    "\n",
    "We start by breaking the documents in our folder down into tokens using the function for getting tokens from a directory of documents we made earlier.\n",
    "\n",
    "Then we get the word frequencies using our function for counting words from above.\n",
    "\n",
    "Then we assign the file path where we are going to save our output image to the variable `imgFilepath`.  \n",
    "\n",
    "Then we implement the plotting function we created above to give us a bargraph of the most frequent thematic words in our chosen corpus. "
   ]
  },
  {
   "cell_type": "code",
   "execution_count": 15,
   "metadata": {
    "collapsed": false
   },
   "outputs": [
    {
     "name": "stdout",
     "output_type": "stream",
     "text": [
      "Finished tokenizing text /N/u/klosteda/Carbonate/Text-Analysis-master/data/twitter/CSV/parkland/neverAgain.csv\n",
      "\n",
      "Finished tokenizing text /N/u/klosteda/Carbonate/Text-Analysis-master/data/twitter/CSV/parkland/nra.csv\n",
      "\n",
      "Finished tokenizing text /N/u/klosteda/Carbonate/Text-Analysis-master/data/twitter/CSV/parkland/parkland.csv\n",
      "\n",
      "gun : 18315\n",
      "students : 14537\n",
      "gunreformnow : 13299\n",
      "guns : 12996\n",
      "trump : 10915\n",
      "see : 10781\n",
      "school : 10720\n",
      "florida : 10456\n",
      "us : 10273\n",
      "people : 10272\n"
     ]
    },
    {
     "data": {
      "image/png": "[encoded data removed]",
      "text/plain": [
       "<Figure size 640x480 with 1 Axes>"
      ]
     },
     "metadata": {},
     "output_type": "display_data"
    }
   ],
   "source": [
    "n = 10\n",
    "textColIndex = 2\n",
    "encoding = 'utf-8'\n",
    "singleDocName = 'neverAgain' + fileType\n",
    "outputFile = \"topTenTwitter.svg\"\n",
    "fmt = 'svg'\n",
    "dpi = 300\n",
    "title = 'Top 10 Words, #neveragain, #parkland, #nra'\n",
    "color = ['red','orange', 'yellow', 'green', 'blue','darkorchid', 'darkred', 'darkorange','gold', 'darkgreen']\n",
    "labCol = 'crimson'\n",
    "\n",
    "if singleDoc is True:\n",
    "    # Use case one, analyze top 10 most frequent words from a single text\n",
    "\n",
    "    dataFilepath = os.path.join(dataRoot, singleDocName)\n",
    "\n",
    "    # get tokens\n",
    "    tokens = getTokensFromSingleText(dataFilepath, textColIndex, encoding)\n",
    "\n",
    "    # get frequency\n",
    "    freq = getFreq(tokens)\n",
    "\n",
    "    imgFilepath = os.path.join(dataResults, outputFile)\n",
    "\n",
    "    plotTopTen(freq, title, imgFilepath, dpi)\n",
    "else:\n",
    "    # Use case two, analyze top 10 most frequent words from a corpus root\n",
    "\n",
    "    tokens = getTokensFromScan(dataRoot, textColIndex, encoding)\n",
    "\n",
    "    # get frequency\n",
    "    freq = getFreq(tokens)\n",
    "\n",
    "    imgFilepath = os.path.join(dataResults, outputFile)\n",
    "\n",
    "    plotTopTen(freq, title, imgFilepath, dpi)\n"
   ]
  },
  {
   "cell_type": "markdown",
   "metadata": {},
   "source": [
    "### VOILA!"
   ]
  }
 ],
 "metadata": {
  "kernelspec": {
   "display_name": "Python 3",
   "language": "python",
   "name": "python3"
  },
  "language_info": {
   "codemirror_mode": {
    "name": "ipython",
    "version": 3
   },
   "file_extension": ".py",
   "mimetype": "text/x-python",
   "name": "python",
   "nbconvert_exporter": "python",
   "pygments_lexer": "ipython3",
   "version": "3.6.0"
  }
 },
 "nbformat": 4,
 "nbformat_minor": 2
}
