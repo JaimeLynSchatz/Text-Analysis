{
 "cells": [
  {
   "cell_type": "markdown",
   "metadata": {},
   "source": [
    "### Beginning Text Preparation\n",
    "\n",
    "In order to perform text analysis, there are a few R commands you should have up your sleeve. Some of the commands help get you set up and locate all of the files in your corpora. Other commands can be used throughout the programming process to check on your algorithm and make sure everything looks the way you think it should. Learning the following commands will give you a brief introduction to R while also setting you up with a solid toolkit to begin programming.\n"
   ]
  },
  {
   "cell_type": "markdown",
   "metadata": {},
   "source": [
    "### Loading files from Github to Carbonate\n",
    "\n",
    "Since we will be using Carbonate as the example for our file paths and other elements in the scripts and Jupyter notebooks, many of you may want to save these files to Carbonate to make following along a bit easier. To do this you will need a Carbonate account if you do not already have one. Indiana University students, faculty, staff, and sponsored affiliates can request a Carbonate account. Steps on how to do so can be found [here](https://kb.iu.edu/d/aolp). Once you have your account, you'll want to be able to access the [Research Desktop (RED)](https://kb.iu.edu/d/apum). You will also need to have access to RED through the [thinlinc client](https://kb.iu.edu/d/aput). Once you have your account and can access it, you'll want to acquire the [Cyber DH Box Text-Analysis](https://iu.box.com/v/Text-Analysis) repository and save it to Carbonate via Research Desktop. Or download it to Carbonate from our [GitHub Repository](https://github.com/cyberdh/Text-Analysis). Whichever option you use, it will download as a .zip file so you will need to double click the .zip file to extract the repository. \n",
    "\n",
    "The nice thing about RED is that it comes with a built in way for you to access your Box account so you can download the repository to Box and use the Text-Analysis notebooks and scripts on Carbonate and your own computer without having to use an SFTP client or some other means of moving files back and forth.\n",
    "\n",
    "To use Box on RED go to Applications > Storage > Box setup and follow the instructions. You can also get help [here](https://kb.iu.edu/d/apxv#storage)\n",
    "\n",
    "Now that you have Carbonate, RED, and Box up and running, lets make sure you can run the notebooks and scripts."
   ]
  },
  {
   "cell_type": "markdown",
   "metadata": {},
   "source": [
    "### Using Jupyter Notebooks and R Studio\n",
    "These R Notebooks are actually .ipynb files, which means they run in Jupyter Notebook. Luckily, on RED, there is a Jupyter Notebook icon and the R kernel needed to run .ipynb notebooks in R is already installed. Currently RED is running R version 3.3.1. \n",
    "\n",
    "Look in the top left corner of RED and go to Applications > Analytics > Jupyter Notebook and double click Jupyter Notebook. When Jupyer Notebook opens (which might take a minute) you should see a list of files and folders on the left hand side. One of these should say Text-Analysis if you successfully downloaded and unzipped the repository. Then just go to Text-Analysis > R > RNotebooks and choose the notebook you wish to use, it should open up in Jupyter Notebook.\n",
    "\n",
    "To run the R scripts (same code as the notebooks, but with very little explanation) you will need to use R Studio. The really nice thing about RED is that it comes with R Studio pre-installed as well. Go to Applications > Analytics > R Studio (which should be at the bottom of the list). Double click R Studio and it should start right up. Now go to File > Open File > Text-Analysis > R > Scripts and choose the R script you wish to use."
   ]
  },
  {
   "cell_type": "markdown",
   "metadata": {},
   "source": [
    "### Let's get started\n",
    "\n",
    "First, we need to set our working directory (setwd). This is the folder that points to where your data is stored. In our case we have multiple folders that we may want to use at some point, but they are all contained in our Text-Analysis folder, so we will set that as our working directory."
   ]
  },
  {
   "cell_type": "code",
   "execution_count": 1,
   "metadata": {
    "collapsed": true
   },
   "outputs": [],
   "source": [
    "setwd(\"~/Text-Analysis\")"
   ]
  },
  {
   "cell_type": "markdown",
   "metadata": {},
   "source": [
    "### Include necessary packages for notebook \n",
    "\n",
    "R's extensibility comes in large part from packages. Packages are groups of functions, data, and algorithms that allow users to easily carry out processes without recreating the wheel. Some packages are included in the basic installation of R, others created by R users are available for download. Make sure to have the following packages installed before beginning so that they can be accessed while running the scripts.\n",
    "\n",
    "In R Studio, packages can be installed by navigating to Tools in the menu bar > Install Packages. Or in the bottom right panel click on the \"packages\" tab and then click on \"install.\""
   ]
  },
  {
   "cell_type": "markdown",
   "metadata": {},
   "source": [
    "### Load Packages\n",
    "\n",
    "In order to access the packages you have installed within the environment in which you are currently working, you must load them at the beginning of your script. To load packages, use the library() command (see code below).\n",
    "\n",
    "The three packages listed are often used for text analysis in R:\n",
    "\n",
    "- **tm:** A framework for text mining applications within R.\n",
    "\n",
    "- **NLP:** Basic classes and methods for Natural Language Processing.\n",
    "\n",
    "- **ggplot2:** A system for 'declaratively' creating graphics,\n",
    "    based on \"The Grammar of Graphics\". You provide the data, tell 'ggplot2'\n",
    "    how to map variables to aesthetics, what graphical primitives to use,\n",
    "    and it takes care of the details."
   ]
  },
  {
   "cell_type": "code",
   "execution_count": 2,
   "metadata": {
    "collapsed": false
   },
   "outputs": [
    {
     "name": "stderr",
     "output_type": "stream",
     "text": [
      "Loading required package: NLP\n",
      "\n",
      "Attaching package: 'ggplot2'\n",
      "\n",
      "The following object is masked from 'package:NLP':\n",
      "\n",
      "    annotate\n",
      "\n"
     ]
    }
   ],
   "source": [
    "library(tm)\n",
    "library(NLP)\n",
    "library(ggplot2)"
   ]
  },
  {
   "cell_type": "markdown",
   "metadata": {},
   "source": [
    "To perform topic modeling, you may load lsa or lda. For data visualization, a popular package besides ggplot2 is dendextend to create a cluster dendrogram. You can peruse the various contributed packages [here](https://cran.r-project.org/web/packages/available_packages_by_name.html). The tutorials included in the R Toolkit will instruct you on which packages to install and load."
   ]
  },
  {
   "cell_type": "markdown",
   "metadata": {},
   "source": [
    "### Load data \n",
    "\n",
    "Now you are ready to start looking at your data! First, you must load it into your environment. The scan() function will do this for you. If you want to load just one text into your environment, here is the syntax:\n",
    "\n",
    "The first argument is the filename (or path if the file resides in a different directory than your working directory). \n",
    "The second argument \"what\" specified as type \"character\" will read the text in as a character vector. \n",
    "The third argument \"sep\" specified as \"backslash\" + \"n\" which is the way to code line breaks in R.\n",
    "\n",
    "So putting everything together, this line reads in the first episode of Star Trek: The Next Generation which is 102.txt, and separates the text into a character vector by line."
   ]
  },
  {
   "cell_type": "code",
   "execution_count": 3,
   "metadata": {
    "collapsed": true
   },
   "outputs": [],
   "source": [
    "text <- scan(\"data/StarTrekNextGenClean/season1/102.txt\", what=\"character\", sep=\"\\n\")"
   ]
  },
  {
   "cell_type": "markdown",
   "metadata": {},
   "source": [
    "The final, crucial aspect of this line is the assignment. \"<-\" assigns whatever results on the right side of the arrow into the variable specified on the left side. Some programming languages use \"=\" instead of the arrow. R will also acknowledge this, but using the arrow is best practice.\n",
    "\n",
    "Here, we have named that variable \"text\" since it holds the text with which we are working. However, you can name this variable whatever you would like. This line will give the exact same result, although it is best to name the variable in relation to what it holds:"
   ]
  },
  {
   "cell_type": "code",
   "execution_count": 4,
   "metadata": {
    "collapsed": true
   },
   "outputs": [],
   "source": [
    "potatoes <- scan(\"data/StarTrekNextGenClean/season1/102.txt\", what=\"character\", sep=\"\\n\")"
   ]
  },
  {
   "cell_type": "markdown",
   "metadata": {},
   "source": [
    "Now that we have the text saved as a variable, we can reuse that variable simply by calling \"text\" instead of the entire scan line again. The next few commands will use \"text\" to explore the data.\n"
   ]
  },
  {
   "cell_type": "markdown",
   "metadata": {},
   "source": [
    "### R Objects\n",
    "\n",
    "R is distinct from other programming languages in that it handles objects a little differently. Throughout text analysis, you will need to massage your text and textual data by changing it into various kinds of objects which make things easier. Check out [this tutorial](https://www.nealgroothuis.name/introduction-to-data-types-and-objects-in-r/) by Neal Groothuis which simply explains the various types of data objects. Since some kinds of objects prohibit certain actions, a simple way to check the type of object you are currently working with is class(). For example, the code below shows that the class of the Jane Eyre \"text\" is a character vector, which we would assume since that is what we specified while loading it in."
   ]
  },
  {
   "cell_type": "code",
   "execution_count": 5,
   "metadata": {
    "collapsed": false
   },
   "outputs": [
    {
     "data": {
      "text/html": [
       "'character'"
      ],
      "text/latex": [
       "'character'"
      ],
      "text/markdown": [
       "'character'"
      ],
      "text/plain": [
       "[1] \"character\""
      ]
     },
     "metadata": {},
     "output_type": "display_data"
    }
   ],
   "source": [
    "class(text)"
   ]
  },
  {
   "cell_type": "markdown",
   "metadata": {},
   "source": [
    "### Data Inspection\n",
    "\n",
    "Just as you may want to verify the type of the object with which you are working, you may want to view it from other angles to make sure the data is formed as you expect.\n",
    "\n",
    "The length function shows the number of elements within an object. If you find that the length is zero, you may have to go back and reload the data, or check to make sure your algorithm is working correctly."
   ]
  },
  {
   "cell_type": "code",
   "execution_count": 6,
   "metadata": {
    "collapsed": false
   },
   "outputs": [
    {
     "data": {
      "text/html": [
       "1774"
      ],
      "text/latex": [
       "1774"
      ],
      "text/markdown": [
       "1774"
      ],
      "text/plain": [
       "[1] 1774"
      ]
     },
     "metadata": {},
     "output_type": "display_data"
    }
   ],
   "source": [
    "length(text)"
   ]
  },
  {
   "cell_type": "markdown",
   "metadata": {},
   "source": [
    "We can also look at individual elements - Lets see what the first line of our text is..."
   ]
  },
  {
   "cell_type": "code",
   "execution_count": 7,
   "metadata": {
    "collapsed": false
   },
   "outputs": [
    {
     "data": {
      "text/html": [
       "'Captain\\'s log, stardate 42353.7.'"
      ],
      "text/latex": [
       "'Captain\\textbackslash{}'s log, stardate 42353.7.'"
      ],
      "text/markdown": [
       "'Captain\\'s log, stardate 42353.7.'"
      ],
      "text/plain": [
       "[1] \"Captain's log, stardate 42353.7.\""
      ]
     },
     "metadata": {},
     "output_type": "display_data"
    }
   ],
   "source": [
    "text[1]"
   ]
  },
  {
   "cell_type": "markdown",
   "metadata": {},
   "source": [
    "Or perhaps you would like to see the first few elements:\n"
   ]
  },
  {
   "cell_type": "code",
   "execution_count": 8,
   "metadata": {
    "collapsed": false
   },
   "outputs": [
    {
     "data": {
      "text/html": [
       "<ol class=list-inline>\n",
       "\t<li>'Captain\\'s log, stardate 42353.7.'</li>\n",
       "\t<li>'Our destination is planet Cygnus'</li>\n",
       "\t<li>'IV, beyond which lies the great'</li>\n",
       "\t<li>'unexplored mass of the galaxy.'</li>\n",
       "\t<li>'My orders are to examine Farpoint,'</li>\n",
       "\t<li>'a starbase built there by the'</li>\n",
       "</ol>\n"
      ],
      "text/latex": [
       "\\begin{enumerate*}\n",
       "\\item 'Captain\\textbackslash{}'s log, stardate 42353.7.'\n",
       "\\item 'Our destination is planet Cygnus'\n",
       "\\item 'IV, beyond which lies the great'\n",
       "\\item 'unexplored mass of the galaxy.'\n",
       "\\item 'My orders are to examine Farpoint,'\n",
       "\\item 'a starbase built there by the'\n",
       "\\end{enumerate*}\n"
      ],
      "text/markdown": [
       "1. 'Captain\\'s log, stardate 42353.7.'\n",
       "2. 'Our destination is planet Cygnus'\n",
       "3. 'IV, beyond which lies the great'\n",
       "4. 'unexplored mass of the galaxy.'\n",
       "5. 'My orders are to examine Farpoint,'\n",
       "6. 'a starbase built there by the'\n",
       "\n",
       "\n"
      ],
      "text/plain": [
       "[1] \"Captain's log, stardate 42353.7.\"   \"Our destination is planet Cygnus\"  \n",
       "[3] \"IV, beyond which lies the great\"    \"unexplored mass of the galaxy.\"    \n",
       "[5] \"My orders are to examine Farpoint,\" \"a starbase built there by the\"     "
      ]
     },
     "metadata": {},
     "output_type": "display_data"
    }
   ],
   "source": [
    "head(text)"
   ]
  },
  {
   "cell_type": "markdown",
   "metadata": {},
   "source": [
    "Or last few elements:"
   ]
  },
  {
   "cell_type": "code",
   "execution_count": 9,
   "metadata": {
    "collapsed": false
   },
   "outputs": [
    {
     "data": {
      "text/html": [
       "<ol class=list-inline>\n",
       "\t<li>'savagery\"? No, the one proven'</li>\n",
       "\t<li>'guilty of that crime is you!'</li>\n",
       "\t<li>'I trust this isn\\'t the usual way'</li>\n",
       "\t<li>'our missions will go, sir.'</li>\n",
       "\t<li>'On no, Number One, I\\'m sure'</li>\n",
       "\t<li>'they\\'ll be much more interesting.'</li>\n",
       "</ol>\n"
      ],
      "text/latex": [
       "\\begin{enumerate*}\n",
       "\\item 'savagery\"? No, the one proven'\n",
       "\\item 'guilty of that crime is you!'\n",
       "\\item 'I trust this isn\\textbackslash{}'t the usual way'\n",
       "\\item 'our missions will go, sir.'\n",
       "\\item 'On no, Number One, I\\textbackslash{}'m sure'\n",
       "\\item 'they\\textbackslash{}'ll be much more interesting.'\n",
       "\\end{enumerate*}\n"
      ],
      "text/markdown": [
       "1. 'savagery\"? No, the one proven'\n",
       "2. 'guilty of that crime is you!'\n",
       "3. 'I trust this isn\\'t the usual way'\n",
       "4. 'our missions will go, sir.'\n",
       "5. 'On no, Number One, I\\'m sure'\n",
       "6. 'they\\'ll be much more interesting.'\n",
       "\n",
       "\n"
      ],
      "text/plain": [
       "[1] \"savagery\\\"? No, the one proven\"    \"guilty of that crime is you!\"     \n",
       "[3] \"I trust this isn't the usual way\"  \"our missions will go, sir.\"       \n",
       "[5] \"On no, Number One, I'm sure\"       \"they'll be much more interesting.\""
      ]
     },
     "metadata": {},
     "output_type": "display_data"
    }
   ],
   "source": [
    "tail(text)"
   ]
  },
  {
   "cell_type": "markdown",
   "metadata": {},
   "source": [
    "There are many more ways to inspect parts of data (check out the CRAN), but these quick checks are helpful while manipulating the data and debugging the inevitable issues you will encounter while developing your script."
   ]
  },
  {
   "cell_type": "markdown",
   "metadata": {},
   "source": [
    "### Explore\n",
    "\n",
    "The above commands are a few tips and tricks to get you started with R. Similar to R's extensibility with packages, the R user community has great resouces for learners. The [CRAN FAQ](https://cran.r-project.org/) and the [CRAN Manual](https://cran.r-project.org/doc/manuals/R-intro.pdf) answers quite a few questions about R and its uses.\n",
    "\n",
    "Googling the issue, function, or object name with \"r\" will return helpful resources. If a PDF from cran.r-project.org appears, there you will find extensive documentation and examples for that function, etc. and other related resources. Similarly, any result from r-bloggers.com will most likely be helpful. For any other issues, Stack Overflow is helpful to find answers to common questions as well as ask your own.\n",
    "\n",
    "The rest of the IU tutorials explain some methods for textual analysis using R. If you are ready to dive in, click on one to begin!"
   ]
  }
 ],
 "metadata": {
  "kernelspec": {
   "display_name": "R 3.4.4",
   "language": "R",
   "name": "ir3.4"
  },
  "language_info": {
   "codemirror_mode": "r",
   "file_extension": ".r",
   "mimetype": "text/x-r-source",
   "name": "R",
   "pygments_lexer": "r",
   "version": "3.4.4"
  }
 },
 "nbformat": 4,
 "nbformat_minor": 2
}
