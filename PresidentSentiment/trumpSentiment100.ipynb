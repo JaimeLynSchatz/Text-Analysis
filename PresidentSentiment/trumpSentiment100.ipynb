{
 "cells": [
  {
   "cell_type": "markdown",
   "metadata": {},
   "source": [
    "# Complex Sentiment Analysis"
   ]
  },
  {
   "cell_type": "markdown",
   "metadata": {},
   "source": [
    "#### Opening data files\n",
    "\n",
    "Instead of getting the data from the web in the script, I suggest you just download it and save it in the folder your script is in. Here are the links:\n",
    "\n",
    "Positive data http://www.unc.edu/~ncaren/haphazard/positive.txt\n",
    "\n",
    "Negative data http://www.unc.edu/~ncaren/haphazard/negative.txt\n",
    "\n"
   ]
  },
  {
   "cell_type": "markdown",
   "metadata": {},
   "source": [
    "##### Now we load the negative words"
   ]
  },
  {
   "cell_type": "code",
   "execution_count": 2,
   "metadata": {},
   "outputs": [
    {
     "name": "stdout",
     "output_type": "stream",
     "text": [
      "['wretched', 'wretchedly', 'wretchedness', 'wrong', 'wrongful', 'wrought', 'wrought', 'yawn', 'zealot', 'zealous']\n"
     ]
    }
   ],
   "source": [
    "with open(\"negative.txt\", \"r\") as f:\n",
    "    negText = f.read()\n",
    "negTokens = negText.split(\"\\n\") # This splits the text file into tokens on the new line character\n",
    "negTokens[-1:] = [] # This strips out the final empty item\n",
    "print(negTokens[-10:])"
   ]
  },
  {
   "cell_type": "markdown",
   "metadata": {},
   "source": [
    "###### Now we load the positive words"
   ]
  },
  {
   "cell_type": "code",
   "execution_count": 3,
   "metadata": {},
   "outputs": [
    {
     "name": "stdout",
     "output_type": "stream",
     "text": [
      "['worthiness', 'worthwhile', 'worthy', 'wow', 'wry', 'yearning', 'yearningly', 'youthful', 'zeal', 'zenith']\n"
     ]
    }
   ],
   "source": [
    "with open(\"positive.txt\", \"r\") as f:\n",
    "    posText = f.read()\n",
    "posTokens = posText.split(\"\\n\") # This splits the text file into tokens on the new line character\n",
    "posTokens[-1:] = [] # This strips out the final empty item\n",
    "print(posTokens[-10:])"
   ]
  },
  {
   "cell_type": "markdown",
   "metadata": {},
   "source": [
    "###### Here we get the tweets"
   ]
  },
  {
   "cell_type": "code",
   "execution_count": 4,
   "metadata": {},
   "outputs": [
    {
     "name": "stdout",
     "output_type": "stream",
     "text": [
      "['\"RT @jmichaelkell: To sum it up:', '', '1. Trump - sexual predator', '2. Epstein - convicted pedophile', '3. Milo - pedophilia supporter', '4. Huckabee - pƒ\"']\n"
     ]
    }
   ],
   "source": [
    "with open(\"trumpTweets.txt\", \"r\") as f:\n",
    "    tweetsText = f.read()\n",
    "tweetsTokens = tweetsText.split(\"\\n\") # This splits the text file into tokens on the new line character\n",
    "tweetsTokens[-1:] = [] # This strips out the final empty item\n",
    "print(tweetsTokens[:6])"
   ]
  },
  {
   "cell_type": "markdown",
   "metadata": {},
   "source": [
    "## Tokenizing the tweets\n",
    "\n",
    "Now we will create two functions. The first for tokenizing a tweet, the second for calculating positive/negative words."
   ]
  },
  {
   "cell_type": "code",
   "execution_count": 5,
   "metadata": {
    "collapsed": true
   },
   "outputs": [],
   "source": [
    "import re\n",
    "def tokenizer(theText):\n",
    "    theTokens = re.findall(r'\\b\\w[\\w-]*\\b', theText.lower())\n",
    "    return theTokens\n",
    "\n",
    "def calculator(theTweet):\n",
    "    # Count positive words\n",
    "    numPosWords = 0\n",
    "    theTweetTokens = tokenizer(theTweet)\n",
    "    for word in theTweetTokens:\n",
    "        if word in posTokens:\n",
    "            numPosWords += 1\n",
    "            \n",
    "    # Count negative words\n",
    "    numNegWords = 0\n",
    "    for word in theTweetTokens:\n",
    "        if word in negTokens:\n",
    "            numNegWords += 1\n",
    "    \n",
    "    sum = (numPosWords - numNegWords)\n",
    "    return sum\n",
    "\n",
    "# Here is a line for testing this\n",
    "# print(calculator('\"RT @jmichaelkell: To sum it up:', '', '1. Trump - sexual predator', '2. Epstein - convicted pedophile', '3. Milo - pedophilia supporter', '4. Huckabee - pƒ\"'))"
   ]
  },
  {
   "cell_type": "markdown",
   "metadata": {},
   "source": [
    "## Analyzing tweets\n",
    "\n",
    "Now we will use the calculator to calculate how many positive and negative tweets.\n",
    "Note: that you can set a threshold for the number of words for a Tweet to be considered positive or negative."
   ]
  },
  {
   "cell_type": "code",
   "execution_count": 6,
   "metadata": {},
   "outputs": [
    {
     "name": "stdout",
     "output_type": "stream",
     "text": [
      "Total: 261169\n",
      "Positive: 12875\n",
      "Neutral: 197086\n",
      "Negative: 51208\n"
     ]
    }
   ],
   "source": [
    "# Here we set up the thresholds\n",
    "posi = 1 # This means there have to be more than 1 positive word\n",
    "nega = 0 # This means there has to be more than 1 negative words\n",
    "\n",
    "# Here we prime our variables\n",
    "numTweets = 0\n",
    "numPosTweets = 0\n",
    "numNegTweets = 0\n",
    "numNeutTweets = 0\n",
    "\n",
    "# This loop goes through all the Tweets and calculates if sums the number of positive or negative ones.\n",
    "for tweet in tweetsTokens:\n",
    "    calc = calculator(tweet)\n",
    "    if calc > posi:\n",
    "        numPosTweets += 1\n",
    "        numTweets += 1\n",
    "    elif calc < nega:\n",
    "        numNegTweets += 1\n",
    "        numTweets += 1\n",
    "    else:\n",
    "        numNeutTweets += 1\n",
    "        numTweets += 1\n",
    "\n",
    "# This prints out the results        \n",
    "print(\"Total: \" + str(numTweets) + \"\\n\" + \"Positive: \" + str(numPosTweets) + \"\\n\" + \"Neutral: \" + str(numNeutTweets) + \"\\n\" + \"Negative: \" +str(numNegTweets))"
   ]
  },
  {
   "cell_type": "markdown",
   "metadata": {},
   "source": [
    "#### Gathering positive tweets\n",
    "\n",
    "This will gather all examples of positive tweets."
   ]
  },
  {
   "cell_type": "code",
   "execution_count": 7,
   "metadata": {},
   "outputs": [
    {
     "name": "stdout",
     "output_type": "stream",
     "text": [
      "['RT @JoyAnnReid: And again, Trump supporters likely will never hear about this from their preferred media outlets, though many will discoverƒ', '@LibyaLiberty I would have loved the center to praise trump too BUT he did NOT  GIVE them reason to praise him.', \"RT @Brasilmagic: To keep Donald happy, Trump's staff has to ensure he's always receiving praise and adulation - feed the narcisissm. https:ƒ\", 'RT @ThomasWictor: Just watch: Terrorists will begin carrying out mass-casualty attacks in Europe, and Europeans will blame Trump while notƒ']\n"
     ]
    }
   ],
   "source": [
    "# Here we set up the threshold.\n",
    "posi = 1 # This means there have to be more than 1 positive word\n",
    "numberWanted = 4 # Here you decide how many tweets you want\n",
    "\n",
    "# Here we prime our variables\n",
    "numTweets = 0\n",
    "numPosTweets = 0\n",
    "posiTweetList = []\n",
    "\n",
    "# This loop goes through all the Tweets and calculates if sums the number of positive or negative ones.\n",
    "for tweet in tweetsTokens:\n",
    "    calc = calculator(tweet)\n",
    "    if calc > posi and numPosTweets < numberWanted:\n",
    "        numPosTweets += 1\n",
    "        posiTweetList.append(tweet)\n",
    "\n",
    "print(posiTweetList)"
   ]
  },
  {
   "cell_type": "markdown",
   "metadata": {},
   "source": [
    "#### Gathering negative tweets\n",
    "\n",
    "This will gather examples of negative tweets."
   ]
  },
  {
   "cell_type": "code",
   "execution_count": 8,
   "metadata": {},
   "outputs": [
    {
     "name": "stdout",
     "output_type": "stream",
     "text": [
      "['\"RT @alfonslopeztena: Dumped by Trump, jilted Europe and rejected Asia get together on trade deals threatening to leave US out in the cold', 'RT @snukasuper: #CNNLeaks Don Leming &amp; his band of @POTUS Trump haters on @CNN need to be exposed to the entire world https://t.co/EhH5iSdMƒ', 'RT @HIGH_TIMES_Mag: Idaho Governor Requests for Trump to Crackdown on Weed. https://t.co/fuyJdBv04M https://t.co/veJrKv7RsQ', 'RT @Lawrence: Trump calls us \"the enemy of the American people\" because we are enemies of Trump lies. https://t.co/GOGt4Rubcm']\n"
     ]
    }
   ],
   "source": [
    "# Here we set up the threshold.\n",
    "nega = -1 # This means there have to be more than 1 positive word\n",
    "numberWanted = 4 # Here you decide how many tweets you want\n",
    "\n",
    "# Here we prime our variables\n",
    "numTweets = 0\n",
    "numNegTweets = 0\n",
    "negaTweetList = []\n",
    "\n",
    "# This loop goes through all the Tweets and calculates if sums the number of positive or negative ones.\n",
    "for tweet in tweetsTokens:\n",
    "    calc = calculator(tweet)\n",
    "    if calc < nega and numNegTweets < numberWanted:\n",
    "        numNegTweets += 1\n",
    "        negaTweetList.append(tweet)\n",
    "\n",
    "print(negaTweetList)"
   ]
  },
  {
   "cell_type": "markdown",
   "metadata": {},
   "source": [
    "#### Testing a tweet\n",
    "\n",
    "Here you can take a tweet and test it to see how many positive or negative words it has."
   ]
  },
  {
   "cell_type": "code",
   "execution_count": 9,
   "metadata": {},
   "outputs": [
    {
     "name": "stdout",
     "output_type": "stream",
     "text": [
      "What is the tweet to calculate? RT @jmichaelkell: To sum it up:  1. Trump - sexual predator 2. Epstein - convicted pedophile 3. Milo - pedophilia supporter 4. Huckabee - pƒ\"\n",
      "1\n"
     ]
    }
   ],
   "source": [
    "tweetToCalc = input(\"What is the tweet to calculate? \")\n",
    "print(calculator(tweetToCalc))"
   ]
  },
  {
   "cell_type": "markdown",
   "metadata": {},
   "source": [
    "#### Gathering and plotting positive and negative words\n",
    "\n",
    "This will gather the words that are positive in the tweets and tabulate them."
   ]
  },
  {
   "cell_type": "code",
   "execution_count": 10,
   "metadata": {},
   "outputs": [
    {
     "name": "stdout",
     "output_type": "stream",
     "text": [
      "What tweet do you want to process? RT @jmichaelkell: To sum it up:  1. Trump - sexual predator 2. Epstein - convicted pedophile 3. Milo - pedophilia supporter 4. Huckabee - pƒ\"\n",
      "Positive words: ['supporter']\n",
      "Negative words: []\n"
     ]
    }
   ],
   "source": [
    "import re\n",
    "posWordsList = []\n",
    "negWordsList = []\n",
    "\n",
    "def tokenizer(theText):\n",
    "    theTokens = re.findall(r'\\b\\w[\\w-]*\\b', theText.lower())\n",
    "    return theTokens\n",
    "\n",
    "def wordsCalculator(theTweet):\n",
    "    # Count positive words\n",
    "    numPosWords = 0\n",
    "    theTweetTokens = tokenizer(theTweet)\n",
    "    for word in theTweetTokens:\n",
    "        if word in posTokens:\n",
    "            numPosWords += 1\n",
    "            posWordsList.append(word)\n",
    "            \n",
    "    # Count negative words\n",
    "    numNegWords = 0\n",
    "    for word in theTweetTokens:\n",
    "        if word in negTokens:\n",
    "            numNegWords += 1\n",
    "            negWordsList.append(word)\n",
    "\n",
    "tweet2Process = input(\"What tweet do you want to process? \")\n",
    "wordsCalculator(tweet2Process)\n",
    "print(\"Positive words: \" + str(posWordsList[:10]))\n",
    "print(\"Negative words: \" + str(negWordsList[:10]))"
   ]
  },
  {
   "cell_type": "markdown",
   "metadata": {},
   "source": [
    "## Gathering and plotting all positive and negative words"
   ]
  },
  {
   "cell_type": "code",
   "execution_count": 11,
   "metadata": {},
   "outputs": [
    {
     "name": "stdout",
     "output_type": "stream",
     "text": [
      "Positive words: 101321\n",
      "Negative words: 100893\n"
     ]
    }
   ],
   "source": [
    "import re\n",
    "\n",
    "# Here we set up the thresholds\n",
    "posi = 1 # This means there have to be more than 1 positive word\n",
    "nega = 0 # This means there has to be more than 1 negative words\n",
    "\n",
    "# Here we prime our variables\n",
    "posWordsList = []\n",
    "negWordsList = []\n",
    "numTweets = 0\n",
    "numPosTweets = 0\n",
    "numNegTweets = 0\n",
    "numNeutTweets = 0\n",
    "\n",
    "def wordsGathering(theTweet):\n",
    "    # Count positive words\n",
    "    numPosWords = 0\n",
    "    theTweetTokens = tokenizer(theTweet)\n",
    "    for word in theTweetTokens:\n",
    "        if word in posTokens:\n",
    "            numPosWords += 1\n",
    "            posWordsList.append(word)\n",
    "            \n",
    "    # Count negative words\n",
    "    numNegWords = 0\n",
    "    for word in theTweetTokens:\n",
    "        if word in negTokens:\n",
    "            numNegWords += 1\n",
    "            negWordsList.append(word)       \n",
    "    \n",
    "    sum = (numPosWords - numNegWords)\n",
    "    return sum\n",
    "\n",
    "# This loop goes through all the Tweets and calculates if sums the number of positive or negative ones.\n",
    "for tweet in tweetsTokens:\n",
    "    calc = wordsGathering(tweet)\n",
    "    if calc > posi:\n",
    "        numPosTweets += 1\n",
    "        numTweets += 1\n",
    "    elif calc < nega:\n",
    "        numNegTweets += 1\n",
    "        numTweets += 1\n",
    "    else:\n",
    "        numNeutTweets += 1\n",
    "        numTweets += 1\n",
    "\n",
    "print(\"Positive words: \" + str(len(posWordsList)))\n",
    "print(\"Negative words: \" + str(len(negWordsList)))"
   ]
  },
  {
   "cell_type": "markdown",
   "metadata": {},
   "source": [
    "###### Positive words"
   ]
  },
  {
   "cell_type": "code",
   "execution_count": 12,
   "metadata": {},
   "outputs": [
    {
     "name": "stdout",
     "output_type": "stream",
     "text": [
      "    will     just    white    right  support     even security     good    great     real \n",
      "    9048     8559     5201     2832     2054     1950     1937     1925     1734     1323 \n"
     ]
    },
    {
     "data": {
      "image/png": "[encoded data removed]",
      "text/plain": [
       "<matplotlib.figure.Figure at 0x10d604be0>"
      ]
     },
     "metadata": {},
     "output_type": "display_data"
    }
   ],
   "source": [
    "import nltk, matplotlib\n",
    "\n",
    "posDist = nltk.FreqDist(posWordsList)\n",
    "posDist.tabulate(10)\n",
    "\n",
    "%matplotlib inline\n",
    "posDist.plot(25, title=\"Top Positive Words\")"
   ]
  },
  {
   "cell_type": "markdown",
   "metadata": {},
   "source": [
    "###### Negative words"
   ]
  },
  {
   "cell_type": "code",
   "execution_count": 13,
   "metadata": {},
   "outputs": [
    {
     "name": "stdout",
     "output_type": "stream",
     "text": [
      "  against      down    attack      fake      need       war       bad seriously     black      lies \n",
      "     4039      2350      2007      2001      1959      1776      1439      1162      1075      1023 \n"
     ]
    },
    {
     "data": {
      "image/png": "[encoded data removed]",
      "text/plain": [
       "<matplotlib.figure.Figure at 0x11276d9b0>"
      ]
     },
     "metadata": {},
     "output_type": "display_data"
    }
   ],
   "source": [
    "import nltk, matplotlib\n",
    "\n",
    "negDist = nltk.FreqDist(negWordsList)\n",
    "negDist.tabulate(10)\n",
    "\n",
    "%matplotlib inline\n",
    "negDist.plot(25, title=\"Top Negative Words\")"
   ]
  },
  {
   "cell_type": "code",
   "execution_count": null,
   "metadata": {
    "collapsed": true
   },
   "outputs": [],
   "source": []
  }
 ],
 "metadata": {
  "kernelspec": {
   "display_name": "Python 3",
   "language": "python",
   "name": "python3"
  },
  "language_info": {
   "codemirror_mode": {
    "name": "ipython",
    "version": 3
   },
   "file_extension": ".py",
   "mimetype": "text/x-python",
   "name": "python",
   "nbconvert_exporter": "python",
   "pygments_lexer": "ipython3",
   "version": "3.6.0"
  }
 },
 "nbformat": 4,
 "nbformat_minor": 2
}
