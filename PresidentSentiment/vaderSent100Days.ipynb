{
 "cells": [
  {
   "cell_type": "markdown",
   "metadata": {},
   "source": [
    "# Vader Sentiment Analysis of First 100 Days of the Trump Administration¶"
   ]
  },
  {
   "cell_type": "markdown",
   "metadata": {},
   "source": [
    "For more information about how Vader works behind the scenes see here: https://github.com/cjhutto/vaderSentiment"
   ]
  },
  {
   "cell_type": "markdown",
   "metadata": {},
   "source": [
    "#### Load Packages"
   ]
  },
  {
   "cell_type": "code",
   "execution_count": 39,
   "metadata": {
    "collapsed": true
   },
   "outputs": [],
   "source": [
    "from nltk.sentiment.vader import SentimentIntensityAnalyzer\n",
    "import pandas as pd\n",
    "import numpy as np"
   ]
  },
  {
   "cell_type": "markdown",
   "metadata": {},
   "source": [
    "#### Shorten SentimentIntensityAnalyzer Function"
   ]
  },
  {
   "cell_type": "code",
   "execution_count": 40,
   "metadata": {
    "collapsed": true
   },
   "outputs": [],
   "source": [
    "vader = SentimentIntensityAnalyzer()"
   ]
  },
  {
   "cell_type": "markdown",
   "metadata": {},
   "source": [
    "#### Read the 'text' column in the .csv file of 244,000 tweets and turn it into a dataframe using 'Pandas' package"
   ]
  },
  {
   "cell_type": "code",
   "execution_count": 41,
   "metadata": {
    "collapsed": true
   },
   "outputs": [],
   "source": [
    "df = pd.read_csv(\"trump100days.csv\", usecols=['text'])"
   ]
  },
  {
   "cell_type": "markdown",
   "metadata": {},
   "source": [
    "#### Create labels for different sentiment values and start the count for each value at zero"
   ]
  },
  {
   "cell_type": "code",
   "execution_count": 42,
   "metadata": {
    "collapsed": true
   },
   "outputs": [],
   "source": [
    "res = {\"-.9\":0, \"-.8\":0, \"-.7\":0, \"-.6\":0, \"-.5\":0, \"-.4\":0, \"-.3\":0, \"-.2\":0, \"-.1\":0, \"0\":0, \".1\":0, \".2\":0, \".3\":0, \".4\":0, \".5\":0, \".6\":0, \".7\":0, \".8\":0, \".9\":0}"
   ]
  },
  {
   "cell_type": "markdown",
   "metadata": {},
   "source": [
    "#### Go through and apply the Vader sentiment analyzer to all 181k+ tweets and count them"
   ]
  },
  {
   "cell_type": "code",
   "execution_count": 43,
   "metadata": {},
   "outputs": [
    {
     "name": "stdout",
     "output_type": "stream",
     "text": [
      "{'-.9': 1456, '-.8': 6951, '-.7': 10078, '-.6': 10646, '-.5': 16025, '-.4': 14491, '-.3': 10596, '-.2': 13704, '-.1': 11152, '0': 75763, '.1': 11592, '.2': 8852, '.3': 11588, '.4': 15342, '.5': 9669, '.6': 7598, '.7': 5656, '.8': 2977, '.9': 667}\n"
     ]
    }
   ],
   "source": [
    "for index, row in df.iterrows():\n",
    "    vs = vader.polarity_scores(df['text'][index])\n",
    "    if vs[\"compound\"]==0.0:\n",
    "        res[\"0\"] +=1\n",
    "    elif 0.00001 < vs[\"compound\"] < 0.19999:\n",
    "        res[\".1\"] +=1\n",
    "    elif 0.2 < vs[\"compound\"] < 0.29999:\n",
    "        res[\".2\"] +=1\n",
    "    elif 0.3 < vs[\"compound\"] < 0.39999:\n",
    "        res[\".3\"] +=1\n",
    "    elif 0.4 < vs[\"compound\"] < 0.49999:\n",
    "        res[\".4\"] +=1\n",
    "    elif 0.5 < vs[\"compound\"] < 0.59999:\n",
    "        res[\".5\"] +=1\n",
    "    elif 0.6 < vs[\"compound\"] < 0.69999:\n",
    "        res[\".6\"] +=1\n",
    "    elif 0.7 < vs[\"compound\"] < 0.79999:\n",
    "        res[\".7\"] +=1\n",
    "    elif 0.8 < vs[\"compound\"] < 0.89999:\n",
    "        res[\".8\"] +=1\n",
    "    elif 0.9 < vs[\"compound\"] < 0.99999:\n",
    "        res[\".9\"] +=1\n",
    "    elif -0.19999 < vs[\"compound\"] < -0.00001:\n",
    "        res[\"-.1\"] +=1\n",
    "    elif -0.29999 < vs[\"compound\"] < -0.2:\n",
    "        res[\"-.2\"] +=1\n",
    "    elif -0.39999 < vs[\"compound\"] < -0.3:\n",
    "        res[\"-.3\"] +=1\n",
    "    elif -0.49999 < vs[\"compound\"] < -0.4:\n",
    "        res[\"-.4\"] +=1\n",
    "    elif -0.59999 < vs[\"compound\"] < -0.5:\n",
    "        res[\"-.5\"] +=1\n",
    "    elif -0.69999 < vs[\"compound\"] < -0.6:\n",
    "        res[\"-.6\"] +=1\n",
    "    elif -0.79999 < vs[\"compound\"] < -0.7:\n",
    "        res[\"-.7\"] +=1\n",
    "    elif -0.89999 < vs[\"compound\"] < -0.8:\n",
    "        res[\"-.8\"] +=1\n",
    "    else:\n",
    "        res[\"-.9\"] +=1\n",
    "        \n",
    "print(res)\n"
   ]
  },
  {
   "cell_type": "markdown",
   "metadata": {},
   "source": [
    "#### Plot the results in a bar graph"
   ]
  },
  {
   "cell_type": "code",
   "execution_count": 46,
   "metadata": {},
   "outputs": [
    {
     "name": "stdout",
     "output_type": "stream",
     "text": [
      "   score  count\n",
      "0    -.9   1456\n",
      "1    -.8   6951\n",
      "2    -.7  10078\n",
      "3    -.6  10646\n",
      "4    -.5  16025\n",
      "5    -.4  14491\n",
      "6    -.3  10596\n",
      "7    -.2  13704\n",
      "8    -.1  11152\n",
      "9      0  75763\n",
      "10    .1  11592\n",
      "11    .2   8852\n",
      "12    .3  11588\n",
      "13    .4  15342\n",
      "14    .5   9669\n",
      "15    .6   7598\n",
      "16    .7   5656\n",
      "17    .8   2977\n",
      "18    .9    667\n"
     ]
    },
    {
     "data": {
      "image/png": "[encoded data removed]",
      "text/plain": [
       "<matplotlib.figure.Figure at 0x1112b3d30>"
      ]
     },
     "metadata": {},
     "output_type": "display_data"
    }
   ],
   "source": [
    "import matplotlib.pyplot as plt\n",
    "import pandas as pd\n",
    "import numpy as np\n",
    "from collections import Counter\n",
    "    \n",
    "%matplotlib inline\n",
    "cres = Counter(res)\n",
    "resdf = pd.DataFrame.from_dict(cres, orient='index').reset_index()\n",
    "resdf = resdf.rename(columns={'index':'score', 0:'count'})\n",
    "print(resdf)\n",
    "\n",
    "\n",
    "fig = resdf.plot(x=resdf['score'],kind='bar', align = 'center', color =['crimson'])\n",
    "fig.set_ylabel('Number of Tweets')\n",
    "fig.set_xlabel('Sentiment Score')\n",
    "fig.set_title('Tweets Mentioning Trump During First 100 Days')\n",
    "fig.set_ylim(0,80000)\n",
    "\n",
    "rects = fig.patches\n",
    "\n",
    "# Now make some labels\n",
    "labels = resdf['count']\n",
    "\n",
    "for rect, label in zip(rects, labels):\n",
    "    height = rect.get_height()\n",
    "    fig.text(rect.get_x() + rect.get_width()/2, height + 5, label, ha='center', va='bottom')\n",
    "    \n",
    "plt.rcParams['font.sans-serif'] = \"Arial\"\n",
    "plt.rcParams[\"font.family\"] = \"sans-serif\"\n",
    "plt.savefig('100daysTrumpVADER.png', format='png', dpi=300, bbox_inches='tight')\n",
    "\n",
    "\n",
    "plt.show()\n"
   ]
  },
  {
   "cell_type": "markdown",
   "metadata": {
    "collapsed": true
   },
   "source": [
    "Hutto, C.J. & Gilbert, E.E. (2014). VADER: A Parsimonious Rule-based Model for Sentiment Analysis of Social Media Text. Eighth International Conference on Weblogs and Social Media (ICWSM-14). Ann Arbor, MI, June 2014."
   ]
  },
  {
   "cell_type": "code",
   "execution_count": null,
   "metadata": {
    "collapsed": true
   },
   "outputs": [],
   "source": []
  }
 ],
 "metadata": {
  "kernelspec": {
   "display_name": "Python 3",
   "language": "python",
   "name": "python3"
  },
  "language_info": {
   "codemirror_mode": {
    "name": "ipython",
    "version": 3
   },
   "file_extension": ".py",
   "mimetype": "text/x-python",
   "name": "python",
   "nbconvert_exporter": "python",
   "pygments_lexer": "ipython3",
   "version": "3.6.2"
  }
 },
 "nbformat": 4,
 "nbformat_minor": 2
}
