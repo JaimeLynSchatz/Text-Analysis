{
 "cells": [
  {
   "cell_type": "markdown",
   "metadata": {},
   "source": [
    "## Getting Jupyter Notebooks up and running (Mac, PC)\n",
    "\n",
    "This is only for those who wish to run our notebooks on their own computer. Research Desktop (ReD) already has Anaconda, Python, and Jupyter Notebooks with the R kernel installed.\n",
    "\n",
    "#### Anaconda and Python\n",
    "\n",
    "We will be describing how to acquire Python via Anaconda. The reason is that it comes with Jupyter Notebooks and many other Python packages already installed. First, it is important to determine if you already have Anaconda. You can do this by searching your system for Anaconda. On a Mac hit command+spacebar and type *Anaconda* in the search box that pops up. On a PC type *Anaconda* in the search box next to the Windows Start button. If you get results showing files or apps on your computer with the name *Anaconda* then you already have Anaconda, and therefore Python, already on installed on your computer. If your results show that you do not have Anaconda on your computer then skip to *Installing Anaconda* below. If you do have Anaconda already installed, we need to check what version of Python came with your version of Anaconda. You will need Python 3 in order to use our scripts.  To check the version open your terminal (search like you did before when you searched for Anaconda. On a Mac type *temrinal* in your search, on a PC type *cmd* in your search) and type: <code>python --version</code>. If you do not have Python, then you will get an error that your computer does not recognize the command 'python'. If you do you should get something like this: \n",
    "\n",
    "> Python 3.6.3 :: Anaconda custom (64-bit)\n",
    "\n",
    "#### Installing Anaconda\n",
    "\n",
    "If your result says Python 3.x.x, then you are good. If it says anything else (Python 2.x.x, no command 'python', yellow), then you need to download Anaconda, which includes Python and a lot of pre-installed Python modules that we will be using with our notebooks. To download Anaconda, go to [https://www.anaconda.com/download/](https://www.anaconda.com/download/). Make sure you download the most recent verison of Python 3."
   ]
  },
  {
   "cell_type": "markdown",
   "metadata": {},
   "source": [
    "#### Pip\n",
    "\n",
    "Now that we have Python 3 ready to go, we need to talk about pip. Who or what is pip? Pip is used for python package management. It makes installation of python packages and modules much easier. Since you installed Anaconda python, you will need to open your terminal (Mac) or command prompt (PC) and type 'conda install pip' and this should get pip up and running.   \n",
    "\n",
    "Now as you get more comfortable with coding and want to install some Python packages on your own, you may come across some tutorials online telling you to use the command <code>pip3</code> to install packages for Python 3. The command <code>pip3</code> is used to install Python packages only if you do not have Anaconda Python. If you installed Anaconda and did the 'conda install pip' step above, then you will use <code>pip</code> (without the 3) to install packages even though you are using Python 3. Again, please note that if you have Anaconda Python 3, you use <code>pip</code> and not <code>pip3</code>. Now, to install a python package simply open your terminal or command prompt and begin installing Python packages using <code>pip install pythonpackage</code>."
   ]
  },
  {
   "cell_type": "markdown",
   "metadata": {},
   "source": [
    "### Running Jupyter\n",
    "\n",
    "Now that we have covered pip we can run the Jupyter Notebook. There are two ways to do this. One involves using the terminal (Mac) or command prompt (PC) and the other involves searching for Anaconda Navigator and using that."
   ]
  },
  {
   "cell_type": "markdown",
   "metadata": {},
   "source": [
    "##### Command Line\n",
    "To open the Jupyter Notebook in your terminal or command prompt type:"
   ]
  },
  {
   "cell_type": "code",
   "execution_count": null,
   "metadata": {
    "collapsed": true
   },
   "outputs": [],
   "source": [
    "%%bash\n",
    "jupyter notebook"
   ]
  },
  {
   "cell_type": "markdown",
   "metadata": {},
   "source": [
    "It may take a few seconds, but your default browser should open and have the address localhost:8888/tree in the address bar. \n",
    "You should now have Jupyter up and running. "
   ]
  },
  {
   "cell_type": "markdown",
   "metadata": {},
   "source": [
    "##### Anaconda Navigator\n",
    "\n",
    "You can also run Jupyter Notebook using the Anaconda Navigator application. To do this you need to search for it like you did above to see if you had Anaconda installed on your computer already. When you type *Anaconda* in the search one of the options that pops up should be *Anaconda-Navigator.app*. Open the application and a window should open with options for different programs. One of them should be Jupyter Notebook. Click the launch button and Jupyter Notebook should open in your default browser. \n",
    "\n",
    "If you want to easy access to Anaconda Navigator and Jupyter Notebooks, then pin Anaconda Navigator to your dock (Mac) or your taskbar and/or start menu (PC) and you can open the Navigator and run Jupyter Notebook much more easily."
   ]
  },
  {
   "cell_type": "markdown",
   "metadata": {},
   "source": [
    "### A Little about Jupyter Notebooks\n",
    "Jupyter automatically pulls in your home directory. This is usually your directory with your username on a Mac. On a PC it is usually C:\\Program Files\\. So you might want to create a folder in your home directory to store all your Jupyter Notebooks. For example, I have a folder called JupyNotebooks in my home directory which contains all my Jupyter Notebooks. Jupyter will save a newly created notebook in whichever directory or folder you happen to be in, so navigate to the folder you wish to have your notebook saved in before you start creating one."
   ]
  },
  {
   "cell_type": "markdown",
   "metadata": {},
   "source": [
    "To start creating a jupyter notebook, simply click on the “new” button that has the dropdown arrow. You will see either Python 3. If you had Python 2 on your computer and had to install Python 3, you might see Python 2 as an option as well. Ignore this. You will also need to add the R kernel in order to run the R Notebooks in Jupyter Notebooks. For R, see our [tutorial](https://github.com/cyberdh/Text-Analysis/blob/master/installRkernelInJupyter.ipynb) on adding the R kernel to Jupyter.\n",
    "\n",
    "Once you click on Python 3 you will be brought to a new notebook. Don’t forget to name your notebook by clicking where it says 'Untitled' and changing the name in the box that pops up. \n",
    "\n",
    "The input boxes will automatically assume you are inputting Python code. If, however, you wish to type out titles and instructions, go to the dropdown box that says “code” and choose “markdown.” Now you can type out titles and instructions using markdown. When you are done hit “shift” + “return” at the same time and a new input box will appear and your markdown or code will appear above it. Then input your Python code or more markdown if you wish. When you enter code and want to see if it works, simply hit “shift” and “return” at the same time and it will run your Python code and spit out any results or errors if there are any. If you have data that takes a while to process  you’ll see a [ * ] in the brackets to the left of the input box while it is processing. When it is done, there will be a number there indicating the frequency of times code in general has been run. These numbers and asterisks do not appear next to markdown text, only your code.\n",
    "\n",
    "Jupyter Notebooks are great as they allow you to give detailed directions about the code and run the code at the same time. This makes it a great teaching and learning tool. You can also load them into GitHub. They will not be interactive on GitHub, but people can download them from there and run them on Jupyter Notebook on ReD or on their own machines or simply copy and paste the code into their terminal or command prompt or an IDE of their choice."
   ]
  },
  {
   "cell_type": "code",
   "execution_count": null,
   "metadata": {
    "collapsed": true
   },
   "outputs": [],
   "source": []
  }
 ],
 "metadata": {
  "kernelspec": {
   "display_name": "Python 3",
   "language": "python",
   "name": "python3"
  },
  "language_info": {
   "codemirror_mode": {
    "name": "ipython",
    "version": 3
   },
   "file_extension": ".py",
   "mimetype": "text/x-python",
   "name": "python",
   "nbconvert_exporter": "python",
   "pygments_lexer": "ipython3",
   "version": "3.6.0"
  }
 },
 "nbformat": 4,
 "nbformat_minor": 2
}
