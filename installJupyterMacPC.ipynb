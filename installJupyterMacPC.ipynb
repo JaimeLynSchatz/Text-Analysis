{
 "cells": [
  {
   "cell_type": "markdown",
   "metadata": {},
   "source": [
    "## Getting Jupyter Notebooks up and running (Mac, PC)\n",
    "\n",
    "#### Choosing a version of Python\n",
    "\n",
    "First, it is important to determine which version of Python you wish to use. We highly recommend using Python 3, and using the most recent version of Python 3 as the python code we use is all python 3. Mac’s come with 2.7 already installed. The version of 2.7 depends on the version of OS X you are using. To check the version open your terminal and type: 'python --version' (minus the quotes). If it is 2.7.9 or higher, and you wish to stay with python 2 (don't do it!!!), then you should be okay as far as using python 2 goes. A PC will need to have python downloaded from this website (if you insist on 2.7, please download 2.7.13): \n",
    "\n",
    "https://www.python.org/downloads/\n",
    "\n",
    "This is also where you will download Python 3 if you have a Mac and wish to upgrade. As stated above, most of our jupyter notebook examples that are in Python will be using Python 3 code, so it is recommended that you download the latest version of Python 3 if you have little to no experience with Python so you can easily follow along. If using Python 2.7 feels like being wrapped in a warm blanket to you, and you are confident in your abilities to resolve any issues between the two versions, then by all means, keep using Python 2.7 (at your own risk). All our explanations and examples will be for Python 3.\n"
   ]
  },
  {
   "cell_type": "markdown",
   "metadata": {},
   "source": [
    "#### Pip\n",
    "\n",
    "If you have chosen Python 2.7, despite our warnings, just keep in mind you might need to install the pip command if you chose a version lower than 2.7.9 or your Mac had a version lower than that pre-installed and you do not wish to upgrade. If you chose Python 2.7.9 or higher or Python 3, then you’re good to go as pip is already installed in those versions. Also, if you are using Python 2.7, when you see ‘pip3’ (minus the single quotes) you will simply type ‘pip’ (again, minus the quotes) as the 3 indicates that you are installing the desired package(s) to Python 3.\n",
    "\n",
    "The command ‘pip3’ (or ‘pip’ for you rebels) is used to install Python packages without having to switch over to the Python programming language in your terminal or use an IDE. Simply open your terminal (Mac) or command prompt (PC) and begin installing Python packages."
   ]
  },
  {
   "cell_type": "markdown",
   "metadata": {},
   "source": [
    "#### Installing Jupyter\n",
    "\n",
    "Now that we have covered pip we can install Jupyter and run the jupyter notebook. First, there are four other packages that need to be installed as you will need them at some point. They are: numpy, pandas, matplotlib, and nltk. Open your terminal or command prompt and type (except for the %%bash part):"
   ]
  },
  {
   "cell_type": "code",
   "execution_count": null,
   "metadata": {
    "collapsed": true
   },
   "outputs": [],
   "source": [
    "%%bash\n",
    "pip3 install numpy pandas matplotlib nltk"
   ]
  },
  {
   "cell_type": "markdown",
   "metadata": {},
   "source": [
    "If you get an error that you do not have permission to install these packages, then you need to use the sudo command in front of pip3 (sudo stands for super user do, so it is pronounced sue-doo, not sue-dough).\n"
   ]
  },
  {
   "cell_type": "code",
   "execution_count": null,
   "metadata": {
    "collapsed": true
   },
   "outputs": [],
   "source": [
    "%%bash\n",
    "sudo pip3 install numpy pandas matplotlib nltk"
   ]
  },
  {
   "cell_type": "markdown",
   "metadata": {},
   "source": [
    "There are other packages that you will eventually download and to really use the nltk package you will need to also download the nltk data that comes with it. To learn how to do that follow [this link](http://www.nltk.org/data.html#) after you are done here. Now, we can install Jupyter and run it.\n",
    "\n",
    "In your terminal or command prompt type:"
   ]
  },
  {
   "cell_type": "code",
   "execution_count": null,
   "metadata": {
    "collapsed": true
   },
   "outputs": [],
   "source": [
    "%%bash\n",
    "pip3 install jupyter"
   ]
  },
  {
   "cell_type": "markdown",
   "metadata": {},
   "source": [
    "Remember to add sudo if you get the permission error."
   ]
  },
  {
   "cell_type": "markdown",
   "metadata": {},
   "source": [
    "Now, you should have jupyter notebooks installed for Python 3 on your machine. To open the Jupyter Notebook simply type in the terminal:"
   ]
  },
  {
   "cell_type": "code",
   "execution_count": null,
   "metadata": {
    "collapsed": true
   },
   "outputs": [],
   "source": [
    "%%bash\n",
    "jupyter notebook"
   ]
  },
  {
   "cell_type": "markdown",
   "metadata": {},
   "source": [
    "It may take a few seconds, but your default browser should open and have the address localhost:8888/tree in the address bar. If it does not and you get this error:\n",
    "\n",
    "execution error: \"http://localhost:8888/tree?token=e6b43cdedc18b579e371da7a4d87f6a9e289d2xxxxxxxxxx\" doesn’t understand the “open location” message. (-1708)\n",
    "\n",
    "Then simply copy and paste the url just above the error into your web browser. It looks like this:\n",
    "\n",
    "Copy/paste this URL into your browser when you connect for the first time,\n",
    "    to login with a token:\n",
    "        http://localhost:8888/?token=9fd53278c7c9f9239b4799b9ec571badd980a3xxxxxxxxxx\n",
    "\n",
    "You should now have Jupyter up and running. Jupyter automatically pulls in your home directory, so you might want to create a folder in your home directory to store all your Jupyter Notebooks, for example, I have a folder called JupyNotebooks which has all my Jupyter Notebooks. Jupyter will save your notebook in whichever directory or folder you happen to be in, so navigate to the folder you wish to have your notebook saved in before you start creating one."
   ]
  },
  {
   "cell_type": "markdown",
   "metadata": {},
   "source": [
    "To start creating a jupyter notebook, simply click on the “new” button that has the dropdown arrow. You will see either Python 3 or Python 2 listed as an option depending on the version of Python you used to install jupyter. You can also add R and Ruby and Julia as potential options. For R, see our [tutorial](https://github.com/cyberdh/Text-Analysis/blob/master/PresidentSentiment/installRkernelInJupyter.ipynb) on adding the R kernel to Jupyter.\n",
    "\n",
    "Once you click on Python 3 you will be brought to a new notebook. Don’t forget to name your notebook by clicking where it says 'Untitled' and changing the name in the box that pops up. \n",
    "\n",
    "The input boxes will automatically assume you are inputting Python code. If, however, you wish to type out titles and instructions, go to the dropdown box that says “code” and choose “markdown.” Now you can type out titles and instructions using markdown. When you are done hit “shift” + “return” at the same time and a new input box will appear and your markdown or code will appear above it. Then input your Python code or more markdown if you wish. When you enter code and want to see if it works, simply hit “shift” and “return” at the same time and it will run your Python code and spit out any results or errors if there are any. If you have data that takes a while to process  you’ll see a [ * ] in the brackets to the left of the input box while it is processing. When it is done, there will be a number there indicating the frequency of times code in general has been run. These numbers and asterisks do not appear next to markdown text, only your code.\n",
    "\n",
    "Jupyter Notebooks are great as they allow you to give detailed directions about the code and run the code at the same time. This makes it a great teaching and learning tool. You can also load them into GitHub. They will not be interactive on GitHub, but people can download them from there and run them on Jupyter on their own machines or simply copy and paste the code into their terminal or command prompt or an IDE of their choice."
   ]
  },
  {
   "cell_type": "code",
   "execution_count": null,
   "metadata": {
    "collapsed": true
   },
   "outputs": [],
   "source": []
  }
 ],
 "metadata": {
  "kernelspec": {
   "display_name": "Python 3",
   "language": "python",
   "name": "python3"
  },
  "language_info": {
   "codemirror_mode": {
    "name": "ipython",
    "version": 3
   },
   "file_extension": ".py",
   "mimetype": "text/x-python",
   "name": "python",
   "nbconvert_exporter": "python",
   "pygments_lexer": "ipython3",
   "version": "3.6.2"
  }
 },
 "nbformat": 4,
 "nbformat_minor": 2
}
