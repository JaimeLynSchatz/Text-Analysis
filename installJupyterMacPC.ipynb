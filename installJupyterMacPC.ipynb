{
 "cells": [
  {
   "cell_type": "markdown",
   "metadata": {},
   "source": [
    "## Getting Jupyter Notebooks up and running (Mac, PC)\n",
    "\n",
    "This is only for those who wish to run our notebooks on their own computer. Karst already has Anaconda, Python, and Jupyter Notebooks with the R kernel installed.\n",
    "\n",
    "#### Python Version\n",
    "\n",
    "First, it is important to determine which version of Python is set as your default on your system, or if you even have Python. You will need Python 3 in order to use our scripts.  To check the version open your terminal and type: 'python --version' (minus the quotes). If you do not have Python, then you will get an error that your computer does not recognize the command 'python'. If you do you should get something like this: \n",
    "\n",
    "Python 3.6.3 :: Anaconda custom (64-bit)\n",
    "\n",
    "If your result says Python 3.x.x, then you are good. If it says anything else (Python 2.x.x, no command 'python', yellow), we recommend you download Anaconda, which includes Python and a lot of pre-installed Python modules that we will be using with our notebooks. To download Anaconda, go to [https://www.anaconda.com/download/](https://www.anaconda.com/download/)."
   ]
  },
  {
   "cell_type": "markdown",
   "metadata": {},
   "source": [
    "#### Pip\n",
    "\n",
    "Now that we have Python 3 ready to go, we need to talk about pip. Who or what is pip? Pip is used for python package management. It makes installation of python packages and modules much easier. If you had Python 3 already installed, but not through Anaconda, then you should be ready to go as pip comes pre-installed in Python 3. If you installed Anaconda python, then you will need to open you terminal (Mac) or command prompt (PC) and type 'conda install pip' and this should get pip up and running.  \n",
    "\n",
    "The command ‘pip3’ (without quotes) is used to install Python packages if you did not use Anaconda to install Python. If you installed Anaconda and did the 'conda install pip' step above, then you will use 'pip' (without the 3 or the quotes) to install packages even though you are using Python 3. Again, please note that if you have Anaconda python 3, you use 'pip' and if you acquired Python without Anaconda you use 'pip3'. Now, to install a python package simply open your terminal or command prompt and begin installing Python packages using 'pip' or 'pip3'."
   ]
  },
  {
   "cell_type": "markdown",
   "metadata": {},
   "source": [
    "#### Installing Jupyter\n",
    "\n",
    "Now that we have covered pip we can install Jupyter and run the jupyter notebook. First, there are four other packages that need to be installed as you will need them at some point. They are: numpy, pandas, matplotlib, and nltk. Open your terminal or command prompt and type (except for the %%bash part):"
   ]
  },
  {
   "cell_type": "code",
   "execution_count": null,
   "metadata": {
    "collapsed": true
   },
   "outputs": [],
   "source": [
    "%%bash\n",
    "pip install numpy pandas matplotlib nltk"
   ]
  },
  {
   "cell_type": "markdown",
   "metadata": {},
   "source": [
    "If you get an error that you do not have permission to install these packages, then you need to use the sudo command in front of pip or pip3 (sudo stands for super user do).\n"
   ]
  },
  {
   "cell_type": "code",
   "execution_count": null,
   "metadata": {
    "collapsed": true
   },
   "outputs": [],
   "source": [
    "%%bash\n",
    "sudo pip install numpy pandas matplotlib nltk"
   ]
  },
  {
   "cell_type": "markdown",
   "metadata": {},
   "source": [
    "There are other packages that you will eventually download, but these four are a good start. Now, we can install Jupyter and run it.\n",
    "\n",
    "In your terminal or command prompt type:"
   ]
  },
  {
   "cell_type": "code",
   "execution_count": null,
   "metadata": {
    "collapsed": true
   },
   "outputs": [],
   "source": [
    "%%bash\n",
    "pip install jupyter"
   ]
  },
  {
   "cell_type": "markdown",
   "metadata": {},
   "source": [
    "Remember to add sudo if you get the permission error."
   ]
  },
  {
   "cell_type": "markdown",
   "metadata": {},
   "source": [
    "Now, you should have jupyter notebooks installed for Python 3 on your machine. To open the Jupyter Notebook simply type in the terminal:"
   ]
  },
  {
   "cell_type": "code",
   "execution_count": null,
   "metadata": {
    "collapsed": true
   },
   "outputs": [],
   "source": [
    "%%bash\n",
    "jupyter notebook"
   ]
  },
  {
   "cell_type": "markdown",
   "metadata": {},
   "source": [
    "It may take a few seconds, but your default browser should open and have the address localhost:8888/tree in the address bar. \n",
    "You should now have Jupyter up and running. Jupyter automatically pulls in your home directory. This is usually your directory with your username on a Mac. On a PC it is usually C:\\Program Files\\. So you might want to create a folder in your home directory to store all your Jupyter Notebooks. For example, I have a folder called JupyNotebooks in my home directory which contains all my Jupyter Notebooks. Jupyter will save a newly created notebook in whichever directory or folder you happen to be in, so navigate to the folder you wish to have your notebook saved in before you start creating one."
   ]
  },
  {
   "cell_type": "markdown",
   "metadata": {},
   "source": [
    "To start creating a jupyter notebook, simply click on the “new” button that has the dropdown arrow. You will see either Python 3. If you had Python 2 on your computer and had to install Python 3, you might see Python 2 as an option as well. Ignore this. You will also need to add the R kernel in order to run the R Notebooks in Jupyter Notebooks. For R, see our [tutorial](https://github.com/cyberdh/Text-Analysis/blob/master/installRkernelInJupyter.ipynb) on adding the R kernel to Jupyter.\n",
    "\n",
    "Once you click on Python 3 you will be brought to a new notebook. Don’t forget to name your notebook by clicking where it says 'Untitled' and changing the name in the box that pops up. \n",
    "\n",
    "The input boxes will automatically assume you are inputting Python code. If, however, you wish to type out titles and instructions, go to the dropdown box that says “code” and choose “markdown.” Now you can type out titles and instructions using markdown. When you are done hit “shift” + “return” at the same time and a new input box will appear and your markdown or code will appear above it. Then input your Python code or more markdown if you wish. When you enter code and want to see if it works, simply hit “shift” and “return” at the same time and it will run your Python code and spit out any results or errors if there are any. If you have data that takes a while to process  you’ll see a [ * ] in the brackets to the left of the input box while it is processing. When it is done, there will be a number there indicating the frequency of times code in general has been run. These numbers and asterisks do not appear next to markdown text, only your code.\n",
    "\n",
    "Jupyter Notebooks are great as they allow you to give detailed directions about the code and run the code at the same time. This makes it a great teaching and learning tool. You can also load them into GitHub. They will not be interactive on GitHub, but people can download them from there and run them on Jupyter on Karst or on their own machines or simply copy and paste the code into their terminal or command prompt or an IDE of their choice."
   ]
  }
 ],
 "metadata": {
  "kernelspec": {
   "display_name": "Python 3",
   "language": "python",
   "name": "python3"
  },
  "language_info": {
   "codemirror_mode": {
    "name": "ipython",
    "version": 3
   },
   "file_extension": ".py",
   "mimetype": "text/x-python",
   "name": "python",
   "nbconvert_exporter": "python",
   "pygments_lexer": "ipython3",
   "version": "3.6.3"
  }
 },
 "nbformat": 4,
 "nbformat_minor": 2
}
