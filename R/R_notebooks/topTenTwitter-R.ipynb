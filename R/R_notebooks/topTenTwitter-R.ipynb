{
 "cells": [
  {
   "cell_type": "markdown",
   "metadata": {},
   "source": [
    "# Top Ten Words in Tweets \n",
    "### Curated Stopwords Removed"
   ]
  },
  {
   "cell_type": "markdown",
   "metadata": {},
   "source": [
    "### Before we begin \n",
    "\n",
    "Before we start, you will need to have set up a [Carbonate account](https://kb.iu.edu/d/aolp) in order to access [Research Desktop (RED)](https://kb.iu.edu/d/apum). You will also need to have access to RED through the [thinlinc client](https://kb.iu.edu/d/aput). If you have not done any of this, or have only done some of this, but not all, you should go to our [textPrep-R.ipynb](textPrep-R.ipynb) before you proceed further. The textPrepPy notebook provides information and resources on how to get a Carbonate account, how to set up RED, and how to get started using the Jupyter Notebook on RED."
   ]
  },
  {
   "cell_type": "markdown",
   "metadata": {},
   "source": [
    "### Let's get started\n",
    "\n",
    "First, we need to set our working directory (setwd). This is the folder that points to where your data is stored. In our case we have multiple folders that we may want to use at some point, but they are all contained in our Text-Analysis folder, so we will set that as our working directory."
   ]
  },
  {
   "cell_type": "code",
   "execution_count": 1,
   "metadata": {
    "collapsed": true
   },
   "outputs": [],
   "source": [
    "#Set the working directory\n",
    "setwd(\"~/Text-Analysis/\")"
   ]
  },
  {
   "cell_type": "markdown",
   "metadata": {},
   "source": [
    "#### Include necessary packages for notebook \n",
    "\n",
    "R's extensibility comes in large part from packages. Packages are groups of functions, data, and algorithms that allow users to easily carry out processes without recreating the wheel. Some packages are included in the basic installation of R, others created by R users are available for download. Make sure to have the following packages installed before beginning so that they can be accessed while running the scripts.\n",
    "\n",
    "In R Studio, packages can be installed by navigating to Tools in the menu bar > Install Packages. Or in the bottom right panel click on the \"packages\" tab and then click on \"install.\"\n",
    "\n",
    "- **NLP:** Basic classes and methods for Natural Language Processing.\n",
    "\n",
    "- **tm:** this package provides tools (functions) for performing various types of text mining. In this script, we will use tm to performing text cleaning in order to have uniform data for analysis. Check out [this link](https://cran.r-project.org/web/packages/tm/vignettes/tm.pdf) for the documentation!\n",
    "- **tidyverse:** The tidyverse is an opinionated collection of R packages designed for data science. All packages share an underlying design philosophy, grammar, and data structures. Check out [this link](https://www.tidyverse.org/) for more information."
   ]
  },
  {
   "cell_type": "code",
   "execution_count": 2,
   "metadata": {
    "collapsed": false
   },
   "outputs": [
    {
     "name": "stderr",
     "output_type": "stream",
     "text": [
      "\n",
      "Attaching package: 'dplyr'\n",
      "\n",
      "The following objects are masked from 'package:stats':\n",
      "\n",
      "    filter, lag\n",
      "\n",
      "The following objects are masked from 'package:base':\n",
      "\n",
      "    intersect, setdiff, setequal, union\n",
      "\n"
     ]
    }
   ],
   "source": [
    "#Call libraries used in the script\n",
    "library(NLP)\n",
    "library(tm)\n",
    "library(dplyr)\n",
    "library(tidytext)"
   ]
  },
  {
   "cell_type": "markdown",
   "metadata": {},
   "source": [
    "Here we add a line for extracting a .zip file. If you downloaded this from our GitHub repository, some of the twitter data was too large to load without compressing it down to a .zip file, and this block of code will extract the file. Although, this step may not be needed as you can unzip files in the directory manually on Carbonate. However, if you prefer to just run the code and let it extract the file for you, then remove the # from the beginning of lines 2,3,and 4 below and run the code."
   ]
  },
  {
   "cell_type": "code",
   "execution_count": 3,
   "metadata": {
    "collapsed": true
   },
   "outputs": [],
   "source": [
    "#unzip file\n",
    "#zipF<- \"data/twitter/neverAgain.csv.zip\"\n",
    "#outDir<-\"data/twitter\"\n",
    "#unzip(zipF,exdir=outDir)"
   ]
  },
  {
   "cell_type": "markdown",
   "metadata": {},
   "source": [
    "Read the .csv file (this time a curated set of tweets grabbed using the #Tags tool, then saved as a .csv file)"
   ]
  },
  {
   "cell_type": "code",
   "execution_count": 4,
   "metadata": {
    "collapsed": true
   },
   "outputs": [],
   "source": [
    "#Read in the text \n",
    "tweets <- read.csv(\"data/twitter/parkland/neverAgain.csv\")"
   ]
  },
  {
   "cell_type": "markdown",
   "metadata": {},
   "source": [
    "### Prepare text data\n",
    "\n",
    "First we are going to take the list of 50k+ tweets created when we grabbed the file above and convert it to utf-8 encoding, grabbing only the text column. We use 'iconv' to convert the column labeled 'text' found in our 'tweets' variable above (tweets$text) and then tell it we want to convert the text to = utf-8."
   ]
  },
  {
   "cell_type": "code",
   "execution_count": 5,
   "metadata": {
    "collapsed": true
   },
   "outputs": [],
   "source": [
    "corpus <- iconv(tweets$text, to = \"utf-8\")"
   ]
  },
  {
   "cell_type": "markdown",
   "metadata": {},
   "source": [
    "Let's look at the first few tweets:"
   ]
  },
  {
   "cell_type": "code",
   "execution_count": 6,
   "metadata": {
    "collapsed": false
   },
   "outputs": [
    {
     "data": {
      "text/html": [
       "<ol class=list-inline>\n",
       "\t<li>'RT @canarymission: Students of Students for Justice in Palestine Mock the #Holocaust \\n\\n#NeverAgain #WeRemember\\nhttps://t.co/cnPE7dEnik https://t.co/Xvd6IBiSPe'</li>\n",
       "\t<li>'RT @canarymission: Students of Students for Justice in Palestine Mock the #Holocaust \\n\\n#NeverAgain #WeRemember\\nhttps://t.co/cnPE7dEnik https://t.co/Xvd6IBiSPe'</li>\n",
       "\t<li>'He duped so many #NeverAgain #MeToo https://t.co/7u4Vl5UjSR'</li>\n",
       "\t<li>NA</li>\n",
       "\t<li>NA</li>\n",
       "\t<li>NA</li>\n",
       "</ol>\n"
      ],
      "text/latex": [
       "\\begin{enumerate*}\n",
       "\\item 'RT @canarymission: Students of Students for Justice in Palestine Mock the \\#Holocaust \\textbackslash{}n\\textbackslash{}n\\#NeverAgain \\#WeRemember\\textbackslash{}nhttps://t.co/cnPE7dEnik https://t.co/Xvd6IBiSPe'\n",
       "\\item 'RT @canarymission: Students of Students for Justice in Palestine Mock the \\#Holocaust \\textbackslash{}n\\textbackslash{}n\\#NeverAgain \\#WeRemember\\textbackslash{}nhttps://t.co/cnPE7dEnik https://t.co/Xvd6IBiSPe'\n",
       "\\item 'He duped so many \\#NeverAgain \\#MeToo https://t.co/7u4Vl5UjSR'\n",
       "\\item NA\n",
       "\\item NA\n",
       "\\item NA\n",
       "\\end{enumerate*}\n"
      ],
      "text/markdown": [
       "1. 'RT @canarymission: Students of Students for Justice in Palestine Mock the #Holocaust \\n\\n#NeverAgain #WeRemember\\nhttps://t.co/cnPE7dEnik https://t.co/Xvd6IBiSPe'\n",
       "2. 'RT @canarymission: Students of Students for Justice in Palestine Mock the #Holocaust \\n\\n#NeverAgain #WeRemember\\nhttps://t.co/cnPE7dEnik https://t.co/Xvd6IBiSPe'\n",
       "3. 'He duped so many #NeverAgain #MeToo https://t.co/7u4Vl5UjSR'\n",
       "4. NA\n",
       "5. NA\n",
       "6. NA\n",
       "\n",
       "\n"
      ],
      "text/plain": [
       "[1] \"RT @canarymission: Students of Students for Justice in Palestine Mock the #Holocaust \\n\\n#NeverAgain #WeRemember\\nhttps://t.co/cnPE7dEnik https://t.co/Xvd6IBiSPe\"\n",
       "[2] \"RT @canarymission: Students of Students for Justice in Palestine Mock the #Holocaust \\n\\n#NeverAgain #WeRemember\\nhttps://t.co/cnPE7dEnik https://t.co/Xvd6IBiSPe\"\n",
       "[3] \"He duped so many #NeverAgain #MeToo https://t.co/7u4Vl5UjSR\"                                                                                                      \n",
       "[4] NA                                                                                                                                                                 \n",
       "[5] NA                                                                                                                                                                 \n",
       "[6] NA                                                                                                                                                                 "
      ]
     },
     "metadata": {},
     "output_type": "display_data"
    }
   ],
   "source": [
    "head(corpus)"
   ]
  },
  {
   "cell_type": "markdown",
   "metadata": {},
   "source": [
    "Now we need to turn the text into a Corpus object:"
   ]
  },
  {
   "cell_type": "code",
   "execution_count": 7,
   "metadata": {
    "collapsed": true
   },
   "outputs": [],
   "source": [
    "corpus <- VCorpus(VectorSource(corpus))"
   ]
  },
  {
   "cell_type": "markdown",
   "metadata": {},
   "source": [
    "Next, we need to eliminate any characters that are not UTF-8. If you know the encoding (in this case it usually is ASCII), then put it in the first set of quotes. If you do not, then just put another \"UTF-8\" so (x, \"ASCII\", \"UTF-8\", sub=\"\") or (x, \"UTF-8\", \"UTF-8\", sub=\"\"):"
   ]
  },
  {
   "cell_type": "code",
   "execution_count": 8,
   "metadata": {
    "collapsed": true
   },
   "outputs": [],
   "source": [
    "corpus <- tm_map(corpus, function(x) iconv(x, \"ASCII\", \"UTF-8\", sub=\"\"))"
   ]
  },
  {
   "cell_type": "markdown",
   "metadata": {},
   "source": [
    "### Clean Tweets\n",
    "To clean the corpus in this example, we are using the tm package's built in tools to:\n",
    "1. Convert all the text to lower case, so that \"Never\" and \"never\" are not seen as seperate words.\n",
    "2. Remove all punctuation so that only alphanumeric characters are read.\n",
    "3. Eliminate numbers, especially if they skew your results any, however, numbers may also be important, so that is why this one is optional.\n",
    "4. Remove extra white space so what was \"well said @emma4change\" does not end up as \"well said &nbsp;&nbsp;emma4change\" but becomes \"well said emma4change\" (without the extra space).\n",
    "5. Remove url's so we don't end up with a lot of 'http', 'https', et cetera. We do this by:\n",
    "    - creating a function that uses regular expressions to remove them\n",
    "    - then apply that function to our \"corpus.\"\n",
    "6. Remove stopwords. In our plain text wordcloud, we used tm's options for a wordlist and will be doing the same again. Concatenated onto the list are common twitter words not yet eliminated such as \"rt\" (retweet), \"amp\" (&), the subject of our tweets \"neveragain\", and a couple twitter handles with the \"@\" removed."
   ]
  },
  {
   "cell_type": "code",
   "execution_count": 9,
   "metadata": {
    "collapsed": true
   },
   "outputs": [],
   "source": [
    "corpus <- tolower(corpus)\n",
    "corpus <- removePunctuation(corpus)\n",
    "corpus <- removeNumbers(corpus)\n",
    "corpus <- stripWhitespace(corpus)\n",
    "removeURL <- function(x) gsub(\"http[[:alnum:]]*\", \"\", x)\n",
    "corpus <- removeURL(corpus)\n",
    "corpus <- removeWords(corpus, c(stopwords(\"SMART\"), 'na','amp','rt', 'neveragain', 'dont', 'will', 'see','just', 'emmachange', 'xokarminox'))"
   ]
  },
  {
   "cell_type": "markdown",
   "metadata": {},
   "source": [
    "### Processing\n",
    "\n",
    "After the corpus has been cleaned, we can now begin to process the text. The next step is we simply convert our Corpus class object back to a character class object so that we can use the packages from tidyverse."
   ]
  },
  {
   "cell_type": "code",
   "execution_count": 10,
   "metadata": {
    "collapsed": true
   },
   "outputs": [],
   "source": [
    "myCorpus <- as.character(corpus)"
   ]
  },
  {
   "cell_type": "markdown",
   "metadata": {},
   "source": [
    "Next we turn the tweets which are now a character class object into a data frame (data_frame(myCorpus)). Then we separate the words into tokens (unnest_tokens(word, myCorpus))and finally we count the number of times each word appears and say we want them sorted (count(word, sort = TRUE)). The 'sort' default is FALSE, so it will automatically put them in ascending order if we do not specify that we want the count sorted. If we say 'sort = TRUE' it puts the words in descending order."
   ]
  },
  {
   "cell_type": "code",
   "execution_count": 11,
   "metadata": {
    "collapsed": false
   },
   "outputs": [],
   "source": [
    "#Convert to data frame (helps make plot labeling easier)\n",
    "freqDF <- tibble(myCorpus) %>%\n",
    "unnest_tokens(word, myCorpus) %>%\n",
    "    count(word, sort = TRUE)"
   ]
  },
  {
   "cell_type": "markdown",
   "metadata": {},
   "source": [
    "Let's see what our data frame looks like. Using 'head' shows us the first six rows of our dataframe."
   ]
  },
  {
   "cell_type": "code",
   "execution_count": 12,
   "metadata": {
    "collapsed": false
   },
   "outputs": [
    {
     "data": {
      "text/html": [
       "<table>\n",
       "<thead><tr><th scope=col>word</th><th scope=col>n</th></tr></thead>\n",
       "<tbody>\n",
       "\t<tr><td>difference</td><td>6694      </td></tr>\n",
       "\t<tr><td>feel      </td><td>3311      </td></tr>\n",
       "\t<tr><td>anger     </td><td>3130      </td></tr>\n",
       "\t<tr><td>elections </td><td>3118      </td></tr>\n",
       "\t<tr><td>kidding   </td><td>3091      </td></tr>\n",
       "\t<tr><td>midterm   </td><td>3091      </td></tr>\n",
       "</tbody>\n",
       "</table>\n"
      ],
      "text/latex": [
       "\\begin{tabular}{r|ll}\n",
       " word & n\\\\\n",
       "\\hline\n",
       "\t difference & 6694      \\\\\n",
       "\t feel       & 3311      \\\\\n",
       "\t anger      & 3130      \\\\\n",
       "\t elections  & 3118      \\\\\n",
       "\t kidding    & 3091      \\\\\n",
       "\t midterm    & 3091      \\\\\n",
       "\\end{tabular}\n"
      ],
      "text/markdown": [
       "\n",
       "word | n | \n",
       "|---|---|---|---|---|---|\n",
       "| difference | 6694       | \n",
       "| feel       | 3311       | \n",
       "| anger      | 3130       | \n",
       "| elections  | 3118       | \n",
       "| kidding    | 3091       | \n",
       "| midterm    | 3091       | \n",
       "\n",
       "\n"
      ],
      "text/plain": [
       "  word       n   \n",
       "1 difference 6694\n",
       "2 feel       3311\n",
       "3 anger      3130\n",
       "4 elections  3118\n",
       "5 kidding    3091\n",
       "6 midterm    3091"
      ]
     },
     "metadata": {},
     "output_type": "display_data"
    }
   ],
   "source": [
    "head(freqDF)"
   ]
  },
  {
   "cell_type": "markdown",
   "metadata": {},
   "source": [
    "We may sometimes need to remove a row that lists 'na' as a word. This line says that we want to look at our dataframe (freqDF) and remove (-) the 1st row (1) and replace it with nothing (that is why there is nothing after the comma). However, it is commented out so we don't accidentally remove an important frequently occuring word. If you need to change which row is deleted, simply change the '-1' to whichever number row you want to remove. If you need to remove more than one row, simply put \"freqDF[-c(1, 6, 10),]\" and this will remove rows 1, 6, and 10. "
   ]
  },
  {
   "cell_type": "code",
   "execution_count": 13,
   "metadata": {
    "collapsed": true
   },
   "outputs": [],
   "source": [
    "#freqDF <- freqDF[-1,]"
   ]
  },
  {
   "cell_type": "markdown",
   "metadata": {},
   "source": [
    "Now let's check our data frame again and see if it removed our row. This is only needed if you removed a row or rows in the step above. Hence, it is commented out."
   ]
  },
  {
   "cell_type": "code",
   "execution_count": 14,
   "metadata": {
    "collapsed": true
   },
   "outputs": [],
   "source": [
    "#head(freqDF)"
   ]
  },
  {
   "cell_type": "markdown",
   "metadata": {},
   "source": [
    "Now, we are creating a variable that will determine the x-axis tick labels when we plot our bar graph. Make sure the number matches the number in the part of the plot below that says \"barplot(head(freqDF$n,10)\""
   ]
  },
  {
   "cell_type": "code",
   "execution_count": 15,
   "metadata": {
    "collapsed": true
   },
   "outputs": [],
   "source": [
    "labNames <- head(freqDF$word, 10)"
   ]
  },
  {
   "cell_type": "markdown",
   "metadata": {},
   "source": [
    "Now we're going to write the 100 most frequent words and their frequency to a csv file so we can see more than the top 10 or 20 words. If you need to see more or less than the 100 most frequent words, simply change the '100' to the number of most frequent words you wish to see. "
   ]
  },
  {
   "cell_type": "code",
   "execution_count": 16,
   "metadata": {
    "collapsed": true
   },
   "outputs": [],
   "source": [
    "write.csv(head(freqDF, 100), \"~/Text-Analysis/Output/freqWordsNeverAgain.csv\")"
   ]
  },
  {
   "cell_type": "markdown",
   "metadata": {},
   "source": [
    "### Results\n",
    "\n",
    "Finally, we can plot and view the data as a bar graph with the top ten words along the x-axis and the frequency of appearance along the y-axis. "
   ]
  },
  {
   "cell_type": "code",
   "execution_count": 17,
   "metadata": {
    "collapsed": false
   },
   "outputs": [
    {
     "name": "stdout",
     "output_type": "stream",
     "text": [
      "      [,1]\n",
      " [1,]  0.7\n",
      " [2,]  1.9\n",
      " [3,]  3.1\n",
      " [4,]  4.3\n",
      " [5,]  5.5\n",
      " [6,]  6.7\n",
      " [7,]  7.9\n",
      " [8,]  9.1\n",
      " [9,] 10.3\n",
      "[10,] 11.5\n"
     ]
    },
    {
     "data": {
      "image/png": "[encoded data removed]",
      "text/plain": [
       "Plot with title \"Tweet Word Frequency\""
      ]
     },
     "metadata": {},
     "output_type": "display_data"
    }
   ],
   "source": [
    "#Remix ideas: 1) Play around with the number of word on the chart by changing it from \"10\"\n",
    "# 2) Don't forget to adjust your plot's title if you have changed the input text\n",
    "# 3) Look up the frequency of all the words in the corpus by typing \"freq\" into the console\n",
    "\n",
    "par(mar=c(8,5,3,1))\n",
    "x <- barplot(head(freqDF$n,10), ylim=c(0,8000), col=c(\"red3\", \"orange3\",\"yellow3\",\"green3\",\"blue3\",\"darkorchid3\",\"darkred\", \"darkorange\", \"gold\", \"darkgreen\"),col.main=\"gold\", col.lab=\"red\",\n",
    "     main=\"Tweet Word Frequency\", xlab=\"\", ylab=\"Number of Occurences\", xaxt=\"n\")\n",
    "axis(2, at=x, labels=TRUE)\n",
    "axis(2, col=\"gray27\", col.axis=\"gray27\", col.ticks=\"gray27\",labels=TRUE)\n",
    "text(x, par(\"usr\")[3], srt=45, adj=c(1.1,1.5), xpd = TRUE, labels = labNames, cex=.9, col=\"gray27\")\n",
    "title(xlab='Top Ten Words', line=5, col.lab=\"red\")\n",
    "print(x)"
   ]
  },
  {
   "cell_type": "markdown",
   "metadata": {},
   "source": [
    "### VOILA!"
   ]
  }
 ],
 "metadata": {
  "kernelspec": {
   "display_name": "R 3.4.4",
   "language": "R",
   "name": "ir3.4"
  },
  "language_info": {
   "codemirror_mode": "r",
   "file_extension": ".r",
   "mimetype": "text/x-r-source",
   "name": "R",
   "pygments_lexer": "r",
   "version": "3.4.4"
  }
 },
 "nbformat": 4,
 "nbformat_minor": 2
}
