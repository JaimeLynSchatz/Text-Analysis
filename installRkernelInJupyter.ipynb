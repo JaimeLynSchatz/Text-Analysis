{
 "cells": [
  {
   "cell_type": "markdown",
   "metadata": {},
   "source": [
    "### Installing the R Kernel\n",
    "\n",
    "First, if you have not installed Jupyter Notebooks on your system or on your Karst account you need to do so. PLease see our notebook on installing [Jupyter Notebooks](https://github.com/cyberdh/Text-Analysis/blob/master/installJupyterMacPC.ipynb).\n",
    "First, if you are doing this in OS X it is vital that you run all of this from R in your terminal. I would recommend the same if you are trying to do this in Karst. For Windows users, you can run this in the R app. If you need to download R go here: https://cran.r-project.org/ and download R. Once you have R downloaded open your terminal (for Mac users). If you do not know how to access your terminal, simply hit 'command' + 'space bar' and type 'terminal' in the resulting search box. Click on the terminal icon that appears and you should now see the terminal appear. To get R running in your terminal, simply type 'r' (minus the quotes) and hit enter. If you have R downloaded on your system it should start running. Next, input the following in your terminal:"
   ]
  },
  {
   "cell_type": "code",
   "execution_count": null,
   "metadata": {
    "collapsed": true
   },
   "outputs": [],
   "source": [
    "install.packages(c('repr', 'IRdisplay', 'evaluate', 'crayon', 'pbdZMQ', 'devtools', 'uuid', 'digest'))"
   ]
  },
  {
   "cell_type": "markdown",
   "metadata": {},
   "source": [
    "Now that you have the needed packages, install the R kernel:"
   ]
  },
  {
   "cell_type": "code",
   "execution_count": null,
   "metadata": {
    "collapsed": true
   },
   "outputs": [],
   "source": [
    "devtools::install_github('IRkernel/IRkernel')"
   ]
  },
  {
   "cell_type": "markdown",
   "metadata": {},
   "source": [
    "Now you have to make Jupyter see the R kernel you just installed by installing a kernel spec. The first line of code is to install the kernel spec for only the current user. The second one will install it system wide, so if you have other people with accounts on your system who will want to use the Jupyter Notebook for R code, choose the second one."
   ]
  },
  {
   "cell_type": "code",
   "execution_count": 3,
   "metadata": {
    "collapsed": true
   },
   "outputs": [],
   "source": [
    "IRkernel::installspec()"
   ]
  },
  {
   "cell_type": "markdown",
   "metadata": {},
   "source": [
    "This is the system wide one:"
   ]
  },
  {
   "cell_type": "code",
   "execution_count": null,
   "metadata": {
    "collapsed": true
   },
   "outputs": [],
   "source": [
    "IRkernel::installspec(user = FALSE)"
   ]
  }
 ],
 "metadata": {
  "kernelspec": {
   "display_name": "R",
   "language": "R",
   "name": "ir"
  },
  "language_info": {
   "codemirror_mode": "r",
   "file_extension": ".r",
   "mimetype": "text/x-r-source",
   "name": "R",
   "pygments_lexer": "r",
   "version": "3.4.1"
  }
 },
 "nbformat": 4,
 "nbformat_minor": 2
}
