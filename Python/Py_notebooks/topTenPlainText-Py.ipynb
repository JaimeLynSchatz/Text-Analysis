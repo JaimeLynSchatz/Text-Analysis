{
 "cells": [
  {
   "cell_type": "markdown",
   "metadata": {},
   "source": [
    "## Top Ten Most Frequent Words in Star Trek the Next Generation\n",
    "The following script finds the ten most frequent words in Start Trek the Next Generation either the whole series, a whole season, or a single episode. Many times top ten analyses are used to find the top ten words overall, but this particular script strips out stopwords so the resulting top ten words shed light on the top ten thematic words.\n",
    "\n",
    "###  Before we begin\n",
    "Before we start, you will need to have set up a [Carbonate account](https://kb.iu.edu/d/aolp) in order to access [Research Desktop (RED)](https://kb.iu.edu/d/apum). You will also need to have access to RED through the [thinlinc client](https://kb.iu.edu/d/aput). If you have not done any of this, or have only done some of this, but not all, you should go to our [textPrep-Py.ipynb](textPrep-Py.ipynb) before you proceed further. The textPrep-Py notebook provides information and resources on how to get a Carbonate account, how to set up RED, and how to get started using the Jupyter Notebook on RED.     "
   ]
  },
  {
   "cell_type": "markdown",
   "metadata": {},
   "source": [
    "### Run CyberDH environment\n",
    "The code in the cell below points to a module specificaly for use with the Python Jupyter Notebooks created by Cyberinfrastructure for Digital Humanities. It allows for the use of the different pakcages in our notebooks and their subsequent data sets.\n",
    "\n",
    "##### Packages\n",
    "- **sys:** Provides access to some variables used or maintained by the interpreter and to functions that interact strongly with the interpreter. It is always available.\n",
    "- **os:** Provides a portable way of using operating system dependent functionality.\n",
    "\n",
    "#### NOTE: This cell is only for use with Research Desktop. You will get an error if you try to run this cell on your personal device!!"
   ]
  },
  {
   "cell_type": "code",
   "execution_count": 1,
   "metadata": {
    "collapsed": true
   },
   "outputs": [],
   "source": [
    "import sys\n",
    "import os\n",
    "sys.path.insert(0,\"/N/u/cyberdh/Carbonate/dhPyEnviron/lib/python3.6/site-packages\")\n",
    "os.environ[\"NLTK_DATA\"] = \"/N/u/cyberdh/Carbonate/dhPyEnviron/nltk_data\""
   ]
  },
  {
   "cell_type": "markdown",
   "metadata": {},
   "source": [
    "### Include necessary packages for notebook \n",
    "\n",
    "Python's extensibility comes in large part from packages. Packages are groups of functions, data, and algorithms that allow users to easily carry out processes without recreating the wheel. Some packages are included in the basic installation of Python, others created by Python users are available for download. Make sure to have the following packages installed before beginning so that they can be accessed while running the scripts.\n",
    "\n",
    "In your terminal, packages can be installed by simply typing \"pip install nameofpackage --user\" (minus the quotes). \n",
    "\n",
    "\n",
    "- **nltk:** Platform for building Python programs to work with human language data.\n",
    "\n",
    "- **os:** This module provides a portable way of using operating system dependent functionality.\n",
    "\n",
    "- **string:** contains a number of useful constants and classes, as well as some deprecated legacy functions that are also available as methods on strings.\n",
    "\n",
    "- **collections:** Implements specialized container datatypes providing alternatives to Python's general purpose built-in containers: dict, list, set, and tuple.\n",
    "\n",
    "- **operator:** Exports a set of functions corresponding to the intrinsic operators of Python.\n",
    "\n",
    "- **matplotlib:** A Python 2D plotting library which produces publication quality figures in a variety of hardcopy formats and interactive environments across platforms.\n",
    "\n",
    "- **numpy:** The fundamental package for scientific computing with Python.\n",
    "\n",
    "- **re:** Provides regular expression matching operations similar to those found in Perl.\n",
    "\n",
    "- **math:** Provides access to the mathematical functions defined by the C standard.\n"
   ]
  },
  {
   "cell_type": "code",
   "execution_count": 2,
   "metadata": {
    "collapsed": true
   },
   "outputs": [],
   "source": [
    "from nltk.corpus import stopwords\n",
    "import os\n",
    "import string\n",
    "from collections import defaultdict\n",
    "import operator\n",
    "import matplotlib.pyplot as plt\n",
    "import numpy as np\n",
    "import re\n",
    "import math"
   ]
  },
  {
   "cell_type": "markdown",
   "metadata": {},
   "source": [
    "#### File paths\n",
    "Here we are saving as variables different file paths that we need in our code. \n",
    "\n",
    "First we us the 'os' package above to find our 'HOME' directory using the 'environ' function. This will work for any operating system, so if you decide to try this out on your personal computer instead of ReD, the *homePath* variable will still be the path to your 'home' directory, so no changes are needed.\n",
    "\n",
    "Next, we combine the *homePath* file path with the folder names that lead to where our data is stored. Note that we do not use any file names yet, just the path to the folder. This is because we may want to read in all the files in the directory, or just one. There are options below for doing both. We save the path as a variable named *dataHome*.\n",
    "\n",
    "Now we add the *homePath* file path to other folder names that lead to a folder where we will want to save any output generated by this code. We again will change the file names in the appropriate cells down below. We save this file path as the variable *dataResults*.\n",
    "\n",
    "Lastly, we use the file path from *dataHome* to point to the directory where our data is stored and save that as *corpusRoot*."
   ]
  },
  {
   "cell_type": "code",
   "execution_count": 3,
   "metadata": {
    "collapsed": true
   },
   "outputs": [],
   "source": [
    "homePath = os.environ['HOME']\n",
    "dataHome = os.path.join(homePath, 'IntroTextAnalysis', 'data')\n",
    "dataResults = os.path.join(homePath, 'IntroTextAnalysis', 'Results')\n",
    "corpusRoot = os.path.join(dataHome, 'StarTrek')"
   ]
  },
  {
   "cell_type": "markdown",
   "metadata": {},
   "source": [
    "### Set needed variables\n",
    "This is where you will make some decisions about your data and set the necessary variables.\n",
    "\n",
    "If your data is in '.txt' format, then you need to determine if you want to read in a single document or an entire directory. If you want to read in a single document, then set *singleDoc* equal to **True**. If you want to read in an entire directory of documents then set *singleDoc* equal to **False**.\n",
    "\n",
    "The *nltkStop* is where you determine if you want to use the built in stopword list provided by the NLTK package. They provide stopword lists in multiple languages. If you wish to use this then set *nltkStop* equal to **True**. If you do not, then set *nltkStop* equal to **False**.\n",
    "\n",
    "Lastly, customStop is for if you have a .txt file that contains additional stopwords that you would like to read in and have added to the existing stopWords list. You do **NOT** need to use the NLTK stopwords list in order to add your own custom list of stopwords. **NOTE: Your custom stopwords file needs to have one word per line as it reads in a line at a time and the full contents of the line is read in and added to the existing stopwords list.** If you have a list of your own then set *customStop* equal to **True**. If you do not have your own custom stopwords list then set *customStop* equal to **False**."
   ]
  },
  {
   "cell_type": "code",
   "execution_count": 4,
   "metadata": {
    "collapsed": true
   },
   "outputs": [],
   "source": [
    "singleDoc = True\n",
    "nltkStop = True\n",
    "customStop = True\n",
    "stopWords = []"
   ]
  },
  {
   "cell_type": "markdown",
   "metadata": {},
   "source": [
    "### Stopwords\n",
    "If you set nltkStop equal to **True** above then this will add the NLTK stopwords list to the empty list named stopWords.\n",
    "\n",
    "If you need a different language, simply change 'english' (keep the quotes) in *stopWords.extend(stopwords.words('english'))* to the anglicized name of the language you wish to use (e.g. 'spanish' instead of 'espanol' or 'german' instead of 'deutsch'). If you wish to add additional words to the stopWords list, add the word in quotes to the list in *stopWords.extend(['the', 'words', 'you', 'want', 'to', 'add'])*.\n",
    "\n",
    "If you need to see the list of available languages in nltk simply remove the '#' from in front of the last line and run the cell. A list of available languages will print out. "
   ]
  },
  {
   "cell_type": "code",
   "execution_count": 5,
   "metadata": {
    "collapsed": true
   },
   "outputs": [],
   "source": [
    "# NLTK Stop words\n",
    "if nltkStop is True:\n",
    "    stopWords.extend(stopwords.words('english'))\n",
    "\n",
    "    stopWords.extend(['would', 'said', 'says', 'also'])\n",
    "\n",
    "#print(\" \".join(stopwords.fileids()))"
   ]
  },
  {
   "cell_type": "markdown",
   "metadata": {},
   "source": [
    "#### Add own stopword list\n",
    "\n",
    "Here is where your own stopwords list is added if you selected **True** in \"customStop\" above. Here you will need to change the folder names and file name to match your folders and file. Remember to put each folder name in quotes and in the correct order always putting the file name including the file extension (.txt) last."
   ]
  },
  {
   "cell_type": "code",
   "execution_count": 6,
   "metadata": {
    "collapsed": true
   },
   "outputs": [],
   "source": [
    "if customStop is True:\n",
    "    stopWordsFilepath = os.path.join(homePath, \"IntroTextAnalysis\", \"data\", \"earlyModernStopword.txt\")\n",
    "\n",
    "    with open(stopWordsFilepath, \"r\",encoding = 'utf-8') as stopfile:\n",
    "        stopWordsCustom = [x.strip() for x in stopfile.readlines()]\n",
    "\n",
    "    stopWords.extend(stopWordsCustom)"
   ]
  },
  {
   "cell_type": "markdown",
   "metadata": {},
   "source": [
    "### Functions\n",
    "We need to create a few functions in order to calculate and plot the ten most frequent words.Any time you see 'def' (without the quotes) the means we are DEclaring a Function. The 'def' is usually followed by the name of the function being created and then in parentheses are the arguments the function requires. After the parentheses is a colon, which closes the declaration, then a bunch of code below which is indented. The indented code is the program statement or statements to be executed or in other words what the function is doing. Once you have created your function all you need to do in order to run it is call the function by name and make sure you have included all the required arguments in the parentheses. This allows you to do what the function does without having to write out all the code in the function every time you wish to perform that task.\n",
    "\n",
    "#### Text Cleaning\n",
    "The first function does some text cleaning for us and requires the text being cleaned and whether or not there is a stopword list for arguments. Now come the statements to be executed. First we lowercase the text or else 'Love' and 'love' will be counted as two different words, so we make them all 'love'. Then we split the text into individual words and remove empty spaces. Then we remove any digits, stopwords, and punctuation and return a list of cleaned words."
   ]
  },
  {
   "cell_type": "code",
   "execution_count": 7,
   "metadata": {
    "collapsed": true
   },
   "outputs": [],
   "source": [
    "def textClean(text, stopWordsList = None):\n",
    "    \n",
    "    text = text.strip().lower()\n",
    "    \n",
    "    tokens = re.split(r'\\W+', text)\n",
    "    \n",
    "    # remove empty string\n",
    "    tokens = [t for t in tokens if t]\n",
    "    \n",
    "    # remove digits\n",
    "    tokens = [t for t in tokens if not t.isdigit()]\n",
    "    \n",
    "    # built-in stop words list\n",
    "    tokens = [t for t in tokens if t not in stopWords]\n",
    "        \n",
    "    # remove punctuation\n",
    "    puncts = list(string.punctuation)\n",
    "    puncts.append('--')\n",
    "\n",
    "    tokens = [t for t in tokens if t not in puncts]\n",
    "\n",
    "    return tokens"
   ]
  },
  {
   "cell_type": "markdown",
   "metadata": {},
   "source": [
    "#### Frequency count\n",
    "\n",
    "Now we need a function to count all the words and put them in order from most frequent to least frequent. The first four lines say that we are creating a function that creates a dictionary that adds '1' next to a word in that dictionary every time that word is used. The last line says that we are sorting that dictionary from the highest number to the lowest number."
   ]
  },
  {
   "cell_type": "code",
   "execution_count": 8,
   "metadata": {
    "collapsed": true
   },
   "outputs": [],
   "source": [
    "\"\"\"\n",
    "Get sorted frequency in descending order\n",
    "\"\"\"\n",
    "def getFreq(tokens):\n",
    "    \n",
    "    freq = defaultdict(int)\n",
    "\n",
    "    for t in tokens:\n",
    "        freq[t] += 1\n",
    "    \n",
    "    # sorted frequency in descending order\n",
    "    return sorted(freq.items(), key = operator.itemgetter(1), reverse = True)"
   ]
  },
  {
   "cell_type": "markdown",
   "metadata": {},
   "source": [
    "#### Plot Graph\n",
    "\n",
    "This next function describes how we want to plot or visualize our results. We name this function 'plotTopTen' and it begins by pulling only the top ten words from our sorted frequency above and printing them in a list. Then it says we want a barplot (plt.bar) and the rest describes different aspects of the barplot, such as what we want for the x and y axis, the centering of the graph, the colors of the bars, the labels and titles of the graph, and how to save a .png file of the visualization so we can use it in future presentations or publications."
   ]
  },
  {
   "cell_type": "code",
   "execution_count": 9,
   "metadata": {
    "collapsed": true
   },
   "outputs": [],
   "source": [
    "def plotTopTen(sortedFreq, title, imgFilepath, dpi):\n",
    "    \n",
    "    topn = 15\n",
    "\n",
    "    for t in sortedFreq[0 : topn]:\n",
    "        \n",
    "        print('{} : {}'.format(t[0], t[1]))\n",
    "    \n",
    "    topNWords = [w for w in sortedFreq[0 : topn]]\n",
    "\n",
    "    x_pos = np.arange(len(topNWords))\n",
    "    cnts = [w[1] for w in topNWords]\n",
    "\n",
    "    plt.rcdefaults()\n",
    "\n",
    "    plt.bar(x_pos, cnts, align = 'center', alpha = 0.5, color = ['red', \n",
    "                                                             'orange', 'yellow', 'green', 'blue',\n",
    "                                                             'darkorchid', 'darkred', 'darkorange', \n",
    "                                                             'gold', 'darkgreen'])\n",
    "    \n",
    "\n",
    "        \n",
    "    plt.xticks(x_pos, [w[0] for w in topNWords])\n",
    "    plt.xticks(rotation = 45)\n",
    "        \n",
    "    xlabel = plt.xlabel('Words')\n",
    "    xlabel.set_color('red')\n",
    "    ylabel = plt.ylabel('Frequency')\n",
    "    ylabel.set_color('red')\n",
    "    \n",
    "    high = max(cnts)\n",
    "    low = 0\n",
    "    \n",
    "    plt.ylim(low, math.ceil(high + 0.1 * (high - low)))\n",
    "    \n",
    "    for xpos, count in zip(x_pos, cnts):\n",
    "    \n",
    "        plt.text(x = xpos, y = count + 1, s = str(count), ha = 'center', va = 'bottom')\n",
    "\n",
    "    plt.title(title)\n",
    " \n",
    "    plt.savefig(imgFilepath, format = 'png', dpi = dpi, bbox_inches = 'tight')\n",
    "    \n",
    "    plt.show()"
   ]
  },
  {
   "cell_type": "markdown",
   "metadata": {},
   "source": [
    "#### Pull from a single file\n",
    "\n",
    "This function reads a single file from which we will be counting and ploting the top ten words. This function opens the file, reads it, then applies the cleaning function we created above and adds the ability to include an additional stopword list if needed."
   ]
  },
  {
   "cell_type": "code",
   "execution_count": 10,
   "metadata": {
    "collapsed": true
   },
   "outputs": [],
   "source": [
    "def getTokensFromSingleText(textFilepath):\n",
    "    \n",
    "    with open(textFilepath, \"r\", encoding = 'utf-8') as f:\n",
    "        text = f.read()\n",
    "\n",
    "    return textClean(text)"
   ]
  },
  {
   "cell_type": "markdown",
   "metadata": {},
   "source": [
    "#### Pull from a directory\n",
    "\n",
    "This function is similar to the one above that reads a single text, except this one reads every file in a directory and applies the text cleaning function to all of them. It also lets you know when it has finished the process with each file in your directory."
   ]
  },
  {
   "cell_type": "code",
   "execution_count": 11,
   "metadata": {
    "collapsed": true
   },
   "outputs": [],
   "source": [
    "def getTokensFromScan(corpusRoot):\n",
    "    \n",
    "    tokens = []\n",
    "    \n",
    "    for root, subdirs, files in os.walk(corpusRoot):\n",
    "        \n",
    "        for filename in files:\n",
    "            \n",
    "            # skip hidden file\n",
    "            if filename.startswith('.'):\n",
    "                continue\n",
    "            \n",
    "            textFilepath = os.path.join(root, filename)\n",
    "            \n",
    "            with open(textFilepath, \"r\", encoding = \"utf-8\") as f:\n",
    "                text = f.read()\n",
    "                tokens.extend(textClean(text))\n",
    "                \n",
    "                print('Finished tokenizing text {}\\n'.format(textFilepath))\n",
    "    \n",
    "    return tokens"
   ]
  },
  {
   "cell_type": "markdown",
   "metadata": {},
   "source": [
    "### Top ten\n",
    "The script in the box below now uses the functions and file paths we have created to get the top ten words from a single .txt file or from a directory sepending on if you set singleDoc equal to **True** or **False** above. For this we have an \"if else\" statement that says *if* you set *singleDoc* equal to **True** then do abc, otherwise (*else*) do xyz. For our purposes if *singleDoc* is **True** read in and plot the top ten words from a single document, else read in all the documents in a directory and plot the top ten words found in all the documents in that directory. \n",
    "\n",
    "If you set *singleDoc* equal to **True** then we are working with a single document. We start by pointing to the specific file, then we use the *getTokensFromSingleText* function we created above to clean the text and split the text into individual words. Then we get the word frequency of the text. Finally, we add the title of the graph, give the file path and file name of the .png file we will save the graph as, and the dpi setting for the graph. Then we implement the plotting function we created above to give us a bar plot of the top ten words in our chosen text.\n",
    "\n",
    "If you set *singleDoc* equal to **False** then we are working with an entire directory of .txt files. We start by pointing to the specific file, then we use the *getTokensFromScan* function we created above to clean the documents and split the documents into individual words. Then we get the word frequency of the text. Finally, we add the title of the graph, give the file path and file name of the .png file we will save the graph as, and the dpi setting for the graph. Then we implement the plotting function we created above to give us a bar plot of the top ten words in the documents in our directory."
   ]
  },
  {
   "cell_type": "code",
   "execution_count": 12,
   "metadata": {
    "collapsed": false
   },
   "outputs": [
    {
     "name": "stdout",
     "output_type": "stream",
     "text": [
      "captain : 86\n",
      "yes : 35\n",
      "commander : 32\n",
      "riker : 31\n",
      "station : 23\n",
      "know : 23\n",
      "enterprise : 22\n",
      "farpoint : 21\n",
      "ship : 20\n",
      "mister : 19\n",
      "vessel : 18\n",
      "starfleet : 17\n",
      "make : 17\n",
      "bridge : 17\n",
      "data : 16\n"
     ]
    },
    {
     "data": {
      "image/png": "[encoded data removed]",
      "text/plain": [
       "<matplotlib.figure.Figure at 0x7f97b9327e10>"
      ]
     },
     "metadata": {},
     "output_type": "display_data"
    }
   ],
   "source": [
    "if singleDoc is True:\n",
    "    # Use case one, analyze top 10 most frequent words from a single text\n",
    "\n",
    "    textFilepath = os.path.join(corpusRoot,'season1', 'S1_E01.txt')\n",
    "\n",
    "    # get tokens\n",
    "    tokens = getTokensFromSingleText(textFilepath)\n",
    "\n",
    "    # get frequency\n",
    "    freq = getFreq(tokens)\n",
    "\n",
    "    title = 'Top 10 Words, Star Trek'\n",
    "\n",
    "    imgFilepath = os.path.join(dataResults, 'starTrek102TopTenPlainText.png')\n",
    "\n",
    "    dpi = 300\n",
    "\n",
    "    plotTopTen(freq, title, imgFilepath, dpi)\n",
    "else:\n",
    "    # Use case two, analyze top 10 most frequent words from a corpus root\n",
    "\n",
    "    tokens = getTokensFromScan(corpusRoot)\n",
    "\n",
    "    # get frequency\n",
    "    freq = getFreq(tokens)\n",
    "\n",
    "    title = 'Top 10 Words, Star Trek: Next Generation'\n",
    "\n",
    "    imgFilepath = os.path.join(dataResults, 'starTrekTopTenPlainText.png')\n",
    "\n",
    "    dpi = 300\n",
    "\n",
    "    plotTopTen(freq, title, imgFilepath, dpi)\n"
   ]
  },
  {
   "cell_type": "markdown",
   "metadata": {
    "collapsed": true
   },
   "source": [
    "## VOILA!"
   ]
  }
 ],
 "metadata": {
  "kernelspec": {
   "display_name": "Python 3",
   "language": "python",
   "name": "python3"
  },
  "language_info": {
   "codemirror_mode": {
    "name": "ipython",
    "version": 3
   },
   "file_extension": ".py",
   "mimetype": "text/x-python",
   "name": "python",
   "nbconvert_exporter": "python",
   "pygments_lexer": "ipython3",
   "version": "3.6.0"
  }
 },
 "nbformat": 4,
 "nbformat_minor": 2
}
