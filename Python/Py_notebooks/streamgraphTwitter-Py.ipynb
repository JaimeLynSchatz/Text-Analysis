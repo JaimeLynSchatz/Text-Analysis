{
 "cells": [
  {
   "cell_type": "markdown",
   "metadata": {},
   "source": [
    "# Streamgraph Twitter\n",
    "This notebook takes you through making a streamgraph from tweets contained in a .csv file."
   ]
  },
  {
   "cell_type": "markdown",
   "metadata": {},
   "source": [
    "###  Before we begin\n",
    "Before we start, you will need to have set up a [Carbonate account](https://kb.iu.edu/d/aolp) in order to access [Research Desktop (RED)](https://kb.iu.edu/d/apum). You will also need to have access to RED through the [thinlinc client](https://kb.iu.edu/d/aput). If you have not done any of this, or have only done some of this, but not all, you should go to our [textPrep-Py.ipynb](textPrep-Py.ipynb) before you proceed further. The textPrep-Py notebook provides information and resources on how to get a Carbonate account, how to set up RED, and how to get started using the Jupyter Notebook on RED.   "
   ]
  },
  {
   "cell_type": "markdown",
   "metadata": {},
   "source": [
    "### Include necessary packages for notebook \n",
    "\n",
    "Python's extensibility comes in large part from packages. Packages are groups of functions, data, and algorithms that allow users to easily carry out processes without recreating the wheel. Some packages are included in the basic installation of Python, others created by Python users are available for download. Make sure to have the following packages installed before beginning so that they can be accessed while running the scripts.\n",
    "\n",
    "In your terminal, packages can be installed by simply typing \"pip install nameofpackage --user\" (minus the quotes). \n",
    "\n",
    "\n",
    "- **nltk:** A leading platform for building Python programs to work with human language data.\n",
    "- **string:** Contains a number of functions to process standard Python strings.\n",
    "- **re:** Provides regular expression matching operations similar to those found in Perl.\n",
    "- **os:** Provides a portable way of using operating system dependent functionality.\n",
    "- **csv:** Implements classes to read and write tabular data in CSV format.\n",
    "- **math:** Provides access to the mathematical functions defined by the C standard.\n",
    "- **numpy:** The fundamental package for scientific computing with Python.\n",
    "- **matplotlib:** A Python 2D plotting library which produces publication quality figures in a variety of hardcopy formats and interactive environments across platforms. \n",
    "- **pandas:** An open source, BSD-licensed library providing high-performance, easy-to-use data structures and data analysis tools for the Python programming language.\n",
    "- **scipy:** Open-source software for mathematics, science, and engineering. The SciPy library depends on NumPy, which provides convenient and fast N-dimensional array manipulation.\n",
    "- **ggplot:** a Python implementation of the grammar of graphics."
   ]
  },
  {
   "cell_type": "code",
   "execution_count": 1,
   "metadata": {
    "collapsed": false
   },
   "outputs": [],
   "source": [
    "from nltk.corpus import PlaintextCorpusReader\n",
    "from nltk.corpus import stopwords\n",
    "from nltk import word_tokenize\n",
    "import string\n",
    "import re\n",
    "import os\n",
    "import csv\n",
    "import math\n",
    "import numpy as np\n",
    "import matplotlib.pyplot as plt\n",
    "import pandas as pd\n",
    "from scipy.stats import rankdata\n",
    "from ggplot import *"
   ]
  },
  {
   "cell_type": "markdown",
   "metadata": {},
   "source": [
    "### Functions\n",
    "We need to create functions in order to calculate and create a streamgraph. Any time you see 'def' (without the quotes) that means we are DEclaring a Function. The 'def' is usually followed by the name of the function being created and then in parentheses are the arguments the function requires. After the parentheses is a colon, which closes the declaration, then a bunch of code below which is indented. The indented code is the program statement or statements to be executed or in other words what the function is doing. Once you have created your function all you need to do in order to run it is call the function by name and make sure you have included all the required arguments in the parentheses. This allows you to do what the function does without having to write out all the code in the function every time you wish to perform that task."
   ]
  },
  {
   "cell_type": "markdown",
   "metadata": {},
   "source": [
    "#### Tweet cleaning and reading\n",
    "\n",
    "This function is looking for ASCII characters which is a type of text encoding (like utf-8). Will most likely not be making changes to this function."
   ]
  },
  {
   "cell_type": "code",
   "execution_count": 2,
   "metadata": {
    "collapsed": true
   },
   "outputs": [],
   "source": [
    "\"\"\"\n",
    "Check if a token has all ASCII characters\n",
    "\"\"\"\n",
    "def isAsciiToken(token):\n",
    "    \n",
    "    return all(ord(c) < 128 for c in token)"
   ]
  },
  {
   "cell_type": "markdown",
   "metadata": {},
   "source": [
    "This function removes a character if it is not an ASCII character. This eliminates possible encoding errors later, which happens a lot with social media due to the prevalent use of emojis. Also unlikely to need changing."
   ]
  },
  {
   "cell_type": "code",
   "execution_count": 3,
   "metadata": {
    "collapsed": true
   },
   "outputs": [],
   "source": [
    "\"\"\"\n",
    "Remove non-ascii tokens\n",
    "\"\"\"\n",
    "def removeNonAsciiToken(tokens):\n",
    "    \n",
    "    # remove non-ascii tokens\n",
    "    tokens = [x for x in tokens if isAsciiToken(x)]\n",
    "    \n",
    "    return tokens"
   ]
  },
  {
   "cell_type": "markdown",
   "metadata": {},
   "source": [
    "This function reads in a .csv file. No changes should be needed here."
   ]
  },
  {
   "cell_type": "code",
   "execution_count": 4,
   "metadata": {
    "collapsed": true
   },
   "outputs": [],
   "source": [
    "def readCSV(filepath, textColIndex, encoding = 'utf-8'):\n",
    "    \n",
    "    with open(filepath, encoding = encoding) as f:\n",
    "        \n",
    "        reader = csv.reader(f, delimiter = ',', quotechar = '\"')\n",
    "        \n",
    "        content = []\n",
    "        for row in reader: \n",
    "            content.append(row[textColIndex])\n",
    "         \n",
    "        # skip header\n",
    "        return content[1 : ]"
   ]
  },
  {
   "cell_type": "markdown",
   "metadata": {},
   "source": [
    "This function removes urls from the tweets using a regular expression (regex). If you are interested in the urls then you may want to skip this function."
   ]
  },
  {
   "cell_type": "code",
   "execution_count": 5,
   "metadata": {
    "collapsed": true
   },
   "outputs": [],
   "source": [
    "\"\"\"\n",
    "Remove URLs\n",
    "\"\"\"\n",
    "def removeURL(tokens):\n",
    "    \n",
    "    p = re.compile(r'^https?://.*$')\n",
    "    \n",
    "    tokens = [t for t in tokens if re.match(p, t) is None]\n",
    "    \n",
    "    return tokens "
   ]
  },
  {
   "cell_type": "markdown",
   "metadata": {},
   "source": [
    "This function removes punctuation and is used as part of the text cleaning function"
   ]
  },
  {
   "cell_type": "code",
   "execution_count": 6,
   "metadata": {
    "collapsed": true
   },
   "outputs": [],
   "source": [
    "def allPuncChar(token):\n",
    "    \n",
    "    for c in token:\n",
    "        \n",
    "        if c not in string.punctuation:\n",
    "            return False\n",
    "        \n",
    "    return True"
   ]
  },
  {
   "cell_type": "markdown",
   "metadata": {},
   "source": [
    "Now we come to the text cleaning function. First we lowercase the text or else 'Love' and 'love' will be counted as two different words, so we make them all 'love'. \n",
    "\n",
    "Then we remove stopwords. If you wish to use a stopword list of a language other than English, simply replace 'english' (with the quotes this time) in the cell below with the anglicized name of your language of interest (meaning 'spanish' instead of 'espanol' and 'german' instead of 'deutsch'). There is a limit to the languages available using NLTK's stopwords. The list of available languages can be found by running the code: 'stopwords.fileids()' (without the quotes).\n",
    "\n",
    "Lastly we remove punctuation, numbers, urls, and non-ascii characters and return a list of cleaned words."
   ]
  },
  {
   "cell_type": "code",
   "execution_count": 7,
   "metadata": {
    "collapsed": true
   },
   "outputs": [],
   "source": [
    "def clean(words, customStopWordsList = None):\n",
    "    ################\n",
    "    # cleanup\n",
    "    ################\n",
    "\n",
    "    # to lower case\n",
    "    words = [w.lower() for w in words]\n",
    "\n",
    "\n",
    "    # remove stop words\n",
    "\n",
    "    # step 1: custom list\n",
    "  \n",
    "    if customStopWordsList is not None:\n",
    "        words = [w for w in words if w not in customStopWordsList]\n",
    "\n",
    "\n",
    "    # step 2: built in list\n",
    "    builtinList = set(stopwords.words('english')) # convert from list to set for fast lookup\n",
    "    words = [w for w in words if w not in builtinList]\n",
    "\n",
    "    # remove punctuations\n",
    "    words = [w for w in words if not allPuncChar(w)]\n",
    "\n",
    "\n",
    "    # remove numbers\n",
    "    words = [w for w in words if not w.isnumeric()]\n",
    "    \n",
    "    # remove urls\n",
    "    words = removeURL(words)\n",
    "    \n",
    "    # remove non ascii tokens\n",
    "    words = removeNonAsciiToken(words)\n",
    "        \n",
    "    return words"
   ]
  },
  {
   "cell_type": "markdown",
   "metadata": {},
   "source": [
    "### Read in the tweets\n",
    "\n",
    "Here we read in the tweets and break them up into chunks of a specified number of tweets. The first two lines, the textColIndex line, and the numTweetsPerBlock line are where you are going to make your changes. \n",
    "\n",
    "The first line assigns the file path to the directory where your .csv file is stored and is assigned to the variable 'root'. \n",
    "\n",
    "The next line points to the file itself by name and is assigned to the variable 'tweetFile'. \n",
    "\n",
    "The textColIndex line is where you point to the column in your .csv file that contains the actual text of the tweets. Right now we have it set for the 3rd column, which is 2 in Python since Python starts counting at 0. So, the first column is 0, the second column is 1, and the third column is 2. Set this number to the what ever column in from the left contains your tweets. \n",
    "\n",
    "The numTweetsPerBlock line is where you decide how many tweets you want per chunk. We have it set at 1000, but if you only have 500 tweets, you'll want to change this number. \n",
    "\n",
    "These four lines are the only ones you will most likely need to change."
   ]
  },
  {
   "cell_type": "code",
   "execution_count": 8,
   "metadata": {
    "collapsed": false
   },
   "outputs": [
    {
     "name": "stdout",
     "output_type": "stream",
     "text": [
      "Read 50645 tweets\n",
      "Tweets per block: 1000, # blocks is 51\n"
     ]
    }
   ],
   "source": [
    "root = '/N/u/klosteda/Carbonate/Text-Analysis/data/twitter'\n",
    "\n",
    "tweetFile = 'neverAgain.csv'\n",
    "\n",
    "filepath = os.path.join(root, tweetFile)\n",
    "\n",
    "textColIndex = 2\n",
    "encoding = 'ISO-8859-1'\n",
    "\n",
    "tweets = readCSV(filepath, textColIndex, encoding)\n",
    "\n",
    "print('Read {} tweets'.format(len(tweets)))\n",
    "\n",
    "numTweetsPerBlock = 1000\n",
    "\n",
    "numberBlocks = int(math.ceil(len(tweets) / numTweetsPerBlock))\n",
    "\n",
    "print('Tweets per block: {}, # blocks is {}'.format(numTweetsPerBlock, numberBlocks))\n",
    "\n",
    "blocks = []\n",
    "\n",
    "for i in range(numberBlocks - 1):\n",
    "    \n",
    "    blocks.append(tweets[i * numTweetsPerBlock : (i + 1) * numTweetsPerBlock])\n",
    "    \n",
    "blocks.append(tweets[(i + 1) * numTweetsPerBlock : ])"
   ]
  },
  {
   "cell_type": "markdown",
   "metadata": {},
   "source": [
    "### Load in custom stopwords\n",
    "\n",
    "There are two places to make adjustments in this block. First, you will want to change the filepath to point to your own personal custom stopword list. The second place to make changes is where it says lines.extend. The words in quotes in the brackets are words being added to the stopword list. Simply add words you want removed in quotes and separated by a comma. The rest will most likely not need to be changed."
   ]
  },
  {
   "cell_type": "code",
   "execution_count": 9,
   "metadata": {
    "collapsed": true
   },
   "outputs": [],
   "source": [
    "# load custom stop words list\n",
    "filepath = \"/N/u/klosteda/Carbonate/Text-Analysis/data/earlyModernStopword.txt\"\n",
    "\n",
    "with open(filepath) as f:\n",
    "    lines = f.read().splitlines()\n",
    "\n",
    "lines = [l.strip() for l in lines]\n",
    "lines.extend(['amp','rt', 'dont'])\n",
    "\n",
    "customStopWordsList = set(lines) # convert from list to set for fast lookup\n",
    "\n",
    "tokenBlocks = []\n",
    "\n",
    "for b in blocks:\n",
    "    \n",
    "    text = ' '.join(b)\n",
    "    \n",
    "    tokens = word_tokenize(text)\n",
    "    \n",
    "    tokenBlocks.append(clean(tokens, customStopWordsList))\n",
    "    "
   ]
  },
  {
   "cell_type": "markdown",
   "metadata": {},
   "source": [
    "### Pick words of interest\n",
    "Here we decide what words we are most interested in seeing in the streamgraph. Just add any words with quotes and separated by a comma. There is no limit to how many words you can look at. However, at some point the graph may become difficult to read if you put too many words, so keep that in mind."
   ]
  },
  {
   "cell_type": "code",
   "execution_count": 10,
   "metadata": {
    "collapsed": true
   },
   "outputs": [],
   "source": [
    "# calculate frequency\n",
    "\n",
    "interestedWords = ['nra', 'gop', 'msdstrong']\n",
    "\n",
    "freqDict = {}\n",
    "\n",
    "for w in interestedWords:\n",
    "    \n",
    "    freqDict[w] = np.zeros(len(tokenBlocks)).tolist()\n",
    "    \n",
    "for idx, block in enumerate(tokenBlocks):\n",
    "    \n",
    "    for token in block:\n",
    "        \n",
    "        if token in freqDict:\n",
    "            freqDict[token][idx] += 1"
   ]
  },
  {
   "cell_type": "markdown",
   "metadata": {},
   "source": [
    "### Emulate R's stat_steamgraph in 'ggTimeSeries' package\n",
    "\n",
    "This function is meant to emulate the stat_steamgraph function from the ggTimeSeries package in R. You will most likely not need to make any changes here. This function is creating a special data frame (kind of like an excel table) for ggplot to be able to read it in a way that it creates a streamgraph from the data."
   ]
  },
  {
   "cell_type": "code",
   "execution_count": 11,
   "metadata": {
    "collapsed": true
   },
   "outputs": [],
   "source": [
    "def composeDataframe(freqDict, debug = False):\n",
    "\n",
    "    if debug:\n",
    "        df = pd.DataFrame(data = freqDict)\n",
    "        print(df)\n",
    "        print('\\n' * 3)\n",
    "\n",
    "\n",
    "    wordCol = []\n",
    "    freqCol = []\n",
    "    seqNum = []\n",
    "    \n",
    "    for word in freqDict:\n",
    "        wordCol.extend([word] * len(freqDict[word]))\n",
    "        freqCol.extend(freqDict[word])\n",
    "        seqNum.extend(list(range(1, len(freqDict[word]) + 1)))\n",
    "\n",
    "    dataDict = {\"Term\" : wordCol, \"Freq\" : freqCol, 'SeqNum' : seqNum}\n",
    "\n",
    "    df = pd.DataFrame(data = dataDict)\n",
    "\n",
    "    if debug:\n",
    "        print(df)\n",
    "        print('\\n' * 3)\n",
    "\n",
    "    rankdf = df.groupby([\"Term\"], as_index = False).agg({\"Freq\" : \"std\"}).rename(columns = {\"Freq\" : \"Std\"})\n",
    "\n",
    "    if debug:\n",
    "        print(df)\n",
    "        print('\\n' * 3)\n",
    "\n",
    "    rankdf[\"StdRank\"] = rankdata(rankdf[\"Std\"], method = 'ordinal')\n",
    "\n",
    "    if debug:\n",
    "        print(rankdf)\n",
    "        print('\\n' * 3)\n",
    "\n",
    "    for idx, row in rankdf.iterrows():\n",
    "\n",
    "        if row[\"StdRank\"] % 2 == 0:\n",
    "            rankdf.at[idx, \"StdRank\"] = -row[\"StdRank\"]\n",
    "\n",
    "\n",
    "    if debug:\n",
    "        print(rankdf)\n",
    "        print('\\n' * 3)\n",
    "\n",
    "    df = df.merge(rankdf, on = 'Term')\n",
    "\n",
    "    if debug:\n",
    "        print(df)\n",
    "        print('\\n' * 3)\n",
    "\n",
    "    df = df.sort_values(by = ['SeqNum', 'StdRank'])\n",
    "\n",
    "    if debug:\n",
    "        print(df)\n",
    "        print('\\n' * 3)\n",
    "\n",
    "    def f(x):\n",
    "\n",
    "        x[\"cumsum\"] = x[\"Freq\"].cumsum()\n",
    "        x[\"ymax\"] = x[\"Freq\"].cumsum() - x[\"Freq\"].sum() / 2\n",
    "        x[\"ymin\"] = x[\"ymax\"] - x[\"Freq\"]\n",
    "\n",
    "        return x\n",
    "\n",
    "\n",
    "    df = df.groupby([\"SeqNum\"], as_index = False).apply(f)\n",
    "\n",
    "    if debug:\n",
    "        print(df)\n",
    "        print('\\n' * 3)\n",
    "        \n",
    "    return df\n"
   ]
  },
  {
   "cell_type": "markdown",
   "metadata": {},
   "source": [
    "Now we apply the emulator data frame function from above to our corpus so we can plot the streamgraph in our next block of code. Again, it is unlikely that you will need to make changes here."
   ]
  },
  {
   "cell_type": "code",
   "execution_count": 12,
   "metadata": {
    "collapsed": true
   },
   "outputs": [],
   "source": [
    "df = composeDataframe(freqDict)"
   ]
  },
  {
   "cell_type": "markdown",
   "metadata": {},
   "source": [
    "### Plot the Streamgraph\n",
    "\n",
    "For the code below, you will only need to make changes to five lines of code. The first is where it says 'scale_fill_brewer'. You may want to change the palette color to something else besides 'Dark2' (with the quotes). Some color options can be found [here](https://www.nceas.ucsb.edu/~frazier/RSpatialGuides/colorPaletteCheatsheet.pdf) under RColorBrewer. Next you will want to change the xlab, ylab, and ggtitle lines to match your data. The xlab and ylab is where you can change the labels of the x and y axis. The size changes the font size and vjust changes the distance from the graph the label appears. Finally, you will want to change the file path in plt.savefig to match where you want a .png of the graph to be saved and what you want to name the file. Once you've made your changes, you're ready to plot your graph!"
   ]
  },
  {
   "cell_type": "code",
   "execution_count": 14,
   "metadata": {
    "collapsed": false
   },
   "outputs": [
    {
     "data": {
      "image/png": "[encoded data removed]",
      "text/plain": [
       "<matplotlib.figure.Figure at 0x7f7d2f342b00>"
      ]
     },
     "metadata": {},
     "output_type": "display_data"
    }
   ],
   "source": [
    "p = ggplot(df, aes(x = 'SeqNum', ymin = 'ymin', ymax = 'ymax', y = 'Freq', group = 'Term', fill = 'Term')) +\\\n",
    "    geom_ribbon() + \\\n",
    "    theme(axis_text_x = element_text(angle = 45, hjust = 1)) + \\\n",
    "    scale_fill_brewer(type = 'qual', palette = 'Dark2') + \\\n",
    "    xlab(element_text(text = \"Segments of 1000 Tweets\", size = 16, vjust = -0.02)) + \\\n",
    "    ylab(element_text(text = \"Frequency\", size = 16)) + \\\n",
    "    scale_x_continuous(breaks = list(range(1, len(tokenBlocks) + 1))) + \\\n",
    "    ggtitle(element_text(text = \"Streamgraph of 3 words in tweets containing #neveragain\", size = 16))\n",
    "p.make()\n",
    "plt.savefig(\"/N/u/klosteda/Carbonate/Text-Analysis/Output/streamgraphNeverAgainPy.png\", width = 14, height = 8, dpi = 800)\n",
    "\n",
    "plt.show()"
   ]
  },
  {
   "cell_type": "markdown",
   "metadata": {},
   "source": [
    "## VOILA!!"
   ]
  }
 ],
 "metadata": {
  "kernelspec": {
   "display_name": "Python 3",
   "language": "python",
   "name": "python3"
  },
  "language_info": {
   "codemirror_mode": {
    "name": "ipython",
    "version": 3
   },
   "file_extension": ".py",
   "mimetype": "text/x-python",
   "name": "python",
   "nbconvert_exporter": "python",
   "pygments_lexer": "ipython3",
   "version": "3.6.0"
  }
 },
 "nbformat": 4,
 "nbformat_minor": 2
}
