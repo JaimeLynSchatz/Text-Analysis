{
 "cells": [
  {
   "cell_type": "markdown",
   "metadata": {},
   "source": [
    "# Top Ten Words in Tweets \n",
    "### Curated Stopwords Removed"
   ]
  },
  {
   "cell_type": "markdown",
   "metadata": {},
   "source": [
    "### Global parameters \n",
    "\n",
    "You will need to have set up a [Karst account](https://kb.iu.edu/d/bezu#account) first. Once you have your Karst account simply go to [rstudio.iu.edu](https://rstudio.iu.edu/auth-sign-in) and login using your IU username and passphrase.  Next, set the working directory by pointing to the location on Karst where you have stored the files. Below, we have chosen to save the folder \"Text-Analysis\" as a \"Project\" in R Studio on the Karst super-computer here at Indiana University. It contains the R scripts, texts, notebooks, and results. If you have forked and cloned the Github repository (see [textPrep.Rmd](textPrep.Rmd) for directions on how), simply point to where you have saved the folder. If you save it to your personal Karst folder, it will most likely look very similar to the example below. Karst is a unix server and so the home directory is represented by a ~ and, thus, the path will look like this \"~/Text-Analysis/\" (with the quotes). Alternatively, if you are on a PC, you will need to use an absolute path such as \"C:/Users/XXX\" (with the quotes again).\n",
    "\n",
    "In R Studio, click Session in the menu bar > Set Working Directory > Choose Directory, then select the Text-Analysis directory in which you are working. This will set your working directory in the console pane, but make sure to copy the path into the source pane above to keep the directory constant if you close this script and reopen later. Make sure you click on the blue cube with a \"R\" in the center to set your working directory to your Text-Analysis project path.\n",
    "\n",
    "HINT: Your working directory is the folder from which you will be pulling your texts."
   ]
  },
  {
   "cell_type": "code",
   "execution_count": 1,
   "metadata": {},
   "outputs": [],
   "source": [
    "#Set the working directory\n",
    "setwd(\"~/Text-Analysis/\")"
   ]
  },
  {
   "cell_type": "markdown",
   "metadata": {},
   "source": [
    "#### Include necessary packages for notebook \n",
    "\n",
    "R's extensibility comes in large part from packages. Packages are groups of functions, data, and algorithms that allow users to easily carry out processes without recreating the wheel. Some packages are included in the basic installation of R, others created by R users are available for download. Make sure to have the following packages installed before beginning so that they can be accessed while running the scripts.\n",
    "\n",
    "In R Studio, packages can be installed by navigating to Tools in the menu bar > Install Packages. Or in the bottom right panel click on the \"packages\" tab and then click on \"install.\"\n",
    "\n",
    "- **NLP:** Basic classes and methods for Natural Language Processing.\n",
    "\n",
    "- **tm:** this package provides tools (functions) for performing various types of text mining. In this script, we will use tm to performing text cleaning in order to have uniform data for analysis. Check out [this link](https://cran.r-project.org/web/packages/tm/vignettes/tm.pdf) for the documentation!\n",
    "- **tidyverse:** The tidyverse is an opinionated collection of R packages designed for data science. All packages share an underlying design philosophy, grammar, and data structures. Check out [this link](https://www.tidyverse.org/) for more information."
   ]
  },
  {
   "cell_type": "code",
   "execution_count": 2,
   "metadata": {},
   "outputs": [
    {
     "name": "stderr",
     "output_type": "stream",
     "text": [
      "\n",
      "Attaching package: ‘dplyr’\n",
      "\n",
      "The following objects are masked from ‘package:stats’:\n",
      "\n",
      "    filter, lag\n",
      "\n",
      "The following objects are masked from ‘package:base’:\n",
      "\n",
      "    intersect, setdiff, setequal, union\n",
      "\n"
     ]
    }
   ],
   "source": [
    "#Call libraries used in the script\n",
    "library(NLP)\n",
    "library(tm)\n",
    "library(dplyr)\n",
    "library(tidytext)"
   ]
  },
  {
   "cell_type": "markdown",
   "metadata": {},
   "source": [
    "Here we add a line for extracting a .zip file. This step may not be needed as you can unzip files in the directory manually. However, if you are using rstudio on a server, you will need this step in order to extract the zipped file and then use it."
   ]
  },
  {
   "cell_type": "code",
   "execution_count": 3,
   "metadata": {},
   "outputs": [],
   "source": [
    "#unzip file\n",
    "#zipF<- \"data/twitter/neverAgain.csv.zip\"\n",
    "#outDir<-\"data/twitter\"\n",
    "#unzip(zipF,exdir=outDir)"
   ]
  },
  {
   "cell_type": "markdown",
   "metadata": {},
   "source": [
    "Read the .csv file (this time a curated set of tweets grabbed using the #Tags tool, then saved as a .csv file)"
   ]
  },
  {
   "cell_type": "code",
   "execution_count": 4,
   "metadata": {},
   "outputs": [],
   "source": [
    "#Read in the text \n",
    "tweets <- read.csv(\"data/twitter/neverAgain.csv\")"
   ]
  },
  {
   "cell_type": "markdown",
   "metadata": {},
   "source": [
    "### Prepare text data\n",
    "\n",
    "First we are going to take the list of 50k+ tweets created when we grabbed the file above and convert it to utf-8 encoding, grabbing only the text column. We use 'iconv' to convert the column labeled 'text' found in our 'tweets' variable above (tweets$text) and then tell it we want to convert the text to = utf-8."
   ]
  },
  {
   "cell_type": "code",
   "execution_count": 5,
   "metadata": {},
   "outputs": [],
   "source": [
    "corpus <- iconv(tweets$text, to = \"utf-8\")"
   ]
  },
  {
   "cell_type": "markdown",
   "metadata": {},
   "source": [
    "Let's look at the first few tweets:"
   ]
  },
  {
   "cell_type": "code",
   "execution_count": 6,
   "metadata": {},
   "outputs": [
    {
     "data": {
      "text/html": [
       "<ol class=list-inline>\n",
       "\t<li>'RT @canarymission: Students of Students for Justice in Palestine Mock the #Holocaust \\n\\n#NeverAgain #WeRemember\\nhttps://t.co/cnPE7dEnik https://t.co/Xvd6IBiSPe'</li>\n",
       "\t<li>'RT @canarymission: Students of Students for Justice in Palestine Mock the #Holocaust \\n\\n#NeverAgain #WeRemember\\nhttps://t.co/cnPE7dEnik https://t.co/Xvd6IBiSPe'</li>\n",
       "\t<li>'He duped so many #NeverAgain #MeToo https://t.co/7u4Vl5UjSR'</li>\n",
       "\t<li>'#NeverAgain #NeverForget \\U0001f64f\\U0001f3fc https://t.co/TuSZLe5dBb'</li>\n",
       "\t<li>'RT @MrGoalie35: #NeverAgain #NeverForget \\U0001f64f\\U0001f3fc https://t.co/TuSZLe5dBb'</li>\n",
       "\t<li>'RT @ITB_MINCOM: #11thFebruary2018 #cameroUn #YouthDay \\U0001f602\\U0001f92a\\U0001f921\\n#SouthernCameroons says #NeverAgain\\n#WeWillRESIST cameroUn’s #france-sponsored #GENOCIDE #SLAVERY #KLEPTOCRACY #ONGOING in the COUNTRY of #SouthernCameroons #Ambazonia @USEmbYaounde @BBCAfrica @bbcafrique @Reuters @UKinCameroon @dwnews https://t.co/PSSgr1N2PD'</li>\n",
       "</ol>\n"
      ],
      "text/latex": [
       "\\begin{enumerate*}\n",
       "\\item 'RT @canarymission: Students of Students for Justice in Palestine Mock the \\#Holocaust \\textbackslash{}n\\textbackslash{}n\\#NeverAgain \\#WeRemember\\textbackslash{}nhttps://t.co/cnPE7dEnik https://t.co/Xvd6IBiSPe'\n",
       "\\item 'RT @canarymission: Students of Students for Justice in Palestine Mock the \\#Holocaust \\textbackslash{}n\\textbackslash{}n\\#NeverAgain \\#WeRemember\\textbackslash{}nhttps://t.co/cnPE7dEnik https://t.co/Xvd6IBiSPe'\n",
       "\\item 'He duped so many \\#NeverAgain \\#MeToo https://t.co/7u4Vl5UjSR'\n",
       "\\item '\\#NeverAgain \\#NeverForget \\textbackslash{}U0001f64f\\textbackslash{}U0001f3fc https://t.co/TuSZLe5dBb'\n",
       "\\item 'RT @MrGoalie35: \\#NeverAgain \\#NeverForget \\textbackslash{}U0001f64f\\textbackslash{}U0001f3fc https://t.co/TuSZLe5dBb'\n",
       "\\item 'RT @ITB\\_MINCOM: \\#11thFebruary2018 \\#cameroUn \\#YouthDay \\textbackslash{}U0001f602\\textbackslash{}U0001f92a\\textbackslash{}U0001f921\\textbackslash{}n\\#SouthernCameroons says \\#NeverAgain\\textbackslash{}n\\#WeWillRESIST cameroUn’s \\#france-sponsored \\#GENOCIDE \\#SLAVERY \\#KLEPTOCRACY \\#ONGOING in the COUNTRY of \\#SouthernCameroons \\#Ambazonia @USEmbYaounde @BBCAfrica @bbcafrique @Reuters @UKinCameroon @dwnews https://t.co/PSSgr1N2PD'\n",
       "\\end{enumerate*}\n"
      ],
      "text/markdown": [
       "1. 'RT @canarymission: Students of Students for Justice in Palestine Mock the #Holocaust \\n\\n#NeverAgain #WeRemember\\nhttps://t.co/cnPE7dEnik https://t.co/Xvd6IBiSPe'\n",
       "2. 'RT @canarymission: Students of Students for Justice in Palestine Mock the #Holocaust \\n\\n#NeverAgain #WeRemember\\nhttps://t.co/cnPE7dEnik https://t.co/Xvd6IBiSPe'\n",
       "3. 'He duped so many #NeverAgain #MeToo https://t.co/7u4Vl5UjSR'\n",
       "4. '#NeverAgain #NeverForget \\U0001f64f\\U0001f3fc https://t.co/TuSZLe5dBb'\n",
       "5. 'RT @MrGoalie35: #NeverAgain #NeverForget \\U0001f64f\\U0001f3fc https://t.co/TuSZLe5dBb'\n",
       "6. 'RT @ITB_MINCOM: #11thFebruary2018 #cameroUn #YouthDay \\U0001f602\\U0001f92a\\U0001f921\\n#SouthernCameroons says #NeverAgain\\n#WeWillRESIST cameroUn’s #france-sponsored #GENOCIDE #SLAVERY #KLEPTOCRACY #ONGOING in the COUNTRY of #SouthernCameroons #Ambazonia @USEmbYaounde @BBCAfrica @bbcafrique @Reuters @UKinCameroon @dwnews https://t.co/PSSgr1N2PD'\n",
       "\n",
       "\n"
      ],
      "text/plain": [
       "[1] \"RT @canarymission: Students of Students for Justice in Palestine Mock the #Holocaust \\n\\n#NeverAgain #WeRemember\\nhttps://t.co/cnPE7dEnik https://t.co/Xvd6IBiSPe\"                                                                                                                                                                                         \n",
       "[2] \"RT @canarymission: Students of Students for Justice in Palestine Mock the #Holocaust \\n\\n#NeverAgain #WeRemember\\nhttps://t.co/cnPE7dEnik https://t.co/Xvd6IBiSPe\"                                                                                                                                                                                         \n",
       "[3] \"He duped so many #NeverAgain #MeToo https://t.co/7u4Vl5UjSR\"                                                                                                                                                                                                                                                                                               \n",
       "[4] \"#NeverAgain #NeverForget \\U0001f64f\\U0001f3fc https://t.co/TuSZLe5dBb\"                                                                                                                                                                                                                                                                                     \n",
       "[5] \"RT @MrGoalie35: #NeverAgain #NeverForget \\U0001f64f\\U0001f3fc https://t.co/TuSZLe5dBb\"                                                                                                                                                                                                                                                                     \n",
       "[6] \"RT @ITB_MINCOM: #11thFebruary2018 #cameroUn #YouthDay \\U0001f602\\U0001f92a\\U0001f921\\n#SouthernCameroons says #NeverAgain\\n#WeWillRESIST cameroUn’s #france-sponsored #GENOCIDE #SLAVERY #KLEPTOCRACY #ONGOING in the COUNTRY of #SouthernCameroons #Ambazonia @USEmbYaounde @BBCAfrica @bbcafrique @Reuters @UKinCameroon @dwnews https://t.co/PSSgr1N2PD\""
      ]
     },
     "metadata": {},
     "output_type": "display_data"
    }
   ],
   "source": [
    "head(corpus)"
   ]
  },
  {
   "cell_type": "markdown",
   "metadata": {},
   "source": [
    "Now we need to turn the text into a Corpus object:"
   ]
  },
  {
   "cell_type": "code",
   "execution_count": 7,
   "metadata": {},
   "outputs": [],
   "source": [
    "corpus <- VCorpus(VectorSource(corpus))"
   ]
  },
  {
   "cell_type": "markdown",
   "metadata": {},
   "source": [
    "Next, we need to eliminate any characters that are not UTF-8. If you know the encoding (in this case it usually is ASCII), then put it in the first set of quotes. If you do not, then just put another \"UTF-8\" so (x, \"ASCII\", \"UTF-8\", sub=\"\") or (x, \"UTF-8\", \"UTF-8\", sub=\"\"):"
   ]
  },
  {
   "cell_type": "code",
   "execution_count": 8,
   "metadata": {},
   "outputs": [],
   "source": [
    "corpus <- tm_map(corpus, function(x) iconv(x, \"ASCII\", \"UTF-8\", sub=\"\"))"
   ]
  },
  {
   "cell_type": "markdown",
   "metadata": {},
   "source": [
    "### Clean Tweets\n",
    "To clean the corpus in this example, we are using the tm package's built in tools to:\n",
    "1. Convert all the text to lower case, so that \"Never\" and \"never\" are not seen as seperate words.\n",
    "2. Remove all punctuation so that only alphanumeric characters are read.\n",
    "3. Eliminate numbers, especially if they skew your results any, however, numbers may also be important, so that is why this one is optional.\n",
    "4. Remove extra white space so what was \"well said @emma4change\" does not end up as \"well said &nbsp;&nbsp;emma4change\" but becomes \"well said emma4change\" (without the extra space).\n",
    "5. Remove url's so we don't end up with a lot of 'http', 'https', et cetera. We do this by:\n",
    "    - creating a function that uses regular expressions to remove them\n",
    "    - then apply that function to our \"corpus.\"\n",
    "6. Remove stopwords. In our plain text wordcloud, we used tm's options for a wordlist and will be doing the same again. Concatenated onto the list are common twitter words not yet eliminated such as \"rt\" (retweet), \"amp\" (&), the subject of our tweets \"neveragain\", and a couple twitter handles with the \"@\" removed."
   ]
  },
  {
   "cell_type": "code",
   "execution_count": 9,
   "metadata": {},
   "outputs": [],
   "source": [
    "corpus <- tolower(corpus)\n",
    "corpus <- removePunctuation(corpus)\n",
    "corpus <- removeNumbers(corpus)\n",
    "corpus <- stripWhitespace(corpus)\n",
    "removeURL <- function(x) gsub(\"http[[:alnum:]]*\", \"\", x)\n",
    "corpus <- removeURL(corpus)\n",
    "corpus <- removeWords(corpus, c(stopwords(\"english\"), 'na','amp','rt', 'neveragain', 'dont', 'will', 'see','just', 'emmachange', 'xokarminox'))"
   ]
  },
  {
   "cell_type": "markdown",
   "metadata": {},
   "source": [
    "### Processing\n",
    "\n",
    "After the corpus has been cleaned, we can now begin to process the text. The next step is we simply convert our Corpus class object back to a character class object so that we can use the packages from tidyverse."
   ]
  },
  {
   "cell_type": "code",
   "execution_count": 10,
   "metadata": {},
   "outputs": [],
   "source": [
    "myCorpus <- as.character(corpus)"
   ]
  },
  {
   "cell_type": "markdown",
   "metadata": {},
   "source": [
    "Next we turn the tweets which are now a character class object into a data frame (data_frame(myCorpus)). Then we separate the words into tokens (unnest_tokens(word, myCorpus))and finally we count the number of times each word appears and say we want them sorted (count(word, sort = TRUE)). The 'sort' default is FALSE, so it will automatically put them in ascending order if we do not specify that we want the count sorted. If we say 'sort = TRUE' it puts the words in descending order."
   ]
  },
  {
   "cell_type": "code",
   "execution_count": 11,
   "metadata": {},
   "outputs": [],
   "source": [
    "#Convert to data frame (helps make plot labeling easier)\n",
    "freqDF <- data_frame(myCorpus) %>%\n",
    "unnest_tokens(word, myCorpus) %>%\n",
    "    count(word, sort = TRUE)"
   ]
  },
  {
   "cell_type": "markdown",
   "metadata": {},
   "source": [
    "Let's see what our data frame looks like. Using 'head' shows us the first six rows of our dataframe."
   ]
  },
  {
   "cell_type": "code",
   "execution_count": 12,
   "metadata": {},
   "outputs": [
    {
     "data": {
      "text/html": [
       "<table>\n",
       "<thead><tr><th scope=col>word</th><th scope=col>n</th></tr></thead>\n",
       "<tbody>\n",
       "\t<tr><td>difference</td><td>6746      </td></tr>\n",
       "\t<tr><td>now       </td><td>4814      </td></tr>\n",
       "\t<tr><td>us        </td><td>4615      </td></tr>\n",
       "\t<tr><td>right     </td><td>4232      </td></tr>\n",
       "\t<tr><td>never     </td><td>4154      </td></tr>\n",
       "\t<tr><td>change    </td><td>3944      </td></tr>\n",
       "</tbody>\n",
       "</table>\n"
      ],
      "text/latex": [
       "\\begin{tabular}{r|ll}\n",
       " word & n\\\\\n",
       "\\hline\n",
       "\t difference & 6746      \\\\\n",
       "\t now        & 4814      \\\\\n",
       "\t us         & 4615      \\\\\n",
       "\t right      & 4232      \\\\\n",
       "\t never      & 4154      \\\\\n",
       "\t change     & 3944      \\\\\n",
       "\\end{tabular}\n"
      ],
      "text/markdown": [
       "\n",
       "word | n | \n",
       "|---|---|---|---|---|---|\n",
       "| difference | 6746       | \n",
       "| now        | 4814       | \n",
       "| us         | 4615       | \n",
       "| right      | 4232       | \n",
       "| never      | 4154       | \n",
       "| change     | 3944       | \n",
       "\n",
       "\n"
      ],
      "text/plain": [
       "  word       n   \n",
       "1 difference 6746\n",
       "2 now        4814\n",
       "3 us         4615\n",
       "4 right      4232\n",
       "5 never      4154\n",
       "6 change     3944"
      ]
     },
     "metadata": {},
     "output_type": "display_data"
    }
   ],
   "source": [
    "head(freqDF)"
   ]
  },
  {
   "cell_type": "markdown",
   "metadata": {},
   "source": [
    "We may sometimes need to remove a row that lists 'na' as a word. This line says that we want to look at our dataframe (freqDF) and remove (-) the 1st row (1) and replace it with nothing (that is why there is nothing after the comma). However, it is commented out so we don't accidentally remove an important frequently occuring word. If you need to change which row is deleted, simply change the '-1' to whichever number row you want to remove. If you need to remove more than one row, simply put \"freqDF[-c(1, 6, 10),]\" and this will remove rows 1, 6, and 10. "
   ]
  },
  {
   "cell_type": "code",
   "execution_count": 13,
   "metadata": {},
   "outputs": [],
   "source": [
    "#freqDF <- freqDF[-1,]"
   ]
  },
  {
   "cell_type": "markdown",
   "metadata": {},
   "source": [
    "Now let's check our data frame again and see if it removed our row. This is only needed if you removed a row or rows in the step above. Hence, it is commented out."
   ]
  },
  {
   "cell_type": "code",
   "execution_count": 14,
   "metadata": {},
   "outputs": [],
   "source": [
    "#head(freqDF)"
   ]
  },
  {
   "cell_type": "markdown",
   "metadata": {},
   "source": [
    "Now, we are creating a variable that will determine the x-axis tick labels when we plot our bar graph. Make sure the number matches the number in the part of the plot below that says \"barplot(head(freqDF$n,10)\""
   ]
  },
  {
   "cell_type": "code",
   "execution_count": 15,
   "metadata": {},
   "outputs": [],
   "source": [
    "labNames <- head(freqDF$word, 10)"
   ]
  },
  {
   "cell_type": "markdown",
   "metadata": {},
   "source": [
    "Now we're going to write the 100 most frequent words and their frequency to a csv file so we can see more than the top 10 or 20 words. If you need to see more or less than the 100 most frequent words, simply change the '100' to the number of most frequent words you wish to see. "
   ]
  },
  {
   "cell_type": "code",
   "execution_count": 16,
   "metadata": {},
   "outputs": [],
   "source": [
    "write.csv(head(freqDF, 100), \"~/freqWordsNeverAgain.csv\")"
   ]
  },
  {
   "cell_type": "markdown",
   "metadata": {},
   "source": [
    "### Results\n",
    "\n",
    "Finally, we can plot and view the data as a bar graph with the top ten words along the x-axis and the frequency of appearance along the y-axis. "
   ]
  },
  {
   "cell_type": "code",
   "execution_count": 17,
   "metadata": {},
   "outputs": [
    {
     "name": "stdout",
     "output_type": "stream",
     "text": [
      "      [,1]\n",
      " [1,]  0.7\n",
      " [2,]  1.9\n",
      " [3,]  3.1\n",
      " [4,]  4.3\n",
      " [5,]  5.5\n",
      " [6,]  6.7\n",
      " [7,]  7.9\n",
      " [8,]  9.1\n",
      " [9,] 10.3\n",
      "[10,] 11.5\n"
     ]
    },
    {
     "data": {
      "image/png": "[encoded data removed]",
      "text/plain": [
       "Plot with title “Tweet Word Frequency”"
      ]
     },
     "metadata": {},
     "output_type": "display_data"
    }
   ],
   "source": [
    "#Remix ideas: 1) Play around with the number of word on the chart by changing it from \"10\"\n",
    "# 2) Don't forget to adjust your plot's title if you have changed the input text\n",
    "# 3) Look up the frequency of all the words in the corpus by typing \"freq\" into the console\n",
    "\n",
    "par(mar=c(8,5,3,1))\n",
    "x <- barplot(head(freqDF$n,10), ylim=c(0,8000), col=c(\"red3\", \"orange3\",\"yellow3\",\"green3\",\"blue3\",\"darkorchid3\",\"darkred\", \"darkorange\", \"gold\", \"darkgreen\"),col.main=\"gold\", col.lab=\"red\",\n",
    "     main=\"Tweet Word Frequency\", xlab=\"\", ylab=\"Number of Occurences\", xaxt=\"n\")\n",
    "axis(2, at=x, labels=TRUE)\n",
    "axis(2, col=\"gray27\", col.axis=\"gray27\", col.ticks=\"gray27\",labels=TRUE)\n",
    "text(x, par(\"usr\")[3], srt=45, adj=c(1.1,1.5), xpd = TRUE, labels = labNames, cex=.9, col=\"gray27\")\n",
    "title(xlab='Top Ten Words', line=5, col.lab=\"red\")\n",
    "print(x)"
   ]
  },
  {
   "cell_type": "markdown",
   "metadata": {},
   "source": [
    "### VOILA!"
   ]
  }
 ],
 "metadata": {
  "kernelspec": {
   "display_name": "R",
   "language": "R",
   "name": "ir"
  },
  "language_info": {
   "codemirror_mode": "r",
   "file_extension": ".r",
   "mimetype": "text/x-r-source",
   "name": "R",
   "pygments_lexer": "r",
   "version": "3.3.1"
  }
 },
 "nbformat": 4,
 "nbformat_minor": 2
}
