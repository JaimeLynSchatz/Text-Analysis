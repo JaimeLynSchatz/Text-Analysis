{
 "cells": [
  {
   "cell_type": "markdown",
   "metadata": {},
   "source": [
    "### Beginning Text Preparation\n",
    "\n",
    "In order to perform text analysis, there are a few R commands you should have up your sleeve. Some of the commands help get you set up and locate all of the files in your corpora. Other commands can be used throughout the programming process to check on your algorithm and make sure everything looks the way you think it should. Learning the following commands will give you a brief introduction to R while also setting you up with a solid toolkit to begin programming.\n"
   ]
  },
  {
   "cell_type": "markdown",
   "metadata": {},
   "source": [
    "### Loading files from Github to Karst\n",
    "\n",
    "Since we will be using Karst as the example for our file paths and other elements in these R notebooks, many of you may want to save these files to Karst to make following along a bit easier. To do this you will need a Karst account if you do not already have one. Indiana University students, faculty, staff, and sponsored affiliates can request a Karst account. Steps on how to do so can be found [here](https://kb.iu.edu/d/bezu#account). Once you have your account, you'll want to acquire the Text-Analysis repository and save it to Karst. Information on how to access your Karst account can be found [here](https://kb.iu.edu/d/bezu#access). \n",
    "\n",
    "A slightly more complex way in the short term, but easier in the long run, is to create a Project in R Studio and use Version Control to connect to the Cyber DH GitHub Text-Analysis repository. To do this you will need a [GitHub account](https://github.com/), and be signed in to [R Studio on Karst](https://rstudio.iu.edu/auth-sign-in) using yur IU username and passphrase. Now go to your GitHub account and make sure you are signed in there as well. Then go to [https://github.com/cyberdh/Text-Analysis](https://github.com/cyberdh/Text-Analysis) and click on the \"Fork\" button in the upper right hand corner. This will now give you an exact copy of the Text-Analysis repository in your GitHub so you can make changes without changing our Cyber DH master. \n",
    "\n",
    "Now go back to R Studio and go to \"Tools\" in the menu and choose \"Global Opitions.\" Then in the resulting pop-up box choose \"Git/SVN.\" Then click on the button that says \"Create RSA Key...\" and copy (ctrl + A and then ctrl + C) all of the resulting text. Now go to your GitHib account and click on the little dropdown arrow next to your profile picture/avatar and choose \"Settings.\"\" Then choose \"SSH and GPG keys\" in the menu on the left. Now, click the \"New SSH key\" button. Put something descriptive in the title box like \"Karst R Studio\" and then paste the copied RSA Key from R Studio in the \"Key\" box and click the \"Add SSH key\" button. \n",
    "\n",
    "Now go back to R Studio and click on the drop down arrow in the upper right hand corner of R Studio that should say \"Project (None)\" at the moment. When you click on the arrow a bunch of options should appear, Choose \"New Project.\" The resulting options should say \"New Directory,\" \"Existing Directory,\" and \"Version Control.\" Click on \"Version Control.\" Now it will ask you to choose between \"Git\" or \"SVN.\" Click on \"Git.\" The next pop up should be asking for a Repository URL and a directory name. To get the URL from your forked Text-Analysis repository go to your GitHub account and look for the Text-Analysis repository. There should be a green button that says \"Clone or download.\" Click that button. You have the option to clone with HTTPS or SSH, choose SSH and click the clipboard with the arrow to copy the URL. Paste the copied URL into the URL box. It should look like this: git@github.com:your-username/Text-Analysis.git and then make sure the Directory name is Text-Analysis with the dash and the capitalization just as it is typed in this sentence. Otherwise you will have to change the directory everytime you try to run the scripts in R Studio. Now also make sure that you have R version 3.1.1 chosen in the lower left corner. This is currently the most stable build of R Studio on Karst. Now click the \"Create Project\" button. If you did everything as described here you should see \"Text-Analysis\" where it used to say \"Project (None)\" and \"R 3.1.1\" directly to the right.\n",
    "\n",
    "Now you also have the Cyber DH Text-Analysis repository saved to Karst and accessible through R Studio on Karst. The benefit to this way of doing it is that you can now pull the repository from GitHub whenever you want and you will not have us constantly changing the code you have tweeked for your own project. However, if you have not really changed the code, but notice we have made significant changes to ours and want those changes, you can update your fork by following the directions [here](https://help.github.com/articles/syncing-a-fork/). Forking and then pushing changes made in R Studio to your forked repository on GitHub allows you to make changes and have those changes saved in two seperate places (which is always a good idea), but you can also make changes and wait a while before pushing them to your forked Text-Analysis repository."
   ]
  },
  {
   "cell_type": "markdown",
   "metadata": {},
   "source": [
    "### Using Jupyter Notebooks\n",
    "These R Notebooks are actually .ipynb files, which mean they run in Jupyter Notebook and you will need to run them in a Jupyter Notebook. Luckily, on Karst Desktop there is a Jupyter Notebook icon. Click on 'Applications' in the top left corner, then choose Analytics, and finally click on Jupyter Notebook. When Jupyer Notebook opens you should see a list of files and folders on the left hand side. One of these should say Text-Analysis (if you correctly pulled from our Text-Analysis repo). Then just go to Text-Analysis > RNotebook and choose the notebook you wish to run. If you are planning to run these notebooks on your personal computer, you will first need to make sure you have Jupyter Notebook installed, and we have instructions on that [here](https://github.com/cyberdh/Text-Analysis/blob/master/installJupyterMacPC.ipynb). Second you will need to make sure you have the R kernel for Jupyter Notebook installed so that the notebook can access your version of R to run the R code in the notebooks. We have instructions on that [here](https://github.com/cyberdh/Text-Analysis/blob/master/installRkernelInJupyter.ipynb)."
   ]
  },
  {
   "cell_type": "markdown",
   "metadata": {},
   "source": [
    "### Global parameters\n",
    "\n",
    "Once again, you will need to have set up a [Karst account](https://kb.iu.edu/d/bezu#account) first. Once you have your Karst account simply go to [rstudio.iu.edu](https://rstudio.iu.edu/auth-sign-in) and login using your IU username and passphrase.  Next, set the working directory by pointing to the location on Karst where you have stored the files. Below, we have chosen to save the folder \"Text-Analysis\" as a \"Project\" in R Studio on the Karst super-computer here at Indiana University. It contains the R scripts, texts, notebooks, and results. If you have forked and cloned the Github repository (see [textPrep.Rmd](textPrep.Rmd) for directions on how), simply point to where you have saved the folder. If you save it to your personal Karst folder, it will most likely look very similar to the example below. Karst is a unix server and so the home directory is represented by a ~ and, thus, the path will look like this \"~/Text-Analysis/\" (this time with the quotes). Alternatively, if you are on a PC, you will need to use an absolute path such as \"C:/Users/XXX\" (with the quotes again).\n",
    "\n",
    "In R Studio, click Session in the menu bar > Set Working Directory > Choose Directory, then select the Text-Analysis directory in which you are working. This will set your working directory in the console pane, but make sure to copy the path into the source pane above to keep the directory constant if you close this script and reopen later. Make sure you click on the blue cube with a \"R\" in the center to set your working directory to your Text-Analysis project path.\n",
    "\n",
    "HINT: Your working directory is the folder from which you will be pulling your texts."
   ]
  },
  {
   "cell_type": "code",
   "execution_count": 1,
   "metadata": {
    "collapsed": true
   },
   "outputs": [],
   "source": [
    "setwd(\"~/Text-Analysis\")"
   ]
  },
  {
   "cell_type": "markdown",
   "metadata": {},
   "source": [
    "### Include necessary packages for notebook \n",
    "\n",
    "R's extensibility comes in large part from packages. Packages are groups of functions, data, and algorithms that allow users to easily carry out processes without recreating the wheel. Some packages are included in the basic installation of R, others created by R users are available for download. Make sure to have the following packages installed before beginning so that they can be accessed while running the scripts.\n",
    "\n",
    "In R Studio, packages can be installed by navigating to Tools in the menu bar > Install Packages. Or in the bottom right panel click on the \"packages\" tab and then click on \"install.\""
   ]
  },
  {
   "cell_type": "markdown",
   "metadata": {},
   "source": [
    "### Load Packages\n",
    "\n",
    "In order to access the packages you have installed within the environment in which you are currently working, you must load them at the beginning of your script. To load packages, use the library() command (see code below).\n",
    "\n",
    "The three packages listed are often used for text analysis in R:\n",
    "\n",
    "tm - A framework for text mining applications within R.\n",
    "\n",
    "NLP - Basic classes and methods for Natural Language Processing.\n",
    "\n",
    "ggplot2 - A system for 'declaratively' creating graphics,\n",
    "    based on \"The Grammar of Graphics\". You provide the data, tell 'ggplot2'\n",
    "    how to map variables to aesthetics, what graphical primitives to use,\n",
    "    and it takes care of the details."
   ]
  },
  {
   "cell_type": "code",
   "execution_count": 3,
   "metadata": {},
   "outputs": [],
   "source": [
    "library(tm)\n",
    "library(NLP)\n",
    "library(ggplot2)"
   ]
  },
  {
   "cell_type": "markdown",
   "metadata": {},
   "source": [
    "To perform topic modeling, you may load MALLET or lda. For data visualization, a popular package besides ggplot2 is dendextend to create a cluster dendrogram. You can peruse the various contributed packages [here](https://cran.r-project.org/web/packages/available_packages_by_name.html). The tutorials included in the R Toolkit will instruct you which packages to install and load."
   ]
  },
  {
   "cell_type": "markdown",
   "metadata": {},
   "source": [
    "### Load data \n",
    "\n",
    "Now you are ready to start looking at your data! First, you must load it into your environment. The scan() function will do this for you. If you want to load just one text into your environment, here is the syntax:\n",
    "\n",
    "The first argument is the filename (or path if the file resides in a different directory than your working directory). \n",
    "The second argument \"what\" specified as type \"character\" will read the text in as a character vector. \n",
    "The third argument \"sep\" specified as \"backslash\" + \"n\" which is the way to code line breaks in R.\n",
    "\n",
    "So putting everything together, this line reads in Hamlet.txt, and separates the text into a character vector by line."
   ]
  },
  {
   "cell_type": "code",
   "execution_count": 4,
   "metadata": {
    "collapsed": true
   },
   "outputs": [],
   "source": [
    "text <- scan(\"data/shakespeareFolger/Hamlet.txt\", what=\"character\", sep=\"\\n\")"
   ]
  },
  {
   "cell_type": "markdown",
   "metadata": {},
   "source": [
    "The final, crucial aspect of this line is the assignment. \"<-\" assigns whatever results on the right side of the arrow into the variable specified on the left side. Some programming languages use \"=\" instead of the arrow. R will also acknowledge this, but using the arrow is best practice.\n",
    "\n",
    "Here, we have named that variable \"text\" since it holds the text with which we are working. However, you can name this variable whatever you would like. This line will give the exact same result, although it is best to name the variable in relation to what it holds:"
   ]
  },
  {
   "cell_type": "code",
   "execution_count": 5,
   "metadata": {
    "collapsed": true
   },
   "outputs": [],
   "source": [
    "potatoes <- scan(\"data/shakespeareFolger/Hamlet.txt\", what=\"character\", sep=\"\\n\")"
   ]
  },
  {
   "cell_type": "markdown",
   "metadata": {},
   "source": [
    "Now that we have the text saved as a variable, we can reuse that variable simply by calling \"text\" instead of the entire scan line again. The next few commands will use \"text\" to explore the data.\n"
   ]
  },
  {
   "cell_type": "markdown",
   "metadata": {},
   "source": [
    "### R Objects\n",
    "\n",
    "R is distinct from other programming languages in that it handles objects a little differently. Throughout text analysis, you will need to massage your text and textual data by changing it into various kinds of objects which make things easier. Check out [this tutorial](https://www.nealgroothuis.name/introduction-to-data-types-and-objects-in-r/) by Neal Groothuis which simply explains the various types of data objects. Since some kinds of objects prohibit certain actions, a simple way to check the type of object you are currently working with is class(). For example, the code below shows that the class of the Jane Eyre \"text\" is a character vector, which we would assume since that is what we specified while loading it in."
   ]
  },
  {
   "cell_type": "code",
   "execution_count": 6,
   "metadata": {},
   "outputs": [
    {
     "data": {
      "text/html": [
       "'character'"
      ],
      "text/latex": [
       "'character'"
      ],
      "text/markdown": [
       "'character'"
      ],
      "text/plain": [
       "[1] \"character\""
      ]
     },
     "metadata": {},
     "output_type": "display_data"
    }
   ],
   "source": [
    "class(text)"
   ]
  },
  {
   "cell_type": "markdown",
   "metadata": {},
   "source": [
    "### Data Inspection\n",
    "\n",
    "Just as you may want to verify the type of the object with which you are working, you may want to view it from other angles to make sure the data is formed as you expect.\n",
    "\n",
    "The length function shows the number of elements within an object. If you find that the length is zero, you may have to go back and reload the data, or check to make sure your algorithm is working correctly."
   ]
  },
  {
   "cell_type": "code",
   "execution_count": 7,
   "metadata": {},
   "outputs": [
    {
     "data": {
      "text/html": [
       "4154"
      ],
      "text/latex": [
       "4154"
      ],
      "text/markdown": [
       "4154"
      ],
      "text/plain": [
       "[1] 4154"
      ]
     },
     "metadata": {},
     "output_type": "display_data"
    }
   ],
   "source": [
    "length(text)"
   ]
  },
  {
   "cell_type": "markdown",
   "metadata": {},
   "source": [
    "We can also look at individual elements - Lets see what the first line of our text is..."
   ]
  },
  {
   "cell_type": "code",
   "execution_count": 8,
   "metadata": {},
   "outputs": [
    {
     "data": {
      "text/html": [
       "' Who\\'s there?'"
      ],
      "text/latex": [
       "' Who\\textbackslash{}'s there?'"
      ],
      "text/markdown": [
       "' Who\\'s there?'"
      ],
      "text/plain": [
       "[1] \" Who's there?\""
      ]
     },
     "metadata": {},
     "output_type": "display_data"
    }
   ],
   "source": [
    "text[1]"
   ]
  },
  {
   "cell_type": "markdown",
   "metadata": {},
   "source": [
    "Or perhaps you would like to see the first few elements:\n"
   ]
  },
  {
   "cell_type": "code",
   "execution_count": 9,
   "metadata": {},
   "outputs": [
    {
     "data": {
      "text/html": [
       "<ol class=list-inline>\n",
       "\t<li>' Who\\'s there?'</li>\n",
       "\t<li>' Nay, answer me. Stand and unfold yourself.'</li>\n",
       "\t<li>' Long live the King!'</li>\n",
       "\t<li>' Barnardo.'</li>\n",
       "\t<li>' He.'</li>\n",
       "\t<li>' You come most carefully upon your hour.'</li>\n",
       "</ol>\n"
      ],
      "text/latex": [
       "\\begin{enumerate*}\n",
       "\\item ' Who\\textbackslash{}'s there?'\n",
       "\\item ' Nay, answer me. Stand and unfold yourself.'\n",
       "\\item ' Long live the King!'\n",
       "\\item ' Barnardo.'\n",
       "\\item ' He.'\n",
       "\\item ' You come most carefully upon your hour.'\n",
       "\\end{enumerate*}\n"
      ],
      "text/markdown": [
       "1. ' Who\\'s there?'\n",
       "2. ' Nay, answer me. Stand and unfold yourself.'\n",
       "3. ' Long live the King!'\n",
       "4. ' Barnardo.'\n",
       "5. ' He.'\n",
       "6. ' You come most carefully upon your hour.'\n",
       "\n",
       "\n"
      ],
      "text/plain": [
       "[1] \" Who's there?\"                              \n",
       "[2] \" Nay, answer me. Stand and unfold yourself.\"\n",
       "[3] \" Long live the King!\"                       \n",
       "[4] \" Barnardo.\"                                 \n",
       "[5] \" He.\"                                       \n",
       "[6] \" You come most carefully upon your hour.\"   "
      ]
     },
     "metadata": {},
     "output_type": "display_data"
    }
   ],
   "source": [
    "head(text)"
   ]
  },
  {
   "cell_type": "markdown",
   "metadata": {},
   "source": [
    "Or last few elements:"
   ]
  },
  {
   "cell_type": "code",
   "execution_count": 10,
   "metadata": {},
   "outputs": [
    {
     "data": {
      "text/html": [
       "<ol class=list-inline>\n",
       "\t<li>' To have proved most royal; and for his passage,'</li>\n",
       "\t<li>' The soldier\\'s music and the rite of war'</li>\n",
       "\t<li>' Speak loudly for him.'</li>\n",
       "\t<li>' Take up the bodies. Such a sight as this'</li>\n",
       "\t<li>' Becomes the field but here shows much amiss.'</li>\n",
       "\t<li>' Go, bid the soldiers shoot.'</li>\n",
       "</ol>\n"
      ],
      "text/latex": [
       "\\begin{enumerate*}\n",
       "\\item ' To have proved most royal; and for his passage,'\n",
       "\\item ' The soldier\\textbackslash{}'s music and the rite of war'\n",
       "\\item ' Speak loudly for him.'\n",
       "\\item ' Take up the bodies. Such a sight as this'\n",
       "\\item ' Becomes the field but here shows much amiss.'\n",
       "\\item ' Go, bid the soldiers shoot.'\n",
       "\\end{enumerate*}\n"
      ],
      "text/markdown": [
       "1. ' To have proved most royal; and for his passage,'\n",
       "2. ' The soldier\\'s music and the rite of war'\n",
       "3. ' Speak loudly for him.'\n",
       "4. ' Take up the bodies. Such a sight as this'\n",
       "5. ' Becomes the field but here shows much amiss.'\n",
       "6. ' Go, bid the soldiers shoot.'\n",
       "\n",
       "\n"
      ],
      "text/plain": [
       "[1] \" To have proved most royal; and for his passage,\"\n",
       "[2] \" The soldier's music and the rite of war\"        \n",
       "[3] \" Speak loudly for him.\"                          \n",
       "[4] \" Take up the bodies. Such a sight as this\"       \n",
       "[5] \" Becomes the field but here shows much amiss.\"   \n",
       "[6] \" Go, bid the soldiers shoot.\"                    "
      ]
     },
     "metadata": {},
     "output_type": "display_data"
    }
   ],
   "source": [
    "tail(text)"
   ]
  },
  {
   "cell_type": "markdown",
   "metadata": {},
   "source": [
    "There are many more ways to inspect parts of data (check out the CRAN), but these quick checks are helpful while manipulating the data and debugging the inevitable issues you will encounter while developing your script."
   ]
  },
  {
   "cell_type": "markdown",
   "metadata": {},
   "source": [
    "### Explore\n",
    "\n",
    "The above commands are a few tips and tricks to get you started with R. Similar to R's extensibility with packages, the R user community has great resouces for learners. The [CRAN FAQ](https://cran.r-project.org/) and the [CRAN Manual](https://cran.r-project.org/doc/manuals/R-intro.pdf) answers quite a few questions about R and its uses.\n",
    "\n",
    "Googling the issue, function, or object name with \"r\" will return helpful resources. If a PDF from cran.r-project.org appears, there you will find extensive documentation and examples for that function, etc. and other related resources. Similarly, any result from r-bloggers.com will most likely be helpful. For any other issues, Stack Overflow is helpful to find answers to common questions as well as ask your own.\n",
    "\n",
    "The rest of the IU tutorials explain some methods for textual analysis using R. If you are ready to dive in, click on one to begin!"
   ]
  }
 ],
 "metadata": {
  "kernelspec": {
   "display_name": "R",
   "language": "R",
   "name": "ir"
  },
  "language_info": {
   "codemirror_mode": "r",
   "file_extension": ".r",
   "mimetype": "text/x-r-source",
   "name": "R",
   "pygments_lexer": "r",
   "version": "3.4.3"
  }
 },
 "nbformat": 4,
 "nbformat_minor": 2
}
