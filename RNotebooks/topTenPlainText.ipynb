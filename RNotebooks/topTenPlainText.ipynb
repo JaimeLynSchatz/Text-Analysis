{
 "cells": [
  {
   "cell_type": "markdown",
   "metadata": {},
   "source": [
    "## Top Ten Most Frequent Words in Star Trek: The Next Generation\n",
    "\n",
    "The following script finds the ten most frequent words in Star Trek: The Next Generation. Many times top ten analyses are used to find the top ten words overall, but this particular script strips out stopwords so the resulting top ten words shed light on the top ten thematic words in the text.\n"
   ]
  },
  {
   "cell_type": "markdown",
   "metadata": {},
   "source": [
    "### Global parameters \n",
    "\n",
    "You will need to have set up a [Karst account](https://kb.iu.edu/d/bezu#account) first. Once you have your Karst account and have set up access to Karst Desktop through thinlinc (see [textPrep.ipynb](https://github.com/cyberdh/Text-Analysis/blob/master/RNotebooks/textPrep.ipynb)), login to KD through the thinlinc client and go to Applications>Analytics>rstudio to launch R Studio.  Next, set the working directory by pointing to the location on Karst where you have stored the files. Below, we have chosen to save the folder \"Text-Analysis\" as a \"Project\" in R Studio on the Karst super-computer here at Indiana University. It contains the R scripts, texts, notebooks, and results. If you have forked and cloned the Github repository (see [textPrep.ipynb](https://github.com/cyberdh/Text-Analysis/blob/master/RNotebooks/textPrep.ipynb) for directions on how), simply point to where you have saved the folder. If you save it to your personal Karst folder, it will most likely look very similar to the example below. Karst is a unix server and so the home directory is represented by a ~ and, thus, the path will look like this \"~/Text-Analysis/\" (with the quotes). Alternatively, if you are on a PC, you will need to use an absolute path such as \"C:/Users/XXX\" (with the quotes again).\n",
    "\n",
    "In R Studio, click Session in the menu bar > Set Working Directory > Choose Directory, then select the Text-Analysis directory in which you are working. This will set your working directory in the console pane, but make sure to copy the path into the source pane above to keep the directory constant if you close this script and reopen later. Make sure you click on the blue cube with a \"R\" in the center to set your working directory to your Text-Analysis project path.\n",
    "\n",
    "HINT: Your working directory is the folder from which you will be pulling your texts."
   ]
  },
  {
   "cell_type": "code",
   "execution_count": 1,
   "metadata": {},
   "outputs": [],
   "source": [
    "setwd(\"~/Text-Analysis\")"
   ]
  },
  {
   "cell_type": "markdown",
   "metadata": {},
   "source": [
    "### Include necessary packages for notebook \n",
    "\n",
    "R's extensibility comes in large part from packages. Packages are groups of functions, data, and algorithms that allow users to easily carry out processes without recreating the wheel. Some packages are included in the basic installation of R, others created by R users are available for download. Make sure to have the following packages installed before beginning so that they can be accessed while running the scripts.\n",
    "\n",
    "In R Studio, packages can be installed by navigating to Tools in the menu bar > Install Packages. Or in the bottom right panel click on the \"packages\" tab and then click on \"install.\"\n",
    "\n",
    "These packages are used within the top ten frequency script:\n",
    "\n",
    "- NLP: Basic classes and methods for Natural Language Processing.\n",
    "\n",
    "- tm: This package provides tools (functions) for performing various types of text mining. In this script, we will use tm to - performing text cleaning in order to have uniform data for analysis. Check out [this link](https://cran.r-project.org/web/packages/tm/vignettes/tm.pdf) for the documentation!"
   ]
  },
  {
   "cell_type": "code",
   "execution_count": 2,
   "metadata": {},
   "outputs": [],
   "source": [
    "library(NLP)\n",
    "library(tm)"
   ]
  },
  {
   "cell_type": "markdown",
   "metadata": {},
   "source": [
    "### Read in an entire directory\n",
    "\n",
    "The \"Corpus\" function from tm reads in the directory and saves it as a Corpus object. Here we are reading in every episode of Star Trek: The Next Generation."
   ]
  },
  {
   "cell_type": "code",
   "execution_count": 3,
   "metadata": {},
   "outputs": [],
   "source": [
    "corpus <- Corpus(DirSource(\"data/StarTrekNextGenClean/series\"))"
   ]
  },
  {
   "cell_type": "markdown",
   "metadata": {},
   "source": [
    "### Scan in a single text\n",
    "\n",
    "If you wish to only look at a single file or text, this code uses R's \"scan\" function to read in the text and is then saved as a variable called \"text_raw\""
   ]
  },
  {
   "cell_type": "code",
   "execution_count": 4,
   "metadata": {},
   "outputs": [],
   "source": [
    "#text_raw<-scan(\"data/StarTrekNextGenClean/series/277.txt\", what=\"character\", sep=\"\\n\")"
   ]
  },
  {
   "cell_type": "markdown",
   "metadata": {},
   "source": [
    "### Save the text as a Corpus object\n",
    "\n",
    "The \"Corpus\" function from tm reads in the single vector we scanned in the previous step and saves it as a Corpus object just as it does when reading in an entire directory."
   ]
  },
  {
   "cell_type": "code",
   "execution_count": 5,
   "metadata": {},
   "outputs": [],
   "source": [
    "#corpus <- Corpus(VectorSource(text_raw))"
   ]
  },
  {
   "cell_type": "markdown",
   "metadata": {},
   "source": [
    "### Clean the corpus\n",
    "\n",
    "To clean the corpus in this example, we are using the tm package's built in tools to:\n",
    "1. Lowercase all words so that \"Lake\" and \"lake\" are recognized as the same string.\n",
    "2. Remove stopwords using both tm's built in english stopwords and any words that are not thematically relevant.\n",
    "3. Remove punctuation as it is not germane to this analysis.\n",
    "4. Strip out any whitespace between words to get rid of empty elements."
   ]
  },
  {
   "cell_type": "code",
   "execution_count": 6,
   "metadata": {},
   "outputs": [],
   "source": [
    "corpus <- tm_map(corpus, content_transformer(tolower))\n",
    "corpus <- tm_map(corpus, removeWords, c(stopwords(\"english\"), \"just\"))\n",
    "corpus <- tm_map(corpus, removePunctuation)\n",
    "corpus <- tm_map(corpus, stripWhitespace)"
   ]
  },
  {
   "cell_type": "markdown",
   "metadata": {},
   "source": [
    "### Processing\n",
    "\n",
    "After the corpus has been cleaned, we can now begin to process the text. The next step uses the DocumentTermMatrix() function again from the tm package. This function creates a matrix where each document is a row and the terms in the text make up the columns, saved here as \"dtm.\" The rest of the matrix consists of the frequencies for each term within each document."
   ]
  },
  {
   "cell_type": "code",
   "execution_count": 7,
   "metadata": {},
   "outputs": [],
   "source": [
    "dtm <- DocumentTermMatrix(corpus)"
   ]
  },
  {
   "cell_type": "markdown",
   "metadata": {},
   "source": [
    "Once we've created the Document-Term Matrix, we need to find the overall frequency of each term across the corpus. Here, we get the sums of the columns (colSums) within the Document-Term Matrix and save it as a sorted numeric vector called \"freq.\""
   ]
  },
  {
   "cell_type": "code",
   "execution_count": 8,
   "metadata": {},
   "outputs": [],
   "source": [
    "freq <- sort(colSums(as.matrix(dtm)), decreasing = TRUE)"
   ]
  },
  {
   "cell_type": "markdown",
   "metadata": {},
   "source": [
    "Now we turn the frequency matrix into a data frame"
   ]
  },
  {
   "cell_type": "code",
   "execution_count": 9,
   "metadata": {},
   "outputs": [],
   "source": [
    "#Convert to data frame (helps make plot labeling easier)\n",
    "freqDF <- as.data.frame.character(freq)"
   ]
  },
  {
   "cell_type": "markdown",
   "metadata": {},
   "source": [
    "Now let's see what our data frame looks like"
   ]
  },
  {
   "cell_type": "code",
   "execution_count": 10,
   "metadata": {},
   "outputs": [
    {
     "data": {
      "text/html": [
       "<table>\n",
       "<thead><tr><th></th><th scope=col>freq</th></tr></thead>\n",
       "<tbody>\n",
       "\t<tr><th scope=row>will</th><td>3967</td></tr>\n",
       "\t<tr><th scope=row>captain</th><td>3883</td></tr>\n",
       "\t<tr><th scope=row>sir</th><td>3791</td></tr>\n",
       "\t<tr><th scope=row>can</th><td>3114</td></tr>\n",
       "\t<tr><th scope=row>one</th><td>2977</td></tr>\n",
       "\t<tr><th scope=row>know</th><td>2809</td></tr>\n",
       "</tbody>\n",
       "</table>\n"
      ],
      "text/latex": [
       "\\begin{tabular}{r|l}\n",
       "  & freq\\\\\n",
       "\\hline\n",
       "\twill & 3967\\\\\n",
       "\tcaptain & 3883\\\\\n",
       "\tsir & 3791\\\\\n",
       "\tcan & 3114\\\\\n",
       "\tone & 2977\\\\\n",
       "\tknow & 2809\\\\\n",
       "\\end{tabular}\n"
      ],
      "text/markdown": [
       "\n",
       "| <!--/--> | freq | \n",
       "|---|---|---|---|---|---|\n",
       "| will | 3967 | \n",
       "| captain | 3883 | \n",
       "| sir | 3791 | \n",
       "| can | 3114 | \n",
       "| one | 2977 | \n",
       "| know | 2809 | \n",
       "\n",
       "\n"
      ],
      "text/plain": [
       "        freq\n",
       "will    3967\n",
       "captain 3883\n",
       "sir     3791\n",
       "can     3114\n",
       "one     2977\n",
       "know    2809"
      ]
     },
     "metadata": {},
     "output_type": "display_data"
    }
   ],
   "source": [
    "head(freqDF)"
   ]
  },
  {
   "cell_type": "markdown",
   "metadata": {},
   "source": [
    "We need to add a column that lists the words for each frequency. This line says that we want the rownames to be put in a column and that we want that column to have the header 'words'."
   ]
  },
  {
   "cell_type": "code",
   "execution_count": 11,
   "metadata": {},
   "outputs": [],
   "source": [
    "freqDF$words <- rownames(freqDF)"
   ]
  },
  {
   "cell_type": "markdown",
   "metadata": {},
   "source": [
    "Now let's check our data frame again and see if it added our new column."
   ]
  },
  {
   "cell_type": "code",
   "execution_count": 12,
   "metadata": {},
   "outputs": [
    {
     "data": {
      "text/html": [
       "<table>\n",
       "<thead><tr><th></th><th scope=col>freq</th><th scope=col>words</th></tr></thead>\n",
       "<tbody>\n",
       "\t<tr><th scope=row>will</th><td>3967   </td><td>will   </td></tr>\n",
       "\t<tr><th scope=row>captain</th><td>3883   </td><td>captain</td></tr>\n",
       "\t<tr><th scope=row>sir</th><td>3791   </td><td>sir    </td></tr>\n",
       "\t<tr><th scope=row>can</th><td>3114   </td><td>can    </td></tr>\n",
       "\t<tr><th scope=row>one</th><td>2977   </td><td>one    </td></tr>\n",
       "\t<tr><th scope=row>know</th><td>2809   </td><td>know   </td></tr>\n",
       "</tbody>\n",
       "</table>\n"
      ],
      "text/latex": [
       "\\begin{tabular}{r|ll}\n",
       "  & freq & words\\\\\n",
       "\\hline\n",
       "\twill & 3967    & will   \\\\\n",
       "\tcaptain & 3883    & captain\\\\\n",
       "\tsir & 3791    & sir    \\\\\n",
       "\tcan & 3114    & can    \\\\\n",
       "\tone & 2977    & one    \\\\\n",
       "\tknow & 2809    & know   \\\\\n",
       "\\end{tabular}\n"
      ],
      "text/markdown": [
       "\n",
       "| <!--/--> | freq | words | \n",
       "|---|---|---|---|---|---|\n",
       "| will | 3967    | will    | \n",
       "| captain | 3883    | captain | \n",
       "| sir | 3791    | sir     | \n",
       "| can | 3114    | can     | \n",
       "| one | 2977    | one     | \n",
       "| know | 2809    | know    | \n",
       "\n",
       "\n"
      ],
      "text/plain": [
       "        freq words  \n",
       "will    3967 will   \n",
       "captain 3883 captain\n",
       "sir     3791 sir    \n",
       "can     3114 can    \n",
       "one     2977 one    \n",
       "know    2809 know   "
      ]
     },
     "metadata": {},
     "output_type": "display_data"
    }
   ],
   "source": [
    "head(freqDF)"
   ]
  },
  {
   "cell_type": "markdown",
   "metadata": {},
   "source": [
    "It did! Now, we are creating a variable that will determine the x-axis tick labels when we plot our bar graph. Make sure the number matches the number in the part of the plot below that says \"barplot(head(freq,10)\""
   ]
  },
  {
   "cell_type": "code",
   "execution_count": 13,
   "metadata": {},
   "outputs": [],
   "source": [
    "labNames <- head(freqDF$words, 10)"
   ]
  },
  {
   "cell_type": "markdown",
   "metadata": {},
   "source": [
    "### Results\n",
    "\n",
    "Finally, we can plot and view the data as a bar graph with the top ten words along the x-axis and the frequency of appearance along the y-axis. "
   ]
  },
  {
   "cell_type": "code",
   "execution_count": 14,
   "metadata": {},
   "outputs": [
    {
     "name": "stdout",
     "output_type": "stream",
     "text": [
      "      [,1]\n",
      " [1,]  0.7\n",
      " [2,]  1.9\n",
      " [3,]  3.1\n",
      " [4,]  4.3\n",
      " [5,]  5.5\n",
      " [6,]  6.7\n",
      " [7,]  7.9\n",
      " [8,]  9.1\n",
      " [9,] 10.3\n",
      "[10,] 11.5\n"
     ]
    },
    {
     "data": {
      "image/png": "[encoded data removed]",
      "text/plain": [
       "Plot with title “Star Trek: The Next Generation”"
      ]
     },
     "metadata": {},
     "output_type": "display_data"
    }
   ],
   "source": [
    "par(mar=c(15,4,4,0))\n",
    "x <- barplot(head(freq, 10), ylim=c(0,5000), col=c(\"red3\", \"orange3\",\"yellow3\",\"green3\",\"blue3\",\"darkorchid3\",\"darkred\", \"darkorange\", \"gold\", \"darkgreen\"), col.main=\"Gold\", col.lab=\"red\",\n",
    "     main=\"Star Trek: The Next Generation\", xlab=\"\", ylab=\"Number of Occurences\", xaxt=\"n\")\n",
    "axis(2, at=x, labels=TRUE)\n",
    "axis(2, col=\"gray27\", col.axis=\"gray27\", col.ticks=\"gray27\",labels=TRUE)\n",
    "text(x, par(\"usr\")[3], srt=45, adj=c(1.1,1.5),xpd = TRUE, labels = labNames, cex=.9, col=\"gray27\", col.axis=\"gray27\")\n",
    "title(xlab='Top Ten Words', line=5, col.lab=\"red\")\n",
    "print(x)           "
   ]
  },
  {
   "cell_type": "markdown",
   "metadata": {},
   "source": [
    "### VOILA!"
   ]
  }
 ],
 "metadata": {
  "kernelspec": {
   "display_name": "R",
   "language": "R",
   "name": "ir"
  },
  "language_info": {
   "codemirror_mode": "r",
   "file_extension": ".r",
   "mimetype": "text/x-r-source",
   "name": "R",
   "pygments_lexer": "r",
   "version": "3.5.0"
  }
 },
 "nbformat": 4,
 "nbformat_minor": 2
}
